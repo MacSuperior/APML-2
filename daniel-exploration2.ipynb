{
 "cells": [
  {
   "cell_type": "markdown",
   "id": "indian-mauritius",
   "metadata": {},
   "source": [
    "# Assignment 2 - Predictive Process Monitoring"
   ]
  },
  {
   "cell_type": "markdown",
   "id": "surrounded-oracle",
   "metadata": {},
   "source": [
    "*Due: Friday, 15 December, 2023 at 14:00 CET*\n",
    "\n",
    "In this assignment, you will learn to use several regression models to predict the process remaining time. In addition, you will also show that you can evaluate their performance and discuss the results in a report. The learning objectives of this assignment are: \n",
    "\n",
    "- use the data aggregation, feature encoding, and data transformation techniques to preprocess event data\n",
    "- use the regression models to predict the remaining time of ongoing cases. \n",
    "- perform cross validation and fine-tune the model parameters of each algorithm\n",
    "- calculate model performance (e.g., MAE, MSE, RMSE, R^2, etc.)\n",
    "- design experiments to compare the performance of algorithms\n",
    "- reflect on the difference between different models\n",
    "\n",
    "\n",
    "This assignment includes two algorithms: Regression Tree (or Random Forest Regression) and kNN regressor. Following a similar structure as the first assignment, your first task is to perform data exploration and data cleaning. \n",
    "In Task 2, you will perform two trace encoding techniques (covered during Lecture 07). \n",
    "In Task 3-4, you will use the two algorithms to learn regression models to forecast the remaining time of each case after each event. \n",
    "In Task 5, you will compare the algorithms and evaluate their results. \n",
    "\n",
    "Please note that Task 3 and 4 have the following structure:\n",
    "1. First, find the library (e.g., sklearn examples) and try out the algorithm by simply training the model on the training data (do not consider any parameters or cross validation just yet); \n",
    "2. Train the model with the training data by using cross validation and find the best parameter setting for the parameters of interest;\n",
    "3. Report the average MAE, MSE, RMSE, and R^2 of all validation sets;\n",
    "4. Finally, test the optimal model that has the best fitting parameters on your held-out test data, and report its MAE, MSE, RMSE, and R^2. \n",
    "\n",
    "Note that, in Task 5, you will need all the calculated MAE, MSE, RMSE, and R^2 on both encoded data from previous tasks. Make sure you save these to a list or dictionary so you can easily evaluate and compare the results. \n",
    "\n"
   ]
  },
  {
   "cell_type": "markdown",
   "id": "binding-pixel",
   "metadata": {},
   "source": [
    "## Task 1: Exploring the data set\n",
    "\n",
    "\n",
    "\n",
    "### Data set: Sepsis\n",
    "\n",
    "Import the file *sepsis.csv* to load the Sepsis data set. This real-life event log contains events of sepsis cases from a hospital. Sepsis is a life threatening condition typically caused by an infection. One case represents a patient's pathway through the treatment process. The events were recorded by the ERP (Enterprise Resource Planning) system of the hospital. The original data set contains about 1000 cases with in total 15,000 events that were recorded for 16 different activities. Moreover, 39 data attributes are recorded, e.g., the group responsible for the activity, the results of tests and information from checklists. \n",
    "\n",
    "Additional information about the data can be found :\n",
    "- https://data.4tu.nl/articles/dataset/Sepsis_Cases_-_Event_Log/12707639\n",
    "- http://ceur-ws.org/Vol-1859/bpmds-08-paper.pdf\n",
    "\n",
    "\n"
   ]
  },
  {
   "cell_type": "code",
   "execution_count": 8,
   "id": "appropriate-michigan",
   "metadata": {},
   "outputs": [
    {
     "name": "stdout",
     "output_type": "stream",
     "text": [
      "Index(['DiagnosticArtAstrup', 'DiagnosticBlood', 'DiagnosticECG',\n",
      "       'DiagnosticIC', 'DiagnosticLacticAcid', 'DiagnosticLiquor',\n",
      "       'DiagnosticOther', 'DiagnosticSputum', 'DiagnosticUrinaryCulture',\n",
      "       'DiagnosticUrinarySediment', 'DiagnosticXthorax', 'DisfuncOrg',\n",
      "       'Hypotensie', 'Hypoxie', 'InfectionSuspected', 'Infusion', 'Oligurie',\n",
      "       'SIRSCritHeartRate', 'SIRSCritLeucos', 'SIRSCritTachypnea',\n",
      "       'SIRSCritTemperature', 'SIRSCriteria2OrMore', 'Age', 'Case ID',\n",
      "       'Activity', 'Diagnose', 'org:group', 'CRP', 'LacticAcid', 'Leucocytes',\n",
      "       'Complete Timestamp', 'duration', 'month', 'weekday', 'hour', 'remtime',\n",
      "       'elapsed'],\n",
      "      dtype='object')\n",
      "  DiagnosticArtAstrup DiagnosticBlood DiagnosticECG DiagnosticIC  \\\n",
      "0                True            True          True         True   \n",
      "1                True            True          True         True   \n",
      "2                True            True          True         True   \n",
      "3                True            True          True         True   \n",
      "4                True            True          True         True   \n",
      "\n",
      "  DiagnosticLacticAcid DiagnosticLiquor DiagnosticOther DiagnosticSputum  \\\n",
      "0                 True            False           False            False   \n",
      "1                 True            False           False            False   \n",
      "2                 True            False           False            False   \n",
      "3                 True            False           False            False   \n",
      "4                 True            False           False            False   \n",
      "\n",
      "  DiagnosticUrinaryCulture DiagnosticUrinarySediment DiagnosticXthorax  \\\n",
      "0                     True                      True              True   \n",
      "1                     True                      True              True   \n",
      "2                     True                      True              True   \n",
      "3                     True                      True              True   \n",
      "4                     True                      True              True   \n",
      "\n",
      "  DisfuncOrg Hypotensie Hypoxie InfectionSuspected Infusion Oligurie  \\\n",
      "0       True       True   False               True     True    False   \n",
      "1       True       True   False               True     True    False   \n",
      "2       True       True   False               True     True    False   \n",
      "3       True       True   False               True     True    False   \n",
      "4       True       True   False               True     True    False   \n",
      "\n",
      "  SIRSCritHeartRate SIRSCritLeucos SIRSCritTachypnea SIRSCritTemperature  \\\n",
      "0              True          False              True                True   \n",
      "1              True          False              True                True   \n",
      "2              True          False              True                True   \n",
      "3              True          False              True                True   \n",
      "4              True          False              True                True   \n",
      "\n",
      "  SIRSCriteria2OrMore   Age Case ID          Activity Diagnose org:group  \\\n",
      "0                True  85.0       A  ER Sepsis Triage        A         A   \n",
      "1                True  85.0       A         ER Triage        A         C   \n",
      "2                True  85.0       A        Leucocytes        A         B   \n",
      "3                True  85.0       A               CRP        A         B   \n",
      "4                True  85.0       A        LacticAcid        A         B   \n",
      "\n",
      "    CRP  LacticAcid  Leucocytes   Complete Timestamp   duration  month  \\\n",
      "0  21.0         2.2         9.6  2014-10-22 19:34:00   0.383333     10   \n",
      "1  21.0         2.2         9.6  2014-10-22 19:33:37   6.616667     10   \n",
      "2  21.0         2.2         9.6  2014-10-22 19:27:00   0.000000     10   \n",
      "3  21.0         2.2         0.0  2014-10-22 19:27:00   0.000000     10   \n",
      "4   0.0         2.2         0.0  2014-10-22 19:27:00  11.316667     10   \n",
      "\n",
      "   weekday  hour  remtime  elapsed  \n",
      "0        2    19      0.0   1099.0  \n",
      "1        2    19     23.0   1076.0  \n",
      "2        2    19    420.0    679.0  \n",
      "3        2    19    420.0    679.0  \n",
      "4        2    19    420.0    679.0  \n",
      "['ER Sepsis Triage' 'ER Triage' 'Leucocytes' 'CRP' 'LacticAcid'\n",
      " 'ER Registration']\n"
     ]
    }
   ],
   "source": [
    "# Import packages\n",
    "import pandas as pd\n",
    "import numpy as np\n",
    "from sklearn.metrics import mean_absolute_error, mean_squared_error, r2_score, make_scorer\n",
    "from sklearn.model_selection import GridSearchCV, KFold, train_test_split\n",
    "from sklearn.preprocessing import MinMaxScaler\n",
    "import plotly.express as px\n",
    "from sklearn.neighbors import KNeighborsRegressor\n",
    "from sklearn.feature_selection import SelectKBest, f_classif\n",
    "\n",
    "# Import data\n",
    "# TODO: Change the file path to your file path\n",
    "data_sepsis = pd.read_csv(\"./sepsis.csv\", sep=\";\")\n",
    "\n",
    "# create an overview of the data\n",
    "# print(data_Sepsis.describe())\n",
    "print(data_sepsis.columns)\n",
    "print(data_sepsis.head())\n",
    "print(data_sepsis['Activity'].unique())"
   ]
  },
  {
   "cell_type": "code",
   "execution_count": 10,
   "metadata": {},
   "outputs": [
    {
     "data": {
      "text/html": [
       "<div>\n",
       "<style scoped>\n",
       "    .dataframe tbody tr th:only-of-type {\n",
       "        vertical-align: middle;\n",
       "    }\n",
       "\n",
       "    .dataframe tbody tr th {\n",
       "        vertical-align: top;\n",
       "    }\n",
       "\n",
       "    .dataframe thead th {\n",
       "        text-align: right;\n",
       "    }\n",
       "</style>\n",
       "<table border=\"1\" class=\"dataframe\">\n",
       "  <thead>\n",
       "    <tr style=\"text-align: right;\">\n",
       "      <th></th>\n",
       "      <th>DiagnosticArtAstrup</th>\n",
       "      <th>DiagnosticBlood</th>\n",
       "      <th>DiagnosticECG</th>\n",
       "      <th>DiagnosticIC</th>\n",
       "      <th>DiagnosticLacticAcid</th>\n",
       "      <th>DiagnosticLiquor</th>\n",
       "      <th>DiagnosticOther</th>\n",
       "      <th>DiagnosticSputum</th>\n",
       "      <th>DiagnosticUrinaryCulture</th>\n",
       "      <th>DiagnosticUrinarySediment</th>\n",
       "      <th>DiagnosticXthorax</th>\n",
       "      <th>DisfuncOrg</th>\n",
       "      <th>Hypotensie</th>\n",
       "      <th>Hypoxie</th>\n",
       "      <th>InfectionSuspected</th>\n",
       "      <th>Infusion</th>\n",
       "      <th>Oligurie</th>\n",
       "      <th>SIRSCritHeartRate</th>\n",
       "      <th>SIRSCritLeucos</th>\n",
       "      <th>SIRSCritTachypnea</th>\n",
       "      <th>SIRSCritTemperature</th>\n",
       "      <th>SIRSCriteria2OrMore</th>\n",
       "      <th>Age</th>\n",
       "      <th>Case ID</th>\n",
       "      <th>Activity</th>\n",
       "      <th>Diagnose</th>\n",
       "      <th>org:group</th>\n",
       "      <th>CRP</th>\n",
       "      <th>LacticAcid</th>\n",
       "      <th>Leucocytes</th>\n",
       "      <th>Complete Timestamp</th>\n",
       "      <th>duration</th>\n",
       "      <th>month</th>\n",
       "      <th>weekday</th>\n",
       "      <th>hour</th>\n",
       "      <th>remtime</th>\n",
       "      <th>elapsed</th>\n",
       "    </tr>\n",
       "  </thead>\n",
       "  <tbody>\n",
       "    <tr>\n",
       "      <th>0</th>\n",
       "      <td>True</td>\n",
       "      <td>True</td>\n",
       "      <td>True</td>\n",
       "      <td>True</td>\n",
       "      <td>True</td>\n",
       "      <td>False</td>\n",
       "      <td>False</td>\n",
       "      <td>False</td>\n",
       "      <td>True</td>\n",
       "      <td>True</td>\n",
       "      <td>True</td>\n",
       "      <td>True</td>\n",
       "      <td>True</td>\n",
       "      <td>False</td>\n",
       "      <td>True</td>\n",
       "      <td>True</td>\n",
       "      <td>False</td>\n",
       "      <td>True</td>\n",
       "      <td>False</td>\n",
       "      <td>True</td>\n",
       "      <td>True</td>\n",
       "      <td>True</td>\n",
       "      <td>85.0</td>\n",
       "      <td>A</td>\n",
       "      <td>ER Sepsis Triage</td>\n",
       "      <td>A</td>\n",
       "      <td>A</td>\n",
       "      <td>21.0</td>\n",
       "      <td>2.2</td>\n",
       "      <td>9.6</td>\n",
       "      <td>2014-10-22 19:34:00</td>\n",
       "      <td>0.383333</td>\n",
       "      <td>10</td>\n",
       "      <td>2</td>\n",
       "      <td>19</td>\n",
       "      <td>0.0</td>\n",
       "      <td>1099.0</td>\n",
       "    </tr>\n",
       "    <tr>\n",
       "      <th>1</th>\n",
       "      <td>True</td>\n",
       "      <td>True</td>\n",
       "      <td>True</td>\n",
       "      <td>True</td>\n",
       "      <td>True</td>\n",
       "      <td>False</td>\n",
       "      <td>False</td>\n",
       "      <td>False</td>\n",
       "      <td>True</td>\n",
       "      <td>True</td>\n",
       "      <td>True</td>\n",
       "      <td>True</td>\n",
       "      <td>True</td>\n",
       "      <td>False</td>\n",
       "      <td>True</td>\n",
       "      <td>True</td>\n",
       "      <td>False</td>\n",
       "      <td>True</td>\n",
       "      <td>False</td>\n",
       "      <td>True</td>\n",
       "      <td>True</td>\n",
       "      <td>True</td>\n",
       "      <td>85.0</td>\n",
       "      <td>A</td>\n",
       "      <td>ER Triage</td>\n",
       "      <td>A</td>\n",
       "      <td>C</td>\n",
       "      <td>21.0</td>\n",
       "      <td>2.2</td>\n",
       "      <td>9.6</td>\n",
       "      <td>2014-10-22 19:33:37</td>\n",
       "      <td>6.616667</td>\n",
       "      <td>10</td>\n",
       "      <td>2</td>\n",
       "      <td>19</td>\n",
       "      <td>23.0</td>\n",
       "      <td>1076.0</td>\n",
       "    </tr>\n",
       "    <tr>\n",
       "      <th>2</th>\n",
       "      <td>True</td>\n",
       "      <td>True</td>\n",
       "      <td>True</td>\n",
       "      <td>True</td>\n",
       "      <td>True</td>\n",
       "      <td>False</td>\n",
       "      <td>False</td>\n",
       "      <td>False</td>\n",
       "      <td>True</td>\n",
       "      <td>True</td>\n",
       "      <td>True</td>\n",
       "      <td>True</td>\n",
       "      <td>True</td>\n",
       "      <td>False</td>\n",
       "      <td>True</td>\n",
       "      <td>True</td>\n",
       "      <td>False</td>\n",
       "      <td>True</td>\n",
       "      <td>False</td>\n",
       "      <td>True</td>\n",
       "      <td>True</td>\n",
       "      <td>True</td>\n",
       "      <td>85.0</td>\n",
       "      <td>A</td>\n",
       "      <td>Leucocytes</td>\n",
       "      <td>A</td>\n",
       "      <td>B</td>\n",
       "      <td>21.0</td>\n",
       "      <td>2.2</td>\n",
       "      <td>9.6</td>\n",
       "      <td>2014-10-22 19:27:00</td>\n",
       "      <td>0.000000</td>\n",
       "      <td>10</td>\n",
       "      <td>2</td>\n",
       "      <td>19</td>\n",
       "      <td>420.0</td>\n",
       "      <td>679.0</td>\n",
       "    </tr>\n",
       "    <tr>\n",
       "      <th>3</th>\n",
       "      <td>True</td>\n",
       "      <td>True</td>\n",
       "      <td>True</td>\n",
       "      <td>True</td>\n",
       "      <td>True</td>\n",
       "      <td>False</td>\n",
       "      <td>False</td>\n",
       "      <td>False</td>\n",
       "      <td>True</td>\n",
       "      <td>True</td>\n",
       "      <td>True</td>\n",
       "      <td>True</td>\n",
       "      <td>True</td>\n",
       "      <td>False</td>\n",
       "      <td>True</td>\n",
       "      <td>True</td>\n",
       "      <td>False</td>\n",
       "      <td>True</td>\n",
       "      <td>False</td>\n",
       "      <td>True</td>\n",
       "      <td>True</td>\n",
       "      <td>True</td>\n",
       "      <td>85.0</td>\n",
       "      <td>A</td>\n",
       "      <td>CRP</td>\n",
       "      <td>A</td>\n",
       "      <td>B</td>\n",
       "      <td>21.0</td>\n",
       "      <td>2.2</td>\n",
       "      <td>0.0</td>\n",
       "      <td>2014-10-22 19:27:00</td>\n",
       "      <td>0.000000</td>\n",
       "      <td>10</td>\n",
       "      <td>2</td>\n",
       "      <td>19</td>\n",
       "      <td>420.0</td>\n",
       "      <td>679.0</td>\n",
       "    </tr>\n",
       "    <tr>\n",
       "      <th>4</th>\n",
       "      <td>True</td>\n",
       "      <td>True</td>\n",
       "      <td>True</td>\n",
       "      <td>True</td>\n",
       "      <td>True</td>\n",
       "      <td>False</td>\n",
       "      <td>False</td>\n",
       "      <td>False</td>\n",
       "      <td>True</td>\n",
       "      <td>True</td>\n",
       "      <td>True</td>\n",
       "      <td>True</td>\n",
       "      <td>True</td>\n",
       "      <td>False</td>\n",
       "      <td>True</td>\n",
       "      <td>True</td>\n",
       "      <td>False</td>\n",
       "      <td>True</td>\n",
       "      <td>False</td>\n",
       "      <td>True</td>\n",
       "      <td>True</td>\n",
       "      <td>True</td>\n",
       "      <td>85.0</td>\n",
       "      <td>A</td>\n",
       "      <td>LacticAcid</td>\n",
       "      <td>A</td>\n",
       "      <td>B</td>\n",
       "      <td>0.0</td>\n",
       "      <td>2.2</td>\n",
       "      <td>0.0</td>\n",
       "      <td>2014-10-22 19:27:00</td>\n",
       "      <td>11.316667</td>\n",
       "      <td>10</td>\n",
       "      <td>2</td>\n",
       "      <td>19</td>\n",
       "      <td>420.0</td>\n",
       "      <td>679.0</td>\n",
       "    </tr>\n",
       "    <tr>\n",
       "      <th>...</th>\n",
       "      <td>...</td>\n",
       "      <td>...</td>\n",
       "      <td>...</td>\n",
       "      <td>...</td>\n",
       "      <td>...</td>\n",
       "      <td>...</td>\n",
       "      <td>...</td>\n",
       "      <td>...</td>\n",
       "      <td>...</td>\n",
       "      <td>...</td>\n",
       "      <td>...</td>\n",
       "      <td>...</td>\n",
       "      <td>...</td>\n",
       "      <td>...</td>\n",
       "      <td>...</td>\n",
       "      <td>...</td>\n",
       "      <td>...</td>\n",
       "      <td>...</td>\n",
       "      <td>...</td>\n",
       "      <td>...</td>\n",
       "      <td>...</td>\n",
       "      <td>...</td>\n",
       "      <td>...</td>\n",
       "      <td>...</td>\n",
       "      <td>...</td>\n",
       "      <td>...</td>\n",
       "      <td>...</td>\n",
       "      <td>...</td>\n",
       "      <td>...</td>\n",
       "      <td>...</td>\n",
       "      <td>...</td>\n",
       "      <td>...</td>\n",
       "      <td>...</td>\n",
       "      <td>...</td>\n",
       "      <td>...</td>\n",
       "      <td>...</td>\n",
       "      <td>...</td>\n",
       "    </tr>\n",
       "    <tr>\n",
       "      <th>5171</th>\n",
       "      <td>False</td>\n",
       "      <td>True</td>\n",
       "      <td>True</td>\n",
       "      <td>True</td>\n",
       "      <td>True</td>\n",
       "      <td>False</td>\n",
       "      <td>False</td>\n",
       "      <td>False</td>\n",
       "      <td>True</td>\n",
       "      <td>True</td>\n",
       "      <td>True</td>\n",
       "      <td>False</td>\n",
       "      <td>False</td>\n",
       "      <td>False</td>\n",
       "      <td>True</td>\n",
       "      <td>True</td>\n",
       "      <td>False</td>\n",
       "      <td>True</td>\n",
       "      <td>False</td>\n",
       "      <td>True</td>\n",
       "      <td>True</td>\n",
       "      <td>True</td>\n",
       "      <td>70.0</td>\n",
       "      <td>ZZ</td>\n",
       "      <td>Leucocytes</td>\n",
       "      <td>K</td>\n",
       "      <td>B</td>\n",
       "      <td>0.0</td>\n",
       "      <td>2.6</td>\n",
       "      <td>12.5</td>\n",
       "      <td>2014-11-13 02:07:00</td>\n",
       "      <td>0.000000</td>\n",
       "      <td>11</td>\n",
       "      <td>3</td>\n",
       "      <td>2</td>\n",
       "      <td>0.0</td>\n",
       "      <td>1950.0</td>\n",
       "    </tr>\n",
       "    <tr>\n",
       "      <th>5172</th>\n",
       "      <td>False</td>\n",
       "      <td>True</td>\n",
       "      <td>True</td>\n",
       "      <td>True</td>\n",
       "      <td>True</td>\n",
       "      <td>False</td>\n",
       "      <td>False</td>\n",
       "      <td>False</td>\n",
       "      <td>True</td>\n",
       "      <td>True</td>\n",
       "      <td>True</td>\n",
       "      <td>False</td>\n",
       "      <td>False</td>\n",
       "      <td>False</td>\n",
       "      <td>True</td>\n",
       "      <td>True</td>\n",
       "      <td>False</td>\n",
       "      <td>True</td>\n",
       "      <td>False</td>\n",
       "      <td>True</td>\n",
       "      <td>True</td>\n",
       "      <td>True</td>\n",
       "      <td>70.0</td>\n",
       "      <td>ZZ</td>\n",
       "      <td>LacticAcid</td>\n",
       "      <td>K</td>\n",
       "      <td>B</td>\n",
       "      <td>0.0</td>\n",
       "      <td>2.6</td>\n",
       "      <td>0.0</td>\n",
       "      <td>2014-11-13 02:07:00</td>\n",
       "      <td>17.183333</td>\n",
       "      <td>11</td>\n",
       "      <td>3</td>\n",
       "      <td>2</td>\n",
       "      <td>0.0</td>\n",
       "      <td>1950.0</td>\n",
       "    </tr>\n",
       "    <tr>\n",
       "      <th>5173</th>\n",
       "      <td>False</td>\n",
       "      <td>True</td>\n",
       "      <td>True</td>\n",
       "      <td>True</td>\n",
       "      <td>True</td>\n",
       "      <td>False</td>\n",
       "      <td>False</td>\n",
       "      <td>False</td>\n",
       "      <td>True</td>\n",
       "      <td>True</td>\n",
       "      <td>True</td>\n",
       "      <td>False</td>\n",
       "      <td>False</td>\n",
       "      <td>False</td>\n",
       "      <td>True</td>\n",
       "      <td>True</td>\n",
       "      <td>False</td>\n",
       "      <td>True</td>\n",
       "      <td>False</td>\n",
       "      <td>True</td>\n",
       "      <td>True</td>\n",
       "      <td>True</td>\n",
       "      <td>70.0</td>\n",
       "      <td>ZZ</td>\n",
       "      <td>ER Sepsis Triage</td>\n",
       "      <td>K</td>\n",
       "      <td>A</td>\n",
       "      <td>0.0</td>\n",
       "      <td>0.0</td>\n",
       "      <td>0.0</td>\n",
       "      <td>2014-11-13 01:49:49</td>\n",
       "      <td>0.200000</td>\n",
       "      <td>11</td>\n",
       "      <td>3</td>\n",
       "      <td>1</td>\n",
       "      <td>1031.0</td>\n",
       "      <td>919.0</td>\n",
       "    </tr>\n",
       "    <tr>\n",
       "      <th>5174</th>\n",
       "      <td>False</td>\n",
       "      <td>True</td>\n",
       "      <td>True</td>\n",
       "      <td>True</td>\n",
       "      <td>True</td>\n",
       "      <td>False</td>\n",
       "      <td>False</td>\n",
       "      <td>False</td>\n",
       "      <td>True</td>\n",
       "      <td>True</td>\n",
       "      <td>True</td>\n",
       "      <td>False</td>\n",
       "      <td>False</td>\n",
       "      <td>False</td>\n",
       "      <td>True</td>\n",
       "      <td>True</td>\n",
       "      <td>False</td>\n",
       "      <td>True</td>\n",
       "      <td>False</td>\n",
       "      <td>True</td>\n",
       "      <td>True</td>\n",
       "      <td>True</td>\n",
       "      <td>70.0</td>\n",
       "      <td>ZZ</td>\n",
       "      <td>ER Triage</td>\n",
       "      <td>K</td>\n",
       "      <td>C</td>\n",
       "      <td>0.0</td>\n",
       "      <td>0.0</td>\n",
       "      <td>0.0</td>\n",
       "      <td>2014-11-13 01:49:37</td>\n",
       "      <td>15.116667</td>\n",
       "      <td>11</td>\n",
       "      <td>3</td>\n",
       "      <td>1</td>\n",
       "      <td>1043.0</td>\n",
       "      <td>907.0</td>\n",
       "    </tr>\n",
       "    <tr>\n",
       "      <th>5175</th>\n",
       "      <td>False</td>\n",
       "      <td>True</td>\n",
       "      <td>True</td>\n",
       "      <td>True</td>\n",
       "      <td>True</td>\n",
       "      <td>False</td>\n",
       "      <td>False</td>\n",
       "      <td>False</td>\n",
       "      <td>True</td>\n",
       "      <td>True</td>\n",
       "      <td>True</td>\n",
       "      <td>False</td>\n",
       "      <td>False</td>\n",
       "      <td>False</td>\n",
       "      <td>True</td>\n",
       "      <td>True</td>\n",
       "      <td>False</td>\n",
       "      <td>True</td>\n",
       "      <td>False</td>\n",
       "      <td>True</td>\n",
       "      <td>True</td>\n",
       "      <td>True</td>\n",
       "      <td>70.0</td>\n",
       "      <td>ZZ</td>\n",
       "      <td>ER Registration</td>\n",
       "      <td>K</td>\n",
       "      <td>A</td>\n",
       "      <td>0.0</td>\n",
       "      <td>0.0</td>\n",
       "      <td>0.0</td>\n",
       "      <td>2014-11-13 01:34:30</td>\n",
       "      <td>0.000000</td>\n",
       "      <td>11</td>\n",
       "      <td>3</td>\n",
       "      <td>1</td>\n",
       "      <td>1950.0</td>\n",
       "      <td>0.0</td>\n",
       "    </tr>\n",
       "  </tbody>\n",
       "</table>\n",
       "<p>5176 rows × 37 columns</p>\n",
       "</div>"
      ],
      "text/plain": [
       "     DiagnosticArtAstrup DiagnosticBlood DiagnosticECG DiagnosticIC  \\\n",
       "0                   True            True          True         True   \n",
       "1                   True            True          True         True   \n",
       "2                   True            True          True         True   \n",
       "3                   True            True          True         True   \n",
       "4                   True            True          True         True   \n",
       "...                  ...             ...           ...          ...   \n",
       "5171               False            True          True         True   \n",
       "5172               False            True          True         True   \n",
       "5173               False            True          True         True   \n",
       "5174               False            True          True         True   \n",
       "5175               False            True          True         True   \n",
       "\n",
       "     DiagnosticLacticAcid DiagnosticLiquor DiagnosticOther DiagnosticSputum  \\\n",
       "0                    True            False           False            False   \n",
       "1                    True            False           False            False   \n",
       "2                    True            False           False            False   \n",
       "3                    True            False           False            False   \n",
       "4                    True            False           False            False   \n",
       "...                   ...              ...             ...              ...   \n",
       "5171                 True            False           False            False   \n",
       "5172                 True            False           False            False   \n",
       "5173                 True            False           False            False   \n",
       "5174                 True            False           False            False   \n",
       "5175                 True            False           False            False   \n",
       "\n",
       "     DiagnosticUrinaryCulture DiagnosticUrinarySediment DiagnosticXthorax  \\\n",
       "0                        True                      True              True   \n",
       "1                        True                      True              True   \n",
       "2                        True                      True              True   \n",
       "3                        True                      True              True   \n",
       "4                        True                      True              True   \n",
       "...                       ...                       ...               ...   \n",
       "5171                     True                      True              True   \n",
       "5172                     True                      True              True   \n",
       "5173                     True                      True              True   \n",
       "5174                     True                      True              True   \n",
       "5175                     True                      True              True   \n",
       "\n",
       "     DisfuncOrg Hypotensie Hypoxie InfectionSuspected Infusion Oligurie  \\\n",
       "0          True       True   False               True     True    False   \n",
       "1          True       True   False               True     True    False   \n",
       "2          True       True   False               True     True    False   \n",
       "3          True       True   False               True     True    False   \n",
       "4          True       True   False               True     True    False   \n",
       "...         ...        ...     ...                ...      ...      ...   \n",
       "5171      False      False   False               True     True    False   \n",
       "5172      False      False   False               True     True    False   \n",
       "5173      False      False   False               True     True    False   \n",
       "5174      False      False   False               True     True    False   \n",
       "5175      False      False   False               True     True    False   \n",
       "\n",
       "     SIRSCritHeartRate SIRSCritLeucos SIRSCritTachypnea SIRSCritTemperature  \\\n",
       "0                 True          False              True                True   \n",
       "1                 True          False              True                True   \n",
       "2                 True          False              True                True   \n",
       "3                 True          False              True                True   \n",
       "4                 True          False              True                True   \n",
       "...                ...            ...               ...                 ...   \n",
       "5171              True          False              True                True   \n",
       "5172              True          False              True                True   \n",
       "5173              True          False              True                True   \n",
       "5174              True          False              True                True   \n",
       "5175              True          False              True                True   \n",
       "\n",
       "     SIRSCriteria2OrMore   Age Case ID          Activity Diagnose org:group  \\\n",
       "0                   True  85.0       A  ER Sepsis Triage        A         A   \n",
       "1                   True  85.0       A         ER Triage        A         C   \n",
       "2                   True  85.0       A        Leucocytes        A         B   \n",
       "3                   True  85.0       A               CRP        A         B   \n",
       "4                   True  85.0       A        LacticAcid        A         B   \n",
       "...                  ...   ...     ...               ...      ...       ...   \n",
       "5171                True  70.0      ZZ        Leucocytes        K         B   \n",
       "5172                True  70.0      ZZ        LacticAcid        K         B   \n",
       "5173                True  70.0      ZZ  ER Sepsis Triage        K         A   \n",
       "5174                True  70.0      ZZ         ER Triage        K         C   \n",
       "5175                True  70.0      ZZ   ER Registration        K         A   \n",
       "\n",
       "       CRP  LacticAcid  Leucocytes   Complete Timestamp   duration  month  \\\n",
       "0     21.0         2.2         9.6  2014-10-22 19:34:00   0.383333     10   \n",
       "1     21.0         2.2         9.6  2014-10-22 19:33:37   6.616667     10   \n",
       "2     21.0         2.2         9.6  2014-10-22 19:27:00   0.000000     10   \n",
       "3     21.0         2.2         0.0  2014-10-22 19:27:00   0.000000     10   \n",
       "4      0.0         2.2         0.0  2014-10-22 19:27:00  11.316667     10   \n",
       "...    ...         ...         ...                  ...        ...    ...   \n",
       "5171   0.0         2.6        12.5  2014-11-13 02:07:00   0.000000     11   \n",
       "5172   0.0         2.6         0.0  2014-11-13 02:07:00  17.183333     11   \n",
       "5173   0.0         0.0         0.0  2014-11-13 01:49:49   0.200000     11   \n",
       "5174   0.0         0.0         0.0  2014-11-13 01:49:37  15.116667     11   \n",
       "5175   0.0         0.0         0.0  2014-11-13 01:34:30   0.000000     11   \n",
       "\n",
       "      weekday  hour  remtime  elapsed  \n",
       "0           2    19      0.0   1099.0  \n",
       "1           2    19     23.0   1076.0  \n",
       "2           2    19    420.0    679.0  \n",
       "3           2    19    420.0    679.0  \n",
       "4           2    19    420.0    679.0  \n",
       "...       ...   ...      ...      ...  \n",
       "5171        3     2      0.0   1950.0  \n",
       "5172        3     2      0.0   1950.0  \n",
       "5173        3     1   1031.0    919.0  \n",
       "5174        3     1   1043.0    907.0  \n",
       "5175        3     1   1950.0      0.0  \n",
       "\n",
       "[5176 rows x 37 columns]"
      ]
     },
     "execution_count": 10,
     "metadata": {},
     "output_type": "execute_result"
    }
   ],
   "source": [
    "data_sepsis"
   ]
  },
  {
   "cell_type": "code",
   "execution_count": 22,
   "metadata": {},
   "outputs": [
    {
     "data": {
      "text/html": [
       "<div>\n",
       "<style scoped>\n",
       "    .dataframe tbody tr th:only-of-type {\n",
       "        vertical-align: middle;\n",
       "    }\n",
       "\n",
       "    .dataframe tbody tr th {\n",
       "        vertical-align: top;\n",
       "    }\n",
       "\n",
       "    .dataframe thead th {\n",
       "        text-align: right;\n",
       "    }\n",
       "</style>\n",
       "<table border=\"1\" class=\"dataframe\">\n",
       "  <thead>\n",
       "    <tr style=\"text-align: right;\">\n",
       "      <th></th>\n",
       "      <th>DiagnosticArtAstrup</th>\n",
       "      <th>DiagnosticBlood</th>\n",
       "      <th>DiagnosticECG</th>\n",
       "      <th>DiagnosticIC</th>\n",
       "      <th>DiagnosticLacticAcid</th>\n",
       "      <th>DiagnosticLiquor</th>\n",
       "      <th>DiagnosticOther</th>\n",
       "      <th>DiagnosticSputum</th>\n",
       "      <th>DiagnosticUrinaryCulture</th>\n",
       "      <th>DiagnosticUrinarySediment</th>\n",
       "      <th>...</th>\n",
       "      <th>Age</th>\n",
       "      <th>CRP</th>\n",
       "      <th>LacticAcid</th>\n",
       "      <th>Leucocytes</th>\n",
       "      <th>duration</th>\n",
       "      <th>month</th>\n",
       "      <th>weekday</th>\n",
       "      <th>hour</th>\n",
       "      <th>remtime</th>\n",
       "      <th>elapsed</th>\n",
       "    </tr>\n",
       "  </thead>\n",
       "  <tbody>\n",
       "    <tr>\n",
       "      <th>count</th>\n",
       "      <td>5107.000000</td>\n",
       "      <td>5107.000000</td>\n",
       "      <td>5107.000000</td>\n",
       "      <td>5107.000000</td>\n",
       "      <td>5107.000000</td>\n",
       "      <td>5107.000000</td>\n",
       "      <td>5107.000000</td>\n",
       "      <td>5107.000000</td>\n",
       "      <td>5107.000000</td>\n",
       "      <td>5107.000000</td>\n",
       "      <td>...</td>\n",
       "      <td>5176.000000</td>\n",
       "      <td>5176.000000</td>\n",
       "      <td>5176.000000</td>\n",
       "      <td>5176.000000</td>\n",
       "      <td>5176.000000</td>\n",
       "      <td>5176.000000</td>\n",
       "      <td>5176.000000</td>\n",
       "      <td>5176.000000</td>\n",
       "      <td>5176.000000</td>\n",
       "      <td>5176.000000</td>\n",
       "    </tr>\n",
       "    <tr>\n",
       "      <th>mean</th>\n",
       "      <td>0.284120</td>\n",
       "      <td>0.787155</td>\n",
       "      <td>0.726454</td>\n",
       "      <td>0.811044</td>\n",
       "      <td>0.766791</td>\n",
       "      <td>0.005874</td>\n",
       "      <td>0.007832</td>\n",
       "      <td>0.028784</td>\n",
       "      <td>0.450362</td>\n",
       "      <td>0.493832</td>\n",
       "      <td>...</td>\n",
       "      <td>70.191267</td>\n",
       "      <td>33.845634</td>\n",
       "      <td>0.547276</td>\n",
       "      <td>4.700155</td>\n",
       "      <td>8.265385</td>\n",
       "      <td>6.531685</td>\n",
       "      <td>2.930835</td>\n",
       "      <td>11.244397</td>\n",
       "      <td>1193.775889</td>\n",
       "      <td>1574.430835</td>\n",
       "    </tr>\n",
       "    <tr>\n",
       "      <th>std</th>\n",
       "      <td>0.451038</td>\n",
       "      <td>0.409359</td>\n",
       "      <td>0.445822</td>\n",
       "      <td>0.391512</td>\n",
       "      <td>0.422916</td>\n",
       "      <td>0.076426</td>\n",
       "      <td>0.088162</td>\n",
       "      <td>0.167215</td>\n",
       "      <td>0.497579</td>\n",
       "      <td>0.500011</td>\n",
       "      <td>...</td>\n",
       "      <td>17.418468</td>\n",
       "      <td>74.729799</td>\n",
       "      <td>1.187220</td>\n",
       "      <td>10.590811</td>\n",
       "      <td>35.952867</td>\n",
       "      <td>3.568158</td>\n",
       "      <td>2.018046</td>\n",
       "      <td>8.203143</td>\n",
       "      <td>3469.657735</td>\n",
       "      <td>4087.046260</td>\n",
       "    </tr>\n",
       "    <tr>\n",
       "      <th>min</th>\n",
       "      <td>0.000000</td>\n",
       "      <td>0.000000</td>\n",
       "      <td>0.000000</td>\n",
       "      <td>0.000000</td>\n",
       "      <td>0.000000</td>\n",
       "      <td>0.000000</td>\n",
       "      <td>0.000000</td>\n",
       "      <td>0.000000</td>\n",
       "      <td>0.000000</td>\n",
       "      <td>0.000000</td>\n",
       "      <td>...</td>\n",
       "      <td>0.000000</td>\n",
       "      <td>0.000000</td>\n",
       "      <td>0.000000</td>\n",
       "      <td>0.000000</td>\n",
       "      <td>0.000000</td>\n",
       "      <td>1.000000</td>\n",
       "      <td>0.000000</td>\n",
       "      <td>0.000000</td>\n",
       "      <td>0.000000</td>\n",
       "      <td>0.000000</td>\n",
       "    </tr>\n",
       "    <tr>\n",
       "      <th>25%</th>\n",
       "      <td>0.000000</td>\n",
       "      <td>1.000000</td>\n",
       "      <td>0.000000</td>\n",
       "      <td>1.000000</td>\n",
       "      <td>1.000000</td>\n",
       "      <td>0.000000</td>\n",
       "      <td>0.000000</td>\n",
       "      <td>0.000000</td>\n",
       "      <td>0.000000</td>\n",
       "      <td>0.000000</td>\n",
       "      <td>...</td>\n",
       "      <td>60.000000</td>\n",
       "      <td>0.000000</td>\n",
       "      <td>0.000000</td>\n",
       "      <td>0.000000</td>\n",
       "      <td>0.000000</td>\n",
       "      <td>3.000000</td>\n",
       "      <td>1.000000</td>\n",
       "      <td>3.000000</td>\n",
       "      <td>0.000000</td>\n",
       "      <td>155.000000</td>\n",
       "    </tr>\n",
       "    <tr>\n",
       "      <th>50%</th>\n",
       "      <td>0.000000</td>\n",
       "      <td>1.000000</td>\n",
       "      <td>1.000000</td>\n",
       "      <td>1.000000</td>\n",
       "      <td>1.000000</td>\n",
       "      <td>0.000000</td>\n",
       "      <td>0.000000</td>\n",
       "      <td>0.000000</td>\n",
       "      <td>0.000000</td>\n",
       "      <td>0.000000</td>\n",
       "      <td>...</td>\n",
       "      <td>75.000000</td>\n",
       "      <td>0.000000</td>\n",
       "      <td>0.000000</td>\n",
       "      <td>0.000000</td>\n",
       "      <td>0.266667</td>\n",
       "      <td>6.000000</td>\n",
       "      <td>3.000000</td>\n",
       "      <td>9.000000</td>\n",
       "      <td>236.500000</td>\n",
       "      <td>759.000000</td>\n",
       "    </tr>\n",
       "    <tr>\n",
       "      <th>75%</th>\n",
       "      <td>1.000000</td>\n",
       "      <td>1.000000</td>\n",
       "      <td>1.000000</td>\n",
       "      <td>1.000000</td>\n",
       "      <td>1.000000</td>\n",
       "      <td>0.000000</td>\n",
       "      <td>0.000000</td>\n",
       "      <td>0.000000</td>\n",
       "      <td>1.000000</td>\n",
       "      <td>1.000000</td>\n",
       "      <td>...</td>\n",
       "      <td>85.000000</td>\n",
       "      <td>20.000000</td>\n",
       "      <td>0.700000</td>\n",
       "      <td>8.800000</td>\n",
       "      <td>7.366667</td>\n",
       "      <td>10.000000</td>\n",
       "      <td>5.000000</td>\n",
       "      <td>19.000000</td>\n",
       "      <td>1173.500000</td>\n",
       "      <td>1553.000000</td>\n",
       "    </tr>\n",
       "    <tr>\n",
       "      <th>max</th>\n",
       "      <td>1.000000</td>\n",
       "      <td>1.000000</td>\n",
       "      <td>1.000000</td>\n",
       "      <td>1.000000</td>\n",
       "      <td>1.000000</td>\n",
       "      <td>1.000000</td>\n",
       "      <td>1.000000</td>\n",
       "      <td>1.000000</td>\n",
       "      <td>1.000000</td>\n",
       "      <td>1.000000</td>\n",
       "      <td>...</td>\n",
       "      <td>90.000000</td>\n",
       "      <td>573.000000</td>\n",
       "      <td>11.000000</td>\n",
       "      <td>296.200000</td>\n",
       "      <td>782.466667</td>\n",
       "      <td>12.000000</td>\n",
       "      <td>6.000000</td>\n",
       "      <td>23.000000</td>\n",
       "      <td>47793.000000</td>\n",
       "      <td>47793.000000</td>\n",
       "    </tr>\n",
       "  </tbody>\n",
       "</table>\n",
       "<p>8 rows × 32 columns</p>\n",
       "</div>"
      ],
      "text/plain": [
       "       DiagnosticArtAstrup  DiagnosticBlood  DiagnosticECG  DiagnosticIC  \\\n",
       "count          5107.000000      5107.000000    5107.000000   5107.000000   \n",
       "mean              0.284120         0.787155       0.726454      0.811044   \n",
       "std               0.451038         0.409359       0.445822      0.391512   \n",
       "min               0.000000         0.000000       0.000000      0.000000   \n",
       "25%               0.000000         1.000000       0.000000      1.000000   \n",
       "50%               0.000000         1.000000       1.000000      1.000000   \n",
       "75%               1.000000         1.000000       1.000000      1.000000   \n",
       "max               1.000000         1.000000       1.000000      1.000000   \n",
       "\n",
       "       DiagnosticLacticAcid  DiagnosticLiquor  DiagnosticOther  \\\n",
       "count           5107.000000       5107.000000      5107.000000   \n",
       "mean               0.766791          0.005874         0.007832   \n",
       "std                0.422916          0.076426         0.088162   \n",
       "min                0.000000          0.000000         0.000000   \n",
       "25%                1.000000          0.000000         0.000000   \n",
       "50%                1.000000          0.000000         0.000000   \n",
       "75%                1.000000          0.000000         0.000000   \n",
       "max                1.000000          1.000000         1.000000   \n",
       "\n",
       "       DiagnosticSputum  DiagnosticUrinaryCulture  DiagnosticUrinarySediment  \\\n",
       "count       5107.000000               5107.000000                5107.000000   \n",
       "mean           0.028784                  0.450362                   0.493832   \n",
       "std            0.167215                  0.497579                   0.500011   \n",
       "min            0.000000                  0.000000                   0.000000   \n",
       "25%            0.000000                  0.000000                   0.000000   \n",
       "50%            0.000000                  0.000000                   0.000000   \n",
       "75%            0.000000                  1.000000                   1.000000   \n",
       "max            1.000000                  1.000000                   1.000000   \n",
       "\n",
       "       ...          Age          CRP   LacticAcid   Leucocytes     duration  \\\n",
       "count  ...  5176.000000  5176.000000  5176.000000  5176.000000  5176.000000   \n",
       "mean   ...    70.191267    33.845634     0.547276     4.700155     8.265385   \n",
       "std    ...    17.418468    74.729799     1.187220    10.590811    35.952867   \n",
       "min    ...     0.000000     0.000000     0.000000     0.000000     0.000000   \n",
       "25%    ...    60.000000     0.000000     0.000000     0.000000     0.000000   \n",
       "50%    ...    75.000000     0.000000     0.000000     0.000000     0.266667   \n",
       "75%    ...    85.000000    20.000000     0.700000     8.800000     7.366667   \n",
       "max    ...    90.000000   573.000000    11.000000   296.200000   782.466667   \n",
       "\n",
       "             month      weekday         hour       remtime       elapsed  \n",
       "count  5176.000000  5176.000000  5176.000000   5176.000000   5176.000000  \n",
       "mean      6.531685     2.930835    11.244397   1193.775889   1574.430835  \n",
       "std       3.568158     2.018046     8.203143   3469.657735   4087.046260  \n",
       "min       1.000000     0.000000     0.000000      0.000000      0.000000  \n",
       "25%       3.000000     1.000000     3.000000      0.000000    155.000000  \n",
       "50%       6.000000     3.000000     9.000000    236.500000    759.000000  \n",
       "75%      10.000000     5.000000    19.000000   1173.500000   1553.000000  \n",
       "max      12.000000     6.000000    23.000000  47793.000000  47793.000000  \n",
       "\n",
       "[8 rows x 32 columns]"
      ]
     },
     "execution_count": 22,
     "metadata": {},
     "output_type": "execute_result"
    }
   ],
   "source": [
    "data_sepsis.describe()"
   ]
  },
  {
   "cell_type": "code",
   "execution_count": 21,
   "metadata": {},
   "outputs": [
    {
     "name": "stdout",
     "output_type": "stream",
     "text": [
      "<class 'pandas.core.frame.DataFrame'>\n",
      "RangeIndex: 5176 entries, 0 to 5175\n",
      "Data columns (total 37 columns):\n",
      " #   Column                     Non-Null Count  Dtype  \n",
      "---  ------                     --------------  -----  \n",
      " 0   DiagnosticArtAstrup        5107 non-null   float64\n",
      " 1   DiagnosticBlood            5107 non-null   float64\n",
      " 2   DiagnosticECG              5107 non-null   float64\n",
      " 3   DiagnosticIC               5107 non-null   float64\n",
      " 4   DiagnosticLacticAcid       5107 non-null   float64\n",
      " 5   DiagnosticLiquor           5107 non-null   float64\n",
      " 6   DiagnosticOther            5107 non-null   float64\n",
      " 7   DiagnosticSputum           5107 non-null   float64\n",
      " 8   DiagnosticUrinaryCulture   5107 non-null   float64\n",
      " 9   DiagnosticUrinarySediment  5107 non-null   float64\n",
      " 10  DiagnosticXthorax          5107 non-null   float64\n",
      " 11  DisfuncOrg                 5107 non-null   float64\n",
      " 12  Hypotensie                 5107 non-null   float64\n",
      " 13  Hypoxie                    5107 non-null   float64\n",
      " 14  InfectionSuspected         5107 non-null   float64\n",
      " 15  Infusion                   5107 non-null   float64\n",
      " 16  Oligurie                   5107 non-null   float64\n",
      " 17  SIRSCritHeartRate          5107 non-null   float64\n",
      " 18  SIRSCritLeucos             5107 non-null   float64\n",
      " 19  SIRSCritTachypnea          5107 non-null   float64\n",
      " 20  SIRSCritTemperature        5107 non-null   float64\n",
      " 21  SIRSCriteria2OrMore        5107 non-null   float64\n",
      " 22  Age                        5176 non-null   float64\n",
      " 23  Case ID                    5176 non-null   object \n",
      " 24  Activity                   5176 non-null   object \n",
      " 25  Diagnose                   3921 non-null   object \n",
      " 26  org:group                  5176 non-null   object \n",
      " 27  CRP                        5176 non-null   float64\n",
      " 28  LacticAcid                 5176 non-null   float64\n",
      " 29  Leucocytes                 5176 non-null   float64\n",
      " 30  Complete Timestamp         5176 non-null   object \n",
      " 31  duration                   5176 non-null   float64\n",
      " 32  month                      5176 non-null   int64  \n",
      " 33  weekday                    5176 non-null   int64  \n",
      " 34  hour                       5176 non-null   int64  \n",
      " 35  remtime                    5176 non-null   float64\n",
      " 36  elapsed                    5176 non-null   float64\n",
      "dtypes: float64(29), int64(3), object(5)\n",
      "memory usage: 1.5+ MB\n"
     ]
    }
   ],
   "source": [
    "data_sepsis.info()"
   ]
  },
  {
   "cell_type": "markdown",
   "id": "written-queen",
   "metadata": {},
   "source": [
    "\n",
    "### 1.1 Exploratory data analysis\n",
    "\n",
    "For the data set, create 2-3 figures and tables that help you understand the data \n",
    "\n",
    "**Use the column \"remtime\" (which indicates the remaining time of each case after each corresponding event) as the response variable for regression**\n",
    "\n",
    "Note that some of these variables are categorical variables. How would you preprocess these variables?\n",
    "\n",
    "\n",
    "#### Tips: ---------------\n",
    "\n",
    "During the data exploration, you, as a team, are trying to get an impression of the data. You will create figures and/or tables that help you to get to know the data. While exploring the data, you may also consider answering the following questions, which may help you understand the data better. For example, \n",
    "\n",
    "- How many variables are in the data? What are the data type and the distribution of each variable? \n",
    "- What is the discribution of the response variable?\n",
    "- Are the variables informative?\n",
    "- Are any pair of the potential predictor variables highly correlated?\n",
    "- (Should the variables be normalized or not?)\n",
    "- (Any relevant, useful preprocessing steps that may be taken?)\n",
    "\n",
    "\n",
    "\n",
    "Make sure to at least check the data type of each variable and to understand the distribution of each variable, especially the response variable. \n",
    "\n",
    "Try to find out what factors seem to determine whether an instance is an outlier or not. What do you conclude?\n",
    "\n",
    "*For creating data visualizations, you may consider using the matplot library and visit the [matplot gallery](https://matplotlib.org/stable/gallery/index.html) for inspiration (e.g., histograms for distribution, or heatmaps for feature correlation).*"
   ]
  },
  {
   "cell_type": "code",
   "execution_count": 37,
   "id": "e270675d",
   "metadata": {},
   "outputs": [
    {
     "data": {
      "image/png": "[encoded data removed]",
      "text/plain": [
       "<Figure size 1000x500 with 1 Axes>"
      ]
     },
     "metadata": {},
     "output_type": "display_data"
    }
   ],
   "source": [
    "import matplotlib.pyplot as plt\n",
    "\n",
    "# Get mean remtime per activity\n",
    "remtime_per_activity = data_sepsis.groupby(\"Activity\", as_index = False)[\"remtime\"].mean()\n",
    "sorted_remtime_per_activity = remtime_per_activity.sort_values(\"remtime\", ascending = False)\n",
    "\n",
    "plt.figure(figsize = (10,5))\n",
    "plt.bar(sorted_remtime_per_activity[\"Activity\"], sorted_remtime_per_activity[\"remtime\"], align = \"center\", width = 0.6)\n",
    "plt.title(\"Average remtime per last activity\")\n",
    "plt.xlabel(\"Activity\")\n",
    "plt.ylabel(\"Remaining time\")\n",
    "plt.show()\n"
   ]
  },
  {
   "cell_type": "code",
   "execution_count": 34,
   "id": "d8c5ac00",
   "metadata": {},
   "outputs": [
    {
     "data": {
      "text/plain": [
       "remtime\n",
       "0.0        2095\n",
       "1.0           3\n",
       "7.0           4\n",
       "10.0          2\n",
       "11.0          4\n",
       "           ... \n",
       "41111.0       2\n",
       "41947.0       1\n",
       "44706.0       1\n",
       "46353.0       2\n",
       "47793.0       2\n",
       "Name: count, Length: 1812, dtype: int64"
      ]
     },
     "execution_count": 34,
     "metadata": {},
     "output_type": "execute_result"
    }
   ],
   "source": [
    "data_sepsis[\"remtime\"].value_counts().sort_index()"
   ]
  },
  {
   "cell_type": "code",
   "execution_count": 47,
   "id": "a0e1f11a",
   "metadata": {},
   "outputs": [
    {
     "data": {
      "image/png": "[encoded data removed]",
      "text/plain": [
       "<Figure size 640x480 with 1 Axes>"
      ]
     },
     "metadata": {},
     "output_type": "display_data"
    },
    {
     "data": {
      "image/png": "[encoded data removed]",
      "text/plain": [
       "<Figure size 640x480 with 1 Axes>"
      ]
     },
     "metadata": {},
     "output_type": "display_data"
    },
    {
     "data": {
      "image/png": "[encoded data removed]",
      "text/plain": [
       "<Figure size 640x480 with 1 Axes>"
      ]
     },
     "metadata": {},
     "output_type": "display_data"
    },
    {
     "data": {
      "image/png": "[encoded data removed]",
      "text/plain": [
       "<Figure size 640x480 with 1 Axes>"
      ]
     },
     "metadata": {},
     "output_type": "display_data"
    },
    {
     "data": {
      "image/png": "[encoded data removed]",
      "text/plain": [
       "<Figure size 640x480 with 1 Axes>"
      ]
     },
     "metadata": {},
     "output_type": "display_data"
    }
   ],
   "source": [
    "# hypotensie / oligurie / hypoxie / infusion / disfuncorg\n",
    "\n",
    "def plot_fig(df, x, y, title, xlabel, ylabel):\n",
    "    plt.bar(df[x], df[y])\n",
    "    plt.title(title)\n",
    "    plt.xlabel(xlabel)\n",
    "    plt.ylabel(ylabel)\n",
    "    plt.show()\n",
    "\n",
    "# Hypotensia\n",
    "    \n",
    "for col in [\"Hypotensie\", \"Oligurie\", \"Hypoxie\", \"Infusion\", \"DisfuncOrg\"]:\n",
    "    data_without_missing = data_sepsis.drop(data_sepsis[data_sepsis[col] == \"missing\"].index)\n",
    "    \n",
    "    data_group = pd.DataFrame(data_without_missing.groupby(col, as_index = False)[\"remtime\"].mean())\n",
    "    title = f\"Remtime difference in {col}\"\n",
    "    xlabel = col\n",
    "    ylabel = \"remtime\"\n",
    "    plot_fig(df=data_group, x=col, y=\"remtime\", title=title, xlabel=xlabel, ylabel=ylabel)\n",
    "\n",
    "\n"
   ]
  },
  {
   "cell_type": "code",
   "execution_count": 39,
   "id": "79a1c45f",
   "metadata": {},
   "outputs": [
    {
     "name": "stdout",
     "output_type": "stream",
     "text": [
      "573.0\n",
      "11.0\n",
      "296.2\n"
     ]
    }
   ],
   "source": [
    "print(data_sepsis[\"CRP\"].max())\n",
    "print(data_sepsis[\"LacticAcid\"].max())\n",
    "print(data_sepsis[\"Leucocytes\"].max())"
   ]
  },
  {
   "cell_type": "code",
   "execution_count": 66,
   "id": "532379e3",
   "metadata": {},
   "outputs": [
    {
     "data": {
      "text/plain": [
       "weekday\n",
       "0    806\n",
       "1    742\n",
       "2    755\n",
       "3    732\n",
       "4    737\n",
       "5    650\n",
       "6    754\n",
       "dtype: int64"
      ]
     },
     "execution_count": 66,
     "metadata": {},
     "output_type": "execute_result"
    }
   ],
   "source": [
    "# Plot CRP / LacticAcid / Leucocytes against remtime, age\n",
    "cases_per_day = data_sepsis.groupby([\"weekday\"]).size()\n",
    "\n",
    "cases_per_day\n",
    "\n",
    "plt.bar([\"\"], sorted_remtime_per_activity[\"remtime\"], align = \"center\", width = 0.6)\n",
    "plt.title(\"Average remtime per last activity\")\n",
    "plt.xlabel(\"Activity\")\n",
    "plt.ylabel(\"Remaining time\")\n",
    "plt.show()\n",
    "\n"
   ]
  },
  {
   "cell_type": "code",
   "execution_count": 90,
   "id": "0f5593e7",
   "metadata": {},
   "outputs": [
    {
     "data": {
      "text/html": [
       "<div>\n",
       "<style scoped>\n",
       "    .dataframe tbody tr th:only-of-type {\n",
       "        vertical-align: middle;\n",
       "    }\n",
       "\n",
       "    .dataframe tbody tr th {\n",
       "        vertical-align: top;\n",
       "    }\n",
       "\n",
       "    .dataframe thead th {\n",
       "        text-align: right;\n",
       "    }\n",
       "</style>\n",
       "<table border=\"1\" class=\"dataframe\">\n",
       "  <thead>\n",
       "    <tr style=\"text-align: right;\">\n",
       "      <th></th>\n",
       "      <th></th>\n",
       "      <th>Complete Timestamp</th>\n",
       "    </tr>\n",
       "    <tr>\n",
       "      <th>Case ID</th>\n",
       "      <th></th>\n",
       "      <th></th>\n",
       "    </tr>\n",
       "  </thead>\n",
       "  <tbody>\n",
       "    <tr>\n",
       "      <th rowspan=\"2\" valign=\"top\">A</th>\n",
       "      <th>0</th>\n",
       "      <td>NaN</td>\n",
       "    </tr>\n",
       "    <tr>\n",
       "      <th>4</th>\n",
       "      <td>NaN</td>\n",
       "    </tr>\n",
       "    <tr>\n",
       "      <th rowspan=\"2\" valign=\"top\">AA</th>\n",
       "      <th>7</th>\n",
       "      <td>NaN</td>\n",
       "    </tr>\n",
       "    <tr>\n",
       "      <th>9</th>\n",
       "      <td>NaN</td>\n",
       "    </tr>\n",
       "    <tr>\n",
       "      <th>AAA</th>\n",
       "      <th>12</th>\n",
       "      <td>NaN</td>\n",
       "    </tr>\n",
       "    <tr>\n",
       "      <th>...</th>\n",
       "      <th>...</th>\n",
       "      <td>...</td>\n",
       "    </tr>\n",
       "    <tr>\n",
       "      <th>ZX</th>\n",
       "      <th>5161</th>\n",
       "      <td>NaN</td>\n",
       "    </tr>\n",
       "    <tr>\n",
       "      <th rowspan=\"2\" valign=\"top\">ZY</th>\n",
       "      <th>5166</th>\n",
       "      <td>NaN</td>\n",
       "    </tr>\n",
       "    <tr>\n",
       "      <th>5167</th>\n",
       "      <td>NaN</td>\n",
       "    </tr>\n",
       "    <tr>\n",
       "      <th rowspan=\"2\" valign=\"top\">ZZ</th>\n",
       "      <th>5172</th>\n",
       "      <td>NaN</td>\n",
       "    </tr>\n",
       "    <tr>\n",
       "      <th>5173</th>\n",
       "      <td>NaN</td>\n",
       "    </tr>\n",
       "  </tbody>\n",
       "</table>\n",
       "<p>1594 rows × 1 columns</p>\n",
       "</div>"
      ],
      "text/plain": [
       "              Complete Timestamp\n",
       "Case ID                         \n",
       "A       0                    NaN\n",
       "        4                    NaN\n",
       "AA      7                    NaN\n",
       "        9                    NaN\n",
       "AAA     12                   NaN\n",
       "...                          ...\n",
       "ZX      5161                 NaN\n",
       "ZY      5166                 NaN\n",
       "        5167                 NaN\n",
       "ZZ      5172                 NaN\n",
       "        5173                 NaN\n",
       "\n",
       "[1594 rows x 1 columns]"
      ]
     },
     "execution_count": 90,
     "metadata": {},
     "output_type": "execute_result"
    }
   ],
   "source": [
    "# Question 1: medical guidelines There are two time rules specified by the sepsis guideline:\n",
    "# 1. between ER Sepsis Triage and IV Antibiotics should be less than 1 hour,\n",
    "# 2. between ER Sepsis Triage and LacticAcid should be less than 3 hours.\n",
    "\n",
    "# PER CASE ID : CHECK HOE GROOT GEM. TIJD IS TUSSEN ER SEPSIS TRIAGE / LACTICACID\n",
    "\n",
    "data_sepsis['Complete Timestamp'] = pd.to_datetime(data_sepsis['Complete Timestamp'])\n",
    "\n",
    "grouped = data_sepsis.groupby(\"Case ID\").apply(lambda x: (x.loc[x[\"Activity\"] == \"LacticAcid\"][\"Complete Timestamp\"] - x.loc[x[\"Activity\"] == \"ER Sepsis Triage\"][\"Complete Timestamp\"]).dt.seconds)\n",
    "\n",
    "pd.DataFrame(grouped)"
   ]
  },
  {
   "cell_type": "code",
   "execution_count": 36,
   "id": "dangerous-tournament",
   "metadata": {},
   "outputs": [
    {
     "name": "stderr",
     "output_type": "stream",
     "text": [
      "C:\\Users\\danie\\AppData\\Local\\Temp\\ipykernel_8420\\3231487735.py:12: UserWarning: Matplotlib is currently using module://matplotlib_inline.backend_inline, which is a non-GUI backend, so cannot show the figure.\n",
      "  fig.show()\n"
     ]
    },
    {
     "data": {
      "image/png": "[encoded data removed]",
      "text/plain": [
       "<Figure size 640x480 with 1 Axes>"
      ]
     },
     "metadata": {},
     "output_type": "display_data"
    }
   ],
   "source": [
    "# import packages\n",
    "\n",
    "from matplotlib.ticker import LinearLocator\n",
    "\n",
    "# TODO: plot figure(s)\n",
    "\n",
    "fig, ax = plt.subplots()\n",
    "ax.scatter(data_sepsis[\"hour\"].sort_values(), data_sepsis[\"remtime\"].astype(int), c = data_sepsis[\"Age\"])\n",
    "ax.set_xlabel(\"Hour\")\n",
    "ax.set_ylabel(\"Remtime\")\n",
    "ax.xaxis.set_major_locator(LinearLocator(numticks = 24))\n",
    "ax.xaxis.set_major_formatter()\n",
    "fig.show()\n"
   ]
  },
  {
   "cell_type": "code",
   "execution_count": 20,
   "metadata": {},
   "outputs": [
    {
     "ename": "IntCastingNaNError",
     "evalue": "Cannot convert non-finite values (NA or inf) to integer",
     "output_type": "error",
     "traceback": [
      "\u001b[1;31m---------------------------------------------------------------------------\u001b[0m",
      "\u001b[1;31mIntCastingNaNError\u001b[0m                        Traceback (most recent call last)",
      "\u001b[1;32mc:\\Users\\danie\\Documents\\repositories\\INKU 2023-2024\\INFOB3APML\\Assignment 2\\APML-2\\daniel-exploration2.ipynb Cell 13\u001b[0m line \u001b[0;36m2\n\u001b[0;32m     <a href='vscode-notebook-cell:/c%3A/Users/danie/Documents/repositories/INKU%202023-2024/INFOB3APML/Assignment%202/APML-2/daniel-exploration2.ipynb#X42sZmlsZQ%3D%3D?line=12'>13</a>\u001b[0m cols \u001b[39m=\u001b[39m [\n\u001b[0;32m     <a href='vscode-notebook-cell:/c%3A/Users/danie/Documents/repositories/INKU%202023-2024/INFOB3APML/Assignment%202/APML-2/daniel-exploration2.ipynb#X42sZmlsZQ%3D%3D?line=13'>14</a>\u001b[0m     \u001b[39m'\u001b[39m\u001b[39mDiagnosticArtAstrup\u001b[39m\u001b[39m'\u001b[39m, \u001b[39m'\u001b[39m\u001b[39mDiagnosticBlood\u001b[39m\u001b[39m'\u001b[39m, \u001b[39m'\u001b[39m\u001b[39mDiagnosticECG\u001b[39m\u001b[39m'\u001b[39m,\n\u001b[0;32m     <a href='vscode-notebook-cell:/c%3A/Users/danie/Documents/repositories/INKU%202023-2024/INFOB3APML/Assignment%202/APML-2/daniel-exploration2.ipynb#X42sZmlsZQ%3D%3D?line=14'>15</a>\u001b[0m     \u001b[39m'\u001b[39m\u001b[39mDiagnosticIC\u001b[39m\u001b[39m'\u001b[39m, \u001b[39m'\u001b[39m\u001b[39mDiagnosticLacticAcid\u001b[39m\u001b[39m'\u001b[39m, \u001b[39m'\u001b[39m\u001b[39mDiagnosticLiquor\u001b[39m\u001b[39m'\u001b[39m,\n\u001b[0;32m     <a href='vscode-notebook-cell:/c%3A/Users/danie/Documents/repositories/INKU%202023-2024/INFOB3APML/Assignment%202/APML-2/daniel-exploration2.ipynb#X42sZmlsZQ%3D%3D?line=15'>16</a>\u001b[0m     \u001b[39m'\u001b[39m\u001b[39mDiagnosticOther\u001b[39m\u001b[39m'\u001b[39m, \u001b[39m'\u001b[39m\u001b[39mDiagnosticSputum\u001b[39m\u001b[39m'\u001b[39m, \u001b[39m'\u001b[39m\u001b[39mDiagnosticUrinaryCulture\u001b[39m\u001b[39m'\u001b[39m,\n\u001b[0;32m     <a href='vscode-notebook-cell:/c%3A/Users/danie/Documents/repositories/INKU%202023-2024/INFOB3APML/Assignment%202/APML-2/daniel-exploration2.ipynb#X42sZmlsZQ%3D%3D?line=16'>17</a>\u001b[0m     \u001b[39m'\u001b[39m\u001b[39mDiagnosticUrinarySediment\u001b[39m\u001b[39m'\u001b[39m, \u001b[39m'\u001b[39m\u001b[39mDiagnosticXthorax\u001b[39m\u001b[39m'\u001b[39m\n\u001b[0;32m     <a href='vscode-notebook-cell:/c%3A/Users/danie/Documents/repositories/INKU%202023-2024/INFOB3APML/Assignment%202/APML-2/daniel-exploration2.ipynb#X42sZmlsZQ%3D%3D?line=17'>18</a>\u001b[0m ]\n\u001b[0;32m     <a href='vscode-notebook-cell:/c%3A/Users/danie/Documents/repositories/INKU%202023-2024/INFOB3APML/Assignment%202/APML-2/daniel-exploration2.ipynb#X42sZmlsZQ%3D%3D?line=19'>20</a>\u001b[0m \u001b[39m# Fig1\u001b[39;00m\n\u001b[1;32m---> <a href='vscode-notebook-cell:/c%3A/Users/danie/Documents/repositories/INKU%202023-2024/INFOB3APML/Assignment%202/APML-2/daniel-exploration2.ipynb#X42sZmlsZQ%3D%3D?line=20'>21</a>\u001b[0m figure1_1 \u001b[39m=\u001b[39m go\u001b[39m.\u001b[39mFigure(go\u001b[39m.\u001b[39mBox(x \u001b[39m=\u001b[39m data_sepsis[data_sepsis[\u001b[39m\"\u001b[39;49m\u001b[39mDiagnosticArtAstrup\u001b[39;49m\u001b[39m\"\u001b[39;49m]\u001b[39m.\u001b[39;49mastype(\u001b[39mint\u001b[39;49m) \u001b[39m==\u001b[39m \u001b[39m1\u001b[39m], y \u001b[39m=\u001b[39m data_sepsis[\u001b[39m\"\u001b[39m\u001b[39mremtime\u001b[39m\u001b[39m\"\u001b[39m], name \u001b[39m=\u001b[39m \u001b[39m\"\u001b[39m\u001b[39m1\u001b[39m\u001b[39m\"\u001b[39m))\n\u001b[0;32m     <a href='vscode-notebook-cell:/c%3A/Users/danie/Documents/repositories/INKU%202023-2024/INFOB3APML/Assignment%202/APML-2/daniel-exploration2.ipynb#X42sZmlsZQ%3D%3D?line=21'>22</a>\u001b[0m figure1_0 \u001b[39m=\u001b[39m go\u001b[39m.\u001b[39mFigure(go\u001b[39m.\u001b[39mBox(x \u001b[39m=\u001b[39m data_sepsis[data_sepsis[\u001b[39m\"\u001b[39m\u001b[39mDiagnosticArtAstrup\u001b[39m\u001b[39m\"\u001b[39m]\u001b[39m.\u001b[39mastype(\u001b[39mint\u001b[39m) \u001b[39m==\u001b[39m \u001b[39m0\u001b[39m], y \u001b[39m=\u001b[39m data_sepsis[\u001b[39m\"\u001b[39m\u001b[39mremtime\u001b[39m\u001b[39m\"\u001b[39m], name \u001b[39m=\u001b[39m \u001b[39m\"\u001b[39m\u001b[39m0\u001b[39m\u001b[39m\"\u001b[39m))\n\u001b[0;32m     <a href='vscode-notebook-cell:/c%3A/Users/danie/Documents/repositories/INKU%202023-2024/INFOB3APML/Assignment%202/APML-2/daniel-exploration2.ipynb#X42sZmlsZQ%3D%3D?line=23'>24</a>\u001b[0m fig\u001b[39m.\u001b[39mshow()\n",
      "File \u001b[1;32mc:\\Users\\danie\\AppData\\Local\\Programs\\Python\\Python39\\lib\\site-packages\\pandas\\core\\generic.py:6532\u001b[0m, in \u001b[0;36mNDFrame.astype\u001b[1;34m(self, dtype, copy, errors)\u001b[0m\n\u001b[0;32m   6528\u001b[0m     results \u001b[39m=\u001b[39m [ser\u001b[39m.\u001b[39mastype(dtype, copy\u001b[39m=\u001b[39mcopy) \u001b[39mfor\u001b[39;00m _, ser \u001b[39min\u001b[39;00m \u001b[39mself\u001b[39m\u001b[39m.\u001b[39mitems()]\n\u001b[0;32m   6530\u001b[0m \u001b[39melse\u001b[39;00m:\n\u001b[0;32m   6531\u001b[0m     \u001b[39m# else, only a single dtype is given\u001b[39;00m\n\u001b[1;32m-> 6532\u001b[0m     new_data \u001b[39m=\u001b[39m \u001b[39mself\u001b[39;49m\u001b[39m.\u001b[39;49m_mgr\u001b[39m.\u001b[39;49mastype(dtype\u001b[39m=\u001b[39;49mdtype, copy\u001b[39m=\u001b[39;49mcopy, errors\u001b[39m=\u001b[39;49merrors)\n\u001b[0;32m   6533\u001b[0m     res \u001b[39m=\u001b[39m \u001b[39mself\u001b[39m\u001b[39m.\u001b[39m_constructor_from_mgr(new_data, axes\u001b[39m=\u001b[39mnew_data\u001b[39m.\u001b[39maxes)\n\u001b[0;32m   6534\u001b[0m     \u001b[39mreturn\u001b[39;00m res\u001b[39m.\u001b[39m__finalize__(\u001b[39mself\u001b[39m, method\u001b[39m=\u001b[39m\u001b[39m\"\u001b[39m\u001b[39mastype\u001b[39m\u001b[39m\"\u001b[39m)\n",
      "File \u001b[1;32mc:\\Users\\danie\\AppData\\Local\\Programs\\Python\\Python39\\lib\\site-packages\\pandas\\core\\internals\\managers.py:414\u001b[0m, in \u001b[0;36mBaseBlockManager.astype\u001b[1;34m(self, dtype, copy, errors)\u001b[0m\n\u001b[0;32m    411\u001b[0m \u001b[39melif\u001b[39;00m using_copy_on_write():\n\u001b[0;32m    412\u001b[0m     copy \u001b[39m=\u001b[39m \u001b[39mFalse\u001b[39;00m\n\u001b[1;32m--> 414\u001b[0m \u001b[39mreturn\u001b[39;00m \u001b[39mself\u001b[39;49m\u001b[39m.\u001b[39;49mapply(\n\u001b[0;32m    415\u001b[0m     \u001b[39m\"\u001b[39;49m\u001b[39mastype\u001b[39;49m\u001b[39m\"\u001b[39;49m,\n\u001b[0;32m    416\u001b[0m     dtype\u001b[39m=\u001b[39;49mdtype,\n\u001b[0;32m    417\u001b[0m     copy\u001b[39m=\u001b[39;49mcopy,\n\u001b[0;32m    418\u001b[0m     errors\u001b[39m=\u001b[39;49merrors,\n\u001b[0;32m    419\u001b[0m     using_cow\u001b[39m=\u001b[39;49musing_copy_on_write(),\n\u001b[0;32m    420\u001b[0m )\n",
      "File \u001b[1;32mc:\\Users\\danie\\AppData\\Local\\Programs\\Python\\Python39\\lib\\site-packages\\pandas\\core\\internals\\managers.py:354\u001b[0m, in \u001b[0;36mBaseBlockManager.apply\u001b[1;34m(self, f, align_keys, **kwargs)\u001b[0m\n\u001b[0;32m    352\u001b[0m         applied \u001b[39m=\u001b[39m b\u001b[39m.\u001b[39mapply(f, \u001b[39m*\u001b[39m\u001b[39m*\u001b[39mkwargs)\n\u001b[0;32m    353\u001b[0m     \u001b[39melse\u001b[39;00m:\n\u001b[1;32m--> 354\u001b[0m         applied \u001b[39m=\u001b[39m \u001b[39mgetattr\u001b[39m(b, f)(\u001b[39m*\u001b[39m\u001b[39m*\u001b[39mkwargs)\n\u001b[0;32m    355\u001b[0m     result_blocks \u001b[39m=\u001b[39m extend_blocks(applied, result_blocks)\n\u001b[0;32m    357\u001b[0m out \u001b[39m=\u001b[39m \u001b[39mtype\u001b[39m(\u001b[39mself\u001b[39m)\u001b[39m.\u001b[39mfrom_blocks(result_blocks, \u001b[39mself\u001b[39m\u001b[39m.\u001b[39maxes)\n",
      "File \u001b[1;32mc:\\Users\\danie\\AppData\\Local\\Programs\\Python\\Python39\\lib\\site-packages\\pandas\\core\\internals\\blocks.py:616\u001b[0m, in \u001b[0;36mBlock.astype\u001b[1;34m(self, dtype, copy, errors, using_cow)\u001b[0m\n\u001b[0;32m    596\u001b[0m \u001b[39m\u001b[39m\u001b[39m\"\"\"\u001b[39;00m\n\u001b[0;32m    597\u001b[0m \u001b[39mCoerce to the new dtype.\u001b[39;00m\n\u001b[0;32m    598\u001b[0m \n\u001b[1;32m   (...)\u001b[0m\n\u001b[0;32m    612\u001b[0m \u001b[39mBlock\u001b[39;00m\n\u001b[0;32m    613\u001b[0m \u001b[39m\"\"\"\u001b[39;00m\n\u001b[0;32m    614\u001b[0m values \u001b[39m=\u001b[39m \u001b[39mself\u001b[39m\u001b[39m.\u001b[39mvalues\n\u001b[1;32m--> 616\u001b[0m new_values \u001b[39m=\u001b[39m astype_array_safe(values, dtype, copy\u001b[39m=\u001b[39;49mcopy, errors\u001b[39m=\u001b[39;49merrors)\n\u001b[0;32m    618\u001b[0m new_values \u001b[39m=\u001b[39m maybe_coerce_values(new_values)\n\u001b[0;32m    620\u001b[0m refs \u001b[39m=\u001b[39m \u001b[39mNone\u001b[39;00m\n",
      "File \u001b[1;32mc:\\Users\\danie\\AppData\\Local\\Programs\\Python\\Python39\\lib\\site-packages\\pandas\\core\\dtypes\\astype.py:238\u001b[0m, in \u001b[0;36mastype_array_safe\u001b[1;34m(values, dtype, copy, errors)\u001b[0m\n\u001b[0;32m    235\u001b[0m     dtype \u001b[39m=\u001b[39m dtype\u001b[39m.\u001b[39mnumpy_dtype\n\u001b[0;32m    237\u001b[0m \u001b[39mtry\u001b[39;00m:\n\u001b[1;32m--> 238\u001b[0m     new_values \u001b[39m=\u001b[39m astype_array(values, dtype, copy\u001b[39m=\u001b[39;49mcopy)\n\u001b[0;32m    239\u001b[0m \u001b[39mexcept\u001b[39;00m (\u001b[39mValueError\u001b[39;00m, \u001b[39mTypeError\u001b[39;00m):\n\u001b[0;32m    240\u001b[0m     \u001b[39m# e.g. _astype_nansafe can fail on object-dtype of strings\u001b[39;00m\n\u001b[0;32m    241\u001b[0m     \u001b[39m#  trying to convert to float\u001b[39;00m\n\u001b[0;32m    242\u001b[0m     \u001b[39mif\u001b[39;00m errors \u001b[39m==\u001b[39m \u001b[39m\"\u001b[39m\u001b[39mignore\u001b[39m\u001b[39m\"\u001b[39m:\n",
      "File \u001b[1;32mc:\\Users\\danie\\AppData\\Local\\Programs\\Python\\Python39\\lib\\site-packages\\pandas\\core\\dtypes\\astype.py:183\u001b[0m, in \u001b[0;36mastype_array\u001b[1;34m(values, dtype, copy)\u001b[0m\n\u001b[0;32m    180\u001b[0m     values \u001b[39m=\u001b[39m values\u001b[39m.\u001b[39mastype(dtype, copy\u001b[39m=\u001b[39mcopy)\n\u001b[0;32m    182\u001b[0m \u001b[39melse\u001b[39;00m:\n\u001b[1;32m--> 183\u001b[0m     values \u001b[39m=\u001b[39m _astype_nansafe(values, dtype, copy\u001b[39m=\u001b[39;49mcopy)\n\u001b[0;32m    185\u001b[0m \u001b[39m# in pandas we don't store numpy str dtypes, so convert to object\u001b[39;00m\n\u001b[0;32m    186\u001b[0m \u001b[39mif\u001b[39;00m \u001b[39misinstance\u001b[39m(dtype, np\u001b[39m.\u001b[39mdtype) \u001b[39mand\u001b[39;00m \u001b[39missubclass\u001b[39m(values\u001b[39m.\u001b[39mdtype\u001b[39m.\u001b[39mtype, \u001b[39mstr\u001b[39m):\n",
      "File \u001b[1;32mc:\\Users\\danie\\AppData\\Local\\Programs\\Python\\Python39\\lib\\site-packages\\pandas\\core\\dtypes\\astype.py:101\u001b[0m, in \u001b[0;36m_astype_nansafe\u001b[1;34m(arr, dtype, copy, skipna)\u001b[0m\n\u001b[0;32m     96\u001b[0m     \u001b[39mreturn\u001b[39;00m lib\u001b[39m.\u001b[39mensure_string_array(\n\u001b[0;32m     97\u001b[0m         arr, skipna\u001b[39m=\u001b[39mskipna, convert_na_value\u001b[39m=\u001b[39m\u001b[39mFalse\u001b[39;00m\n\u001b[0;32m     98\u001b[0m     )\u001b[39m.\u001b[39mreshape(shape)\n\u001b[0;32m    100\u001b[0m \u001b[39melif\u001b[39;00m np\u001b[39m.\u001b[39missubdtype(arr\u001b[39m.\u001b[39mdtype, np\u001b[39m.\u001b[39mfloating) \u001b[39mand\u001b[39;00m dtype\u001b[39m.\u001b[39mkind \u001b[39min\u001b[39;00m \u001b[39m\"\u001b[39m\u001b[39miu\u001b[39m\u001b[39m\"\u001b[39m:\n\u001b[1;32m--> 101\u001b[0m     \u001b[39mreturn\u001b[39;00m _astype_float_to_int_nansafe(arr, dtype, copy)\n\u001b[0;32m    103\u001b[0m \u001b[39melif\u001b[39;00m arr\u001b[39m.\u001b[39mdtype \u001b[39m==\u001b[39m \u001b[39mobject\u001b[39m:\n\u001b[0;32m    104\u001b[0m     \u001b[39m# if we have a datetime/timedelta array of objects\u001b[39;00m\n\u001b[0;32m    105\u001b[0m     \u001b[39m# then coerce to datetime64[ns] and use DatetimeArray.astype\u001b[39;00m\n\u001b[0;32m    107\u001b[0m     \u001b[39mif\u001b[39;00m lib\u001b[39m.\u001b[39mis_np_dtype(dtype, \u001b[39m\"\u001b[39m\u001b[39mM\u001b[39m\u001b[39m\"\u001b[39m):\n",
      "File \u001b[1;32mc:\\Users\\danie\\AppData\\Local\\Programs\\Python\\Python39\\lib\\site-packages\\pandas\\core\\dtypes\\astype.py:146\u001b[0m, in \u001b[0;36m_astype_float_to_int_nansafe\u001b[1;34m(values, dtype, copy)\u001b[0m\n\u001b[0;32m    142\u001b[0m \u001b[39m\u001b[39m\u001b[39m\"\"\"\u001b[39;00m\n\u001b[0;32m    143\u001b[0m \u001b[39mastype with a check preventing converting NaN to an meaningless integer value.\u001b[39;00m\n\u001b[0;32m    144\u001b[0m \u001b[39m\"\"\"\u001b[39;00m\n\u001b[0;32m    145\u001b[0m \u001b[39mif\u001b[39;00m \u001b[39mnot\u001b[39;00m np\u001b[39m.\u001b[39misfinite(values)\u001b[39m.\u001b[39mall():\n\u001b[1;32m--> 146\u001b[0m     \u001b[39mraise\u001b[39;00m IntCastingNaNError(\n\u001b[0;32m    147\u001b[0m         \u001b[39m\"\u001b[39m\u001b[39mCannot convert non-finite values (NA or inf) to integer\u001b[39m\u001b[39m\"\u001b[39m\n\u001b[0;32m    148\u001b[0m     )\n\u001b[0;32m    149\u001b[0m \u001b[39mif\u001b[39;00m dtype\u001b[39m.\u001b[39mkind \u001b[39m==\u001b[39m \u001b[39m\"\u001b[39m\u001b[39mu\u001b[39m\u001b[39m\"\u001b[39m:\n\u001b[0;32m    150\u001b[0m     \u001b[39m# GH#45151\u001b[39;00m\n\u001b[0;32m    151\u001b[0m     \u001b[39mif\u001b[39;00m \u001b[39mnot\u001b[39;00m (values \u001b[39m>\u001b[39m\u001b[39m=\u001b[39m \u001b[39m0\u001b[39m)\u001b[39m.\u001b[39mall():\n",
      "\u001b[1;31mIntCastingNaNError\u001b[0m: Cannot convert non-finite values (NA or inf) to integer"
     ]
    }
   ],
   "source": [
    "from plotly.subplots import make_subplots\n",
    "import plotly.graph_objects as go\n",
    "\n",
    "fig = make_subplots(\n",
    "    rows = 4,\n",
    "    cols = 3,\n",
    "    subplot_titles = (\n",
    "        \"\"\n",
    "    ) \n",
    ")\n",
    "\n",
    "cols = [\n",
    "    'DiagnosticArtAstrup', 'DiagnosticBlood', 'DiagnosticECG',\n",
    "    'DiagnosticIC', 'DiagnosticLacticAcid', 'DiagnosticLiquor',\n",
    "    'DiagnosticOther', 'DiagnosticSputum', 'DiagnosticUrinaryCulture',\n",
    "    'DiagnosticUrinarySediment', 'DiagnosticXthorax'\n",
    "]\n",
    "\n",
    "# Fig1\n",
    "figure1_1 = go.Figure(go.Box(x = data_sepsis[data_sepsis[\"DiagnosticArtAstrup\"].astype(int) == 1], y = data_sepsis[\"remtime\"], name = \"1\"))\n",
    "figure1_0 = go.Figure(go.Box(x = data_sepsis[data_sepsis[\"DiagnosticArtAstrup\"].astype(int) == 0], y = data_sepsis[\"remtime\"], name = \"0\"))\n",
    "    \n",
    "fig.show()\n",
    "\n",
    "\n"
   ]
  },
  {
   "cell_type": "markdown",
   "id": "a63b1794",
   "metadata": {},
   "source": [
    "### 1.2 Data cleaning\n",
    "\n",
    "You have now gathered some information about the data during the data exploration task. You also know from the assignment description that you will be using regression trees and kNN regression models to predict the remaining time.\n",
    "\n",
    "Based on the above information, decide on which cleaning steps you will need to perform and implement them accordingly.\n"
   ]
  },
  {
   "cell_type": "code",
   "execution_count": 4,
   "id": "5d72470e",
   "metadata": {},
   "outputs": [],
   "source": [
    "# TODO: fill in the empty cells if necessary\n",
    "\n",
    "\n",
    "# TODO: perform data transformation steps if necessary\n",
    "\n",
    "\n",
    "def object_to_bool(df_row: pd.Series):\n",
    "    df_row.replace({'True': 1, 'False': 0, 'missing': np.nan}, inplace=True)\n",
    "for column in data_sepsis:\n",
    "    object_to_bool(data_sepsis[column])\n",
    "data_sepsis['Complete Timestamp'] = pd.to_datetime(data_sepsis['Complete Timestamp'])\n",
    "df_sorted = data_sepsis.sort_values(by=\"Complete Timestamp\")\n",
    "df_sorted.reset_index(inplace=True, drop=True)\n",
    "df_sorted.groupby(by=\"Case ID\")\n",
    "pd.set_option(\"display.max_columns\", None)\n",
    "df_sorted.head()\n",
    "from sklearn.preprocessing import MinMaxScaler\n",
    "from sklearn.preprocessing import OrdinalEncoder\n",
    "scaler = MinMaxScaler()\n",
    "encoder = OrdinalEncoder()\n",
    "df_analysis = df_sorted.copy()\n",
    "df_encoded = pd.get_dummies(df_analysis[['Diagnose', 'org:group']], prefix=['Diagnose=', 'org:group='])\n",
    "for col in df_encoded.columns:\n",
    "    df_encoded[col].replace({True: 1, False: 0}, inplace=True)\n",
    "df_analysis = pd.concat([df_analysis, df_encoded], axis=1)\n",
    "df_analysis['Complete Timestamp'] = encoder.fit_transform(df_analysis['Complete Timestamp'].values.reshape(-1, 1))\n",
    "scale_cols = ['CRP', 'LacticAcid', 'Leucocytes', 'duration', 'month', 'weekday', 'hour', 'remtime', 'elapsed', 'Complete Timestamp', \"Age\"]\n",
    "df_analysis[scale_cols] = scaler.fit_transform(df_analysis[scale_cols])\n",
    "df_analysis.drop(columns=['Diagnose', 'org:group'], inplace=True)\n"
   ]
  },
  {
   "cell_type": "markdown",
   "id": "suitable-imperial",
   "metadata": {},
   "source": [
    "### 1.3 Process Discovery and Visualization (Optional)\n",
    "\n",
    "This is an optional task to show you how process discovery and visualizaion can be deployed using the pm4py library. \n",
    "\n",
    "(*The following code requires the graphviz library to be installed. If you have issues with installing the graphviz, you may try to follow the instructions on Install GraphViz on the [pm4py](https://pm4py.fit.fraunhofer.de/install-page) install page*)\n",
    "\n",
    "The following code:\n",
    "- fill in the columns for case id, activity, and timestamps\n",
    "- convert the data set into an event log\n",
    "- discover a Directly-follows graph (DFG) and a process model for each event log. \n",
    "- you may use the discovered process model in your report\n",
    "\n"
   ]
  },
  {
   "cell_type": "code",
   "execution_count": 2,
   "id": "reflected-still",
   "metadata": {},
   "outputs": [
    {
     "data": {
      "image/png": "[encoded data removed]",
      "text/plain": [
       "<IPython.core.display.Image object>"
      ]
     },
     "metadata": {},
     "output_type": "display_data"
    },
    {
     "data": {
      "image/png": "[encoded data removed]",
      "text/plain": [
       "<IPython.core.display.Image object>"
      ]
     },
     "metadata": {},
     "output_type": "display_data"
    }
   ],
   "source": [
    "# Install pm4py library and graphviz library using pip install \n",
    "# !pip install -U pm4py\n",
    "# !pip install graphviz\n",
    "import pm4py\n",
    "\n",
    "# Fill in the column names of case id, activity, and time stamps\n",
    "column_Sepsis_CaseID = 'Case ID' \n",
    "column_Sepsis_Activity = 'Activity'\n",
    "column_Sepsis_Timestamps = 'Complete Timestamp'\n",
    "\n",
    "data_sepsis[column_Sepsis_CaseID] = data_sepsis[column_Sepsis_CaseID].astype(str)\n",
    "\n",
    "\n",
    "# Convert the data to an event log\n",
    "log_Sepsis = pm4py.format_dataframe(data_sepsis, case_id=column_Sepsis_CaseID, activity_key=column_Sepsis_Activity, timestamp_key=column_Sepsis_Timestamps)\n",
    "\n",
    "# Set the log to be the one that you are interested\n",
    "log = log_Sepsis\n",
    "\n",
    "# Create a Directly-Follows Graph (DFG) and plot this graph\n",
    "dfg, start_activities, end_activities = pm4py.discover_dfg(log)\n",
    "pm4py.view_dfg(dfg, start_activities, end_activities)\n",
    "\n",
    "# Discover a Process Model using Inductive Miner and plot this BPMN model\n",
    "process_tree = pm4py.discover_tree_inductive(log)\n",
    "bpmn_model = pm4py.convert_to_bpmn(process_tree)\n",
    "pm4py.view_bpmn(bpmn_model)\n"
   ]
  },
  {
   "cell_type": "markdown",
   "id": "sticky-distinction",
   "metadata": {},
   "source": [
    "## Task 2: Preprocessing and Trace Encoding\n",
    "\n",
    "\n",
    "### 2.1 Trace Encoding\n",
    "\n",
    "\n",
    "- Implement the last-2-state encoding for the data set \n",
    "- Implement the aggregated encoding for the data set (for example, see [1], Table 6)\n",
    "\n",
    "\n",
    "<span style=\"color:gray\">[1] Ilya Verenich, Marlon Dumas, Marcello La Rosa, Fabrizio Maria Maggi, Irene Teinemaa:\n",
    "Survey and Cross-benchmark Comparison of Remaining Time Prediction Methods in Business Process Monitoring. ACM Trans. Intell. Syst. Technol. 10(4): 34:1-34:34 (2019) [Section 1, 2, 4.1, 4.3, 4.6, 5.2, 5.3, 5.4, and 6] </span>\n",
    "\n",
    "These two encodings are discussed during lecture 7.\n",
    "In case you find difficult to implement the algorithms, you may also consider use the pandas functions to help you:\n",
    "- for the last-2-state encoding, check the pandas groupby.DataFrameGroupBy.shift and see the [answer on the stake overflow](https://stackoverflow.com/questions/53335567/use-pandas-shift-within-a-group)\n",
    "- for the aggregated encoding check the pandas groupby.DataFrameGroupBy and cumsum function and read the [examples and answers on the stake overflow](https://stackoverflow.com/a/49578219)"
   ]
  },
  {
   "cell_type": "code",
   "execution_count": 5,
   "id": "80aba4ee",
   "metadata": {},
   "outputs": [],
   "source": [
    "# TODO: Implement the function that returns the last-state encoding of a log\n",
    "def last_2_state_encoding(_data, columncase, columnactivity):\n",
    "    _data.groupby(by = columncase)\n",
    "    df_sorted = _data.copy()\n",
    "    df_sorted['prev_activity'] = np.where(df_sorted[columncase] == df_sorted[columncase].shift(1), df_sorted[columnactivity].shift(1), None)\n",
    "    df_sorted['prev_2_activity'] = np.where(df_sorted[columncase] == df_sorted[columncase].shift(2), df_sorted[columnactivity].shift(2), None)\n",
    "\n",
    "    return (df_sorted)\n",
    "\n",
    "data_Sepsis_ls = last_2_state_encoding(data_sepsis, \"Case ID\", \"Activity\")"
   ]
  },
  {
   "cell_type": "code",
   "execution_count": 6,
   "id": "5e4bb1ba",
   "metadata": {},
   "outputs": [
    {
     "data": {
      "text/html": [
       "<div>\n",
       "<style scoped>\n",
       "    .dataframe tbody tr th:only-of-type {\n",
       "        vertical-align: middle;\n",
       "    }\n",
       "\n",
       "    .dataframe tbody tr th {\n",
       "        vertical-align: top;\n",
       "    }\n",
       "\n",
       "    .dataframe thead th {\n",
       "        text-align: right;\n",
       "    }\n",
       "</style>\n",
       "<table border=\"1\" class=\"dataframe\">\n",
       "  <thead>\n",
       "    <tr style=\"text-align: right;\">\n",
       "      <th></th>\n",
       "      <th>DiagnosticArtAstrup</th>\n",
       "      <th>DiagnosticBlood</th>\n",
       "      <th>DiagnosticECG</th>\n",
       "      <th>DiagnosticIC</th>\n",
       "      <th>DiagnosticLacticAcid</th>\n",
       "      <th>DiagnosticLiquor</th>\n",
       "      <th>DiagnosticOther</th>\n",
       "      <th>DiagnosticSputum</th>\n",
       "      <th>DiagnosticUrinaryCulture</th>\n",
       "      <th>DiagnosticUrinarySediment</th>\n",
       "      <th>...</th>\n",
       "      <th>Leucocytes</th>\n",
       "      <th>Complete Timestamp</th>\n",
       "      <th>duration</th>\n",
       "      <th>month</th>\n",
       "      <th>weekday</th>\n",
       "      <th>hour</th>\n",
       "      <th>remtime</th>\n",
       "      <th>elapsed</th>\n",
       "      <th>prev_activity</th>\n",
       "      <th>prev_2_activity</th>\n",
       "    </tr>\n",
       "  </thead>\n",
       "  <tbody>\n",
       "    <tr>\n",
       "      <th>0</th>\n",
       "      <td>1.0</td>\n",
       "      <td>1.0</td>\n",
       "      <td>1.0</td>\n",
       "      <td>1.0</td>\n",
       "      <td>1.0</td>\n",
       "      <td>0.0</td>\n",
       "      <td>0.0</td>\n",
       "      <td>0.0</td>\n",
       "      <td>1.0</td>\n",
       "      <td>1.0</td>\n",
       "      <td>...</td>\n",
       "      <td>9.6</td>\n",
       "      <td>2014-10-22 19:34:00</td>\n",
       "      <td>0.383333</td>\n",
       "      <td>10</td>\n",
       "      <td>2</td>\n",
       "      <td>19</td>\n",
       "      <td>0.0</td>\n",
       "      <td>1099.0</td>\n",
       "      <td>None</td>\n",
       "      <td>None</td>\n",
       "    </tr>\n",
       "    <tr>\n",
       "      <th>1</th>\n",
       "      <td>1.0</td>\n",
       "      <td>1.0</td>\n",
       "      <td>1.0</td>\n",
       "      <td>1.0</td>\n",
       "      <td>1.0</td>\n",
       "      <td>0.0</td>\n",
       "      <td>0.0</td>\n",
       "      <td>0.0</td>\n",
       "      <td>1.0</td>\n",
       "      <td>1.0</td>\n",
       "      <td>...</td>\n",
       "      <td>9.6</td>\n",
       "      <td>2014-10-22 19:33:37</td>\n",
       "      <td>6.616667</td>\n",
       "      <td>10</td>\n",
       "      <td>2</td>\n",
       "      <td>19</td>\n",
       "      <td>23.0</td>\n",
       "      <td>1076.0</td>\n",
       "      <td>ER Sepsis Triage</td>\n",
       "      <td>None</td>\n",
       "    </tr>\n",
       "    <tr>\n",
       "      <th>2</th>\n",
       "      <td>1.0</td>\n",
       "      <td>1.0</td>\n",
       "      <td>1.0</td>\n",
       "      <td>1.0</td>\n",
       "      <td>1.0</td>\n",
       "      <td>0.0</td>\n",
       "      <td>0.0</td>\n",
       "      <td>0.0</td>\n",
       "      <td>1.0</td>\n",
       "      <td>1.0</td>\n",
       "      <td>...</td>\n",
       "      <td>9.6</td>\n",
       "      <td>2014-10-22 19:27:00</td>\n",
       "      <td>0.000000</td>\n",
       "      <td>10</td>\n",
       "      <td>2</td>\n",
       "      <td>19</td>\n",
       "      <td>420.0</td>\n",
       "      <td>679.0</td>\n",
       "      <td>ER Triage</td>\n",
       "      <td>ER Sepsis Triage</td>\n",
       "    </tr>\n",
       "    <tr>\n",
       "      <th>3</th>\n",
       "      <td>1.0</td>\n",
       "      <td>1.0</td>\n",
       "      <td>1.0</td>\n",
       "      <td>1.0</td>\n",
       "      <td>1.0</td>\n",
       "      <td>0.0</td>\n",
       "      <td>0.0</td>\n",
       "      <td>0.0</td>\n",
       "      <td>1.0</td>\n",
       "      <td>1.0</td>\n",
       "      <td>...</td>\n",
       "      <td>0.0</td>\n",
       "      <td>2014-10-22 19:27:00</td>\n",
       "      <td>0.000000</td>\n",
       "      <td>10</td>\n",
       "      <td>2</td>\n",
       "      <td>19</td>\n",
       "      <td>420.0</td>\n",
       "      <td>679.0</td>\n",
       "      <td>Leucocytes</td>\n",
       "      <td>ER Triage</td>\n",
       "    </tr>\n",
       "    <tr>\n",
       "      <th>4</th>\n",
       "      <td>1.0</td>\n",
       "      <td>1.0</td>\n",
       "      <td>1.0</td>\n",
       "      <td>1.0</td>\n",
       "      <td>1.0</td>\n",
       "      <td>0.0</td>\n",
       "      <td>0.0</td>\n",
       "      <td>0.0</td>\n",
       "      <td>1.0</td>\n",
       "      <td>1.0</td>\n",
       "      <td>...</td>\n",
       "      <td>0.0</td>\n",
       "      <td>2014-10-22 19:27:00</td>\n",
       "      <td>11.316667</td>\n",
       "      <td>10</td>\n",
       "      <td>2</td>\n",
       "      <td>19</td>\n",
       "      <td>420.0</td>\n",
       "      <td>679.0</td>\n",
       "      <td>CRP</td>\n",
       "      <td>Leucocytes</td>\n",
       "    </tr>\n",
       "    <tr>\n",
       "      <th>...</th>\n",
       "      <td>...</td>\n",
       "      <td>...</td>\n",
       "      <td>...</td>\n",
       "      <td>...</td>\n",
       "      <td>...</td>\n",
       "      <td>...</td>\n",
       "      <td>...</td>\n",
       "      <td>...</td>\n",
       "      <td>...</td>\n",
       "      <td>...</td>\n",
       "      <td>...</td>\n",
       "      <td>...</td>\n",
       "      <td>...</td>\n",
       "      <td>...</td>\n",
       "      <td>...</td>\n",
       "      <td>...</td>\n",
       "      <td>...</td>\n",
       "      <td>...</td>\n",
       "      <td>...</td>\n",
       "      <td>...</td>\n",
       "      <td>...</td>\n",
       "    </tr>\n",
       "    <tr>\n",
       "      <th>5171</th>\n",
       "      <td>0.0</td>\n",
       "      <td>1.0</td>\n",
       "      <td>1.0</td>\n",
       "      <td>1.0</td>\n",
       "      <td>1.0</td>\n",
       "      <td>0.0</td>\n",
       "      <td>0.0</td>\n",
       "      <td>0.0</td>\n",
       "      <td>1.0</td>\n",
       "      <td>1.0</td>\n",
       "      <td>...</td>\n",
       "      <td>12.5</td>\n",
       "      <td>2014-11-13 02:07:00</td>\n",
       "      <td>0.000000</td>\n",
       "      <td>11</td>\n",
       "      <td>3</td>\n",
       "      <td>2</td>\n",
       "      <td>0.0</td>\n",
       "      <td>1950.0</td>\n",
       "      <td>CRP</td>\n",
       "      <td>None</td>\n",
       "    </tr>\n",
       "    <tr>\n",
       "      <th>5172</th>\n",
       "      <td>0.0</td>\n",
       "      <td>1.0</td>\n",
       "      <td>1.0</td>\n",
       "      <td>1.0</td>\n",
       "      <td>1.0</td>\n",
       "      <td>0.0</td>\n",
       "      <td>0.0</td>\n",
       "      <td>0.0</td>\n",
       "      <td>1.0</td>\n",
       "      <td>1.0</td>\n",
       "      <td>...</td>\n",
       "      <td>0.0</td>\n",
       "      <td>2014-11-13 02:07:00</td>\n",
       "      <td>17.183333</td>\n",
       "      <td>11</td>\n",
       "      <td>3</td>\n",
       "      <td>2</td>\n",
       "      <td>0.0</td>\n",
       "      <td>1950.0</td>\n",
       "      <td>Leucocytes</td>\n",
       "      <td>CRP</td>\n",
       "    </tr>\n",
       "    <tr>\n",
       "      <th>5173</th>\n",
       "      <td>0.0</td>\n",
       "      <td>1.0</td>\n",
       "      <td>1.0</td>\n",
       "      <td>1.0</td>\n",
       "      <td>1.0</td>\n",
       "      <td>0.0</td>\n",
       "      <td>0.0</td>\n",
       "      <td>0.0</td>\n",
       "      <td>1.0</td>\n",
       "      <td>1.0</td>\n",
       "      <td>...</td>\n",
       "      <td>0.0</td>\n",
       "      <td>2014-11-13 01:49:49</td>\n",
       "      <td>0.200000</td>\n",
       "      <td>11</td>\n",
       "      <td>3</td>\n",
       "      <td>1</td>\n",
       "      <td>1031.0</td>\n",
       "      <td>919.0</td>\n",
       "      <td>LacticAcid</td>\n",
       "      <td>Leucocytes</td>\n",
       "    </tr>\n",
       "    <tr>\n",
       "      <th>5174</th>\n",
       "      <td>0.0</td>\n",
       "      <td>1.0</td>\n",
       "      <td>1.0</td>\n",
       "      <td>1.0</td>\n",
       "      <td>1.0</td>\n",
       "      <td>0.0</td>\n",
       "      <td>0.0</td>\n",
       "      <td>0.0</td>\n",
       "      <td>1.0</td>\n",
       "      <td>1.0</td>\n",
       "      <td>...</td>\n",
       "      <td>0.0</td>\n",
       "      <td>2014-11-13 01:49:37</td>\n",
       "      <td>15.116667</td>\n",
       "      <td>11</td>\n",
       "      <td>3</td>\n",
       "      <td>1</td>\n",
       "      <td>1043.0</td>\n",
       "      <td>907.0</td>\n",
       "      <td>ER Sepsis Triage</td>\n",
       "      <td>LacticAcid</td>\n",
       "    </tr>\n",
       "    <tr>\n",
       "      <th>5175</th>\n",
       "      <td>0.0</td>\n",
       "      <td>1.0</td>\n",
       "      <td>1.0</td>\n",
       "      <td>1.0</td>\n",
       "      <td>1.0</td>\n",
       "      <td>0.0</td>\n",
       "      <td>0.0</td>\n",
       "      <td>0.0</td>\n",
       "      <td>1.0</td>\n",
       "      <td>1.0</td>\n",
       "      <td>...</td>\n",
       "      <td>0.0</td>\n",
       "      <td>2014-11-13 01:34:30</td>\n",
       "      <td>0.000000</td>\n",
       "      <td>11</td>\n",
       "      <td>3</td>\n",
       "      <td>1</td>\n",
       "      <td>1950.0</td>\n",
       "      <td>0.0</td>\n",
       "      <td>ER Triage</td>\n",
       "      <td>ER Sepsis Triage</td>\n",
       "    </tr>\n",
       "  </tbody>\n",
       "</table>\n",
       "<p>5176 rows × 39 columns</p>\n",
       "</div>"
      ],
      "text/plain": [
       "      DiagnosticArtAstrup  DiagnosticBlood  DiagnosticECG  DiagnosticIC  \\\n",
       "0                     1.0              1.0            1.0           1.0   \n",
       "1                     1.0              1.0            1.0           1.0   \n",
       "2                     1.0              1.0            1.0           1.0   \n",
       "3                     1.0              1.0            1.0           1.0   \n",
       "4                     1.0              1.0            1.0           1.0   \n",
       "...                   ...              ...            ...           ...   \n",
       "5171                  0.0              1.0            1.0           1.0   \n",
       "5172                  0.0              1.0            1.0           1.0   \n",
       "5173                  0.0              1.0            1.0           1.0   \n",
       "5174                  0.0              1.0            1.0           1.0   \n",
       "5175                  0.0              1.0            1.0           1.0   \n",
       "\n",
       "      DiagnosticLacticAcid  DiagnosticLiquor  DiagnosticOther  \\\n",
       "0                      1.0               0.0              0.0   \n",
       "1                      1.0               0.0              0.0   \n",
       "2                      1.0               0.0              0.0   \n",
       "3                      1.0               0.0              0.0   \n",
       "4                      1.0               0.0              0.0   \n",
       "...                    ...               ...              ...   \n",
       "5171                   1.0               0.0              0.0   \n",
       "5172                   1.0               0.0              0.0   \n",
       "5173                   1.0               0.0              0.0   \n",
       "5174                   1.0               0.0              0.0   \n",
       "5175                   1.0               0.0              0.0   \n",
       "\n",
       "      DiagnosticSputum  DiagnosticUrinaryCulture  DiagnosticUrinarySediment  \\\n",
       "0                  0.0                       1.0                        1.0   \n",
       "1                  0.0                       1.0                        1.0   \n",
       "2                  0.0                       1.0                        1.0   \n",
       "3                  0.0                       1.0                        1.0   \n",
       "4                  0.0                       1.0                        1.0   \n",
       "...                ...                       ...                        ...   \n",
       "5171               0.0                       1.0                        1.0   \n",
       "5172               0.0                       1.0                        1.0   \n",
       "5173               0.0                       1.0                        1.0   \n",
       "5174               0.0                       1.0                        1.0   \n",
       "5175               0.0                       1.0                        1.0   \n",
       "\n",
       "      ...  Leucocytes   Complete Timestamp   duration  month  weekday  hour  \\\n",
       "0     ...         9.6  2014-10-22 19:34:00   0.383333     10        2    19   \n",
       "1     ...         9.6  2014-10-22 19:33:37   6.616667     10        2    19   \n",
       "2     ...         9.6  2014-10-22 19:27:00   0.000000     10        2    19   \n",
       "3     ...         0.0  2014-10-22 19:27:00   0.000000     10        2    19   \n",
       "4     ...         0.0  2014-10-22 19:27:00  11.316667     10        2    19   \n",
       "...   ...         ...                  ...        ...    ...      ...   ...   \n",
       "5171  ...        12.5  2014-11-13 02:07:00   0.000000     11        3     2   \n",
       "5172  ...         0.0  2014-11-13 02:07:00  17.183333     11        3     2   \n",
       "5173  ...         0.0  2014-11-13 01:49:49   0.200000     11        3     1   \n",
       "5174  ...         0.0  2014-11-13 01:49:37  15.116667     11        3     1   \n",
       "5175  ...         0.0  2014-11-13 01:34:30   0.000000     11        3     1   \n",
       "\n",
       "      remtime  elapsed     prev_activity   prev_2_activity  \n",
       "0         0.0   1099.0              None              None  \n",
       "1        23.0   1076.0  ER Sepsis Triage              None  \n",
       "2       420.0    679.0         ER Triage  ER Sepsis Triage  \n",
       "3       420.0    679.0        Leucocytes         ER Triage  \n",
       "4       420.0    679.0               CRP        Leucocytes  \n",
       "...       ...      ...               ...               ...  \n",
       "5171      0.0   1950.0               CRP              None  \n",
       "5172      0.0   1950.0        Leucocytes               CRP  \n",
       "5173   1031.0    919.0        LacticAcid        Leucocytes  \n",
       "5174   1043.0    907.0  ER Sepsis Triage        LacticAcid  \n",
       "5175   1950.0      0.0         ER Triage  ER Sepsis Triage  \n",
       "\n",
       "[5176 rows x 39 columns]"
      ]
     },
     "execution_count": 6,
     "metadata": {},
     "output_type": "execute_result"
    }
   ],
   "source": [
    "data_Sepsis_ls"
   ]
  },
  {
   "cell_type": "code",
   "execution_count": 8,
   "id": "dd54022f",
   "metadata": {},
   "outputs": [
    {
     "data": {
      "text/plain": [
       "Activity\n",
       "ER Registration     1033\n",
       "ER Triage           1006\n",
       "ER Sepsis Triage     993\n",
       "Leucocytes           779\n",
       "CRP                  764\n",
       "LacticAcid           601\n",
       "Name: count, dtype: int64"
      ]
     },
     "execution_count": 8,
     "metadata": {},
     "output_type": "execute_result"
    }
   ],
   "source": [
    "data_sepsis[\"Activity\"].value_counts()"
   ]
  },
  {
   "cell_type": "code",
   "execution_count": 9,
   "id": "christian-street",
   "metadata": {},
   "outputs": [],
   "source": [
    "# TODO: Implement the function that returns the aggregated state encoding of a log\n",
    "target_columns = ['act_CRP', 'act_ER Registration', 'act_ER Sepsis Triage', 'act_ER Triage', 'act_LacticAcid', 'act_Leucocytes']\n",
    "\n",
    "def agg_state_encoding(_data: pd.DataFrame):\n",
    "    df_aggstate = pd.get_dummies(_data, prefix='act', columns=[\"Activity\"])\n",
    "    df_aggstate[target_columns] = df_aggstate.groupby(by='Case ID')[target_columns].cumsum()\n",
    "\n",
    "    return(df_aggstate)\n",
    "\n",
    "\n",
    "# TODO: for each of the two data sets, create a last_2_state encoding and an aggregated state encoding\n",
    "data_Sepsis_ag = agg_state_encoding(data_sepsis)"
   ]
  },
  {
   "cell_type": "code",
   "execution_count": 11,
   "id": "4ec1ca47",
   "metadata": {},
   "outputs": [
    {
     "data": {
      "text/html": [
       "<div>\n",
       "<style scoped>\n",
       "    .dataframe tbody tr th:only-of-type {\n",
       "        vertical-align: middle;\n",
       "    }\n",
       "\n",
       "    .dataframe tbody tr th {\n",
       "        vertical-align: top;\n",
       "    }\n",
       "\n",
       "    .dataframe thead th {\n",
       "        text-align: right;\n",
       "    }\n",
       "</style>\n",
       "<table border=\"1\" class=\"dataframe\">\n",
       "  <thead>\n",
       "    <tr style=\"text-align: right;\">\n",
       "      <th></th>\n",
       "      <th>DiagnosticArtAstrup</th>\n",
       "      <th>DiagnosticBlood</th>\n",
       "      <th>DiagnosticECG</th>\n",
       "      <th>DiagnosticIC</th>\n",
       "      <th>DiagnosticLacticAcid</th>\n",
       "      <th>DiagnosticLiquor</th>\n",
       "      <th>DiagnosticOther</th>\n",
       "      <th>DiagnosticSputum</th>\n",
       "      <th>DiagnosticUrinaryCulture</th>\n",
       "      <th>DiagnosticUrinarySediment</th>\n",
       "      <th>...</th>\n",
       "      <th>weekday</th>\n",
       "      <th>hour</th>\n",
       "      <th>remtime</th>\n",
       "      <th>elapsed</th>\n",
       "      <th>act_CRP</th>\n",
       "      <th>act_ER Registration</th>\n",
       "      <th>act_ER Sepsis Triage</th>\n",
       "      <th>act_ER Triage</th>\n",
       "      <th>act_LacticAcid</th>\n",
       "      <th>act_Leucocytes</th>\n",
       "    </tr>\n",
       "  </thead>\n",
       "  <tbody>\n",
       "    <tr>\n",
       "      <th>0</th>\n",
       "      <td>1.0</td>\n",
       "      <td>1.0</td>\n",
       "      <td>1.0</td>\n",
       "      <td>1.0</td>\n",
       "      <td>1.0</td>\n",
       "      <td>0.0</td>\n",
       "      <td>0.0</td>\n",
       "      <td>0.0</td>\n",
       "      <td>1.0</td>\n",
       "      <td>1.0</td>\n",
       "      <td>...</td>\n",
       "      <td>2</td>\n",
       "      <td>19</td>\n",
       "      <td>0.0</td>\n",
       "      <td>1099.0</td>\n",
       "      <td>0</td>\n",
       "      <td>0</td>\n",
       "      <td>1</td>\n",
       "      <td>0</td>\n",
       "      <td>0</td>\n",
       "      <td>0</td>\n",
       "    </tr>\n",
       "    <tr>\n",
       "      <th>1</th>\n",
       "      <td>1.0</td>\n",
       "      <td>1.0</td>\n",
       "      <td>1.0</td>\n",
       "      <td>1.0</td>\n",
       "      <td>1.0</td>\n",
       "      <td>0.0</td>\n",
       "      <td>0.0</td>\n",
       "      <td>0.0</td>\n",
       "      <td>1.0</td>\n",
       "      <td>1.0</td>\n",
       "      <td>...</td>\n",
       "      <td>2</td>\n",
       "      <td>19</td>\n",
       "      <td>23.0</td>\n",
       "      <td>1076.0</td>\n",
       "      <td>0</td>\n",
       "      <td>0</td>\n",
       "      <td>1</td>\n",
       "      <td>1</td>\n",
       "      <td>0</td>\n",
       "      <td>0</td>\n",
       "    </tr>\n",
       "    <tr>\n",
       "      <th>2</th>\n",
       "      <td>1.0</td>\n",
       "      <td>1.0</td>\n",
       "      <td>1.0</td>\n",
       "      <td>1.0</td>\n",
       "      <td>1.0</td>\n",
       "      <td>0.0</td>\n",
       "      <td>0.0</td>\n",
       "      <td>0.0</td>\n",
       "      <td>1.0</td>\n",
       "      <td>1.0</td>\n",
       "      <td>...</td>\n",
       "      <td>2</td>\n",
       "      <td>19</td>\n",
       "      <td>420.0</td>\n",
       "      <td>679.0</td>\n",
       "      <td>0</td>\n",
       "      <td>0</td>\n",
       "      <td>1</td>\n",
       "      <td>1</td>\n",
       "      <td>0</td>\n",
       "      <td>1</td>\n",
       "    </tr>\n",
       "    <tr>\n",
       "      <th>3</th>\n",
       "      <td>1.0</td>\n",
       "      <td>1.0</td>\n",
       "      <td>1.0</td>\n",
       "      <td>1.0</td>\n",
       "      <td>1.0</td>\n",
       "      <td>0.0</td>\n",
       "      <td>0.0</td>\n",
       "      <td>0.0</td>\n",
       "      <td>1.0</td>\n",
       "      <td>1.0</td>\n",
       "      <td>...</td>\n",
       "      <td>2</td>\n",
       "      <td>19</td>\n",
       "      <td>420.0</td>\n",
       "      <td>679.0</td>\n",
       "      <td>1</td>\n",
       "      <td>0</td>\n",
       "      <td>1</td>\n",
       "      <td>1</td>\n",
       "      <td>0</td>\n",
       "      <td>1</td>\n",
       "    </tr>\n",
       "    <tr>\n",
       "      <th>4</th>\n",
       "      <td>1.0</td>\n",
       "      <td>1.0</td>\n",
       "      <td>1.0</td>\n",
       "      <td>1.0</td>\n",
       "      <td>1.0</td>\n",
       "      <td>0.0</td>\n",
       "      <td>0.0</td>\n",
       "      <td>0.0</td>\n",
       "      <td>1.0</td>\n",
       "      <td>1.0</td>\n",
       "      <td>...</td>\n",
       "      <td>2</td>\n",
       "      <td>19</td>\n",
       "      <td>420.0</td>\n",
       "      <td>679.0</td>\n",
       "      <td>1</td>\n",
       "      <td>0</td>\n",
       "      <td>1</td>\n",
       "      <td>1</td>\n",
       "      <td>1</td>\n",
       "      <td>1</td>\n",
       "    </tr>\n",
       "    <tr>\n",
       "      <th>5</th>\n",
       "      <td>1.0</td>\n",
       "      <td>1.0</td>\n",
       "      <td>1.0</td>\n",
       "      <td>1.0</td>\n",
       "      <td>1.0</td>\n",
       "      <td>0.0</td>\n",
       "      <td>0.0</td>\n",
       "      <td>0.0</td>\n",
       "      <td>1.0</td>\n",
       "      <td>1.0</td>\n",
       "      <td>...</td>\n",
       "      <td>2</td>\n",
       "      <td>19</td>\n",
       "      <td>1099.0</td>\n",
       "      <td>0.0</td>\n",
       "      <td>1</td>\n",
       "      <td>1</td>\n",
       "      <td>1</td>\n",
       "      <td>1</td>\n",
       "      <td>1</td>\n",
       "      <td>1</td>\n",
       "    </tr>\n",
       "    <tr>\n",
       "      <th>6</th>\n",
       "      <td>0.0</td>\n",
       "      <td>1.0</td>\n",
       "      <td>1.0</td>\n",
       "      <td>1.0</td>\n",
       "      <td>1.0</td>\n",
       "      <td>0.0</td>\n",
       "      <td>0.0</td>\n",
       "      <td>0.0</td>\n",
       "      <td>1.0</td>\n",
       "      <td>1.0</td>\n",
       "      <td>...</td>\n",
       "      <td>2</td>\n",
       "      <td>18</td>\n",
       "      <td>0.0</td>\n",
       "      <td>1516.0</td>\n",
       "      <td>1</td>\n",
       "      <td>0</td>\n",
       "      <td>0</td>\n",
       "      <td>0</td>\n",
       "      <td>0</td>\n",
       "      <td>0</td>\n",
       "    </tr>\n",
       "    <tr>\n",
       "      <th>7</th>\n",
       "      <td>0.0</td>\n",
       "      <td>1.0</td>\n",
       "      <td>1.0</td>\n",
       "      <td>1.0</td>\n",
       "      <td>1.0</td>\n",
       "      <td>0.0</td>\n",
       "      <td>0.0</td>\n",
       "      <td>0.0</td>\n",
       "      <td>1.0</td>\n",
       "      <td>1.0</td>\n",
       "      <td>...</td>\n",
       "      <td>2</td>\n",
       "      <td>18</td>\n",
       "      <td>0.0</td>\n",
       "      <td>1516.0</td>\n",
       "      <td>1</td>\n",
       "      <td>0</td>\n",
       "      <td>0</td>\n",
       "      <td>0</td>\n",
       "      <td>1</td>\n",
       "      <td>0</td>\n",
       "    </tr>\n",
       "    <tr>\n",
       "      <th>8</th>\n",
       "      <td>0.0</td>\n",
       "      <td>1.0</td>\n",
       "      <td>1.0</td>\n",
       "      <td>1.0</td>\n",
       "      <td>1.0</td>\n",
       "      <td>0.0</td>\n",
       "      <td>0.0</td>\n",
       "      <td>0.0</td>\n",
       "      <td>1.0</td>\n",
       "      <td>1.0</td>\n",
       "      <td>...</td>\n",
       "      <td>2</td>\n",
       "      <td>18</td>\n",
       "      <td>0.0</td>\n",
       "      <td>1516.0</td>\n",
       "      <td>1</td>\n",
       "      <td>0</td>\n",
       "      <td>0</td>\n",
       "      <td>0</td>\n",
       "      <td>1</td>\n",
       "      <td>1</td>\n",
       "    </tr>\n",
       "    <tr>\n",
       "      <th>9</th>\n",
       "      <td>0.0</td>\n",
       "      <td>1.0</td>\n",
       "      <td>1.0</td>\n",
       "      <td>1.0</td>\n",
       "      <td>1.0</td>\n",
       "      <td>0.0</td>\n",
       "      <td>0.0</td>\n",
       "      <td>0.0</td>\n",
       "      <td>1.0</td>\n",
       "      <td>1.0</td>\n",
       "      <td>...</td>\n",
       "      <td>2</td>\n",
       "      <td>18</td>\n",
       "      <td>1465.0</td>\n",
       "      <td>51.0</td>\n",
       "      <td>1</td>\n",
       "      <td>0</td>\n",
       "      <td>1</td>\n",
       "      <td>0</td>\n",
       "      <td>1</td>\n",
       "      <td>1</td>\n",
       "    </tr>\n",
       "    <tr>\n",
       "      <th>10</th>\n",
       "      <td>0.0</td>\n",
       "      <td>1.0</td>\n",
       "      <td>1.0</td>\n",
       "      <td>1.0</td>\n",
       "      <td>1.0</td>\n",
       "      <td>0.0</td>\n",
       "      <td>0.0</td>\n",
       "      <td>0.0</td>\n",
       "      <td>1.0</td>\n",
       "      <td>1.0</td>\n",
       "      <td>...</td>\n",
       "      <td>2</td>\n",
       "      <td>18</td>\n",
       "      <td>1475.0</td>\n",
       "      <td>41.0</td>\n",
       "      <td>1</td>\n",
       "      <td>0</td>\n",
       "      <td>1</td>\n",
       "      <td>1</td>\n",
       "      <td>1</td>\n",
       "      <td>1</td>\n",
       "    </tr>\n",
       "    <tr>\n",
       "      <th>11</th>\n",
       "      <td>0.0</td>\n",
       "      <td>1.0</td>\n",
       "      <td>1.0</td>\n",
       "      <td>1.0</td>\n",
       "      <td>1.0</td>\n",
       "      <td>0.0</td>\n",
       "      <td>0.0</td>\n",
       "      <td>0.0</td>\n",
       "      <td>1.0</td>\n",
       "      <td>1.0</td>\n",
       "      <td>...</td>\n",
       "      <td>2</td>\n",
       "      <td>18</td>\n",
       "      <td>1516.0</td>\n",
       "      <td>0.0</td>\n",
       "      <td>1</td>\n",
       "      <td>1</td>\n",
       "      <td>1</td>\n",
       "      <td>1</td>\n",
       "      <td>1</td>\n",
       "      <td>1</td>\n",
       "    </tr>\n",
       "    <tr>\n",
       "      <th>12</th>\n",
       "      <td>0.0</td>\n",
       "      <td>1.0</td>\n",
       "      <td>1.0</td>\n",
       "      <td>1.0</td>\n",
       "      <td>1.0</td>\n",
       "      <td>0.0</td>\n",
       "      <td>0.0</td>\n",
       "      <td>0.0</td>\n",
       "      <td>0.0</td>\n",
       "      <td>0.0</td>\n",
       "      <td>...</td>\n",
       "      <td>2</td>\n",
       "      <td>12</td>\n",
       "      <td>0.0</td>\n",
       "      <td>168.0</td>\n",
       "      <td>0</td>\n",
       "      <td>0</td>\n",
       "      <td>1</td>\n",
       "      <td>0</td>\n",
       "      <td>0</td>\n",
       "      <td>0</td>\n",
       "    </tr>\n",
       "    <tr>\n",
       "      <th>13</th>\n",
       "      <td>0.0</td>\n",
       "      <td>1.0</td>\n",
       "      <td>1.0</td>\n",
       "      <td>1.0</td>\n",
       "      <td>1.0</td>\n",
       "      <td>0.0</td>\n",
       "      <td>0.0</td>\n",
       "      <td>0.0</td>\n",
       "      <td>0.0</td>\n",
       "      <td>0.0</td>\n",
       "      <td>...</td>\n",
       "      <td>2</td>\n",
       "      <td>12</td>\n",
       "      <td>20.0</td>\n",
       "      <td>148.0</td>\n",
       "      <td>0</td>\n",
       "      <td>0</td>\n",
       "      <td>1</td>\n",
       "      <td>1</td>\n",
       "      <td>0</td>\n",
       "      <td>0</td>\n",
       "    </tr>\n",
       "    <tr>\n",
       "      <th>14</th>\n",
       "      <td>0.0</td>\n",
       "      <td>1.0</td>\n",
       "      <td>1.0</td>\n",
       "      <td>1.0</td>\n",
       "      <td>1.0</td>\n",
       "      <td>0.0</td>\n",
       "      <td>0.0</td>\n",
       "      <td>0.0</td>\n",
       "      <td>0.0</td>\n",
       "      <td>0.0</td>\n",
       "      <td>...</td>\n",
       "      <td>2</td>\n",
       "      <td>12</td>\n",
       "      <td>168.0</td>\n",
       "      <td>0.0</td>\n",
       "      <td>0</td>\n",
       "      <td>1</td>\n",
       "      <td>1</td>\n",
       "      <td>1</td>\n",
       "      <td>0</td>\n",
       "      <td>0</td>\n",
       "    </tr>\n",
       "    <tr>\n",
       "      <th>15</th>\n",
       "      <td>1.0</td>\n",
       "      <td>1.0</td>\n",
       "      <td>1.0</td>\n",
       "      <td>1.0</td>\n",
       "      <td>1.0</td>\n",
       "      <td>0.0</td>\n",
       "      <td>0.0</td>\n",
       "      <td>0.0</td>\n",
       "      <td>1.0</td>\n",
       "      <td>1.0</td>\n",
       "      <td>...</td>\n",
       "      <td>6</td>\n",
       "      <td>19</td>\n",
       "      <td>0.0</td>\n",
       "      <td>437.0</td>\n",
       "      <td>0</td>\n",
       "      <td>0</td>\n",
       "      <td>0</td>\n",
       "      <td>0</td>\n",
       "      <td>1</td>\n",
       "      <td>0</td>\n",
       "    </tr>\n",
       "    <tr>\n",
       "      <th>16</th>\n",
       "      <td>1.0</td>\n",
       "      <td>1.0</td>\n",
       "      <td>1.0</td>\n",
       "      <td>1.0</td>\n",
       "      <td>1.0</td>\n",
       "      <td>0.0</td>\n",
       "      <td>0.0</td>\n",
       "      <td>0.0</td>\n",
       "      <td>1.0</td>\n",
       "      <td>1.0</td>\n",
       "      <td>...</td>\n",
       "      <td>6</td>\n",
       "      <td>19</td>\n",
       "      <td>0.0</td>\n",
       "      <td>437.0</td>\n",
       "      <td>1</td>\n",
       "      <td>0</td>\n",
       "      <td>0</td>\n",
       "      <td>0</td>\n",
       "      <td>1</td>\n",
       "      <td>0</td>\n",
       "    </tr>\n",
       "    <tr>\n",
       "      <th>17</th>\n",
       "      <td>1.0</td>\n",
       "      <td>1.0</td>\n",
       "      <td>1.0</td>\n",
       "      <td>1.0</td>\n",
       "      <td>1.0</td>\n",
       "      <td>0.0</td>\n",
       "      <td>0.0</td>\n",
       "      <td>0.0</td>\n",
       "      <td>1.0</td>\n",
       "      <td>1.0</td>\n",
       "      <td>...</td>\n",
       "      <td>6</td>\n",
       "      <td>19</td>\n",
       "      <td>0.0</td>\n",
       "      <td>437.0</td>\n",
       "      <td>1</td>\n",
       "      <td>0</td>\n",
       "      <td>0</td>\n",
       "      <td>0</td>\n",
       "      <td>1</td>\n",
       "      <td>1</td>\n",
       "    </tr>\n",
       "    <tr>\n",
       "      <th>18</th>\n",
       "      <td>1.0</td>\n",
       "      <td>1.0</td>\n",
       "      <td>1.0</td>\n",
       "      <td>1.0</td>\n",
       "      <td>1.0</td>\n",
       "      <td>0.0</td>\n",
       "      <td>0.0</td>\n",
       "      <td>0.0</td>\n",
       "      <td>1.0</td>\n",
       "      <td>1.0</td>\n",
       "      <td>...</td>\n",
       "      <td>6</td>\n",
       "      <td>18</td>\n",
       "      <td>332.0</td>\n",
       "      <td>105.0</td>\n",
       "      <td>1</td>\n",
       "      <td>0</td>\n",
       "      <td>1</td>\n",
       "      <td>0</td>\n",
       "      <td>1</td>\n",
       "      <td>1</td>\n",
       "    </tr>\n",
       "    <tr>\n",
       "      <th>19</th>\n",
       "      <td>1.0</td>\n",
       "      <td>1.0</td>\n",
       "      <td>1.0</td>\n",
       "      <td>1.0</td>\n",
       "      <td>1.0</td>\n",
       "      <td>0.0</td>\n",
       "      <td>0.0</td>\n",
       "      <td>0.0</td>\n",
       "      <td>1.0</td>\n",
       "      <td>1.0</td>\n",
       "      <td>...</td>\n",
       "      <td>6</td>\n",
       "      <td>18</td>\n",
       "      <td>346.0</td>\n",
       "      <td>91.0</td>\n",
       "      <td>1</td>\n",
       "      <td>0</td>\n",
       "      <td>1</td>\n",
       "      <td>1</td>\n",
       "      <td>1</td>\n",
       "      <td>1</td>\n",
       "    </tr>\n",
       "  </tbody>\n",
       "</table>\n",
       "<p>20 rows × 42 columns</p>\n",
       "</div>"
      ],
      "text/plain": [
       "    DiagnosticArtAstrup  DiagnosticBlood  DiagnosticECG  DiagnosticIC  \\\n",
       "0                   1.0              1.0            1.0           1.0   \n",
       "1                   1.0              1.0            1.0           1.0   \n",
       "2                   1.0              1.0            1.0           1.0   \n",
       "3                   1.0              1.0            1.0           1.0   \n",
       "4                   1.0              1.0            1.0           1.0   \n",
       "5                   1.0              1.0            1.0           1.0   \n",
       "6                   0.0              1.0            1.0           1.0   \n",
       "7                   0.0              1.0            1.0           1.0   \n",
       "8                   0.0              1.0            1.0           1.0   \n",
       "9                   0.0              1.0            1.0           1.0   \n",
       "10                  0.0              1.0            1.0           1.0   \n",
       "11                  0.0              1.0            1.0           1.0   \n",
       "12                  0.0              1.0            1.0           1.0   \n",
       "13                  0.0              1.0            1.0           1.0   \n",
       "14                  0.0              1.0            1.0           1.0   \n",
       "15                  1.0              1.0            1.0           1.0   \n",
       "16                  1.0              1.0            1.0           1.0   \n",
       "17                  1.0              1.0            1.0           1.0   \n",
       "18                  1.0              1.0            1.0           1.0   \n",
       "19                  1.0              1.0            1.0           1.0   \n",
       "\n",
       "    DiagnosticLacticAcid  DiagnosticLiquor  DiagnosticOther  DiagnosticSputum  \\\n",
       "0                    1.0               0.0              0.0               0.0   \n",
       "1                    1.0               0.0              0.0               0.0   \n",
       "2                    1.0               0.0              0.0               0.0   \n",
       "3                    1.0               0.0              0.0               0.0   \n",
       "4                    1.0               0.0              0.0               0.0   \n",
       "5                    1.0               0.0              0.0               0.0   \n",
       "6                    1.0               0.0              0.0               0.0   \n",
       "7                    1.0               0.0              0.0               0.0   \n",
       "8                    1.0               0.0              0.0               0.0   \n",
       "9                    1.0               0.0              0.0               0.0   \n",
       "10                   1.0               0.0              0.0               0.0   \n",
       "11                   1.0               0.0              0.0               0.0   \n",
       "12                   1.0               0.0              0.0               0.0   \n",
       "13                   1.0               0.0              0.0               0.0   \n",
       "14                   1.0               0.0              0.0               0.0   \n",
       "15                   1.0               0.0              0.0               0.0   \n",
       "16                   1.0               0.0              0.0               0.0   \n",
       "17                   1.0               0.0              0.0               0.0   \n",
       "18                   1.0               0.0              0.0               0.0   \n",
       "19                   1.0               0.0              0.0               0.0   \n",
       "\n",
       "    DiagnosticUrinaryCulture  DiagnosticUrinarySediment  ...  weekday  hour  \\\n",
       "0                        1.0                        1.0  ...        2    19   \n",
       "1                        1.0                        1.0  ...        2    19   \n",
       "2                        1.0                        1.0  ...        2    19   \n",
       "3                        1.0                        1.0  ...        2    19   \n",
       "4                        1.0                        1.0  ...        2    19   \n",
       "5                        1.0                        1.0  ...        2    19   \n",
       "6                        1.0                        1.0  ...        2    18   \n",
       "7                        1.0                        1.0  ...        2    18   \n",
       "8                        1.0                        1.0  ...        2    18   \n",
       "9                        1.0                        1.0  ...        2    18   \n",
       "10                       1.0                        1.0  ...        2    18   \n",
       "11                       1.0                        1.0  ...        2    18   \n",
       "12                       0.0                        0.0  ...        2    12   \n",
       "13                       0.0                        0.0  ...        2    12   \n",
       "14                       0.0                        0.0  ...        2    12   \n",
       "15                       1.0                        1.0  ...        6    19   \n",
       "16                       1.0                        1.0  ...        6    19   \n",
       "17                       1.0                        1.0  ...        6    19   \n",
       "18                       1.0                        1.0  ...        6    18   \n",
       "19                       1.0                        1.0  ...        6    18   \n",
       "\n",
       "    remtime  elapsed  act_CRP  act_ER Registration  act_ER Sepsis Triage  \\\n",
       "0       0.0   1099.0        0                    0                     1   \n",
       "1      23.0   1076.0        0                    0                     1   \n",
       "2     420.0    679.0        0                    0                     1   \n",
       "3     420.0    679.0        1                    0                     1   \n",
       "4     420.0    679.0        1                    0                     1   \n",
       "5    1099.0      0.0        1                    1                     1   \n",
       "6       0.0   1516.0        1                    0                     0   \n",
       "7       0.0   1516.0        1                    0                     0   \n",
       "8       0.0   1516.0        1                    0                     0   \n",
       "9    1465.0     51.0        1                    0                     1   \n",
       "10   1475.0     41.0        1                    0                     1   \n",
       "11   1516.0      0.0        1                    1                     1   \n",
       "12      0.0    168.0        0                    0                     1   \n",
       "13     20.0    148.0        0                    0                     1   \n",
       "14    168.0      0.0        0                    1                     1   \n",
       "15      0.0    437.0        0                    0                     0   \n",
       "16      0.0    437.0        1                    0                     0   \n",
       "17      0.0    437.0        1                    0                     0   \n",
       "18    332.0    105.0        1                    0                     1   \n",
       "19    346.0     91.0        1                    0                     1   \n",
       "\n",
       "    act_ER Triage  act_LacticAcid  act_Leucocytes  \n",
       "0               0               0               0  \n",
       "1               1               0               0  \n",
       "2               1               0               1  \n",
       "3               1               0               1  \n",
       "4               1               1               1  \n",
       "5               1               1               1  \n",
       "6               0               0               0  \n",
       "7               0               1               0  \n",
       "8               0               1               1  \n",
       "9               0               1               1  \n",
       "10              1               1               1  \n",
       "11              1               1               1  \n",
       "12              0               0               0  \n",
       "13              1               0               0  \n",
       "14              1               0               0  \n",
       "15              0               1               0  \n",
       "16              0               1               0  \n",
       "17              0               1               1  \n",
       "18              0               1               1  \n",
       "19              1               1               1  \n",
       "\n",
       "[20 rows x 42 columns]"
      ]
     },
     "execution_count": 11,
     "metadata": {},
     "output_type": "execute_result"
    }
   ],
   "source": [
    "data_Sepsis_ag.head(20)"
   ]
  },
  {
   "cell_type": "code",
   "execution_count": 109,
   "metadata": {},
   "outputs": [
    {
     "name": "stdout",
     "output_type": "stream",
     "text": [
      "DiagnosticArtAstrup\n",
      "DiagnosticBlood\n",
      "DiagnosticECG\n",
      "DiagnosticIC\n",
      "DiagnosticLacticAcid\n",
      "DiagnosticLiquor\n",
      "DiagnosticOther\n",
      "DiagnosticSputum\n",
      "DiagnosticUrinaryCulture\n",
      "DiagnosticUrinarySediment\n",
      "DiagnosticXthorax\n",
      "DisfuncOrg\n",
      "Hypotensie\n",
      "Hypoxie\n",
      "InfectionSuspected\n",
      "Infusion\n",
      "Oligurie\n",
      "SIRSCritHeartRate\n",
      "SIRSCritLeucos\n",
      "SIRSCritTachypnea\n",
      "SIRSCritTemperature\n",
      "SIRSCriteria2OrMore\n",
      "Age\n",
      "Case ID\n",
      "Diagnose\n",
      "org:group\n",
      "CRP\n",
      "LacticAcid\n",
      "Leucocytes\n",
      "Complete Timestamp\n",
      "duration\n",
      "month\n",
      "weekday\n",
      "hour\n",
      "remtime\n",
      "elapsed\n",
      "Activity_CRP\n",
      "Activity_ER Registration\n",
      "Activity_ER Sepsis Triage\n",
      "Activity_ER Triage\n",
      "Activity_LacticAcid\n",
      "Activity_Leucocytes\n"
     ]
    }
   ],
   "source": [
    "\n",
    "enc_data = pd.get_dummies(data_sepsis, columns = [\"Activity\"])\n",
    "for col in enc_data.columns:\n",
    "    print(col)"
   ]
  },
  {
   "cell_type": "markdown",
   "id": "rolled-complaint",
   "metadata": {},
   "source": [
    "### 2.2 Create Training and Held-out test data sets\n",
    "\n",
    "\n",
    "Create a training and a held-out test data set. *Later in Task 3-4, the training data will be used to perform cross-validation. The held-out test data will be used to evaluate the performance of the selected models.*\n",
    "\n",
    "Choose the size of your test data. Furthermore, how did you split the data? Motivate your choice when you discuss the experiment setup in your report. \n",
    "\n",
    "\n",
    "\n",
    "Tips: *You may consider reuse some of your code from Assignment 1 Task 1.2*"
   ]
  },
  {
   "cell_type": "code",
   "execution_count": null,
   "id": "da18ed6b",
   "metadata": {},
   "outputs": [],
   "source": [
    "# Create training data and held-out test data for *data_Sepsis_ag*\n",
    "X = data_Sepsis_ag.drop(columns=['remtime', 'Case ID'])\n",
    "y = data_Sepsis_ag['remtime']\n",
    "\n",
    "X_agtrain, X_agtest, y_agtrain, y_agtest = train_test_split(X, y, test_size=0.30, random_state=6, shuffle=True)"
   ]
  },
  {
   "cell_type": "markdown",
   "id": "chief-quantum",
   "metadata": {},
   "source": [
    "## Task 3: Predicting Case Remaining Time - Regression Trees\n",
    "\n",
    "\n",
    "In this task, you will use the regression tree (or random forest regression if you prefer) to learn a regression model to predict case remaining time. Very similar to how you have trained a classification model in Assignment 1, now perform the following steps to train a regression model. \n",
    "\n",
    "i) use the default values for the parameters to get a [Regression Tree](https://scikit-learn.org/stable/modules/generated/sklearn.tree.DecisionTreeRegressor.html#sklearn.tree.DecisionTreeRegressor) (or a [Random Forest Regressor](https://scikit-learn.org/stable/modules/generated/sklearn.ensemble.RandomForestRegressor.html)) running on the training data. (*Optional: visualize the tree, the feature importance, and compute the error measures to get an impression of the performance of the model*).\n",
    "\n",
    "ii) use 5-fold cross-validation to determine a possibly better choice for the two parameters *min_samples_leaf* and *max_depth*\n",
    "    \n",
    "iii) create 2D or 3D plot that shows how the selected parameters affect the performance. \n",
    "\n",
    "iv) select the best-performing regression tree (or forest), i.e., the one that achieved the lowest cross-validated errors, and report all the error measures (MAE, MSE, RMSE, R^2) of the fitted model on the held-out test data. \n",
    "\n",
    "    \n",
    "#### TIPS:\n",
    "You may consider reuse the some of your code of Assignment 1 or use the [GridSearchCV](https://scikit-learn.org/stable/modules/generated/sklearn.model_selection.GridSearchCV.html) class (see an [example](https://www.dezyre.com/recipes/find-optimal-parameters-using-gridsearchcv-for-regression), but be aware that GridSearchSV does not return MAE or the other error measures (e.g., MSE, RMSE, R^2), you will need to update the scoring function)\n",
    "\n"
   ]
  },
  {
   "cell_type": "code",
   "execution_count": null,
   "id": "raising-saturn",
   "metadata": {},
   "outputs": [],
   "source": [
    "# TODO: import packages\n",
    "from sklearn.tree import DecisionTreeRegressor\n",
    "# from sklearn.ensemble import RandomForestRegressor\n",
    "\n",
    "# TODO: using *data_Sepsis_ls* and test the default regression tree model (or the random forest regressor) \n",
    "\n",
    "# TODO: set the search space of the parameters *min_samples_leaf* and *max_depth*\n",
    "\n",
    "# TODO: create 5-fold cross-validation\n",
    "\n",
    "# TODO: learn an optimal regression tree model (random forest regressor)\n",
    "\n",
    "# TODO: create 2D or 3D plot that shows how the selected parameter values affect the MAE (or RMSE). \n",
    "\n",
    "# TODO: compute the performance of the model on your held-out test data\n"
   ]
  },
  {
   "cell_type": "code",
   "execution_count": null,
   "id": "8f111c3b",
   "metadata": {},
   "outputs": [],
   "source": [
    "# TODO: repeat the above steps for *data_Sepsis_ag*\n",
    "\n"
   ]
  },
  {
   "cell_type": "markdown",
   "id": "87025bb9",
   "metadata": {},
   "source": [
    "## Task 4. Predicting Case Remaining Time - kNN Regression\n",
    "\n",
    "\n",
    "In this task, you will use the kNN Regression to learn a regression model to predict case remaining time. The same as task 3, now perform the following steps to train a regression model. \n",
    "\n",
    "i) use the default values for the parameters to get a [kNN Regression](https://scikit-learn.org/stable/modules/generated/sklearn.neighbors.KNeighborsRegressor.html#sklearn.neighbors.KNeighborsRegressor) running on the training data. (*Optional: compute the error measures to get an impression of the performance of the model).\n",
    "\n",
    "ii) use 5-fold cross-validation to determine a possibly better choice for the two parameters *n_neighbors* and *weights* \n",
    "    \n",
    "iii) create 2D or 3D plot that shows how the selected parameters affect the performance. \n",
    "\n",
    "iv) select the best-performing kNN, i.e., the one that achieved the lowest cross-validated errors, and report all the error measures (MAE, MSE, RMSE, R^2) of the fitted model on the held-out test data. \n",
    "\n",
    "    \n",
    "#### TIPS:\n",
    "The same here, you may consider reuse the some of your code of Assignment 1 or use the [GridSearchCV](https://scikit-learn.org/stable/modules/generated/sklearn.model_selection.GridSearchCV.html) class (see an [example](https://www.dezyre.com/recipes/find-optimal-parameters-using-gridsearchcv-for-regression), but be aware that GridSearchSV does not return MAE or the other error measures (e.g., MSE, RMSE, R^2), you will need to update the scoring function)\n",
    "\n",
    "\n",
    "\n",
    "\n",
    "\n"
   ]
  },
  {
   "cell_type": "code",
   "execution_count": 23,
   "id": "f9e67e87",
   "metadata": {},
   "outputs": [],
   "source": [
    "knr_results = pd.DataFrame(columns = [\"Encoding\", \"Model\", \"n_neighbors\", \"weights\", \"MAE\", \"MSE\", \"RMSE\", \"R2\"])"
   ]
  },
  {
   "cell_type": "code",
   "execution_count": 24,
   "id": "d94101ad",
   "metadata": {},
   "outputs": [],
   "source": [
    "# Preprocessing for KNN \n",
    "# One-hot encoding the last-2-state encoded data\n",
    "\n",
    "ohe_cols = [\"prev_activity\", \"prev_2_activity\", \"Activity\", \"org:group\", \"Diagnose\"]\n",
    "encoded_ls_sepsis = pd.get_dummies(data_Sepsis_ls, columns = ohe_cols)\n",
    "for column in encoded_ls_sepsis:\n",
    "    encoded_ls_sepsis[column].replace({True: 1, \"True\": 1, False: 0, \"False\": 0, 'missing': np.nan}, inplace=True)\n",
    "\n",
    "# KNN can not handle NaN, so we drop NaN values\n",
    "encoded_ls_sepsis = encoded_ls_sepsis.dropna()\n"
   ]
  },
  {
   "cell_type": "code",
   "execution_count": 25,
   "id": "5ebc5c72",
   "metadata": {},
   "outputs": [],
   "source": [
    "# Normalize data\n",
    "\n",
    "# Create training data and held-out test data for *data_Sepsis_ls*\n",
    "X = encoded_ls_sepsis.drop(columns=['remtime', 'Case ID', \"Complete Timestamp\"])\n",
    "scaler = MinMaxScaler()\n",
    "X[X.columns] = scaler.fit_transform(X[X.columns])\n",
    "y = encoded_ls_sepsis['remtime']\n",
    "\n",
    "X_lstrain, X_lstest, y_lstrain, y_lstest = train_test_split(X, y, test_size=0.30, random_state=6, shuffle=True)"
   ]
  },
  {
   "cell_type": "code",
   "execution_count": 26,
   "id": "af5922c6",
   "metadata": {},
   "outputs": [
    {
     "data": {
      "text/plain": [
       "DiagnosticArtAstrup  DiagnosticBlood  DiagnosticECG  DiagnosticIC  DiagnosticLacticAcid  DiagnosticLiquor  DiagnosticOther  DiagnosticSputum  DiagnosticUrinaryCulture  DiagnosticUrinarySediment  DiagnosticXthorax  DisfuncOrg  Hypotensie  Hypoxie  InfectionSuspected  Infusion  Oligurie  SIRSCritHeartRate  SIRSCritLeucos  SIRSCritTachypnea  SIRSCritTemperature  SIRSCriteria2OrMore  Age       CRP       LacticAcid  Leucocytes  duration  month     weekday   hour      elapsed   prev_activity_CRP  prev_activity_ER Registration  prev_activity_ER Sepsis Triage  prev_activity_ER Triage  prev_activity_LacticAcid  prev_activity_Leucocytes  prev_2_activity_CRP  prev_2_activity_ER Registration  prev_2_activity_ER Sepsis Triage  prev_2_activity_ER Triage  prev_2_activity_LacticAcid  prev_2_activity_Leucocytes  Activity_CRP  Activity_ER Registration  Activity_ER Sepsis Triage  Activity_ER Triage  Activity_LacticAcid  Activity_Leucocytes  org:group_A  org:group_B  org:group_C  org:group_L  Diagnose_A  Diagnose_AA  Diagnose_AB  Diagnose_AC  Diagnose_B  Diagnose_BA  Diagnose_BB  Diagnose_C  Diagnose_CA  Diagnose_D  Diagnose_E  Diagnose_EA  Diagnose_EB  Diagnose_ED  Diagnose_F  Diagnose_FA  Diagnose_G  Diagnose_GA  Diagnose_GB  Diagnose_H  Diagnose_HA  Diagnose_HD  Diagnose_IC  Diagnose_J  Diagnose_JC  Diagnose_K  Diagnose_KA  Diagnose_LA  Diagnose_LC  Diagnose_M  Diagnose_MA  Diagnose_MD  Diagnose_N  Diagnose_OB  Diagnose_P  Diagnose_PC  Diagnose_Q  Diagnose_R  Diagnose_RB  Diagnose_RC  Diagnose_S  Diagnose_SB  Diagnose_T  Diagnose_TB  Diagnose_U  Diagnose_UA  Diagnose_UC  Diagnose_VA  Diagnose_VB  Diagnose_W  Diagnose_XA  Diagnose_Y  Diagnose_YA  Diagnose_Z  Diagnose_ZA  Diagnose_other\n",
       "0.0                  0.0              0.0            0.0           0.0                   0.0               0.0              0.0               0.0                       0.0                        0.0                0.0         0.0         0.0      0.0                 0.0       0.0       0.0                0.0             0.0                0.0                  0.0                  0.000000  0.000000  0.000000    0.000000    0.000000  0.000000  0.500000  0.086957  0.000000  0.0                0.0                            0.0                             1.0                      0.0                       0.0                       1.0                  0.0                              0.0                               0.0                        0.0                         0.0                         0.0           1.0                       0.0                        0.0                 0.0                  0.0                  1.0          0.0          0.0          0.0          0.0         0.0          0.0          0.0          0.0         0.0          0.0          0.0         0.0          0.0         0.0         0.0          0.0          0.0          0.0         0.0          0.0         0.0          0.0          0.0         0.0          0.0          0.0          0.0         0.0          0.0         0.0          0.0          0.0          0.0         0.0          0.0          0.0         0.0          0.0         0.0          0.0         0.0         0.0          0.0          0.0         0.0          0.0         0.0          0.0         0.0          0.0          0.0          0.0          0.0         0.0          0.0         0.0          0.0         0.0          0.0               1\n",
       "                     1.0              1.0            1.0           1.0                   0.0               0.0              0.0               1.0                       1.0                        1.0                0.0         0.0         0.0      1.0                 1.0       0.0       1.0                0.0             1.0                1.0                  1.0                  1.000000  0.000000  0.000000    0.000000    0.000000  0.181818  0.166667  0.000000  0.000000  0.0                0.0                            0.0                             1.0                      0.0                       0.0                       0.0                  0.0                              1.0                               0.0                        0.0                         0.0                         0.0           1.0                       0.0                        0.0                 0.0                  0.0                  1.0          0.0          0.0          0.0          0.0         0.0          0.0          0.0          0.0         0.0          0.0          0.0         0.0          0.0         0.0         0.0          0.0          0.0          0.0         0.0          0.0         0.0          0.0          0.0         0.0          0.0          0.0          0.0         0.0          0.0         0.0          0.0          0.0          0.0         0.0          0.0          0.0         0.0          0.0         0.0          0.0         0.0         0.0          0.0          0.0         0.0          0.0         0.0          0.0         0.0          0.0          0.0          0.0          0.0         0.0          0.0         0.0          0.0         0.0          1.0               1\n",
       "                                                                                                                                                                                                                                                                                                                                                                                                                                                     0.818182  0.000000  0.826087  0.000000  0.0                0.0                            0.0                             1.0                      0.0                       0.0                       0.0                  0.0                              0.0                               0.0                        1.0                         0.0                         0.0           1.0                       0.0                        0.0                 0.0                  0.0                  1.0          0.0          0.0          0.0          0.0         0.0          0.0          0.0          0.0         0.0          0.0          0.0         0.0          0.0         0.0         0.0          0.0          0.0          0.0         0.0          0.0         0.0          0.0          0.0         0.0          0.0          0.0          0.0         0.0          1.0         0.0          0.0          0.0          0.0         0.0          0.0          0.0         0.0          0.0         0.0          0.0         0.0         0.0          0.0          0.0         0.0          0.0         0.0          0.0         0.0          0.0          0.0          0.0          0.0         0.0          0.0         0.0          0.0         0.0          0.0               1\n",
       "                                                                                                                                                                                                                                                                                                                                                                                                                                                     0.636364  0.833333  0.826087  0.000000  0.0                0.0                            0.0                             1.0                      0.0                       0.0                       0.0                  0.0                              1.0                               0.0                        0.0                         0.0                         0.0           1.0                       0.0                        0.0                 0.0                  0.0                  1.0          0.0          0.0          0.0          0.0         0.0          0.0          0.0          0.0         0.0          0.0          0.0         0.0          0.0         0.0         0.0          0.0          0.0          0.0         0.0          0.0         0.0          0.0          0.0         0.0          0.0          0.0          0.0         0.0          0.0         0.0          0.0          0.0          0.0         0.0          0.0          0.0         0.0          0.0         0.0          0.0         0.0         0.0          0.0          0.0         0.0          0.0         0.0          0.0         0.0          0.0          0.0          0.0          1.0         0.0          0.0         0.0          0.0         0.0          0.0               1\n",
       "                                                                                                                                                                                                                                                                                                                                                                                                                                                               0.166667  0.956522  0.000000  0.0                0.0                            0.0                             1.0                      0.0                       0.0                       0.0                  0.0                              1.0                               0.0                        0.0                         0.0                         0.0           1.0                       0.0                        0.0                 0.0                  0.0                  1.0          0.0          0.0          0.0          0.0         0.0          0.0          0.0          0.0         0.0          0.0          0.0         0.0          0.0         0.0         0.0          0.0          0.0          0.0         0.0          0.0         0.0          0.0          0.0         0.0          0.0          0.0          0.0         0.0          0.0         0.0          0.0          0.0          1.0         0.0          0.0          0.0         0.0          0.0         0.0          0.0         0.0         0.0          0.0          0.0         0.0          0.0         0.0          0.0         0.0          0.0          0.0          0.0          0.0         0.0          0.0         0.0          0.0         0.0          0.0               1\n",
       "                                                                                                                                                                                                                                                                                                                                                                                                                                                                                                                                                                                                                                                                                                                                                                                                                                                                                                                                                                                                                                                                                                                                                                                                                                                                                                                                                                                                                                                                                                                                                                                                                                                                                                                                                                   ..\n",
       "                                                                                                                                              0.0                       0.0                        1.0                0.0         0.0         0.0      1.0                 1.0       0.0       1.0                0.0             0.0                1.0                  1.0                  0.428571  0.593368  0.000000    0.035787    0.225143  1.000000  0.333333  0.913043  0.221162  0.0                0.0                            0.0                             1.0                      0.0                       0.0                       0.0                  0.0                              1.0                               0.0                        0.0                         0.0                         0.0           1.0                       0.0                        0.0                 0.0                  0.0                  1.0          0.0          0.0          0.0          0.0         0.0          0.0          0.0          0.0         0.0          0.0          0.0         0.0          0.0         0.0         0.0          1.0          0.0          0.0         0.0          0.0         0.0          0.0          0.0         0.0          0.0          0.0          0.0         0.0          0.0         0.0          0.0          0.0          0.0         0.0          0.0          0.0         0.0          0.0         0.0          0.0         0.0         0.0          0.0          0.0         0.0          0.0         0.0          0.0         0.0          0.0          0.0          0.0          0.0         0.0          0.0         0.0          0.0         0.0          0.0               1\n",
       "                                                                                                                                                                                                                                                                                                                                                                                                                                           0.041386  1.000000  0.333333  0.956522  0.261817  0.0                0.0                            1.0                             0.0                      0.0                       0.0                       0.0                  0.0                              0.0                               0.0                        0.0                         0.0                         0.0           0.0                       0.0                        1.0                 0.0                  0.0                  0.0          0.0          1.0          0.0          0.0         0.0          0.0          0.0          0.0         0.0          0.0          0.0         0.0          0.0         0.0         0.0          1.0          0.0          0.0         0.0          0.0         0.0          0.0          0.0         0.0          0.0          0.0          0.0         0.0          0.0         0.0          0.0          0.0          0.0         0.0          0.0          0.0         0.0          0.0         0.0          0.0         0.0         0.0          0.0          0.0         0.0          0.0         0.0          0.0         0.0          0.0          0.0          0.0          0.0         0.0          0.0         0.0          0.0         0.0          0.0               1\n",
       "                                                                                                                                                                                                                                                                                                                                                                                                                                           0.000277  1.000000  0.333333  0.956522  0.262089  0.0                0.0                            0.0                             0.0                      0.0                       0.0                       0.0                  0.0                              0.0                               0.0                        0.0                         0.0                         0.0           0.0                       1.0                        0.0                 0.0                  0.0                  1.0          0.0          0.0          0.0          0.0         0.0          0.0          0.0          0.0         0.0          0.0          0.0         0.0          0.0         0.0         0.0          1.0          0.0          0.0         0.0          0.0         0.0          0.0          0.0         0.0          0.0          0.0          0.0         0.0          0.0         0.0          0.0          0.0          0.0         0.0          0.0          0.0         0.0          0.0         0.0          0.0         0.0         0.0          0.0          0.0         0.0          0.0         0.0          0.0         0.0          0.0          0.0          0.0          0.0         0.0          0.0         0.0          0.0         0.0          0.0               1\n",
       "                                                                                                                                                                                                                                                                                                                                                                                                         0.031414  0.109091    0.081026    0.000000  0.545455  0.333333  0.347826  0.034147  0.0                0.0                            0.0                             0.0                      0.0                       0.0                       0.0                  0.0                              0.0                               0.0                        0.0                         0.0                         1.0           0.0                       0.0                        0.0                 0.0                  0.0                  0.0          1.0          0.0          0.0          0.0         0.0          0.0          0.0          0.0         0.0          0.0          1.0         0.0          0.0         0.0         0.0          0.0          0.0          0.0         0.0          0.0         0.0          0.0          0.0         0.0          0.0          0.0          0.0         0.0          0.0         0.0          0.0          0.0          0.0         0.0          0.0          0.0         0.0          0.0         0.0          0.0         0.0         0.0          0.0          0.0         0.0          0.0         0.0          0.0         0.0          0.0          0.0          0.0          0.0         0.0          0.0         0.0          0.0         0.0          0.0               1\n",
       "1.0                  1.0              1.0            1.0           1.0                   1.0               0.0              0.0               1.0                       1.0                        1.0                0.0         0.0         0.0      1.0                 1.0       0.0       1.0                0.0             1.0                1.0                  1.0                  0.857143  0.087260  0.154545    0.039163    0.000000  0.818182  0.666667  0.173913  0.024062  0.0                0.0                            0.0                             0.0                      0.0                       1.0                       0.0                  0.0                              0.0                               0.0                        0.0                         0.0                         0.0           0.0                       0.0                        0.0                 1.0                  0.0                  0.0          1.0          0.0          0.0          0.0         0.0          0.0          0.0          0.0         0.0          0.0          0.0         0.0          0.0         0.0         0.0          0.0          0.0          0.0         0.0          0.0         0.0          0.0          0.0         0.0          0.0          0.0          0.0         0.0          0.0         0.0          0.0          0.0          0.0         0.0          0.0          0.0         0.0          0.0         0.0          0.0         0.0         0.0          0.0          0.0         0.0          0.0         0.0          1.0         0.0          0.0          0.0          0.0          0.0         0.0          0.0         0.0          0.0         0.0          0.0               1\n",
       "Name: count, Length: 5107, dtype: int64"
      ]
     },
     "execution_count": 26,
     "metadata": {},
     "output_type": "execute_result"
    }
   ],
   "source": [
    "X.value_counts()"
   ]
  },
  {
   "cell_type": "code",
   "execution_count": 29,
   "id": "1831a600",
   "metadata": {},
   "outputs": [
    {
     "name": "stderr",
     "output_type": "stream",
     "text": [
      "c:\\Users\\danie\\AppData\\Local\\Programs\\Python\\Python39\\lib\\site-packages\\joblib\\externals\\loky\\backend\\context.py:110: UserWarning: Could not find the number of physical cores for the following reason:\n",
      "found 0 physical cores < 1\n",
      "Returning the number of logical cores instead. You can silence this warning by setting LOKY_MAX_CPU_COUNT to the number of cores you want to use.\n",
      "  warnings.warn(\n",
      "  File \"c:\\Users\\danie\\AppData\\Local\\Programs\\Python\\Python39\\lib\\site-packages\\joblib\\externals\\loky\\backend\\context.py\", line 217, in _count_physical_cores\n",
      "    raise ValueError(\n"
     ]
    }
   ],
   "source": [
    "\n",
    "# TODO: using *data_Sepsis_ls* and test the default kNN Regressor model \n",
    "knr = KNeighborsRegressor()\n",
    "knr.fit(X = X_lstrain, y = y_lstrain)\n",
    "knr_pred = knr.predict(X = X_lstest)\n",
    "\n",
    "default_mae = mean_absolute_error(y_true = y_lstest, y_pred = knr_pred)\n",
    "default_mse = mean_squared_error(y_true = y_lstest, y_pred = knr_pred)\n",
    "default_rmse = mean_squared_error(y_true = y_lstest, y_pred = knr_pred, squared = False)\n",
    "default_r2 = r2_score(y_true = y_lstest, y_pred = knr_pred)\n",
    "\n",
    "default_results = {\n",
    "    \"Encoding\": \"Last-2-state\",\n",
    "    \"Model\": \"KNN regressor\",\n",
    "    \"n_neighbors\": \"Default\",\n",
    "    \"weights\": \"Default\",\n",
    "    \"MAE\": default_mae,\n",
    "    \"MSE\": default_mse,\n",
    "    \"RMSE\": default_rmse,\n",
    "    \"R2\": default_r2\n",
    "}\n",
    "\n",
    "knr_results.loc[len(knr_results)] = default_results"
   ]
  },
  {
   "cell_type": "code",
   "execution_count": 30,
   "id": "5d07ed49",
   "metadata": {},
   "outputs": [
    {
     "data": {
      "text/html": [
       "<div>\n",
       "<style scoped>\n",
       "    .dataframe tbody tr th:only-of-type {\n",
       "        vertical-align: middle;\n",
       "    }\n",
       "\n",
       "    .dataframe tbody tr th {\n",
       "        vertical-align: top;\n",
       "    }\n",
       "\n",
       "    .dataframe thead th {\n",
       "        text-align: right;\n",
       "    }\n",
       "</style>\n",
       "<table border=\"1\" class=\"dataframe\">\n",
       "  <thead>\n",
       "    <tr style=\"text-align: right;\">\n",
       "      <th></th>\n",
       "      <th>Encoding</th>\n",
       "      <th>Model</th>\n",
       "      <th>n_neighbors</th>\n",
       "      <th>weights</th>\n",
       "      <th>MAE</th>\n",
       "      <th>MSE</th>\n",
       "      <th>RMSE</th>\n",
       "      <th>R2</th>\n",
       "    </tr>\n",
       "  </thead>\n",
       "  <tbody>\n",
       "    <tr>\n",
       "      <th>0</th>\n",
       "      <td>Last-2-state</td>\n",
       "      <td>KNN regressor</td>\n",
       "      <td>Default</td>\n",
       "      <td>Default</td>\n",
       "      <td>867.905023</td>\n",
       "      <td>7.507815e+06</td>\n",
       "      <td>2740.039291</td>\n",
       "      <td>0.024845</td>\n",
       "    </tr>\n",
       "  </tbody>\n",
       "</table>\n",
       "</div>"
      ],
      "text/plain": [
       "       Encoding          Model n_neighbors  weights         MAE           MSE  \\\n",
       "0  Last-2-state  KNN regressor     Default  Default  867.905023  7.507815e+06   \n",
       "\n",
       "          RMSE        R2  \n",
       "0  2740.039291  0.024845  "
      ]
     },
     "execution_count": 30,
     "metadata": {},
     "output_type": "execute_result"
    }
   ],
   "source": [
    "knr_results"
   ]
  },
  {
   "cell_type": "code",
   "execution_count": 31,
   "id": "d2d0c933",
   "metadata": {},
   "outputs": [],
   "source": [
    "# TODO: set the search space of the parameters *n_neighbors* and *weights* \n",
    "knr_params = {\n",
    "    \"n_neighbors\": [3, 5, 7, 9],\n",
    "    \"weights\": [\"uniform\", \"distance\"]\n",
    "}\n",
    "\n",
    "# TODO: create 5-fold cross-validation\n",
    "kf = KFold(n_splits = 5, shuffle = True, random_state = 5)\n",
    "\n",
    "# TODO: learn an optimal kNN regressor\n",
    "\n",
    "# Make scorers\n",
    "mae_scorer = make_scorer(mean_absolute_error)\n",
    "mse_scorer = make_scorer(mean_squared_error)\n",
    "rmse_scorer = make_scorer(mean_squared_error, squared = False)\n",
    "r2_scorer = make_scorer(r2_score)\n",
    "\n",
    "knr_scoring = {\"MAE\": mae_scorer, \"MSE\": mse_scorer, \"RMSE\": rmse_scorer, \"R2\": r2_scorer}\n",
    "\n",
    "optimized_knr = GridSearchCV(KNeighborsRegressor(), param_grid = knr_params, scoring = knr_scoring, cv = kf, refit = \"MAE\")\n",
    "optimized_knr.fit(X = X_lstrain, y = y_lstrain)\n",
    "bestscore = optimized_knr.best_score_\n",
    "cvresults = optimized_knr.cv_results_\n"
   ]
  },
  {
   "cell_type": "code",
   "execution_count": 32,
   "id": "1fe008f1",
   "metadata": {},
   "outputs": [],
   "source": [
    "for i in range(8):\n",
    "    knr_results.loc[len(knr_results)] = {\n",
    "        \"Encoding\": \"Last-2-state\",\n",
    "        \"Model\": \"KNN Regressor\",\n",
    "        \"n_neighbors\": cvresults[\"param_n_neighbors\"][i],\n",
    "        \"weights\": cvresults[\"param_weights\"][i],\n",
    "        \"MAE\": cvresults[\"mean_test_MAE\"][i],\n",
    "        \"MSE\": cvresults[\"mean_test_MSE\"][i],\n",
    "        \"RMSE\": cvresults[\"mean_test_RMSE\"][i],\n",
    "        \"R2\": cvresults[\"mean_test_R2\"][i]\n",
    "    }"
   ]
  },
  {
   "cell_type": "code",
   "execution_count": 33,
   "id": "d930895b",
   "metadata": {},
   "outputs": [
    {
     "data": {
      "text/html": [
       "<div>\n",
       "<style scoped>\n",
       "    .dataframe tbody tr th:only-of-type {\n",
       "        vertical-align: middle;\n",
       "    }\n",
       "\n",
       "    .dataframe tbody tr th {\n",
       "        vertical-align: top;\n",
       "    }\n",
       "\n",
       "    .dataframe thead th {\n",
       "        text-align: right;\n",
       "    }\n",
       "</style>\n",
       "<table border=\"1\" class=\"dataframe\">\n",
       "  <thead>\n",
       "    <tr style=\"text-align: right;\">\n",
       "      <th></th>\n",
       "      <th>Encoding</th>\n",
       "      <th>Model</th>\n",
       "      <th>n_neighbors</th>\n",
       "      <th>weights</th>\n",
       "      <th>MAE</th>\n",
       "      <th>MSE</th>\n",
       "      <th>RMSE</th>\n",
       "      <th>R2</th>\n",
       "    </tr>\n",
       "  </thead>\n",
       "  <tbody>\n",
       "    <tr>\n",
       "      <th>0</th>\n",
       "      <td>Last-2-state</td>\n",
       "      <td>KNN regressor</td>\n",
       "      <td>Default</td>\n",
       "      <td>Default</td>\n",
       "      <td>867.905023</td>\n",
       "      <td>7.507815e+06</td>\n",
       "      <td>2740.039291</td>\n",
       "      <td>0.024845</td>\n",
       "    </tr>\n",
       "    <tr>\n",
       "      <th>1</th>\n",
       "      <td>Last-2-state</td>\n",
       "      <td>KNN Regressor</td>\n",
       "      <td>3</td>\n",
       "      <td>uniform</td>\n",
       "      <td>856.214978</td>\n",
       "      <td>5.613160e+06</td>\n",
       "      <td>2336.343535</td>\n",
       "      <td>-0.099044</td>\n",
       "    </tr>\n",
       "    <tr>\n",
       "      <th>2</th>\n",
       "      <td>Last-2-state</td>\n",
       "      <td>KNN Regressor</td>\n",
       "      <td>3</td>\n",
       "      <td>distance</td>\n",
       "      <td>857.243295</td>\n",
       "      <td>5.684197e+06</td>\n",
       "      <td>2358.122285</td>\n",
       "      <td>-0.128025</td>\n",
       "    </tr>\n",
       "    <tr>\n",
       "      <th>3</th>\n",
       "      <td>Last-2-state</td>\n",
       "      <td>KNN Regressor</td>\n",
       "      <td>5</td>\n",
       "      <td>uniform</td>\n",
       "      <td>828.125144</td>\n",
       "      <td>5.123030e+06</td>\n",
       "      <td>2230.276094</td>\n",
       "      <td>0.002349</td>\n",
       "    </tr>\n",
       "    <tr>\n",
       "      <th>4</th>\n",
       "      <td>Last-2-state</td>\n",
       "      <td>KNN Regressor</td>\n",
       "      <td>5</td>\n",
       "      <td>distance</td>\n",
       "      <td>826.968662</td>\n",
       "      <td>5.162221e+06</td>\n",
       "      <td>2241.632456</td>\n",
       "      <td>-0.011168</td>\n",
       "    </tr>\n",
       "    <tr>\n",
       "      <th>5</th>\n",
       "      <td>Last-2-state</td>\n",
       "      <td>KNN Regressor</td>\n",
       "      <td>7</td>\n",
       "      <td>uniform</td>\n",
       "      <td>826.620202</td>\n",
       "      <td>5.006414e+06</td>\n",
       "      <td>2202.861785</td>\n",
       "      <td>0.028958</td>\n",
       "    </tr>\n",
       "    <tr>\n",
       "      <th>6</th>\n",
       "      <td>Last-2-state</td>\n",
       "      <td>KNN Regressor</td>\n",
       "      <td>7</td>\n",
       "      <td>distance</td>\n",
       "      <td>824.692922</td>\n",
       "      <td>5.032257e+06</td>\n",
       "      <td>2210.906138</td>\n",
       "      <td>0.019530</td>\n",
       "    </tr>\n",
       "    <tr>\n",
       "      <th>7</th>\n",
       "      <td>Last-2-state</td>\n",
       "      <td>KNN Regressor</td>\n",
       "      <td>9</td>\n",
       "      <td>uniform</td>\n",
       "      <td>826.900029</td>\n",
       "      <td>4.955519e+06</td>\n",
       "      <td>2189.880774</td>\n",
       "      <td>0.041914</td>\n",
       "    </tr>\n",
       "    <tr>\n",
       "      <th>8</th>\n",
       "      <td>Last-2-state</td>\n",
       "      <td>KNN Regressor</td>\n",
       "      <td>9</td>\n",
       "      <td>distance</td>\n",
       "      <td>824.543538</td>\n",
       "      <td>4.970782e+06</td>\n",
       "      <td>2195.386560</td>\n",
       "      <td>0.035202</td>\n",
       "    </tr>\n",
       "  </tbody>\n",
       "</table>\n",
       "</div>"
      ],
      "text/plain": [
       "       Encoding          Model n_neighbors   weights         MAE  \\\n",
       "0  Last-2-state  KNN regressor     Default   Default  867.905023   \n",
       "1  Last-2-state  KNN Regressor           3   uniform  856.214978   \n",
       "2  Last-2-state  KNN Regressor           3  distance  857.243295   \n",
       "3  Last-2-state  KNN Regressor           5   uniform  828.125144   \n",
       "4  Last-2-state  KNN Regressor           5  distance  826.968662   \n",
       "5  Last-2-state  KNN Regressor           7   uniform  826.620202   \n",
       "6  Last-2-state  KNN Regressor           7  distance  824.692922   \n",
       "7  Last-2-state  KNN Regressor           9   uniform  826.900029   \n",
       "8  Last-2-state  KNN Regressor           9  distance  824.543538   \n",
       "\n",
       "            MSE         RMSE        R2  \n",
       "0  7.507815e+06  2740.039291  0.024845  \n",
       "1  5.613160e+06  2336.343535 -0.099044  \n",
       "2  5.684197e+06  2358.122285 -0.128025  \n",
       "3  5.123030e+06  2230.276094  0.002349  \n",
       "4  5.162221e+06  2241.632456 -0.011168  \n",
       "5  5.006414e+06  2202.861785  0.028958  \n",
       "6  5.032257e+06  2210.906138  0.019530  \n",
       "7  4.955519e+06  2189.880774  0.041914  \n",
       "8  4.970782e+06  2195.386560  0.035202  "
      ]
     },
     "execution_count": 33,
     "metadata": {},
     "output_type": "execute_result"
    }
   ],
   "source": [
    "knr_results"
   ]
  },
  {
   "cell_type": "code",
   "execution_count": 34,
   "id": "f9bf8a85",
   "metadata": {},
   "outputs": [
    {
     "data": {
      "application/vnd.plotly.v1+json": {
       "config": {
        "plotlyServerURL": "https://plot.ly"
       },
       "data": [
        {
         "hovertemplate": "weights=Default<br>n_neighbors=%{x}<br>MAE=%{y}<extra></extra>",
         "legendgroup": "Default",
         "marker": {
          "color": "#636efa",
          "symbol": "circle"
         },
         "mode": "markers",
         "name": "Default",
         "orientation": "v",
         "showlegend": true,
         "type": "scatter",
         "x": [
          "Default"
         ],
         "xaxis": "x",
         "y": [
          867.9050228310504
         ],
         "yaxis": "y"
        },
        {
         "hovertemplate": "weights=uniform<br>n_neighbors=%{x}<br>MAE=%{y}<extra></extra>",
         "legendgroup": "uniform",
         "marker": {
          "color": "#EF553B",
          "symbol": "circle"
         },
         "mode": "markers",
         "name": "uniform",
         "orientation": "v",
         "showlegend": true,
         "type": "scatter",
         "x": [
          3,
          5,
          7,
          9
         ],
         "xaxis": "x",
         "y": [
          856.2149782243902,
          828.1251441891442,
          826.6202022627233,
          826.9000289470875
         ],
         "yaxis": "y"
        },
        {
         "hovertemplate": "weights=distance<br>n_neighbors=%{x}<br>MAE=%{y}<extra></extra>",
         "legendgroup": "distance",
         "marker": {
          "color": "#00cc96",
          "symbol": "circle"
         },
         "mode": "markers",
         "name": "distance",
         "orientation": "v",
         "showlegend": true,
         "type": "scatter",
         "x": [
          3,
          5,
          7,
          9
         ],
         "xaxis": "x",
         "y": [
          857.2432947085708,
          826.968661576092,
          824.6929224992136,
          824.5435378170532
         ],
         "yaxis": "y"
        }
       ],
       "layout": {
        "legend": {
         "title": {
          "text": "weights"
         },
         "tracegroupgap": 0
        },
        "margin": {
         "t": 60
        },
        "template": {
         "data": {
          "bar": [
           {
            "error_x": {
             "color": "#2a3f5f"
            },
            "error_y": {
             "color": "#2a3f5f"
            },
            "marker": {
             "line": {
              "color": "#E5ECF6",
              "width": 0.5
             },
             "pattern": {
              "fillmode": "overlay",
              "size": 10,
              "solidity": 0.2
             }
            },
            "type": "bar"
           }
          ],
          "barpolar": [
           {
            "marker": {
             "line": {
              "color": "#E5ECF6",
              "width": 0.5
             },
             "pattern": {
              "fillmode": "overlay",
              "size": 10,
              "solidity": 0.2
             }
            },
            "type": "barpolar"
           }
          ],
          "carpet": [
           {
            "aaxis": {
             "endlinecolor": "#2a3f5f",
             "gridcolor": "white",
             "linecolor": "white",
             "minorgridcolor": "white",
             "startlinecolor": "#2a3f5f"
            },
            "baxis": {
             "endlinecolor": "#2a3f5f",
             "gridcolor": "white",
             "linecolor": "white",
             "minorgridcolor": "white",
             "startlinecolor": "#2a3f5f"
            },
            "type": "carpet"
           }
          ],
          "choropleth": [
           {
            "colorbar": {
             "outlinewidth": 0,
             "ticks": ""
            },
            "type": "choropleth"
           }
          ],
          "contour": [
           {
            "colorbar": {
             "outlinewidth": 0,
             "ticks": ""
            },
            "colorscale": [
             [
              0,
              "#0d0887"
             ],
             [
              0.1111111111111111,
              "#46039f"
             ],
             [
              0.2222222222222222,
              "#7201a8"
             ],
             [
              0.3333333333333333,
              "#9c179e"
             ],
             [
              0.4444444444444444,
              "#bd3786"
             ],
             [
              0.5555555555555556,
              "#d8576b"
             ],
             [
              0.6666666666666666,
              "#ed7953"
             ],
             [
              0.7777777777777778,
              "#fb9f3a"
             ],
             [
              0.8888888888888888,
              "#fdca26"
             ],
             [
              1,
              "#f0f921"
             ]
            ],
            "type": "contour"
           }
          ],
          "contourcarpet": [
           {
            "colorbar": {
             "outlinewidth": 0,
             "ticks": ""
            },
            "type": "contourcarpet"
           }
          ],
          "heatmap": [
           {
            "colorbar": {
             "outlinewidth": 0,
             "ticks": ""
            },
            "colorscale": [
             [
              0,
              "#0d0887"
             ],
             [
              0.1111111111111111,
              "#46039f"
             ],
             [
              0.2222222222222222,
              "#7201a8"
             ],
             [
              0.3333333333333333,
              "#9c179e"
             ],
             [
              0.4444444444444444,
              "#bd3786"
             ],
             [
              0.5555555555555556,
              "#d8576b"
             ],
             [
              0.6666666666666666,
              "#ed7953"
             ],
             [
              0.7777777777777778,
              "#fb9f3a"
             ],
             [
              0.8888888888888888,
              "#fdca26"
             ],
             [
              1,
              "#f0f921"
             ]
            ],
            "type": "heatmap"
           }
          ],
          "heatmapgl": [
           {
            "colorbar": {
             "outlinewidth": 0,
             "ticks": ""
            },
            "colorscale": [
             [
              0,
              "#0d0887"
             ],
             [
              0.1111111111111111,
              "#46039f"
             ],
             [
              0.2222222222222222,
              "#7201a8"
             ],
             [
              0.3333333333333333,
              "#9c179e"
             ],
             [
              0.4444444444444444,
              "#bd3786"
             ],
             [
              0.5555555555555556,
              "#d8576b"
             ],
             [
              0.6666666666666666,
              "#ed7953"
             ],
             [
              0.7777777777777778,
              "#fb9f3a"
             ],
             [
              0.8888888888888888,
              "#fdca26"
             ],
             [
              1,
              "#f0f921"
             ]
            ],
            "type": "heatmapgl"
           }
          ],
          "histogram": [
           {
            "marker": {
             "pattern": {
              "fillmode": "overlay",
              "size": 10,
              "solidity": 0.2
             }
            },
            "type": "histogram"
           }
          ],
          "histogram2d": [
           {
            "colorbar": {
             "outlinewidth": 0,
             "ticks": ""
            },
            "colorscale": [
             [
              0,
              "#0d0887"
             ],
             [
              0.1111111111111111,
              "#46039f"
             ],
             [
              0.2222222222222222,
              "#7201a8"
             ],
             [
              0.3333333333333333,
              "#9c179e"
             ],
             [
              0.4444444444444444,
              "#bd3786"
             ],
             [
              0.5555555555555556,
              "#d8576b"
             ],
             [
              0.6666666666666666,
              "#ed7953"
             ],
             [
              0.7777777777777778,
              "#fb9f3a"
             ],
             [
              0.8888888888888888,
              "#fdca26"
             ],
             [
              1,
              "#f0f921"
             ]
            ],
            "type": "histogram2d"
           }
          ],
          "histogram2dcontour": [
           {
            "colorbar": {
             "outlinewidth": 0,
             "ticks": ""
            },
            "colorscale": [
             [
              0,
              "#0d0887"
             ],
             [
              0.1111111111111111,
              "#46039f"
             ],
             [
              0.2222222222222222,
              "#7201a8"
             ],
             [
              0.3333333333333333,
              "#9c179e"
             ],
             [
              0.4444444444444444,
              "#bd3786"
             ],
             [
              0.5555555555555556,
              "#d8576b"
             ],
             [
              0.6666666666666666,
              "#ed7953"
             ],
             [
              0.7777777777777778,
              "#fb9f3a"
             ],
             [
              0.8888888888888888,
              "#fdca26"
             ],
             [
              1,
              "#f0f921"
             ]
            ],
            "type": "histogram2dcontour"
           }
          ],
          "mesh3d": [
           {
            "colorbar": {
             "outlinewidth": 0,
             "ticks": ""
            },
            "type": "mesh3d"
           }
          ],
          "parcoords": [
           {
            "line": {
             "colorbar": {
              "outlinewidth": 0,
              "ticks": ""
             }
            },
            "type": "parcoords"
           }
          ],
          "pie": [
           {
            "automargin": true,
            "type": "pie"
           }
          ],
          "scatter": [
           {
            "fillpattern": {
             "fillmode": "overlay",
             "size": 10,
             "solidity": 0.2
            },
            "type": "scatter"
           }
          ],
          "scatter3d": [
           {
            "line": {
             "colorbar": {
              "outlinewidth": 0,
              "ticks": ""
             }
            },
            "marker": {
             "colorbar": {
              "outlinewidth": 0,
              "ticks": ""
             }
            },
            "type": "scatter3d"
           }
          ],
          "scattercarpet": [
           {
            "marker": {
             "colorbar": {
              "outlinewidth": 0,
              "ticks": ""
             }
            },
            "type": "scattercarpet"
           }
          ],
          "scattergeo": [
           {
            "marker": {
             "colorbar": {
              "outlinewidth": 0,
              "ticks": ""
             }
            },
            "type": "scattergeo"
           }
          ],
          "scattergl": [
           {
            "marker": {
             "colorbar": {
              "outlinewidth": 0,
              "ticks": ""
             }
            },
            "type": "scattergl"
           }
          ],
          "scattermapbox": [
           {
            "marker": {
             "colorbar": {
              "outlinewidth": 0,
              "ticks": ""
             }
            },
            "type": "scattermapbox"
           }
          ],
          "scatterpolar": [
           {
            "marker": {
             "colorbar": {
              "outlinewidth": 0,
              "ticks": ""
             }
            },
            "type": "scatterpolar"
           }
          ],
          "scatterpolargl": [
           {
            "marker": {
             "colorbar": {
              "outlinewidth": 0,
              "ticks": ""
             }
            },
            "type": "scatterpolargl"
           }
          ],
          "scatterternary": [
           {
            "marker": {
             "colorbar": {
              "outlinewidth": 0,
              "ticks": ""
             }
            },
            "type": "scatterternary"
           }
          ],
          "surface": [
           {
            "colorbar": {
             "outlinewidth": 0,
             "ticks": ""
            },
            "colorscale": [
             [
              0,
              "#0d0887"
             ],
             [
              0.1111111111111111,
              "#46039f"
             ],
             [
              0.2222222222222222,
              "#7201a8"
             ],
             [
              0.3333333333333333,
              "#9c179e"
             ],
             [
              0.4444444444444444,
              "#bd3786"
             ],
             [
              0.5555555555555556,
              "#d8576b"
             ],
             [
              0.6666666666666666,
              "#ed7953"
             ],
             [
              0.7777777777777778,
              "#fb9f3a"
             ],
             [
              0.8888888888888888,
              "#fdca26"
             ],
             [
              1,
              "#f0f921"
             ]
            ],
            "type": "surface"
           }
          ],
          "table": [
           {
            "cells": {
             "fill": {
              "color": "#EBF0F8"
             },
             "line": {
              "color": "white"
             }
            },
            "header": {
             "fill": {
              "color": "#C8D4E3"
             },
             "line": {
              "color": "white"
             }
            },
            "type": "table"
           }
          ]
         },
         "layout": {
          "annotationdefaults": {
           "arrowcolor": "#2a3f5f",
           "arrowhead": 0,
           "arrowwidth": 1
          },
          "autotypenumbers": "strict",
          "coloraxis": {
           "colorbar": {
            "outlinewidth": 0,
            "ticks": ""
           }
          },
          "colorscale": {
           "diverging": [
            [
             0,
             "#8e0152"
            ],
            [
             0.1,
             "#c51b7d"
            ],
            [
             0.2,
             "#de77ae"
            ],
            [
             0.3,
             "#f1b6da"
            ],
            [
             0.4,
             "#fde0ef"
            ],
            [
             0.5,
             "#f7f7f7"
            ],
            [
             0.6,
             "#e6f5d0"
            ],
            [
             0.7,
             "#b8e186"
            ],
            [
             0.8,
             "#7fbc41"
            ],
            [
             0.9,
             "#4d9221"
            ],
            [
             1,
             "#276419"
            ]
           ],
           "sequential": [
            [
             0,
             "#0d0887"
            ],
            [
             0.1111111111111111,
             "#46039f"
            ],
            [
             0.2222222222222222,
             "#7201a8"
            ],
            [
             0.3333333333333333,
             "#9c179e"
            ],
            [
             0.4444444444444444,
             "#bd3786"
            ],
            [
             0.5555555555555556,
             "#d8576b"
            ],
            [
             0.6666666666666666,
             "#ed7953"
            ],
            [
             0.7777777777777778,
             "#fb9f3a"
            ],
            [
             0.8888888888888888,
             "#fdca26"
            ],
            [
             1,
             "#f0f921"
            ]
           ],
           "sequentialminus": [
            [
             0,
             "#0d0887"
            ],
            [
             0.1111111111111111,
             "#46039f"
            ],
            [
             0.2222222222222222,
             "#7201a8"
            ],
            [
             0.3333333333333333,
             "#9c179e"
            ],
            [
             0.4444444444444444,
             "#bd3786"
            ],
            [
             0.5555555555555556,
             "#d8576b"
            ],
            [
             0.6666666666666666,
             "#ed7953"
            ],
            [
             0.7777777777777778,
             "#fb9f3a"
            ],
            [
             0.8888888888888888,
             "#fdca26"
            ],
            [
             1,
             "#f0f921"
            ]
           ]
          },
          "colorway": [
           "#636efa",
           "#EF553B",
           "#00cc96",
           "#ab63fa",
           "#FFA15A",
           "#19d3f3",
           "#FF6692",
           "#B6E880",
           "#FF97FF",
           "#FECB52"
          ],
          "font": {
           "color": "#2a3f5f"
          },
          "geo": {
           "bgcolor": "white",
           "lakecolor": "white",
           "landcolor": "#E5ECF6",
           "showlakes": true,
           "showland": true,
           "subunitcolor": "white"
          },
          "hoverlabel": {
           "align": "left"
          },
          "hovermode": "closest",
          "mapbox": {
           "style": "light"
          },
          "paper_bgcolor": "white",
          "plot_bgcolor": "#E5ECF6",
          "polar": {
           "angularaxis": {
            "gridcolor": "white",
            "linecolor": "white",
            "ticks": ""
           },
           "bgcolor": "#E5ECF6",
           "radialaxis": {
            "gridcolor": "white",
            "linecolor": "white",
            "ticks": ""
           }
          },
          "scene": {
           "xaxis": {
            "backgroundcolor": "#E5ECF6",
            "gridcolor": "white",
            "gridwidth": 2,
            "linecolor": "white",
            "showbackground": true,
            "ticks": "",
            "zerolinecolor": "white"
           },
           "yaxis": {
            "backgroundcolor": "#E5ECF6",
            "gridcolor": "white",
            "gridwidth": 2,
            "linecolor": "white",
            "showbackground": true,
            "ticks": "",
            "zerolinecolor": "white"
           },
           "zaxis": {
            "backgroundcolor": "#E5ECF6",
            "gridcolor": "white",
            "gridwidth": 2,
            "linecolor": "white",
            "showbackground": true,
            "ticks": "",
            "zerolinecolor": "white"
           }
          },
          "shapedefaults": {
           "line": {
            "color": "#2a3f5f"
           }
          },
          "ternary": {
           "aaxis": {
            "gridcolor": "white",
            "linecolor": "white",
            "ticks": ""
           },
           "baxis": {
            "gridcolor": "white",
            "linecolor": "white",
            "ticks": ""
           },
           "bgcolor": "#E5ECF6",
           "caxis": {
            "gridcolor": "white",
            "linecolor": "white",
            "ticks": ""
           }
          },
          "title": {
           "x": 0.05
          },
          "xaxis": {
           "automargin": true,
           "gridcolor": "white",
           "linecolor": "white",
           "ticks": "",
           "title": {
            "standoff": 15
           },
           "zerolinecolor": "white",
           "zerolinewidth": 2
          },
          "yaxis": {
           "automargin": true,
           "gridcolor": "white",
           "linecolor": "white",
           "ticks": "",
           "title": {
            "standoff": 15
           },
           "zerolinecolor": "white",
           "zerolinewidth": 2
          }
         }
        },
        "xaxis": {
         "anchor": "y",
         "domain": [
          0,
          1
         ],
         "title": {
          "text": "n_neighbors"
         }
        },
        "yaxis": {
         "anchor": "x",
         "domain": [
          0,
          1
         ],
         "title": {
          "text": "MAE"
         }
        }
       }
      }
     },
     "metadata": {},
     "output_type": "display_data"
    },
    {
     "data": {
      "application/vnd.plotly.v1+json": {
       "config": {
        "plotlyServerURL": "https://plot.ly"
       },
       "data": [
        {
         "hovertemplate": "weights=Default<br>n_neighbors=%{x}<br>MSE=%{y}<extra></extra>",
         "legendgroup": "Default",
         "marker": {
          "color": "#636efa",
          "symbol": "circle"
         },
         "mode": "markers",
         "name": "Default",
         "orientation": "v",
         "showlegend": true,
         "type": "scatter",
         "x": [
          "Default"
         ],
         "xaxis": "x",
         "y": [
          7507815.317051534
         ],
         "yaxis": "y"
        },
        {
         "hovertemplate": "weights=uniform<br>n_neighbors=%{x}<br>MSE=%{y}<extra></extra>",
         "legendgroup": "uniform",
         "marker": {
          "color": "#EF553B",
          "symbol": "circle"
         },
         "mode": "markers",
         "name": "uniform",
         "orientation": "v",
         "showlegend": true,
         "type": "scatter",
         "x": [
          3,
          5,
          7,
          9
         ],
         "xaxis": "x",
         "y": [
          5613159.620946809,
          5123030.458168154,
          5006414.019676385,
          4955519.101264062
         ],
         "yaxis": "y"
        },
        {
         "hovertemplate": "weights=distance<br>n_neighbors=%{x}<br>MSE=%{y}<extra></extra>",
         "legendgroup": "distance",
         "marker": {
          "color": "#00cc96",
          "symbol": "circle"
         },
         "mode": "markers",
         "name": "distance",
         "orientation": "v",
         "showlegend": true,
         "type": "scatter",
         "x": [
          3,
          5,
          7,
          9
         ],
         "xaxis": "x",
         "y": [
          5684196.656213235,
          5162221.296880282,
          5032256.964116575,
          4970781.60808639
         ],
         "yaxis": "y"
        }
       ],
       "layout": {
        "legend": {
         "title": {
          "text": "weights"
         },
         "tracegroupgap": 0
        },
        "margin": {
         "t": 60
        },
        "template": {
         "data": {
          "bar": [
           {
            "error_x": {
             "color": "#2a3f5f"
            },
            "error_y": {
             "color": "#2a3f5f"
            },
            "marker": {
             "line": {
              "color": "#E5ECF6",
              "width": 0.5
             },
             "pattern": {
              "fillmode": "overlay",
              "size": 10,
              "solidity": 0.2
             }
            },
            "type": "bar"
           }
          ],
          "barpolar": [
           {
            "marker": {
             "line": {
              "color": "#E5ECF6",
              "width": 0.5
             },
             "pattern": {
              "fillmode": "overlay",
              "size": 10,
              "solidity": 0.2
             }
            },
            "type": "barpolar"
           }
          ],
          "carpet": [
           {
            "aaxis": {
             "endlinecolor": "#2a3f5f",
             "gridcolor": "white",
             "linecolor": "white",
             "minorgridcolor": "white",
             "startlinecolor": "#2a3f5f"
            },
            "baxis": {
             "endlinecolor": "#2a3f5f",
             "gridcolor": "white",
             "linecolor": "white",
             "minorgridcolor": "white",
             "startlinecolor": "#2a3f5f"
            },
            "type": "carpet"
           }
          ],
          "choropleth": [
           {
            "colorbar": {
             "outlinewidth": 0,
             "ticks": ""
            },
            "type": "choropleth"
           }
          ],
          "contour": [
           {
            "colorbar": {
             "outlinewidth": 0,
             "ticks": ""
            },
            "colorscale": [
             [
              0,
              "#0d0887"
             ],
             [
              0.1111111111111111,
              "#46039f"
             ],
             [
              0.2222222222222222,
              "#7201a8"
             ],
             [
              0.3333333333333333,
              "#9c179e"
             ],
             [
              0.4444444444444444,
              "#bd3786"
             ],
             [
              0.5555555555555556,
              "#d8576b"
             ],
             [
              0.6666666666666666,
              "#ed7953"
             ],
             [
              0.7777777777777778,
              "#fb9f3a"
             ],
             [
              0.8888888888888888,
              "#fdca26"
             ],
             [
              1,
              "#f0f921"
             ]
            ],
            "type": "contour"
           }
          ],
          "contourcarpet": [
           {
            "colorbar": {
             "outlinewidth": 0,
             "ticks": ""
            },
            "type": "contourcarpet"
           }
          ],
          "heatmap": [
           {
            "colorbar": {
             "outlinewidth": 0,
             "ticks": ""
            },
            "colorscale": [
             [
              0,
              "#0d0887"
             ],
             [
              0.1111111111111111,
              "#46039f"
             ],
             [
              0.2222222222222222,
              "#7201a8"
             ],
             [
              0.3333333333333333,
              "#9c179e"
             ],
             [
              0.4444444444444444,
              "#bd3786"
             ],
             [
              0.5555555555555556,
              "#d8576b"
             ],
             [
              0.6666666666666666,
              "#ed7953"
             ],
             [
              0.7777777777777778,
              "#fb9f3a"
             ],
             [
              0.8888888888888888,
              "#fdca26"
             ],
             [
              1,
              "#f0f921"
             ]
            ],
            "type": "heatmap"
           }
          ],
          "heatmapgl": [
           {
            "colorbar": {
             "outlinewidth": 0,
             "ticks": ""
            },
            "colorscale": [
             [
              0,
              "#0d0887"
             ],
             [
              0.1111111111111111,
              "#46039f"
             ],
             [
              0.2222222222222222,
              "#7201a8"
             ],
             [
              0.3333333333333333,
              "#9c179e"
             ],
             [
              0.4444444444444444,
              "#bd3786"
             ],
             [
              0.5555555555555556,
              "#d8576b"
             ],
             [
              0.6666666666666666,
              "#ed7953"
             ],
             [
              0.7777777777777778,
              "#fb9f3a"
             ],
             [
              0.8888888888888888,
              "#fdca26"
             ],
             [
              1,
              "#f0f921"
             ]
            ],
            "type": "heatmapgl"
           }
          ],
          "histogram": [
           {
            "marker": {
             "pattern": {
              "fillmode": "overlay",
              "size": 10,
              "solidity": 0.2
             }
            },
            "type": "histogram"
           }
          ],
          "histogram2d": [
           {
            "colorbar": {
             "outlinewidth": 0,
             "ticks": ""
            },
            "colorscale": [
             [
              0,
              "#0d0887"
             ],
             [
              0.1111111111111111,
              "#46039f"
             ],
             [
              0.2222222222222222,
              "#7201a8"
             ],
             [
              0.3333333333333333,
              "#9c179e"
             ],
             [
              0.4444444444444444,
              "#bd3786"
             ],
             [
              0.5555555555555556,
              "#d8576b"
             ],
             [
              0.6666666666666666,
              "#ed7953"
             ],
             [
              0.7777777777777778,
              "#fb9f3a"
             ],
             [
              0.8888888888888888,
              "#fdca26"
             ],
             [
              1,
              "#f0f921"
             ]
            ],
            "type": "histogram2d"
           }
          ],
          "histogram2dcontour": [
           {
            "colorbar": {
             "outlinewidth": 0,
             "ticks": ""
            },
            "colorscale": [
             [
              0,
              "#0d0887"
             ],
             [
              0.1111111111111111,
              "#46039f"
             ],
             [
              0.2222222222222222,
              "#7201a8"
             ],
             [
              0.3333333333333333,
              "#9c179e"
             ],
             [
              0.4444444444444444,
              "#bd3786"
             ],
             [
              0.5555555555555556,
              "#d8576b"
             ],
             [
              0.6666666666666666,
              "#ed7953"
             ],
             [
              0.7777777777777778,
              "#fb9f3a"
             ],
             [
              0.8888888888888888,
              "#fdca26"
             ],
             [
              1,
              "#f0f921"
             ]
            ],
            "type": "histogram2dcontour"
           }
          ],
          "mesh3d": [
           {
            "colorbar": {
             "outlinewidth": 0,
             "ticks": ""
            },
            "type": "mesh3d"
           }
          ],
          "parcoords": [
           {
            "line": {
             "colorbar": {
              "outlinewidth": 0,
              "ticks": ""
             }
            },
            "type": "parcoords"
           }
          ],
          "pie": [
           {
            "automargin": true,
            "type": "pie"
           }
          ],
          "scatter": [
           {
            "fillpattern": {
             "fillmode": "overlay",
             "size": 10,
             "solidity": 0.2
            },
            "type": "scatter"
           }
          ],
          "scatter3d": [
           {
            "line": {
             "colorbar": {
              "outlinewidth": 0,
              "ticks": ""
             }
            },
            "marker": {
             "colorbar": {
              "outlinewidth": 0,
              "ticks": ""
             }
            },
            "type": "scatter3d"
           }
          ],
          "scattercarpet": [
           {
            "marker": {
             "colorbar": {
              "outlinewidth": 0,
              "ticks": ""
             }
            },
            "type": "scattercarpet"
           }
          ],
          "scattergeo": [
           {
            "marker": {
             "colorbar": {
              "outlinewidth": 0,
              "ticks": ""
             }
            },
            "type": "scattergeo"
           }
          ],
          "scattergl": [
           {
            "marker": {
             "colorbar": {
              "outlinewidth": 0,
              "ticks": ""
             }
            },
            "type": "scattergl"
           }
          ],
          "scattermapbox": [
           {
            "marker": {
             "colorbar": {
              "outlinewidth": 0,
              "ticks": ""
             }
            },
            "type": "scattermapbox"
           }
          ],
          "scatterpolar": [
           {
            "marker": {
             "colorbar": {
              "outlinewidth": 0,
              "ticks": ""
             }
            },
            "type": "scatterpolar"
           }
          ],
          "scatterpolargl": [
           {
            "marker": {
             "colorbar": {
              "outlinewidth": 0,
              "ticks": ""
             }
            },
            "type": "scatterpolargl"
           }
          ],
          "scatterternary": [
           {
            "marker": {
             "colorbar": {
              "outlinewidth": 0,
              "ticks": ""
             }
            },
            "type": "scatterternary"
           }
          ],
          "surface": [
           {
            "colorbar": {
             "outlinewidth": 0,
             "ticks": ""
            },
            "colorscale": [
             [
              0,
              "#0d0887"
             ],
             [
              0.1111111111111111,
              "#46039f"
             ],
             [
              0.2222222222222222,
              "#7201a8"
             ],
             [
              0.3333333333333333,
              "#9c179e"
             ],
             [
              0.4444444444444444,
              "#bd3786"
             ],
             [
              0.5555555555555556,
              "#d8576b"
             ],
             [
              0.6666666666666666,
              "#ed7953"
             ],
             [
              0.7777777777777778,
              "#fb9f3a"
             ],
             [
              0.8888888888888888,
              "#fdca26"
             ],
             [
              1,
              "#f0f921"
             ]
            ],
            "type": "surface"
           }
          ],
          "table": [
           {
            "cells": {
             "fill": {
              "color": "#EBF0F8"
             },
             "line": {
              "color": "white"
             }
            },
            "header": {
             "fill": {
              "color": "#C8D4E3"
             },
             "line": {
              "color": "white"
             }
            },
            "type": "table"
           }
          ]
         },
         "layout": {
          "annotationdefaults": {
           "arrowcolor": "#2a3f5f",
           "arrowhead": 0,
           "arrowwidth": 1
          },
          "autotypenumbers": "strict",
          "coloraxis": {
           "colorbar": {
            "outlinewidth": 0,
            "ticks": ""
           }
          },
          "colorscale": {
           "diverging": [
            [
             0,
             "#8e0152"
            ],
            [
             0.1,
             "#c51b7d"
            ],
            [
             0.2,
             "#de77ae"
            ],
            [
             0.3,
             "#f1b6da"
            ],
            [
             0.4,
             "#fde0ef"
            ],
            [
             0.5,
             "#f7f7f7"
            ],
            [
             0.6,
             "#e6f5d0"
            ],
            [
             0.7,
             "#b8e186"
            ],
            [
             0.8,
             "#7fbc41"
            ],
            [
             0.9,
             "#4d9221"
            ],
            [
             1,
             "#276419"
            ]
           ],
           "sequential": [
            [
             0,
             "#0d0887"
            ],
            [
             0.1111111111111111,
             "#46039f"
            ],
            [
             0.2222222222222222,
             "#7201a8"
            ],
            [
             0.3333333333333333,
             "#9c179e"
            ],
            [
             0.4444444444444444,
             "#bd3786"
            ],
            [
             0.5555555555555556,
             "#d8576b"
            ],
            [
             0.6666666666666666,
             "#ed7953"
            ],
            [
             0.7777777777777778,
             "#fb9f3a"
            ],
            [
             0.8888888888888888,
             "#fdca26"
            ],
            [
             1,
             "#f0f921"
            ]
           ],
           "sequentialminus": [
            [
             0,
             "#0d0887"
            ],
            [
             0.1111111111111111,
             "#46039f"
            ],
            [
             0.2222222222222222,
             "#7201a8"
            ],
            [
             0.3333333333333333,
             "#9c179e"
            ],
            [
             0.4444444444444444,
             "#bd3786"
            ],
            [
             0.5555555555555556,
             "#d8576b"
            ],
            [
             0.6666666666666666,
             "#ed7953"
            ],
            [
             0.7777777777777778,
             "#fb9f3a"
            ],
            [
             0.8888888888888888,
             "#fdca26"
            ],
            [
             1,
             "#f0f921"
            ]
           ]
          },
          "colorway": [
           "#636efa",
           "#EF553B",
           "#00cc96",
           "#ab63fa",
           "#FFA15A",
           "#19d3f3",
           "#FF6692",
           "#B6E880",
           "#FF97FF",
           "#FECB52"
          ],
          "font": {
           "color": "#2a3f5f"
          },
          "geo": {
           "bgcolor": "white",
           "lakecolor": "white",
           "landcolor": "#E5ECF6",
           "showlakes": true,
           "showland": true,
           "subunitcolor": "white"
          },
          "hoverlabel": {
           "align": "left"
          },
          "hovermode": "closest",
          "mapbox": {
           "style": "light"
          },
          "paper_bgcolor": "white",
          "plot_bgcolor": "#E5ECF6",
          "polar": {
           "angularaxis": {
            "gridcolor": "white",
            "linecolor": "white",
            "ticks": ""
           },
           "bgcolor": "#E5ECF6",
           "radialaxis": {
            "gridcolor": "white",
            "linecolor": "white",
            "ticks": ""
           }
          },
          "scene": {
           "xaxis": {
            "backgroundcolor": "#E5ECF6",
            "gridcolor": "white",
            "gridwidth": 2,
            "linecolor": "white",
            "showbackground": true,
            "ticks": "",
            "zerolinecolor": "white"
           },
           "yaxis": {
            "backgroundcolor": "#E5ECF6",
            "gridcolor": "white",
            "gridwidth": 2,
            "linecolor": "white",
            "showbackground": true,
            "ticks": "",
            "zerolinecolor": "white"
           },
           "zaxis": {
            "backgroundcolor": "#E5ECF6",
            "gridcolor": "white",
            "gridwidth": 2,
            "linecolor": "white",
            "showbackground": true,
            "ticks": "",
            "zerolinecolor": "white"
           }
          },
          "shapedefaults": {
           "line": {
            "color": "#2a3f5f"
           }
          },
          "ternary": {
           "aaxis": {
            "gridcolor": "white",
            "linecolor": "white",
            "ticks": ""
           },
           "baxis": {
            "gridcolor": "white",
            "linecolor": "white",
            "ticks": ""
           },
           "bgcolor": "#E5ECF6",
           "caxis": {
            "gridcolor": "white",
            "linecolor": "white",
            "ticks": ""
           }
          },
          "title": {
           "x": 0.05
          },
          "xaxis": {
           "automargin": true,
           "gridcolor": "white",
           "linecolor": "white",
           "ticks": "",
           "title": {
            "standoff": 15
           },
           "zerolinecolor": "white",
           "zerolinewidth": 2
          },
          "yaxis": {
           "automargin": true,
           "gridcolor": "white",
           "linecolor": "white",
           "ticks": "",
           "title": {
            "standoff": 15
           },
           "zerolinecolor": "white",
           "zerolinewidth": 2
          }
         }
        },
        "xaxis": {
         "anchor": "y",
         "domain": [
          0,
          1
         ],
         "title": {
          "text": "n_neighbors"
         }
        },
        "yaxis": {
         "anchor": "x",
         "domain": [
          0,
          1
         ],
         "title": {
          "text": "MSE"
         }
        }
       }
      }
     },
     "metadata": {},
     "output_type": "display_data"
    },
    {
     "data": {
      "application/vnd.plotly.v1+json": {
       "config": {
        "plotlyServerURL": "https://plot.ly"
       },
       "data": [
        {
         "hovertemplate": "weights=Default<br>n_neighbors=%{x}<br>RMSE=%{y}<extra></extra>",
         "legendgroup": "Default",
         "marker": {
          "color": "#636efa",
          "symbol": "circle"
         },
         "mode": "markers",
         "name": "Default",
         "orientation": "v",
         "showlegend": true,
         "type": "scatter",
         "x": [
          "Default"
         ],
         "xaxis": "x",
         "y": [
          2740.039291151047
         ],
         "yaxis": "y"
        },
        {
         "hovertemplate": "weights=uniform<br>n_neighbors=%{x}<br>RMSE=%{y}<extra></extra>",
         "legendgroup": "uniform",
         "marker": {
          "color": "#EF553B",
          "symbol": "circle"
         },
         "mode": "markers",
         "name": "uniform",
         "orientation": "v",
         "showlegend": true,
         "type": "scatter",
         "x": [
          3,
          5,
          7,
          9
         ],
         "xaxis": "x",
         "y": [
          2336.343535399765,
          2230.27609439511,
          2202.8617846722373,
          2189.880773501699
         ],
         "yaxis": "y"
        },
        {
         "hovertemplate": "weights=distance<br>n_neighbors=%{x}<br>RMSE=%{y}<extra></extra>",
         "legendgroup": "distance",
         "marker": {
          "color": "#00cc96",
          "symbol": "circle"
         },
         "mode": "markers",
         "name": "distance",
         "orientation": "v",
         "showlegend": true,
         "type": "scatter",
         "x": [
          3,
          5,
          7,
          9
         ],
         "xaxis": "x",
         "y": [
          2358.1222847537183,
          2241.6324564596684,
          2210.906137732335,
          2195.386559939493
         ],
         "yaxis": "y"
        }
       ],
       "layout": {
        "legend": {
         "title": {
          "text": "weights"
         },
         "tracegroupgap": 0
        },
        "margin": {
         "t": 60
        },
        "template": {
         "data": {
          "bar": [
           {
            "error_x": {
             "color": "#2a3f5f"
            },
            "error_y": {
             "color": "#2a3f5f"
            },
            "marker": {
             "line": {
              "color": "#E5ECF6",
              "width": 0.5
             },
             "pattern": {
              "fillmode": "overlay",
              "size": 10,
              "solidity": 0.2
             }
            },
            "type": "bar"
           }
          ],
          "barpolar": [
           {
            "marker": {
             "line": {
              "color": "#E5ECF6",
              "width": 0.5
             },
             "pattern": {
              "fillmode": "overlay",
              "size": 10,
              "solidity": 0.2
             }
            },
            "type": "barpolar"
           }
          ],
          "carpet": [
           {
            "aaxis": {
             "endlinecolor": "#2a3f5f",
             "gridcolor": "white",
             "linecolor": "white",
             "minorgridcolor": "white",
             "startlinecolor": "#2a3f5f"
            },
            "baxis": {
             "endlinecolor": "#2a3f5f",
             "gridcolor": "white",
             "linecolor": "white",
             "minorgridcolor": "white",
             "startlinecolor": "#2a3f5f"
            },
            "type": "carpet"
           }
          ],
          "choropleth": [
           {
            "colorbar": {
             "outlinewidth": 0,
             "ticks": ""
            },
            "type": "choropleth"
           }
          ],
          "contour": [
           {
            "colorbar": {
             "outlinewidth": 0,
             "ticks": ""
            },
            "colorscale": [
             [
              0,
              "#0d0887"
             ],
             [
              0.1111111111111111,
              "#46039f"
             ],
             [
              0.2222222222222222,
              "#7201a8"
             ],
             [
              0.3333333333333333,
              "#9c179e"
             ],
             [
              0.4444444444444444,
              "#bd3786"
             ],
             [
              0.5555555555555556,
              "#d8576b"
             ],
             [
              0.6666666666666666,
              "#ed7953"
             ],
             [
              0.7777777777777778,
              "#fb9f3a"
             ],
             [
              0.8888888888888888,
              "#fdca26"
             ],
             [
              1,
              "#f0f921"
             ]
            ],
            "type": "contour"
           }
          ],
          "contourcarpet": [
           {
            "colorbar": {
             "outlinewidth": 0,
             "ticks": ""
            },
            "type": "contourcarpet"
           }
          ],
          "heatmap": [
           {
            "colorbar": {
             "outlinewidth": 0,
             "ticks": ""
            },
            "colorscale": [
             [
              0,
              "#0d0887"
             ],
             [
              0.1111111111111111,
              "#46039f"
             ],
             [
              0.2222222222222222,
              "#7201a8"
             ],
             [
              0.3333333333333333,
              "#9c179e"
             ],
             [
              0.4444444444444444,
              "#bd3786"
             ],
             [
              0.5555555555555556,
              "#d8576b"
             ],
             [
              0.6666666666666666,
              "#ed7953"
             ],
             [
              0.7777777777777778,
              "#fb9f3a"
             ],
             [
              0.8888888888888888,
              "#fdca26"
             ],
             [
              1,
              "#f0f921"
             ]
            ],
            "type": "heatmap"
           }
          ],
          "heatmapgl": [
           {
            "colorbar": {
             "outlinewidth": 0,
             "ticks": ""
            },
            "colorscale": [
             [
              0,
              "#0d0887"
             ],
             [
              0.1111111111111111,
              "#46039f"
             ],
             [
              0.2222222222222222,
              "#7201a8"
             ],
             [
              0.3333333333333333,
              "#9c179e"
             ],
             [
              0.4444444444444444,
              "#bd3786"
             ],
             [
              0.5555555555555556,
              "#d8576b"
             ],
             [
              0.6666666666666666,
              "#ed7953"
             ],
             [
              0.7777777777777778,
              "#fb9f3a"
             ],
             [
              0.8888888888888888,
              "#fdca26"
             ],
             [
              1,
              "#f0f921"
             ]
            ],
            "type": "heatmapgl"
           }
          ],
          "histogram": [
           {
            "marker": {
             "pattern": {
              "fillmode": "overlay",
              "size": 10,
              "solidity": 0.2
             }
            },
            "type": "histogram"
           }
          ],
          "histogram2d": [
           {
            "colorbar": {
             "outlinewidth": 0,
             "ticks": ""
            },
            "colorscale": [
             [
              0,
              "#0d0887"
             ],
             [
              0.1111111111111111,
              "#46039f"
             ],
             [
              0.2222222222222222,
              "#7201a8"
             ],
             [
              0.3333333333333333,
              "#9c179e"
             ],
             [
              0.4444444444444444,
              "#bd3786"
             ],
             [
              0.5555555555555556,
              "#d8576b"
             ],
             [
              0.6666666666666666,
              "#ed7953"
             ],
             [
              0.7777777777777778,
              "#fb9f3a"
             ],
             [
              0.8888888888888888,
              "#fdca26"
             ],
             [
              1,
              "#f0f921"
             ]
            ],
            "type": "histogram2d"
           }
          ],
          "histogram2dcontour": [
           {
            "colorbar": {
             "outlinewidth": 0,
             "ticks": ""
            },
            "colorscale": [
             [
              0,
              "#0d0887"
             ],
             [
              0.1111111111111111,
              "#46039f"
             ],
             [
              0.2222222222222222,
              "#7201a8"
             ],
             [
              0.3333333333333333,
              "#9c179e"
             ],
             [
              0.4444444444444444,
              "#bd3786"
             ],
             [
              0.5555555555555556,
              "#d8576b"
             ],
             [
              0.6666666666666666,
              "#ed7953"
             ],
             [
              0.7777777777777778,
              "#fb9f3a"
             ],
             [
              0.8888888888888888,
              "#fdca26"
             ],
             [
              1,
              "#f0f921"
             ]
            ],
            "type": "histogram2dcontour"
           }
          ],
          "mesh3d": [
           {
            "colorbar": {
             "outlinewidth": 0,
             "ticks": ""
            },
            "type": "mesh3d"
           }
          ],
          "parcoords": [
           {
            "line": {
             "colorbar": {
              "outlinewidth": 0,
              "ticks": ""
             }
            },
            "type": "parcoords"
           }
          ],
          "pie": [
           {
            "automargin": true,
            "type": "pie"
           }
          ],
          "scatter": [
           {
            "fillpattern": {
             "fillmode": "overlay",
             "size": 10,
             "solidity": 0.2
            },
            "type": "scatter"
           }
          ],
          "scatter3d": [
           {
            "line": {
             "colorbar": {
              "outlinewidth": 0,
              "ticks": ""
             }
            },
            "marker": {
             "colorbar": {
              "outlinewidth": 0,
              "ticks": ""
             }
            },
            "type": "scatter3d"
           }
          ],
          "scattercarpet": [
           {
            "marker": {
             "colorbar": {
              "outlinewidth": 0,
              "ticks": ""
             }
            },
            "type": "scattercarpet"
           }
          ],
          "scattergeo": [
           {
            "marker": {
             "colorbar": {
              "outlinewidth": 0,
              "ticks": ""
             }
            },
            "type": "scattergeo"
           }
          ],
          "scattergl": [
           {
            "marker": {
             "colorbar": {
              "outlinewidth": 0,
              "ticks": ""
             }
            },
            "type": "scattergl"
           }
          ],
          "scattermapbox": [
           {
            "marker": {
             "colorbar": {
              "outlinewidth": 0,
              "ticks": ""
             }
            },
            "type": "scattermapbox"
           }
          ],
          "scatterpolar": [
           {
            "marker": {
             "colorbar": {
              "outlinewidth": 0,
              "ticks": ""
             }
            },
            "type": "scatterpolar"
           }
          ],
          "scatterpolargl": [
           {
            "marker": {
             "colorbar": {
              "outlinewidth": 0,
              "ticks": ""
             }
            },
            "type": "scatterpolargl"
           }
          ],
          "scatterternary": [
           {
            "marker": {
             "colorbar": {
              "outlinewidth": 0,
              "ticks": ""
             }
            },
            "type": "scatterternary"
           }
          ],
          "surface": [
           {
            "colorbar": {
             "outlinewidth": 0,
             "ticks": ""
            },
            "colorscale": [
             [
              0,
              "#0d0887"
             ],
             [
              0.1111111111111111,
              "#46039f"
             ],
             [
              0.2222222222222222,
              "#7201a8"
             ],
             [
              0.3333333333333333,
              "#9c179e"
             ],
             [
              0.4444444444444444,
              "#bd3786"
             ],
             [
              0.5555555555555556,
              "#d8576b"
             ],
             [
              0.6666666666666666,
              "#ed7953"
             ],
             [
              0.7777777777777778,
              "#fb9f3a"
             ],
             [
              0.8888888888888888,
              "#fdca26"
             ],
             [
              1,
              "#f0f921"
             ]
            ],
            "type": "surface"
           }
          ],
          "table": [
           {
            "cells": {
             "fill": {
              "color": "#EBF0F8"
             },
             "line": {
              "color": "white"
             }
            },
            "header": {
             "fill": {
              "color": "#C8D4E3"
             },
             "line": {
              "color": "white"
             }
            },
            "type": "table"
           }
          ]
         },
         "layout": {
          "annotationdefaults": {
           "arrowcolor": "#2a3f5f",
           "arrowhead": 0,
           "arrowwidth": 1
          },
          "autotypenumbers": "strict",
          "coloraxis": {
           "colorbar": {
            "outlinewidth": 0,
            "ticks": ""
           }
          },
          "colorscale": {
           "diverging": [
            [
             0,
             "#8e0152"
            ],
            [
             0.1,
             "#c51b7d"
            ],
            [
             0.2,
             "#de77ae"
            ],
            [
             0.3,
             "#f1b6da"
            ],
            [
             0.4,
             "#fde0ef"
            ],
            [
             0.5,
             "#f7f7f7"
            ],
            [
             0.6,
             "#e6f5d0"
            ],
            [
             0.7,
             "#b8e186"
            ],
            [
             0.8,
             "#7fbc41"
            ],
            [
             0.9,
             "#4d9221"
            ],
            [
             1,
             "#276419"
            ]
           ],
           "sequential": [
            [
             0,
             "#0d0887"
            ],
            [
             0.1111111111111111,
             "#46039f"
            ],
            [
             0.2222222222222222,
             "#7201a8"
            ],
            [
             0.3333333333333333,
             "#9c179e"
            ],
            [
             0.4444444444444444,
             "#bd3786"
            ],
            [
             0.5555555555555556,
             "#d8576b"
            ],
            [
             0.6666666666666666,
             "#ed7953"
            ],
            [
             0.7777777777777778,
             "#fb9f3a"
            ],
            [
             0.8888888888888888,
             "#fdca26"
            ],
            [
             1,
             "#f0f921"
            ]
           ],
           "sequentialminus": [
            [
             0,
             "#0d0887"
            ],
            [
             0.1111111111111111,
             "#46039f"
            ],
            [
             0.2222222222222222,
             "#7201a8"
            ],
            [
             0.3333333333333333,
             "#9c179e"
            ],
            [
             0.4444444444444444,
             "#bd3786"
            ],
            [
             0.5555555555555556,
             "#d8576b"
            ],
            [
             0.6666666666666666,
             "#ed7953"
            ],
            [
             0.7777777777777778,
             "#fb9f3a"
            ],
            [
             0.8888888888888888,
             "#fdca26"
            ],
            [
             1,
             "#f0f921"
            ]
           ]
          },
          "colorway": [
           "#636efa",
           "#EF553B",
           "#00cc96",
           "#ab63fa",
           "#FFA15A",
           "#19d3f3",
           "#FF6692",
           "#B6E880",
           "#FF97FF",
           "#FECB52"
          ],
          "font": {
           "color": "#2a3f5f"
          },
          "geo": {
           "bgcolor": "white",
           "lakecolor": "white",
           "landcolor": "#E5ECF6",
           "showlakes": true,
           "showland": true,
           "subunitcolor": "white"
          },
          "hoverlabel": {
           "align": "left"
          },
          "hovermode": "closest",
          "mapbox": {
           "style": "light"
          },
          "paper_bgcolor": "white",
          "plot_bgcolor": "#E5ECF6",
          "polar": {
           "angularaxis": {
            "gridcolor": "white",
            "linecolor": "white",
            "ticks": ""
           },
           "bgcolor": "#E5ECF6",
           "radialaxis": {
            "gridcolor": "white",
            "linecolor": "white",
            "ticks": ""
           }
          },
          "scene": {
           "xaxis": {
            "backgroundcolor": "#E5ECF6",
            "gridcolor": "white",
            "gridwidth": 2,
            "linecolor": "white",
            "showbackground": true,
            "ticks": "",
            "zerolinecolor": "white"
           },
           "yaxis": {
            "backgroundcolor": "#E5ECF6",
            "gridcolor": "white",
            "gridwidth": 2,
            "linecolor": "white",
            "showbackground": true,
            "ticks": "",
            "zerolinecolor": "white"
           },
           "zaxis": {
            "backgroundcolor": "#E5ECF6",
            "gridcolor": "white",
            "gridwidth": 2,
            "linecolor": "white",
            "showbackground": true,
            "ticks": "",
            "zerolinecolor": "white"
           }
          },
          "shapedefaults": {
           "line": {
            "color": "#2a3f5f"
           }
          },
          "ternary": {
           "aaxis": {
            "gridcolor": "white",
            "linecolor": "white",
            "ticks": ""
           },
           "baxis": {
            "gridcolor": "white",
            "linecolor": "white",
            "ticks": ""
           },
           "bgcolor": "#E5ECF6",
           "caxis": {
            "gridcolor": "white",
            "linecolor": "white",
            "ticks": ""
           }
          },
          "title": {
           "x": 0.05
          },
          "xaxis": {
           "automargin": true,
           "gridcolor": "white",
           "linecolor": "white",
           "ticks": "",
           "title": {
            "standoff": 15
           },
           "zerolinecolor": "white",
           "zerolinewidth": 2
          },
          "yaxis": {
           "automargin": true,
           "gridcolor": "white",
           "linecolor": "white",
           "ticks": "",
           "title": {
            "standoff": 15
           },
           "zerolinecolor": "white",
           "zerolinewidth": 2
          }
         }
        },
        "xaxis": {
         "anchor": "y",
         "domain": [
          0,
          1
         ],
         "title": {
          "text": "n_neighbors"
         }
        },
        "yaxis": {
         "anchor": "x",
         "domain": [
          0,
          1
         ],
         "title": {
          "text": "RMSE"
         }
        }
       }
      }
     },
     "metadata": {},
     "output_type": "display_data"
    },
    {
     "data": {
      "application/vnd.plotly.v1+json": {
       "config": {
        "plotlyServerURL": "https://plot.ly"
       },
       "data": [
        {
         "hovertemplate": "weights=Default<br>n_neighbors=%{x}<br>R2=%{y}<extra></extra>",
         "legendgroup": "Default",
         "marker": {
          "color": "#636efa",
          "symbol": "circle"
         },
         "mode": "markers",
         "name": "Default",
         "orientation": "v",
         "showlegend": true,
         "type": "scatter",
         "x": [
          "Default"
         ],
         "xaxis": "x",
         "y": [
          0.024844546773204246
         ],
         "yaxis": "y"
        },
        {
         "hovertemplate": "weights=uniform<br>n_neighbors=%{x}<br>R2=%{y}<extra></extra>",
         "legendgroup": "uniform",
         "marker": {
          "color": "#EF553B",
          "symbol": "circle"
         },
         "mode": "markers",
         "name": "uniform",
         "orientation": "v",
         "showlegend": true,
         "type": "scatter",
         "x": [
          3,
          5,
          7,
          9
         ],
         "xaxis": "x",
         "y": [
          -0.09904434665505593,
          0.0023493029686588287,
          0.02895800763894547,
          0.04191409125233592
         ],
         "yaxis": "y"
        },
        {
         "hovertemplate": "weights=distance<br>n_neighbors=%{x}<br>R2=%{y}<extra></extra>",
         "legendgroup": "distance",
         "marker": {
          "color": "#00cc96",
          "symbol": "circle"
         },
         "mode": "markers",
         "name": "distance",
         "orientation": "v",
         "showlegend": true,
         "type": "scatter",
         "x": [
          3,
          5,
          7,
          9
         ],
         "xaxis": "x",
         "y": [
          -0.1280250030627747,
          -0.011167808175167559,
          0.019529828657690505,
          0.03520225780243576
         ],
         "yaxis": "y"
        }
       ],
       "layout": {
        "legend": {
         "title": {
          "text": "weights"
         },
         "tracegroupgap": 0
        },
        "margin": {
         "t": 60
        },
        "template": {
         "data": {
          "bar": [
           {
            "error_x": {
             "color": "#2a3f5f"
            },
            "error_y": {
             "color": "#2a3f5f"
            },
            "marker": {
             "line": {
              "color": "#E5ECF6",
              "width": 0.5
             },
             "pattern": {
              "fillmode": "overlay",
              "size": 10,
              "solidity": 0.2
             }
            },
            "type": "bar"
           }
          ],
          "barpolar": [
           {
            "marker": {
             "line": {
              "color": "#E5ECF6",
              "width": 0.5
             },
             "pattern": {
              "fillmode": "overlay",
              "size": 10,
              "solidity": 0.2
             }
            },
            "type": "barpolar"
           }
          ],
          "carpet": [
           {
            "aaxis": {
             "endlinecolor": "#2a3f5f",
             "gridcolor": "white",
             "linecolor": "white",
             "minorgridcolor": "white",
             "startlinecolor": "#2a3f5f"
            },
            "baxis": {
             "endlinecolor": "#2a3f5f",
             "gridcolor": "white",
             "linecolor": "white",
             "minorgridcolor": "white",
             "startlinecolor": "#2a3f5f"
            },
            "type": "carpet"
           }
          ],
          "choropleth": [
           {
            "colorbar": {
             "outlinewidth": 0,
             "ticks": ""
            },
            "type": "choropleth"
           }
          ],
          "contour": [
           {
            "colorbar": {
             "outlinewidth": 0,
             "ticks": ""
            },
            "colorscale": [
             [
              0,
              "#0d0887"
             ],
             [
              0.1111111111111111,
              "#46039f"
             ],
             [
              0.2222222222222222,
              "#7201a8"
             ],
             [
              0.3333333333333333,
              "#9c179e"
             ],
             [
              0.4444444444444444,
              "#bd3786"
             ],
             [
              0.5555555555555556,
              "#d8576b"
             ],
             [
              0.6666666666666666,
              "#ed7953"
             ],
             [
              0.7777777777777778,
              "#fb9f3a"
             ],
             [
              0.8888888888888888,
              "#fdca26"
             ],
             [
              1,
              "#f0f921"
             ]
            ],
            "type": "contour"
           }
          ],
          "contourcarpet": [
           {
            "colorbar": {
             "outlinewidth": 0,
             "ticks": ""
            },
            "type": "contourcarpet"
           }
          ],
          "heatmap": [
           {
            "colorbar": {
             "outlinewidth": 0,
             "ticks": ""
            },
            "colorscale": [
             [
              0,
              "#0d0887"
             ],
             [
              0.1111111111111111,
              "#46039f"
             ],
             [
              0.2222222222222222,
              "#7201a8"
             ],
             [
              0.3333333333333333,
              "#9c179e"
             ],
             [
              0.4444444444444444,
              "#bd3786"
             ],
             [
              0.5555555555555556,
              "#d8576b"
             ],
             [
              0.6666666666666666,
              "#ed7953"
             ],
             [
              0.7777777777777778,
              "#fb9f3a"
             ],
             [
              0.8888888888888888,
              "#fdca26"
             ],
             [
              1,
              "#f0f921"
             ]
            ],
            "type": "heatmap"
           }
          ],
          "heatmapgl": [
           {
            "colorbar": {
             "outlinewidth": 0,
             "ticks": ""
            },
            "colorscale": [
             [
              0,
              "#0d0887"
             ],
             [
              0.1111111111111111,
              "#46039f"
             ],
             [
              0.2222222222222222,
              "#7201a8"
             ],
             [
              0.3333333333333333,
              "#9c179e"
             ],
             [
              0.4444444444444444,
              "#bd3786"
             ],
             [
              0.5555555555555556,
              "#d8576b"
             ],
             [
              0.6666666666666666,
              "#ed7953"
             ],
             [
              0.7777777777777778,
              "#fb9f3a"
             ],
             [
              0.8888888888888888,
              "#fdca26"
             ],
             [
              1,
              "#f0f921"
             ]
            ],
            "type": "heatmapgl"
           }
          ],
          "histogram": [
           {
            "marker": {
             "pattern": {
              "fillmode": "overlay",
              "size": 10,
              "solidity": 0.2
             }
            },
            "type": "histogram"
           }
          ],
          "histogram2d": [
           {
            "colorbar": {
             "outlinewidth": 0,
             "ticks": ""
            },
            "colorscale": [
             [
              0,
              "#0d0887"
             ],
             [
              0.1111111111111111,
              "#46039f"
             ],
             [
              0.2222222222222222,
              "#7201a8"
             ],
             [
              0.3333333333333333,
              "#9c179e"
             ],
             [
              0.4444444444444444,
              "#bd3786"
             ],
             [
              0.5555555555555556,
              "#d8576b"
             ],
             [
              0.6666666666666666,
              "#ed7953"
             ],
             [
              0.7777777777777778,
              "#fb9f3a"
             ],
             [
              0.8888888888888888,
              "#fdca26"
             ],
             [
              1,
              "#f0f921"
             ]
            ],
            "type": "histogram2d"
           }
          ],
          "histogram2dcontour": [
           {
            "colorbar": {
             "outlinewidth": 0,
             "ticks": ""
            },
            "colorscale": [
             [
              0,
              "#0d0887"
             ],
             [
              0.1111111111111111,
              "#46039f"
             ],
             [
              0.2222222222222222,
              "#7201a8"
             ],
             [
              0.3333333333333333,
              "#9c179e"
             ],
             [
              0.4444444444444444,
              "#bd3786"
             ],
             [
              0.5555555555555556,
              "#d8576b"
             ],
             [
              0.6666666666666666,
              "#ed7953"
             ],
             [
              0.7777777777777778,
              "#fb9f3a"
             ],
             [
              0.8888888888888888,
              "#fdca26"
             ],
             [
              1,
              "#f0f921"
             ]
            ],
            "type": "histogram2dcontour"
           }
          ],
          "mesh3d": [
           {
            "colorbar": {
             "outlinewidth": 0,
             "ticks": ""
            },
            "type": "mesh3d"
           }
          ],
          "parcoords": [
           {
            "line": {
             "colorbar": {
              "outlinewidth": 0,
              "ticks": ""
             }
            },
            "type": "parcoords"
           }
          ],
          "pie": [
           {
            "automargin": true,
            "type": "pie"
           }
          ],
          "scatter": [
           {
            "fillpattern": {
             "fillmode": "overlay",
             "size": 10,
             "solidity": 0.2
            },
            "type": "scatter"
           }
          ],
          "scatter3d": [
           {
            "line": {
             "colorbar": {
              "outlinewidth": 0,
              "ticks": ""
             }
            },
            "marker": {
             "colorbar": {
              "outlinewidth": 0,
              "ticks": ""
             }
            },
            "type": "scatter3d"
           }
          ],
          "scattercarpet": [
           {
            "marker": {
             "colorbar": {
              "outlinewidth": 0,
              "ticks": ""
             }
            },
            "type": "scattercarpet"
           }
          ],
          "scattergeo": [
           {
            "marker": {
             "colorbar": {
              "outlinewidth": 0,
              "ticks": ""
             }
            },
            "type": "scattergeo"
           }
          ],
          "scattergl": [
           {
            "marker": {
             "colorbar": {
              "outlinewidth": 0,
              "ticks": ""
             }
            },
            "type": "scattergl"
           }
          ],
          "scattermapbox": [
           {
            "marker": {
             "colorbar": {
              "outlinewidth": 0,
              "ticks": ""
             }
            },
            "type": "scattermapbox"
           }
          ],
          "scatterpolar": [
           {
            "marker": {
             "colorbar": {
              "outlinewidth": 0,
              "ticks": ""
             }
            },
            "type": "scatterpolar"
           }
          ],
          "scatterpolargl": [
           {
            "marker": {
             "colorbar": {
              "outlinewidth": 0,
              "ticks": ""
             }
            },
            "type": "scatterpolargl"
           }
          ],
          "scatterternary": [
           {
            "marker": {
             "colorbar": {
              "outlinewidth": 0,
              "ticks": ""
             }
            },
            "type": "scatterternary"
           }
          ],
          "surface": [
           {
            "colorbar": {
             "outlinewidth": 0,
             "ticks": ""
            },
            "colorscale": [
             [
              0,
              "#0d0887"
             ],
             [
              0.1111111111111111,
              "#46039f"
             ],
             [
              0.2222222222222222,
              "#7201a8"
             ],
             [
              0.3333333333333333,
              "#9c179e"
             ],
             [
              0.4444444444444444,
              "#bd3786"
             ],
             [
              0.5555555555555556,
              "#d8576b"
             ],
             [
              0.6666666666666666,
              "#ed7953"
             ],
             [
              0.7777777777777778,
              "#fb9f3a"
             ],
             [
              0.8888888888888888,
              "#fdca26"
             ],
             [
              1,
              "#f0f921"
             ]
            ],
            "type": "surface"
           }
          ],
          "table": [
           {
            "cells": {
             "fill": {
              "color": "#EBF0F8"
             },
             "line": {
              "color": "white"
             }
            },
            "header": {
             "fill": {
              "color": "#C8D4E3"
             },
             "line": {
              "color": "white"
             }
            },
            "type": "table"
           }
          ]
         },
         "layout": {
          "annotationdefaults": {
           "arrowcolor": "#2a3f5f",
           "arrowhead": 0,
           "arrowwidth": 1
          },
          "autotypenumbers": "strict",
          "coloraxis": {
           "colorbar": {
            "outlinewidth": 0,
            "ticks": ""
           }
          },
          "colorscale": {
           "diverging": [
            [
             0,
             "#8e0152"
            ],
            [
             0.1,
             "#c51b7d"
            ],
            [
             0.2,
             "#de77ae"
            ],
            [
             0.3,
             "#f1b6da"
            ],
            [
             0.4,
             "#fde0ef"
            ],
            [
             0.5,
             "#f7f7f7"
            ],
            [
             0.6,
             "#e6f5d0"
            ],
            [
             0.7,
             "#b8e186"
            ],
            [
             0.8,
             "#7fbc41"
            ],
            [
             0.9,
             "#4d9221"
            ],
            [
             1,
             "#276419"
            ]
           ],
           "sequential": [
            [
             0,
             "#0d0887"
            ],
            [
             0.1111111111111111,
             "#46039f"
            ],
            [
             0.2222222222222222,
             "#7201a8"
            ],
            [
             0.3333333333333333,
             "#9c179e"
            ],
            [
             0.4444444444444444,
             "#bd3786"
            ],
            [
             0.5555555555555556,
             "#d8576b"
            ],
            [
             0.6666666666666666,
             "#ed7953"
            ],
            [
             0.7777777777777778,
             "#fb9f3a"
            ],
            [
             0.8888888888888888,
             "#fdca26"
            ],
            [
             1,
             "#f0f921"
            ]
           ],
           "sequentialminus": [
            [
             0,
             "#0d0887"
            ],
            [
             0.1111111111111111,
             "#46039f"
            ],
            [
             0.2222222222222222,
             "#7201a8"
            ],
            [
             0.3333333333333333,
             "#9c179e"
            ],
            [
             0.4444444444444444,
             "#bd3786"
            ],
            [
             0.5555555555555556,
             "#d8576b"
            ],
            [
             0.6666666666666666,
             "#ed7953"
            ],
            [
             0.7777777777777778,
             "#fb9f3a"
            ],
            [
             0.8888888888888888,
             "#fdca26"
            ],
            [
             1,
             "#f0f921"
            ]
           ]
          },
          "colorway": [
           "#636efa",
           "#EF553B",
           "#00cc96",
           "#ab63fa",
           "#FFA15A",
           "#19d3f3",
           "#FF6692",
           "#B6E880",
           "#FF97FF",
           "#FECB52"
          ],
          "font": {
           "color": "#2a3f5f"
          },
          "geo": {
           "bgcolor": "white",
           "lakecolor": "white",
           "landcolor": "#E5ECF6",
           "showlakes": true,
           "showland": true,
           "subunitcolor": "white"
          },
          "hoverlabel": {
           "align": "left"
          },
          "hovermode": "closest",
          "mapbox": {
           "style": "light"
          },
          "paper_bgcolor": "white",
          "plot_bgcolor": "#E5ECF6",
          "polar": {
           "angularaxis": {
            "gridcolor": "white",
            "linecolor": "white",
            "ticks": ""
           },
           "bgcolor": "#E5ECF6",
           "radialaxis": {
            "gridcolor": "white",
            "linecolor": "white",
            "ticks": ""
           }
          },
          "scene": {
           "xaxis": {
            "backgroundcolor": "#E5ECF6",
            "gridcolor": "white",
            "gridwidth": 2,
            "linecolor": "white",
            "showbackground": true,
            "ticks": "",
            "zerolinecolor": "white"
           },
           "yaxis": {
            "backgroundcolor": "#E5ECF6",
            "gridcolor": "white",
            "gridwidth": 2,
            "linecolor": "white",
            "showbackground": true,
            "ticks": "",
            "zerolinecolor": "white"
           },
           "zaxis": {
            "backgroundcolor": "#E5ECF6",
            "gridcolor": "white",
            "gridwidth": 2,
            "linecolor": "white",
            "showbackground": true,
            "ticks": "",
            "zerolinecolor": "white"
           }
          },
          "shapedefaults": {
           "line": {
            "color": "#2a3f5f"
           }
          },
          "ternary": {
           "aaxis": {
            "gridcolor": "white",
            "linecolor": "white",
            "ticks": ""
           },
           "baxis": {
            "gridcolor": "white",
            "linecolor": "white",
            "ticks": ""
           },
           "bgcolor": "#E5ECF6",
           "caxis": {
            "gridcolor": "white",
            "linecolor": "white",
            "ticks": ""
           }
          },
          "title": {
           "x": 0.05
          },
          "xaxis": {
           "automargin": true,
           "gridcolor": "white",
           "linecolor": "white",
           "ticks": "",
           "title": {
            "standoff": 15
           },
           "zerolinecolor": "white",
           "zerolinewidth": 2
          },
          "yaxis": {
           "automargin": true,
           "gridcolor": "white",
           "linecolor": "white",
           "ticks": "",
           "title": {
            "standoff": 15
           },
           "zerolinecolor": "white",
           "zerolinewidth": 2
          }
         }
        },
        "xaxis": {
         "anchor": "y",
         "domain": [
          0,
          1
         ],
         "title": {
          "text": "n_neighbors"
         }
        },
        "yaxis": {
         "anchor": "x",
         "domain": [
          0,
          1
         ],
         "title": {
          "text": "R2"
         }
        }
       }
      }
     },
     "metadata": {},
     "output_type": "display_data"
    }
   ],
   "source": [
    "# TODO: create 2D or 3D plot that shows how the selected parameter values affect the MAE (or RMSE).\n",
    "\n",
    "for score in knr_scoring:\n",
    "    fig = px.scatter(\n",
    "        knr_results,\n",
    "        x = \"n_neighbors\",\n",
    "        y = score,\n",
    "        color = \"weights\"\n",
    "    )\n",
    "    fig.show()\n"
   ]
  },
  {
   "cell_type": "code",
   "execution_count": 35,
   "id": "ff17db20",
   "metadata": {},
   "outputs": [],
   "source": [
    "# TODO: compute the performance of the model on your held-out test data\n",
    "optimal_params = optimized_knr.best_params_\n",
    "optimal_knr = KNeighborsRegressor(**optimal_params)\n",
    "optimal_knr.fit(X = X_lstrain, y = y_lstrain)\n",
    "pred = optimal_knr.predict(X = X_lstest)\n",
    "\n",
    "optimal_mae = mean_absolute_error(y_true = y_lstest, y_pred = pred)\n",
    "optimal_mse = mean_squared_error(y_true = y_lstest, y_pred = pred)\n",
    "optimal_rmse = mean_squared_error(y_true = y_lstest, y_pred = pred, squared = False)\n",
    "optimal_r2 = mean_squared_error(y_true = y_lstest, y_pred = pred)\n",
    "\n",
    "optimal_results = pd.DataFrame(columns = [\"Encoding\", \"Model\", \"n_neighbors\", \"weights\", \"MAE\", \"MSE\", \"RMSE\", \"R2\"])\n",
    "optimal_results.loc[len(optimal_results)] = {\n",
    "    \"Encoding\": \"Last-2-state\",\n",
    "    \"Model\": \"KNN Regressor\",\n",
    "    \"n_neighbors\": optimal_params[\"n_neighbors\"],\n",
    "    \"weights\": optimal_params[\"weights\"],\n",
    "    \"MAE\": optimal_mae,\n",
    "    \"MSE\": optimal_mse,\n",
    "    \"RMSE\": optimal_rmse,\n",
    "    \"R2\": optimal_r2\n",
    "}"
   ]
  },
  {
   "cell_type": "code",
   "execution_count": 37,
   "id": "810fcc2a",
   "metadata": {},
   "outputs": [
    {
     "data": {
      "text/html": [
       "<div>\n",
       "<style scoped>\n",
       "    .dataframe tbody tr th:only-of-type {\n",
       "        vertical-align: middle;\n",
       "    }\n",
       "\n",
       "    .dataframe tbody tr th {\n",
       "        vertical-align: top;\n",
       "    }\n",
       "\n",
       "    .dataframe thead th {\n",
       "        text-align: right;\n",
       "    }\n",
       "</style>\n",
       "<table border=\"1\" class=\"dataframe\">\n",
       "  <thead>\n",
       "    <tr style=\"text-align: right;\">\n",
       "      <th></th>\n",
       "      <th>Encoding</th>\n",
       "      <th>Model</th>\n",
       "      <th>n_neighbors</th>\n",
       "      <th>weights</th>\n",
       "      <th>MAE</th>\n",
       "      <th>MSE</th>\n",
       "      <th>RMSE</th>\n",
       "      <th>R2</th>\n",
       "    </tr>\n",
       "  </thead>\n",
       "  <tbody>\n",
       "    <tr>\n",
       "      <th>0</th>\n",
       "      <td>Last-2-state</td>\n",
       "      <td>KNN Regressor</td>\n",
       "      <td>3</td>\n",
       "      <td>distance</td>\n",
       "      <td>867.988034</td>\n",
       "      <td>7.441688e+06</td>\n",
       "      <td>2727.945827</td>\n",
       "      <td>7.441688e+06</td>\n",
       "    </tr>\n",
       "  </tbody>\n",
       "</table>\n",
       "</div>"
      ],
      "text/plain": [
       "       Encoding          Model  n_neighbors   weights         MAE  \\\n",
       "0  Last-2-state  KNN Regressor            3  distance  867.988034   \n",
       "\n",
       "            MSE         RMSE            R2  \n",
       "0  7.441688e+06  2727.945827  7.441688e+06  "
      ]
     },
     "execution_count": 37,
     "metadata": {},
     "output_type": "execute_result"
    }
   ],
   "source": [
    "optimal_results"
   ]
  },
  {
   "cell_type": "code",
   "execution_count": 38,
   "id": "b90d3874",
   "metadata": {},
   "outputs": [],
   "source": [
    "# TODO: repeat the above steps for *data_Sepsis_ag*\n",
    "\n",
    "# Preprocessing for KNN \n",
    "\n",
    "ohe_cols = [\"org:group\", \"Diagnose\"] \n",
    "encoded_ag_sepsis = pd.get_dummies(data_Sepsis_ag, columns = ohe_cols)\n",
    "for column in encoded_ag_sepsis:\n",
    "    encoded_ag_sepsis[column].replace({True: 1, \"True\": 1, False: 0, \"False\": 0, 'missing': np.nan}, inplace=True)\n",
    "\n",
    "# KNN can not handle NaN, so we drop groups with NaN values\n",
    "encoded_ag_sepsis = encoded_ag_sepsis.dropna()"
   ]
  },
  {
   "cell_type": "code",
   "execution_count": 39,
   "id": "ee4db4ff",
   "metadata": {},
   "outputs": [
    {
     "name": "stdout",
     "output_type": "stream",
     "text": [
      "<class 'pandas.core.frame.DataFrame'>\n",
      "Index: 5107 entries, 0 to 5175\n",
      "Data columns (total 100 columns):\n",
      " #   Column                     Non-Null Count  Dtype  \n",
      "---  ------                     --------------  -----  \n",
      " 0   DiagnosticArtAstrup        5107 non-null   float64\n",
      " 1   DiagnosticBlood            5107 non-null   float64\n",
      " 2   DiagnosticECG              5107 non-null   float64\n",
      " 3   DiagnosticIC               5107 non-null   float64\n",
      " 4   DiagnosticLacticAcid       5107 non-null   float64\n",
      " 5   DiagnosticLiquor           5107 non-null   float64\n",
      " 6   DiagnosticOther            5107 non-null   float64\n",
      " 7   DiagnosticSputum           5107 non-null   float64\n",
      " 8   DiagnosticUrinaryCulture   5107 non-null   float64\n",
      " 9   DiagnosticUrinarySediment  5107 non-null   float64\n",
      " 10  DiagnosticXthorax          5107 non-null   float64\n",
      " 11  DisfuncOrg                 5107 non-null   float64\n",
      " 12  Hypotensie                 5107 non-null   float64\n",
      " 13  Hypoxie                    5107 non-null   float64\n",
      " 14  InfectionSuspected         5107 non-null   float64\n",
      " 15  Infusion                   5107 non-null   float64\n",
      " 16  Oligurie                   5107 non-null   float64\n",
      " 17  SIRSCritHeartRate          5107 non-null   float64\n",
      " 18  SIRSCritLeucos             5107 non-null   float64\n",
      " 19  SIRSCritTachypnea          5107 non-null   float64\n",
      " 20  SIRSCritTemperature        5107 non-null   float64\n",
      " 21  SIRSCriteria2OrMore        5107 non-null   float64\n",
      " 22  Age                        5107 non-null   float64\n",
      " 23  Case ID                    5107 non-null   object \n",
      " 24  CRP                        5107 non-null   float64\n",
      " 25  LacticAcid                 5107 non-null   float64\n",
      " 26  Leucocytes                 5107 non-null   float64\n",
      " 27  Complete Timestamp         5107 non-null   object \n",
      " 28  duration                   5107 non-null   float64\n",
      " 29  month                      5107 non-null   int64  \n",
      " 30  weekday                    5107 non-null   int64  \n",
      " 31  hour                       5107 non-null   int64  \n",
      " 32  remtime                    5107 non-null   float64\n",
      " 33  elapsed                    5107 non-null   float64\n",
      " 34  act_CRP                    5107 non-null   int64  \n",
      " 35  act_ER Registration        5107 non-null   int64  \n",
      " 36  act_ER Sepsis Triage       5107 non-null   int64  \n",
      " 37  act_ER Triage              5107 non-null   int64  \n",
      " 38  act_LacticAcid             5107 non-null   int64  \n",
      " 39  act_Leucocytes             5107 non-null   int64  \n",
      " 40  org:group_A                5107 non-null   int64  \n",
      " 41  org:group_B                5107 non-null   int64  \n",
      " 42  org:group_C                5107 non-null   int64  \n",
      " 43  org:group_L                5107 non-null   int64  \n",
      " 44  Diagnose_A                 5107 non-null   int64  \n",
      " 45  Diagnose_AA                5107 non-null   int64  \n",
      " 46  Diagnose_AB                5107 non-null   int64  \n",
      " 47  Diagnose_AC                5107 non-null   int64  \n",
      " 48  Diagnose_B                 5107 non-null   int64  \n",
      " 49  Diagnose_BA                5107 non-null   int64  \n",
      " 50  Diagnose_BB                5107 non-null   int64  \n",
      " 51  Diagnose_C                 5107 non-null   int64  \n",
      " 52  Diagnose_CA                5107 non-null   int64  \n",
      " 53  Diagnose_D                 5107 non-null   int64  \n",
      " 54  Diagnose_E                 5107 non-null   int64  \n",
      " 55  Diagnose_EA                5107 non-null   int64  \n",
      " 56  Diagnose_EB                5107 non-null   int64  \n",
      " 57  Diagnose_ED                5107 non-null   int64  \n",
      " 58  Diagnose_F                 5107 non-null   int64  \n",
      " 59  Diagnose_FA                5107 non-null   int64  \n",
      " 60  Diagnose_G                 5107 non-null   int64  \n",
      " 61  Diagnose_GA                5107 non-null   int64  \n",
      " 62  Diagnose_GB                5107 non-null   int64  \n",
      " 63  Diagnose_H                 5107 non-null   int64  \n",
      " 64  Diagnose_HA                5107 non-null   int64  \n",
      " 65  Diagnose_HD                5107 non-null   int64  \n",
      " 66  Diagnose_IC                5107 non-null   int64  \n",
      " 67  Diagnose_J                 5107 non-null   int64  \n",
      " 68  Diagnose_JC                5107 non-null   int64  \n",
      " 69  Diagnose_K                 5107 non-null   int64  \n",
      " 70  Diagnose_KA                5107 non-null   int64  \n",
      " 71  Diagnose_LA                5107 non-null   int64  \n",
      " 72  Diagnose_LC                5107 non-null   int64  \n",
      " 73  Diagnose_M                 5107 non-null   int64  \n",
      " 74  Diagnose_MA                5107 non-null   int64  \n",
      " 75  Diagnose_MD                5107 non-null   int64  \n",
      " 76  Diagnose_N                 5107 non-null   int64  \n",
      " 77  Diagnose_OB                5107 non-null   int64  \n",
      " 78  Diagnose_P                 5107 non-null   int64  \n",
      " 79  Diagnose_PC                5107 non-null   int64  \n",
      " 80  Diagnose_Q                 5107 non-null   int64  \n",
      " 81  Diagnose_R                 5107 non-null   int64  \n",
      " 82  Diagnose_RB                5107 non-null   int64  \n",
      " 83  Diagnose_RC                5107 non-null   int64  \n",
      " 84  Diagnose_S                 5107 non-null   int64  \n",
      " 85  Diagnose_SB                5107 non-null   int64  \n",
      " 86  Diagnose_T                 5107 non-null   int64  \n",
      " 87  Diagnose_TB                5107 non-null   int64  \n",
      " 88  Diagnose_U                 5107 non-null   int64  \n",
      " 89  Diagnose_UA                5107 non-null   int64  \n",
      " 90  Diagnose_UC                5107 non-null   int64  \n",
      " 91  Diagnose_VA                5107 non-null   int64  \n",
      " 92  Diagnose_VB                5107 non-null   int64  \n",
      " 93  Diagnose_W                 5107 non-null   int64  \n",
      " 94  Diagnose_XA                5107 non-null   int64  \n",
      " 95  Diagnose_Y                 5107 non-null   int64  \n",
      " 96  Diagnose_YA                5107 non-null   int64  \n",
      " 97  Diagnose_Z                 5107 non-null   int64  \n",
      " 98  Diagnose_ZA                5107 non-null   int64  \n",
      " 99  Diagnose_other             5107 non-null   int64  \n",
      "dtypes: float64(29), int64(69), object(2)\n",
      "memory usage: 3.9+ MB\n"
     ]
    }
   ],
   "source": [
    "encoded_ag_sepsis.info()"
   ]
  },
  {
   "cell_type": "code",
   "execution_count": 40,
   "id": "d56aa9c6",
   "metadata": {},
   "outputs": [],
   "source": [
    "# Normalize data\n",
    "# Create training data and held-out test data for *data_Sepsis_ls*\n",
    "X = encoded_ag_sepsis.drop(columns=['remtime', 'Case ID', \"Complete Timestamp\"])\n",
    "scaler = MinMaxScaler()\n",
    "X[X.columns] = scaler.fit_transform(X[X.columns])\n",
    "y = encoded_ag_sepsis['remtime']\n",
    "\n",
    "X_agtrain, X_agtest, y_agtrain, y_agtest = train_test_split(X, y, test_size=0.30, random_state=6, shuffle=True)"
   ]
  },
  {
   "cell_type": "code",
   "execution_count": 41,
   "id": "9874c5ef",
   "metadata": {},
   "outputs": [],
   "source": [
    "\n",
    "# TODO: using *data_Sepsis_ag* and test the default kNN Regressor model \n",
    "knr_ag = KNeighborsRegressor()\n",
    "knr_ag.fit(X = X_agtrain, y = y_agtrain)\n",
    "knr_agpred = knr_ag.predict(X = X_agtest)\n",
    "\n",
    "default_ag_mae = mean_absolute_error(y_true = y_agtest, y_pred = knr_agpred)\n",
    "default_ag_mse = mean_squared_error(y_true = y_agtest, y_pred = knr_agpred)\n",
    "default_ag_rmse = mean_squared_error(y_true = y_agtest, y_pred = knr_agpred, squared = False)\n",
    "default_ag_r2 = r2_score(y_true = y_agtest, y_pred = knr_agpred)\n",
    "\n",
    "default_results = {\n",
    "    \"Encoding\": \"Aggregation\",\n",
    "    \"Model\": \"KNN regressor\",\n",
    "    \"n_neighbors\": \"Default\",\n",
    "    \"weights\": \"Default\",\n",
    "    \"MAE\": default_ag_mae,\n",
    "    \"MSE\": default_ag_mse,\n",
    "    \"RMSE\": default_ag_rmse,\n",
    "    \"R2\": default_ag_r2\n",
    "}\n",
    "\n",
    "knr_results.loc[len(knr_results)] = default_results"
   ]
  },
  {
   "cell_type": "code",
   "execution_count": 42,
   "id": "c59338a3",
   "metadata": {},
   "outputs": [],
   "source": [
    "# TODO: set the search space of the parameters *n_neighbors* and *weights* \n",
    "knr_ag_params = {\n",
    "    \"n_neighbors\": [3, 5, 7, 9],\n",
    "    \"weights\": [\"uniform\", \"distance\"]\n",
    "}\n",
    "\n",
    "# TODO: create 5-fold cross-validation\n",
    "kf = KFold(n_splits = 5, shuffle = True, random_state = 5)\n",
    "\n",
    "# TODO: learn an optimal kNN regressor\n",
    "\n",
    "optimized_ag_knr = GridSearchCV(KNeighborsRegressor(), param_grid = knr_ag_params, scoring = knr_scoring, cv = kf, refit = \"MAE\")\n",
    "optimized_ag_knr.fit(X = X_agtrain, y = y_agtrain)\n",
    "ag_bestscore = optimized_ag_knr.best_score_\n",
    "ag_cvresults = optimized_ag_knr.cv_results_\n"
   ]
  },
  {
   "cell_type": "code",
   "execution_count": 43,
   "id": "0cfacc2c",
   "metadata": {},
   "outputs": [],
   "source": [
    "for i in range(8):\n",
    "    knr_results.loc[len(knr_results)] = {\n",
    "        \"Encoding\": \"Aggregation\",\n",
    "        \"Model\": \"KNN Regressor\",\n",
    "        \"n_neighbors\": ag_cvresults[\"param_n_neighbors\"][i],\n",
    "        \"weights\": ag_cvresults[\"param_weights\"][i],\n",
    "        \"MAE\": ag_cvresults[\"mean_test_MAE\"][i],\n",
    "        \"MSE\": ag_cvresults[\"mean_test_MSE\"][i],\n",
    "        \"RMSE\": ag_cvresults[\"mean_test_RMSE\"][i],\n",
    "        \"R2\": ag_cvresults[\"mean_test_R2\"][i]\n",
    "    }"
   ]
  },
  {
   "cell_type": "code",
   "execution_count": 51,
   "id": "3c1f4eed",
   "metadata": {},
   "outputs": [
    {
     "data": {
      "text/html": [
       "<div>\n",
       "<style scoped>\n",
       "    .dataframe tbody tr th:only-of-type {\n",
       "        vertical-align: middle;\n",
       "    }\n",
       "\n",
       "    .dataframe tbody tr th {\n",
       "        vertical-align: top;\n",
       "    }\n",
       "\n",
       "    .dataframe thead th {\n",
       "        text-align: right;\n",
       "    }\n",
       "</style>\n",
       "<table border=\"1\" class=\"dataframe\">\n",
       "  <thead>\n",
       "    <tr style=\"text-align: right;\">\n",
       "      <th></th>\n",
       "      <th>Encoding</th>\n",
       "      <th>Model</th>\n",
       "      <th>n_neighbors</th>\n",
       "      <th>weights</th>\n",
       "      <th>MAE</th>\n",
       "      <th>MSE</th>\n",
       "      <th>RMSE</th>\n",
       "      <th>R2</th>\n",
       "    </tr>\n",
       "  </thead>\n",
       "  <tbody>\n",
       "    <tr>\n",
       "      <th>0</th>\n",
       "      <td>Last-2-state</td>\n",
       "      <td>KNN regressor</td>\n",
       "      <td>Default</td>\n",
       "      <td>Default</td>\n",
       "      <td>867.905023</td>\n",
       "      <td>7.507815e+06</td>\n",
       "      <td>2740.039291</td>\n",
       "      <td>0.024845</td>\n",
       "    </tr>\n",
       "    <tr>\n",
       "      <th>1</th>\n",
       "      <td>Last-2-state</td>\n",
       "      <td>KNN Regressor</td>\n",
       "      <td>3</td>\n",
       "      <td>uniform</td>\n",
       "      <td>856.214978</td>\n",
       "      <td>5.613160e+06</td>\n",
       "      <td>2336.343535</td>\n",
       "      <td>-0.099044</td>\n",
       "    </tr>\n",
       "    <tr>\n",
       "      <th>2</th>\n",
       "      <td>Last-2-state</td>\n",
       "      <td>KNN Regressor</td>\n",
       "      <td>3</td>\n",
       "      <td>distance</td>\n",
       "      <td>857.243295</td>\n",
       "      <td>5.684197e+06</td>\n",
       "      <td>2358.122285</td>\n",
       "      <td>-0.128025</td>\n",
       "    </tr>\n",
       "    <tr>\n",
       "      <th>3</th>\n",
       "      <td>Last-2-state</td>\n",
       "      <td>KNN Regressor</td>\n",
       "      <td>5</td>\n",
       "      <td>uniform</td>\n",
       "      <td>828.125144</td>\n",
       "      <td>5.123030e+06</td>\n",
       "      <td>2230.276094</td>\n",
       "      <td>0.002349</td>\n",
       "    </tr>\n",
       "    <tr>\n",
       "      <th>4</th>\n",
       "      <td>Last-2-state</td>\n",
       "      <td>KNN Regressor</td>\n",
       "      <td>5</td>\n",
       "      <td>distance</td>\n",
       "      <td>826.968662</td>\n",
       "      <td>5.162221e+06</td>\n",
       "      <td>2241.632456</td>\n",
       "      <td>-0.011168</td>\n",
       "    </tr>\n",
       "    <tr>\n",
       "      <th>5</th>\n",
       "      <td>Last-2-state</td>\n",
       "      <td>KNN Regressor</td>\n",
       "      <td>7</td>\n",
       "      <td>uniform</td>\n",
       "      <td>826.620202</td>\n",
       "      <td>5.006414e+06</td>\n",
       "      <td>2202.861785</td>\n",
       "      <td>0.028958</td>\n",
       "    </tr>\n",
       "    <tr>\n",
       "      <th>6</th>\n",
       "      <td>Last-2-state</td>\n",
       "      <td>KNN Regressor</td>\n",
       "      <td>7</td>\n",
       "      <td>distance</td>\n",
       "      <td>824.692922</td>\n",
       "      <td>5.032257e+06</td>\n",
       "      <td>2210.906138</td>\n",
       "      <td>0.019530</td>\n",
       "    </tr>\n",
       "    <tr>\n",
       "      <th>7</th>\n",
       "      <td>Last-2-state</td>\n",
       "      <td>KNN Regressor</td>\n",
       "      <td>9</td>\n",
       "      <td>uniform</td>\n",
       "      <td>826.900029</td>\n",
       "      <td>4.955519e+06</td>\n",
       "      <td>2189.880774</td>\n",
       "      <td>0.041914</td>\n",
       "    </tr>\n",
       "    <tr>\n",
       "      <th>8</th>\n",
       "      <td>Last-2-state</td>\n",
       "      <td>KNN Regressor</td>\n",
       "      <td>9</td>\n",
       "      <td>distance</td>\n",
       "      <td>824.543538</td>\n",
       "      <td>4.970782e+06</td>\n",
       "      <td>2195.386560</td>\n",
       "      <td>0.035202</td>\n",
       "    </tr>\n",
       "    <tr>\n",
       "      <th>9</th>\n",
       "      <td>Aggregation</td>\n",
       "      <td>KNN regressor</td>\n",
       "      <td>Default</td>\n",
       "      <td>Default</td>\n",
       "      <td>804.829615</td>\n",
       "      <td>5.887139e+06</td>\n",
       "      <td>2426.342718</td>\n",
       "      <td>0.235347</td>\n",
       "    </tr>\n",
       "    <tr>\n",
       "      <th>10</th>\n",
       "      <td>Aggregation</td>\n",
       "      <td>KNN Regressor</td>\n",
       "      <td>3</td>\n",
       "      <td>uniform</td>\n",
       "      <td>771.032961</td>\n",
       "      <td>4.390652e+06</td>\n",
       "      <td>2059.220258</td>\n",
       "      <td>0.152545</td>\n",
       "    </tr>\n",
       "    <tr>\n",
       "      <th>11</th>\n",
       "      <td>Aggregation</td>\n",
       "      <td>KNN Regressor</td>\n",
       "      <td>3</td>\n",
       "      <td>distance</td>\n",
       "      <td>734.765063</td>\n",
       "      <td>4.163526e+06</td>\n",
       "      <td>2001.271888</td>\n",
       "      <td>0.202738</td>\n",
       "    </tr>\n",
       "    <tr>\n",
       "      <th>12</th>\n",
       "      <td>Aggregation</td>\n",
       "      <td>KNN Regressor</td>\n",
       "      <td>5</td>\n",
       "      <td>uniform</td>\n",
       "      <td>800.090107</td>\n",
       "      <td>4.439240e+06</td>\n",
       "      <td>2066.890449</td>\n",
       "      <td>0.149266</td>\n",
       "    </tr>\n",
       "    <tr>\n",
       "      <th>13</th>\n",
       "      <td>Aggregation</td>\n",
       "      <td>KNN Regressor</td>\n",
       "      <td>5</td>\n",
       "      <td>distance</td>\n",
       "      <td>758.729810</td>\n",
       "      <td>4.177634e+06</td>\n",
       "      <td>2000.850609</td>\n",
       "      <td>0.205522</td>\n",
       "    </tr>\n",
       "    <tr>\n",
       "      <th>14</th>\n",
       "      <td>Aggregation</td>\n",
       "      <td>KNN Regressor</td>\n",
       "      <td>7</td>\n",
       "      <td>uniform</td>\n",
       "      <td>807.249965</td>\n",
       "      <td>4.417226e+06</td>\n",
       "      <td>2064.882098</td>\n",
       "      <td>0.149647</td>\n",
       "    </tr>\n",
       "    <tr>\n",
       "      <th>15</th>\n",
       "      <td>Aggregation</td>\n",
       "      <td>KNN Regressor</td>\n",
       "      <td>7</td>\n",
       "      <td>distance</td>\n",
       "      <td>771.229262</td>\n",
       "      <td>4.186426e+06</td>\n",
       "      <td>2006.226004</td>\n",
       "      <td>0.199862</td>\n",
       "    </tr>\n",
       "    <tr>\n",
       "      <th>16</th>\n",
       "      <td>Aggregation</td>\n",
       "      <td>KNN Regressor</td>\n",
       "      <td>9</td>\n",
       "      <td>uniform</td>\n",
       "      <td>795.621711</td>\n",
       "      <td>4.354848e+06</td>\n",
       "      <td>2048.303613</td>\n",
       "      <td>0.164380</td>\n",
       "    </tr>\n",
       "    <tr>\n",
       "      <th>17</th>\n",
       "      <td>Aggregation</td>\n",
       "      <td>KNN Regressor</td>\n",
       "      <td>9</td>\n",
       "      <td>distance</td>\n",
       "      <td>765.796564</td>\n",
       "      <td>4.158689e+06</td>\n",
       "      <td>1998.331346</td>\n",
       "      <td>0.206734</td>\n",
       "    </tr>\n",
       "  </tbody>\n",
       "</table>\n",
       "</div>"
      ],
      "text/plain": [
       "        Encoding          Model n_neighbors   weights         MAE  \\\n",
       "0   Last-2-state  KNN regressor     Default   Default  867.905023   \n",
       "1   Last-2-state  KNN Regressor           3   uniform  856.214978   \n",
       "2   Last-2-state  KNN Regressor           3  distance  857.243295   \n",
       "3   Last-2-state  KNN Regressor           5   uniform  828.125144   \n",
       "4   Last-2-state  KNN Regressor           5  distance  826.968662   \n",
       "5   Last-2-state  KNN Regressor           7   uniform  826.620202   \n",
       "6   Last-2-state  KNN Regressor           7  distance  824.692922   \n",
       "7   Last-2-state  KNN Regressor           9   uniform  826.900029   \n",
       "8   Last-2-state  KNN Regressor           9  distance  824.543538   \n",
       "9    Aggregation  KNN regressor     Default   Default  804.829615   \n",
       "10   Aggregation  KNN Regressor           3   uniform  771.032961   \n",
       "11   Aggregation  KNN Regressor           3  distance  734.765063   \n",
       "12   Aggregation  KNN Regressor           5   uniform  800.090107   \n",
       "13   Aggregation  KNN Regressor           5  distance  758.729810   \n",
       "14   Aggregation  KNN Regressor           7   uniform  807.249965   \n",
       "15   Aggregation  KNN Regressor           7  distance  771.229262   \n",
       "16   Aggregation  KNN Regressor           9   uniform  795.621711   \n",
       "17   Aggregation  KNN Regressor           9  distance  765.796564   \n",
       "\n",
       "             MSE         RMSE        R2  \n",
       "0   7.507815e+06  2740.039291  0.024845  \n",
       "1   5.613160e+06  2336.343535 -0.099044  \n",
       "2   5.684197e+06  2358.122285 -0.128025  \n",
       "3   5.123030e+06  2230.276094  0.002349  \n",
       "4   5.162221e+06  2241.632456 -0.011168  \n",
       "5   5.006414e+06  2202.861785  0.028958  \n",
       "6   5.032257e+06  2210.906138  0.019530  \n",
       "7   4.955519e+06  2189.880774  0.041914  \n",
       "8   4.970782e+06  2195.386560  0.035202  \n",
       "9   5.887139e+06  2426.342718  0.235347  \n",
       "10  4.390652e+06  2059.220258  0.152545  \n",
       "11  4.163526e+06  2001.271888  0.202738  \n",
       "12  4.439240e+06  2066.890449  0.149266  \n",
       "13  4.177634e+06  2000.850609  0.205522  \n",
       "14  4.417226e+06  2064.882098  0.149647  \n",
       "15  4.186426e+06  2006.226004  0.199862  \n",
       "16  4.354848e+06  2048.303613  0.164380  \n",
       "17  4.158689e+06  1998.331346  0.206734  "
      ]
     },
     "execution_count": 51,
     "metadata": {},
     "output_type": "execute_result"
    }
   ],
   "source": [
    "knr_results"
   ]
  },
  {
   "cell_type": "code",
   "execution_count": 109,
   "id": "ab383483",
   "metadata": {},
   "outputs": [
    {
     "data": {
      "application/vnd.plotly.v1+json": {
       "config": {
        "plotlyServerURL": "https://plot.ly"
       },
       "data": [
        {
         "hovertemplate": "weights=Default<br>n_neighbors=%{x}<br>MAE=%{y}<extra></extra>",
         "legendgroup": "Default",
         "marker": {
          "color": "#636efa",
          "symbol": "circle"
         },
         "mode": "markers",
         "name": "Default",
         "orientation": "v",
         "showlegend": true,
         "type": "scatter",
         "x": [
          "Default"
         ],
         "xaxis": "x",
         "y": [
          804.8296151337246
         ],
         "yaxis": "y"
        },
        {
         "hovertemplate": "weights=uniform<br>n_neighbors=%{x}<br>MAE=%{y}<extra></extra>",
         "legendgroup": "uniform",
         "marker": {
          "color": "#EF553B",
          "symbol": "circle"
         },
         "mode": "markers",
         "name": "uniform",
         "orientation": "v",
         "showlegend": true,
         "type": "scatter",
         "x": [
          3,
          5,
          7,
          9
         ],
         "xaxis": "x",
         "y": [
          771.0329607647254,
          800.0901066776361,
          807.2499648810574,
          795.6217110122992
         ],
         "yaxis": "y"
        },
        {
         "hovertemplate": "weights=distance<br>n_neighbors=%{x}<br>MAE=%{y}<extra></extra>",
         "legendgroup": "distance",
         "marker": {
          "color": "#00cc96",
          "symbol": "circle"
         },
         "mode": "markers",
         "name": "distance",
         "orientation": "v",
         "showlegend": true,
         "type": "scatter",
         "x": [
          3,
          5,
          7,
          9
         ],
         "xaxis": "x",
         "y": [
          734.7650629652331,
          758.7298103529733,
          771.2292622355617,
          765.7965638988919
         ],
         "yaxis": "y"
        }
       ],
       "layout": {
        "legend": {
         "title": {
          "text": "weights"
         },
         "tracegroupgap": 0
        },
        "template": {
         "data": {
          "bar": [
           {
            "error_x": {
             "color": "#2a3f5f"
            },
            "error_y": {
             "color": "#2a3f5f"
            },
            "marker": {
             "line": {
              "color": "#E5ECF6",
              "width": 0.5
             },
             "pattern": {
              "fillmode": "overlay",
              "size": 10,
              "solidity": 0.2
             }
            },
            "type": "bar"
           }
          ],
          "barpolar": [
           {
            "marker": {
             "line": {
              "color": "#E5ECF6",
              "width": 0.5
             },
             "pattern": {
              "fillmode": "overlay",
              "size": 10,
              "solidity": 0.2
             }
            },
            "type": "barpolar"
           }
          ],
          "carpet": [
           {
            "aaxis": {
             "endlinecolor": "#2a3f5f",
             "gridcolor": "white",
             "linecolor": "white",
             "minorgridcolor": "white",
             "startlinecolor": "#2a3f5f"
            },
            "baxis": {
             "endlinecolor": "#2a3f5f",
             "gridcolor": "white",
             "linecolor": "white",
             "minorgridcolor": "white",
             "startlinecolor": "#2a3f5f"
            },
            "type": "carpet"
           }
          ],
          "choropleth": [
           {
            "colorbar": {
             "outlinewidth": 0,
             "ticks": ""
            },
            "type": "choropleth"
           }
          ],
          "contour": [
           {
            "colorbar": {
             "outlinewidth": 0,
             "ticks": ""
            },
            "colorscale": [
             [
              0,
              "#0d0887"
             ],
             [
              0.1111111111111111,
              "#46039f"
             ],
             [
              0.2222222222222222,
              "#7201a8"
             ],
             [
              0.3333333333333333,
              "#9c179e"
             ],
             [
              0.4444444444444444,
              "#bd3786"
             ],
             [
              0.5555555555555556,
              "#d8576b"
             ],
             [
              0.6666666666666666,
              "#ed7953"
             ],
             [
              0.7777777777777778,
              "#fb9f3a"
             ],
             [
              0.8888888888888888,
              "#fdca26"
             ],
             [
              1,
              "#f0f921"
             ]
            ],
            "type": "contour"
           }
          ],
          "contourcarpet": [
           {
            "colorbar": {
             "outlinewidth": 0,
             "ticks": ""
            },
            "type": "contourcarpet"
           }
          ],
          "heatmap": [
           {
            "colorbar": {
             "outlinewidth": 0,
             "ticks": ""
            },
            "colorscale": [
             [
              0,
              "#0d0887"
             ],
             [
              0.1111111111111111,
              "#46039f"
             ],
             [
              0.2222222222222222,
              "#7201a8"
             ],
             [
              0.3333333333333333,
              "#9c179e"
             ],
             [
              0.4444444444444444,
              "#bd3786"
             ],
             [
              0.5555555555555556,
              "#d8576b"
             ],
             [
              0.6666666666666666,
              "#ed7953"
             ],
             [
              0.7777777777777778,
              "#fb9f3a"
             ],
             [
              0.8888888888888888,
              "#fdca26"
             ],
             [
              1,
              "#f0f921"
             ]
            ],
            "type": "heatmap"
           }
          ],
          "heatmapgl": [
           {
            "colorbar": {
             "outlinewidth": 0,
             "ticks": ""
            },
            "colorscale": [
             [
              0,
              "#0d0887"
             ],
             [
              0.1111111111111111,
              "#46039f"
             ],
             [
              0.2222222222222222,
              "#7201a8"
             ],
             [
              0.3333333333333333,
              "#9c179e"
             ],
             [
              0.4444444444444444,
              "#bd3786"
             ],
             [
              0.5555555555555556,
              "#d8576b"
             ],
             [
              0.6666666666666666,
              "#ed7953"
             ],
             [
              0.7777777777777778,
              "#fb9f3a"
             ],
             [
              0.8888888888888888,
              "#fdca26"
             ],
             [
              1,
              "#f0f921"
             ]
            ],
            "type": "heatmapgl"
           }
          ],
          "histogram": [
           {
            "marker": {
             "pattern": {
              "fillmode": "overlay",
              "size": 10,
              "solidity": 0.2
             }
            },
            "type": "histogram"
           }
          ],
          "histogram2d": [
           {
            "colorbar": {
             "outlinewidth": 0,
             "ticks": ""
            },
            "colorscale": [
             [
              0,
              "#0d0887"
             ],
             [
              0.1111111111111111,
              "#46039f"
             ],
             [
              0.2222222222222222,
              "#7201a8"
             ],
             [
              0.3333333333333333,
              "#9c179e"
             ],
             [
              0.4444444444444444,
              "#bd3786"
             ],
             [
              0.5555555555555556,
              "#d8576b"
             ],
             [
              0.6666666666666666,
              "#ed7953"
             ],
             [
              0.7777777777777778,
              "#fb9f3a"
             ],
             [
              0.8888888888888888,
              "#fdca26"
             ],
             [
              1,
              "#f0f921"
             ]
            ],
            "type": "histogram2d"
           }
          ],
          "histogram2dcontour": [
           {
            "colorbar": {
             "outlinewidth": 0,
             "ticks": ""
            },
            "colorscale": [
             [
              0,
              "#0d0887"
             ],
             [
              0.1111111111111111,
              "#46039f"
             ],
             [
              0.2222222222222222,
              "#7201a8"
             ],
             [
              0.3333333333333333,
              "#9c179e"
             ],
             [
              0.4444444444444444,
              "#bd3786"
             ],
             [
              0.5555555555555556,
              "#d8576b"
             ],
             [
              0.6666666666666666,
              "#ed7953"
             ],
             [
              0.7777777777777778,
              "#fb9f3a"
             ],
             [
              0.8888888888888888,
              "#fdca26"
             ],
             [
              1,
              "#f0f921"
             ]
            ],
            "type": "histogram2dcontour"
           }
          ],
          "mesh3d": [
           {
            "colorbar": {
             "outlinewidth": 0,
             "ticks": ""
            },
            "type": "mesh3d"
           }
          ],
          "parcoords": [
           {
            "line": {
             "colorbar": {
              "outlinewidth": 0,
              "ticks": ""
             }
            },
            "type": "parcoords"
           }
          ],
          "pie": [
           {
            "automargin": true,
            "type": "pie"
           }
          ],
          "scatter": [
           {
            "fillpattern": {
             "fillmode": "overlay",
             "size": 10,
             "solidity": 0.2
            },
            "type": "scatter"
           }
          ],
          "scatter3d": [
           {
            "line": {
             "colorbar": {
              "outlinewidth": 0,
              "ticks": ""
             }
            },
            "marker": {
             "colorbar": {
              "outlinewidth": 0,
              "ticks": ""
             }
            },
            "type": "scatter3d"
           }
          ],
          "scattercarpet": [
           {
            "marker": {
             "colorbar": {
              "outlinewidth": 0,
              "ticks": ""
             }
            },
            "type": "scattercarpet"
           }
          ],
          "scattergeo": [
           {
            "marker": {
             "colorbar": {
              "outlinewidth": 0,
              "ticks": ""
             }
            },
            "type": "scattergeo"
           }
          ],
          "scattergl": [
           {
            "marker": {
             "colorbar": {
              "outlinewidth": 0,
              "ticks": ""
             }
            },
            "type": "scattergl"
           }
          ],
          "scattermapbox": [
           {
            "marker": {
             "colorbar": {
              "outlinewidth": 0,
              "ticks": ""
             }
            },
            "type": "scattermapbox"
           }
          ],
          "scatterpolar": [
           {
            "marker": {
             "colorbar": {
              "outlinewidth": 0,
              "ticks": ""
             }
            },
            "type": "scatterpolar"
           }
          ],
          "scatterpolargl": [
           {
            "marker": {
             "colorbar": {
              "outlinewidth": 0,
              "ticks": ""
             }
            },
            "type": "scatterpolargl"
           }
          ],
          "scatterternary": [
           {
            "marker": {
             "colorbar": {
              "outlinewidth": 0,
              "ticks": ""
             }
            },
            "type": "scatterternary"
           }
          ],
          "surface": [
           {
            "colorbar": {
             "outlinewidth": 0,
             "ticks": ""
            },
            "colorscale": [
             [
              0,
              "#0d0887"
             ],
             [
              0.1111111111111111,
              "#46039f"
             ],
             [
              0.2222222222222222,
              "#7201a8"
             ],
             [
              0.3333333333333333,
              "#9c179e"
             ],
             [
              0.4444444444444444,
              "#bd3786"
             ],
             [
              0.5555555555555556,
              "#d8576b"
             ],
             [
              0.6666666666666666,
              "#ed7953"
             ],
             [
              0.7777777777777778,
              "#fb9f3a"
             ],
             [
              0.8888888888888888,
              "#fdca26"
             ],
             [
              1,
              "#f0f921"
             ]
            ],
            "type": "surface"
           }
          ],
          "table": [
           {
            "cells": {
             "fill": {
              "color": "#EBF0F8"
             },
             "line": {
              "color": "white"
             }
            },
            "header": {
             "fill": {
              "color": "#C8D4E3"
             },
             "line": {
              "color": "white"
             }
            },
            "type": "table"
           }
          ]
         },
         "layout": {
          "annotationdefaults": {
           "arrowcolor": "#2a3f5f",
           "arrowhead": 0,
           "arrowwidth": 1
          },
          "autotypenumbers": "strict",
          "coloraxis": {
           "colorbar": {
            "outlinewidth": 0,
            "ticks": ""
           }
          },
          "colorscale": {
           "diverging": [
            [
             0,
             "#8e0152"
            ],
            [
             0.1,
             "#c51b7d"
            ],
            [
             0.2,
             "#de77ae"
            ],
            [
             0.3,
             "#f1b6da"
            ],
            [
             0.4,
             "#fde0ef"
            ],
            [
             0.5,
             "#f7f7f7"
            ],
            [
             0.6,
             "#e6f5d0"
            ],
            [
             0.7,
             "#b8e186"
            ],
            [
             0.8,
             "#7fbc41"
            ],
            [
             0.9,
             "#4d9221"
            ],
            [
             1,
             "#276419"
            ]
           ],
           "sequential": [
            [
             0,
             "#0d0887"
            ],
            [
             0.1111111111111111,
             "#46039f"
            ],
            [
             0.2222222222222222,
             "#7201a8"
            ],
            [
             0.3333333333333333,
             "#9c179e"
            ],
            [
             0.4444444444444444,
             "#bd3786"
            ],
            [
             0.5555555555555556,
             "#d8576b"
            ],
            [
             0.6666666666666666,
             "#ed7953"
            ],
            [
             0.7777777777777778,
             "#fb9f3a"
            ],
            [
             0.8888888888888888,
             "#fdca26"
            ],
            [
             1,
             "#f0f921"
            ]
           ],
           "sequentialminus": [
            [
             0,
             "#0d0887"
            ],
            [
             0.1111111111111111,
             "#46039f"
            ],
            [
             0.2222222222222222,
             "#7201a8"
            ],
            [
             0.3333333333333333,
             "#9c179e"
            ],
            [
             0.4444444444444444,
             "#bd3786"
            ],
            [
             0.5555555555555556,
             "#d8576b"
            ],
            [
             0.6666666666666666,
             "#ed7953"
            ],
            [
             0.7777777777777778,
             "#fb9f3a"
            ],
            [
             0.8888888888888888,
             "#fdca26"
            ],
            [
             1,
             "#f0f921"
            ]
           ]
          },
          "colorway": [
           "#636efa",
           "#EF553B",
           "#00cc96",
           "#ab63fa",
           "#FFA15A",
           "#19d3f3",
           "#FF6692",
           "#B6E880",
           "#FF97FF",
           "#FECB52"
          ],
          "font": {
           "color": "#2a3f5f"
          },
          "geo": {
           "bgcolor": "white",
           "lakecolor": "white",
           "landcolor": "#E5ECF6",
           "showlakes": true,
           "showland": true,
           "subunitcolor": "white"
          },
          "hoverlabel": {
           "align": "left"
          },
          "hovermode": "closest",
          "mapbox": {
           "style": "light"
          },
          "paper_bgcolor": "white",
          "plot_bgcolor": "#E5ECF6",
          "polar": {
           "angularaxis": {
            "gridcolor": "white",
            "linecolor": "white",
            "ticks": ""
           },
           "bgcolor": "#E5ECF6",
           "radialaxis": {
            "gridcolor": "white",
            "linecolor": "white",
            "ticks": ""
           }
          },
          "scene": {
           "xaxis": {
            "backgroundcolor": "#E5ECF6",
            "gridcolor": "white",
            "gridwidth": 2,
            "linecolor": "white",
            "showbackground": true,
            "ticks": "",
            "zerolinecolor": "white"
           },
           "yaxis": {
            "backgroundcolor": "#E5ECF6",
            "gridcolor": "white",
            "gridwidth": 2,
            "linecolor": "white",
            "showbackground": true,
            "ticks": "",
            "zerolinecolor": "white"
           },
           "zaxis": {
            "backgroundcolor": "#E5ECF6",
            "gridcolor": "white",
            "gridwidth": 2,
            "linecolor": "white",
            "showbackground": true,
            "ticks": "",
            "zerolinecolor": "white"
           }
          },
          "shapedefaults": {
           "line": {
            "color": "#2a3f5f"
           }
          },
          "ternary": {
           "aaxis": {
            "gridcolor": "white",
            "linecolor": "white",
            "ticks": ""
           },
           "baxis": {
            "gridcolor": "white",
            "linecolor": "white",
            "ticks": ""
           },
           "bgcolor": "#E5ECF6",
           "caxis": {
            "gridcolor": "white",
            "linecolor": "white",
            "ticks": ""
           }
          },
          "title": {
           "x": 0.05
          },
          "xaxis": {
           "automargin": true,
           "gridcolor": "white",
           "linecolor": "white",
           "ticks": "",
           "title": {
            "standoff": 15
           },
           "zerolinecolor": "white",
           "zerolinewidth": 2
          },
          "yaxis": {
           "automargin": true,
           "gridcolor": "white",
           "linecolor": "white",
           "ticks": "",
           "title": {
            "standoff": 15
           },
           "zerolinecolor": "white",
           "zerolinewidth": 2
          }
         }
        },
        "title": {
         "text": "MAE score with Aggregation encoding"
        },
        "xaxis": {
         "anchor": "y",
         "domain": [
          0,
          1
         ],
         "title": {
          "text": "n_neighbors"
         }
        },
        "yaxis": {
         "anchor": "x",
         "domain": [
          0,
          1
         ],
         "title": {
          "text": "MAE"
         }
        }
       }
      }
     },
     "metadata": {},
     "output_type": "display_data"
    },
    {
     "data": {
      "application/vnd.plotly.v1+json": {
       "config": {
        "plotlyServerURL": "https://plot.ly"
       },
       "data": [
        {
         "hovertemplate": "weights=Default<br>n_neighbors=%{x}<br>MAE=%{y}<extra></extra>",
         "legendgroup": "Default",
         "marker": {
          "color": "#636efa",
          "symbol": "circle"
         },
         "mode": "markers",
         "name": "Default",
         "orientation": "v",
         "showlegend": true,
         "type": "scatter",
         "x": [
          "Default"
         ],
         "xaxis": "x",
         "y": [
          867.9050228310504
         ],
         "yaxis": "y"
        },
        {
         "hovertemplate": "weights=uniform<br>n_neighbors=%{x}<br>MAE=%{y}<extra></extra>",
         "legendgroup": "uniform",
         "marker": {
          "color": "#EF553B",
          "symbol": "circle"
         },
         "mode": "markers",
         "name": "uniform",
         "orientation": "v",
         "showlegend": true,
         "type": "scatter",
         "x": [
          3,
          5,
          7,
          9
         ],
         "xaxis": "x",
         "y": [
          856.2149782243902,
          828.1251441891442,
          826.6202022627233,
          826.9000289470875
         ],
         "yaxis": "y"
        },
        {
         "hovertemplate": "weights=distance<br>n_neighbors=%{x}<br>MAE=%{y}<extra></extra>",
         "legendgroup": "distance",
         "marker": {
          "color": "#00cc96",
          "symbol": "circle"
         },
         "mode": "markers",
         "name": "distance",
         "orientation": "v",
         "showlegend": true,
         "type": "scatter",
         "x": [
          3,
          5,
          7,
          9
         ],
         "xaxis": "x",
         "y": [
          857.2432947085708,
          826.968661576092,
          824.6929224992136,
          824.5435378170532
         ],
         "yaxis": "y"
        }
       ],
       "layout": {
        "legend": {
         "title": {
          "text": "weights"
         },
         "tracegroupgap": 0
        },
        "template": {
         "data": {
          "bar": [
           {
            "error_x": {
             "color": "#2a3f5f"
            },
            "error_y": {
             "color": "#2a3f5f"
            },
            "marker": {
             "line": {
              "color": "#E5ECF6",
              "width": 0.5
             },
             "pattern": {
              "fillmode": "overlay",
              "size": 10,
              "solidity": 0.2
             }
            },
            "type": "bar"
           }
          ],
          "barpolar": [
           {
            "marker": {
             "line": {
              "color": "#E5ECF6",
              "width": 0.5
             },
             "pattern": {
              "fillmode": "overlay",
              "size": 10,
              "solidity": 0.2
             }
            },
            "type": "barpolar"
           }
          ],
          "carpet": [
           {
            "aaxis": {
             "endlinecolor": "#2a3f5f",
             "gridcolor": "white",
             "linecolor": "white",
             "minorgridcolor": "white",
             "startlinecolor": "#2a3f5f"
            },
            "baxis": {
             "endlinecolor": "#2a3f5f",
             "gridcolor": "white",
             "linecolor": "white",
             "minorgridcolor": "white",
             "startlinecolor": "#2a3f5f"
            },
            "type": "carpet"
           }
          ],
          "choropleth": [
           {
            "colorbar": {
             "outlinewidth": 0,
             "ticks": ""
            },
            "type": "choropleth"
           }
          ],
          "contour": [
           {
            "colorbar": {
             "outlinewidth": 0,
             "ticks": ""
            },
            "colorscale": [
             [
              0,
              "#0d0887"
             ],
             [
              0.1111111111111111,
              "#46039f"
             ],
             [
              0.2222222222222222,
              "#7201a8"
             ],
             [
              0.3333333333333333,
              "#9c179e"
             ],
             [
              0.4444444444444444,
              "#bd3786"
             ],
             [
              0.5555555555555556,
              "#d8576b"
             ],
             [
              0.6666666666666666,
              "#ed7953"
             ],
             [
              0.7777777777777778,
              "#fb9f3a"
             ],
             [
              0.8888888888888888,
              "#fdca26"
             ],
             [
              1,
              "#f0f921"
             ]
            ],
            "type": "contour"
           }
          ],
          "contourcarpet": [
           {
            "colorbar": {
             "outlinewidth": 0,
             "ticks": ""
            },
            "type": "contourcarpet"
           }
          ],
          "heatmap": [
           {
            "colorbar": {
             "outlinewidth": 0,
             "ticks": ""
            },
            "colorscale": [
             [
              0,
              "#0d0887"
             ],
             [
              0.1111111111111111,
              "#46039f"
             ],
             [
              0.2222222222222222,
              "#7201a8"
             ],
             [
              0.3333333333333333,
              "#9c179e"
             ],
             [
              0.4444444444444444,
              "#bd3786"
             ],
             [
              0.5555555555555556,
              "#d8576b"
             ],
             [
              0.6666666666666666,
              "#ed7953"
             ],
             [
              0.7777777777777778,
              "#fb9f3a"
             ],
             [
              0.8888888888888888,
              "#fdca26"
             ],
             [
              1,
              "#f0f921"
             ]
            ],
            "type": "heatmap"
           }
          ],
          "heatmapgl": [
           {
            "colorbar": {
             "outlinewidth": 0,
             "ticks": ""
            },
            "colorscale": [
             [
              0,
              "#0d0887"
             ],
             [
              0.1111111111111111,
              "#46039f"
             ],
             [
              0.2222222222222222,
              "#7201a8"
             ],
             [
              0.3333333333333333,
              "#9c179e"
             ],
             [
              0.4444444444444444,
              "#bd3786"
             ],
             [
              0.5555555555555556,
              "#d8576b"
             ],
             [
              0.6666666666666666,
              "#ed7953"
             ],
             [
              0.7777777777777778,
              "#fb9f3a"
             ],
             [
              0.8888888888888888,
              "#fdca26"
             ],
             [
              1,
              "#f0f921"
             ]
            ],
            "type": "heatmapgl"
           }
          ],
          "histogram": [
           {
            "marker": {
             "pattern": {
              "fillmode": "overlay",
              "size": 10,
              "solidity": 0.2
             }
            },
            "type": "histogram"
           }
          ],
          "histogram2d": [
           {
            "colorbar": {
             "outlinewidth": 0,
             "ticks": ""
            },
            "colorscale": [
             [
              0,
              "#0d0887"
             ],
             [
              0.1111111111111111,
              "#46039f"
             ],
             [
              0.2222222222222222,
              "#7201a8"
             ],
             [
              0.3333333333333333,
              "#9c179e"
             ],
             [
              0.4444444444444444,
              "#bd3786"
             ],
             [
              0.5555555555555556,
              "#d8576b"
             ],
             [
              0.6666666666666666,
              "#ed7953"
             ],
             [
              0.7777777777777778,
              "#fb9f3a"
             ],
             [
              0.8888888888888888,
              "#fdca26"
             ],
             [
              1,
              "#f0f921"
             ]
            ],
            "type": "histogram2d"
           }
          ],
          "histogram2dcontour": [
           {
            "colorbar": {
             "outlinewidth": 0,
             "ticks": ""
            },
            "colorscale": [
             [
              0,
              "#0d0887"
             ],
             [
              0.1111111111111111,
              "#46039f"
             ],
             [
              0.2222222222222222,
              "#7201a8"
             ],
             [
              0.3333333333333333,
              "#9c179e"
             ],
             [
              0.4444444444444444,
              "#bd3786"
             ],
             [
              0.5555555555555556,
              "#d8576b"
             ],
             [
              0.6666666666666666,
              "#ed7953"
             ],
             [
              0.7777777777777778,
              "#fb9f3a"
             ],
             [
              0.8888888888888888,
              "#fdca26"
             ],
             [
              1,
              "#f0f921"
             ]
            ],
            "type": "histogram2dcontour"
           }
          ],
          "mesh3d": [
           {
            "colorbar": {
             "outlinewidth": 0,
             "ticks": ""
            },
            "type": "mesh3d"
           }
          ],
          "parcoords": [
           {
            "line": {
             "colorbar": {
              "outlinewidth": 0,
              "ticks": ""
             }
            },
            "type": "parcoords"
           }
          ],
          "pie": [
           {
            "automargin": true,
            "type": "pie"
           }
          ],
          "scatter": [
           {
            "fillpattern": {
             "fillmode": "overlay",
             "size": 10,
             "solidity": 0.2
            },
            "type": "scatter"
           }
          ],
          "scatter3d": [
           {
            "line": {
             "colorbar": {
              "outlinewidth": 0,
              "ticks": ""
             }
            },
            "marker": {
             "colorbar": {
              "outlinewidth": 0,
              "ticks": ""
             }
            },
            "type": "scatter3d"
           }
          ],
          "scattercarpet": [
           {
            "marker": {
             "colorbar": {
              "outlinewidth": 0,
              "ticks": ""
             }
            },
            "type": "scattercarpet"
           }
          ],
          "scattergeo": [
           {
            "marker": {
             "colorbar": {
              "outlinewidth": 0,
              "ticks": ""
             }
            },
            "type": "scattergeo"
           }
          ],
          "scattergl": [
           {
            "marker": {
             "colorbar": {
              "outlinewidth": 0,
              "ticks": ""
             }
            },
            "type": "scattergl"
           }
          ],
          "scattermapbox": [
           {
            "marker": {
             "colorbar": {
              "outlinewidth": 0,
              "ticks": ""
             }
            },
            "type": "scattermapbox"
           }
          ],
          "scatterpolar": [
           {
            "marker": {
             "colorbar": {
              "outlinewidth": 0,
              "ticks": ""
             }
            },
            "type": "scatterpolar"
           }
          ],
          "scatterpolargl": [
           {
            "marker": {
             "colorbar": {
              "outlinewidth": 0,
              "ticks": ""
             }
            },
            "type": "scatterpolargl"
           }
          ],
          "scatterternary": [
           {
            "marker": {
             "colorbar": {
              "outlinewidth": 0,
              "ticks": ""
             }
            },
            "type": "scatterternary"
           }
          ],
          "surface": [
           {
            "colorbar": {
             "outlinewidth": 0,
             "ticks": ""
            },
            "colorscale": [
             [
              0,
              "#0d0887"
             ],
             [
              0.1111111111111111,
              "#46039f"
             ],
             [
              0.2222222222222222,
              "#7201a8"
             ],
             [
              0.3333333333333333,
              "#9c179e"
             ],
             [
              0.4444444444444444,
              "#bd3786"
             ],
             [
              0.5555555555555556,
              "#d8576b"
             ],
             [
              0.6666666666666666,
              "#ed7953"
             ],
             [
              0.7777777777777778,
              "#fb9f3a"
             ],
             [
              0.8888888888888888,
              "#fdca26"
             ],
             [
              1,
              "#f0f921"
             ]
            ],
            "type": "surface"
           }
          ],
          "table": [
           {
            "cells": {
             "fill": {
              "color": "#EBF0F8"
             },
             "line": {
              "color": "white"
             }
            },
            "header": {
             "fill": {
              "color": "#C8D4E3"
             },
             "line": {
              "color": "white"
             }
            },
            "type": "table"
           }
          ]
         },
         "layout": {
          "annotationdefaults": {
           "arrowcolor": "#2a3f5f",
           "arrowhead": 0,
           "arrowwidth": 1
          },
          "autotypenumbers": "strict",
          "coloraxis": {
           "colorbar": {
            "outlinewidth": 0,
            "ticks": ""
           }
          },
          "colorscale": {
           "diverging": [
            [
             0,
             "#8e0152"
            ],
            [
             0.1,
             "#c51b7d"
            ],
            [
             0.2,
             "#de77ae"
            ],
            [
             0.3,
             "#f1b6da"
            ],
            [
             0.4,
             "#fde0ef"
            ],
            [
             0.5,
             "#f7f7f7"
            ],
            [
             0.6,
             "#e6f5d0"
            ],
            [
             0.7,
             "#b8e186"
            ],
            [
             0.8,
             "#7fbc41"
            ],
            [
             0.9,
             "#4d9221"
            ],
            [
             1,
             "#276419"
            ]
           ],
           "sequential": [
            [
             0,
             "#0d0887"
            ],
            [
             0.1111111111111111,
             "#46039f"
            ],
            [
             0.2222222222222222,
             "#7201a8"
            ],
            [
             0.3333333333333333,
             "#9c179e"
            ],
            [
             0.4444444444444444,
             "#bd3786"
            ],
            [
             0.5555555555555556,
             "#d8576b"
            ],
            [
             0.6666666666666666,
             "#ed7953"
            ],
            [
             0.7777777777777778,
             "#fb9f3a"
            ],
            [
             0.8888888888888888,
             "#fdca26"
            ],
            [
             1,
             "#f0f921"
            ]
           ],
           "sequentialminus": [
            [
             0,
             "#0d0887"
            ],
            [
             0.1111111111111111,
             "#46039f"
            ],
            [
             0.2222222222222222,
             "#7201a8"
            ],
            [
             0.3333333333333333,
             "#9c179e"
            ],
            [
             0.4444444444444444,
             "#bd3786"
            ],
            [
             0.5555555555555556,
             "#d8576b"
            ],
            [
             0.6666666666666666,
             "#ed7953"
            ],
            [
             0.7777777777777778,
             "#fb9f3a"
            ],
            [
             0.8888888888888888,
             "#fdca26"
            ],
            [
             1,
             "#f0f921"
            ]
           ]
          },
          "colorway": [
           "#636efa",
           "#EF553B",
           "#00cc96",
           "#ab63fa",
           "#FFA15A",
           "#19d3f3",
           "#FF6692",
           "#B6E880",
           "#FF97FF",
           "#FECB52"
          ],
          "font": {
           "color": "#2a3f5f"
          },
          "geo": {
           "bgcolor": "white",
           "lakecolor": "white",
           "landcolor": "#E5ECF6",
           "showlakes": true,
           "showland": true,
           "subunitcolor": "white"
          },
          "hoverlabel": {
           "align": "left"
          },
          "hovermode": "closest",
          "mapbox": {
           "style": "light"
          },
          "paper_bgcolor": "white",
          "plot_bgcolor": "#E5ECF6",
          "polar": {
           "angularaxis": {
            "gridcolor": "white",
            "linecolor": "white",
            "ticks": ""
           },
           "bgcolor": "#E5ECF6",
           "radialaxis": {
            "gridcolor": "white",
            "linecolor": "white",
            "ticks": ""
           }
          },
          "scene": {
           "xaxis": {
            "backgroundcolor": "#E5ECF6",
            "gridcolor": "white",
            "gridwidth": 2,
            "linecolor": "white",
            "showbackground": true,
            "ticks": "",
            "zerolinecolor": "white"
           },
           "yaxis": {
            "backgroundcolor": "#E5ECF6",
            "gridcolor": "white",
            "gridwidth": 2,
            "linecolor": "white",
            "showbackground": true,
            "ticks": "",
            "zerolinecolor": "white"
           },
           "zaxis": {
            "backgroundcolor": "#E5ECF6",
            "gridcolor": "white",
            "gridwidth": 2,
            "linecolor": "white",
            "showbackground": true,
            "ticks": "",
            "zerolinecolor": "white"
           }
          },
          "shapedefaults": {
           "line": {
            "color": "#2a3f5f"
           }
          },
          "ternary": {
           "aaxis": {
            "gridcolor": "white",
            "linecolor": "white",
            "ticks": ""
           },
           "baxis": {
            "gridcolor": "white",
            "linecolor": "white",
            "ticks": ""
           },
           "bgcolor": "#E5ECF6",
           "caxis": {
            "gridcolor": "white",
            "linecolor": "white",
            "ticks": ""
           }
          },
          "title": {
           "x": 0.05
          },
          "xaxis": {
           "automargin": true,
           "gridcolor": "white",
           "linecolor": "white",
           "ticks": "",
           "title": {
            "standoff": 15
           },
           "zerolinecolor": "white",
           "zerolinewidth": 2
          },
          "yaxis": {
           "automargin": true,
           "gridcolor": "white",
           "linecolor": "white",
           "ticks": "",
           "title": {
            "standoff": 15
           },
           "zerolinecolor": "white",
           "zerolinewidth": 2
          }
         }
        },
        "title": {
         "text": "MAE score with Last-2-state encoding"
        },
        "xaxis": {
         "anchor": "y",
         "domain": [
          0,
          1
         ],
         "title": {
          "text": "n_neighbors"
         }
        },
        "yaxis": {
         "anchor": "x",
         "domain": [
          0,
          1
         ],
         "title": {
          "text": "MAE"
         }
        }
       }
      }
     },
     "metadata": {},
     "output_type": "display_data"
    },
    {
     "data": {
      "application/vnd.plotly.v1+json": {
       "config": {
        "plotlyServerURL": "https://plot.ly"
       },
       "data": [
        {
         "hovertemplate": "weights=Default<br>n_neighbors=%{x}<br>MSE=%{y}<extra></extra>",
         "legendgroup": "Default",
         "marker": {
          "color": "#636efa",
          "symbol": "circle"
         },
         "mode": "markers",
         "name": "Default",
         "orientation": "v",
         "showlegend": true,
         "type": "scatter",
         "x": [
          "Default"
         ],
         "xaxis": "x",
         "y": [
          5887138.986379647
         ],
         "yaxis": "y"
        },
        {
         "hovertemplate": "weights=uniform<br>n_neighbors=%{x}<br>MSE=%{y}<extra></extra>",
         "legendgroup": "uniform",
         "marker": {
          "color": "#EF553B",
          "symbol": "circle"
         },
         "mode": "markers",
         "name": "uniform",
         "orientation": "v",
         "showlegend": true,
         "type": "scatter",
         "x": [
          3,
          5,
          7,
          9
         ],
         "xaxis": "x",
         "y": [
          4390651.942627481,
          4439240.06671125,
          4417226.291256491,
          4354848.057247317
         ],
         "yaxis": "y"
        },
        {
         "hovertemplate": "weights=distance<br>n_neighbors=%{x}<br>MSE=%{y}<extra></extra>",
         "legendgroup": "distance",
         "marker": {
          "color": "#00cc96",
          "symbol": "circle"
         },
         "mode": "markers",
         "name": "distance",
         "orientation": "v",
         "showlegend": true,
         "type": "scatter",
         "x": [
          3,
          5,
          7,
          9
         ],
         "xaxis": "x",
         "y": [
          4163526.302387002,
          4177633.508115268,
          4186425.779230176,
          4158689.339064885
         ],
         "yaxis": "y"
        }
       ],
       "layout": {
        "legend": {
         "title": {
          "text": "weights"
         },
         "tracegroupgap": 0
        },
        "template": {
         "data": {
          "bar": [
           {
            "error_x": {
             "color": "#2a3f5f"
            },
            "error_y": {
             "color": "#2a3f5f"
            },
            "marker": {
             "line": {
              "color": "#E5ECF6",
              "width": 0.5
             },
             "pattern": {
              "fillmode": "overlay",
              "size": 10,
              "solidity": 0.2
             }
            },
            "type": "bar"
           }
          ],
          "barpolar": [
           {
            "marker": {
             "line": {
              "color": "#E5ECF6",
              "width": 0.5
             },
             "pattern": {
              "fillmode": "overlay",
              "size": 10,
              "solidity": 0.2
             }
            },
            "type": "barpolar"
           }
          ],
          "carpet": [
           {
            "aaxis": {
             "endlinecolor": "#2a3f5f",
             "gridcolor": "white",
             "linecolor": "white",
             "minorgridcolor": "white",
             "startlinecolor": "#2a3f5f"
            },
            "baxis": {
             "endlinecolor": "#2a3f5f",
             "gridcolor": "white",
             "linecolor": "white",
             "minorgridcolor": "white",
             "startlinecolor": "#2a3f5f"
            },
            "type": "carpet"
           }
          ],
          "choropleth": [
           {
            "colorbar": {
             "outlinewidth": 0,
             "ticks": ""
            },
            "type": "choropleth"
           }
          ],
          "contour": [
           {
            "colorbar": {
             "outlinewidth": 0,
             "ticks": ""
            },
            "colorscale": [
             [
              0,
              "#0d0887"
             ],
             [
              0.1111111111111111,
              "#46039f"
             ],
             [
              0.2222222222222222,
              "#7201a8"
             ],
             [
              0.3333333333333333,
              "#9c179e"
             ],
             [
              0.4444444444444444,
              "#bd3786"
             ],
             [
              0.5555555555555556,
              "#d8576b"
             ],
             [
              0.6666666666666666,
              "#ed7953"
             ],
             [
              0.7777777777777778,
              "#fb9f3a"
             ],
             [
              0.8888888888888888,
              "#fdca26"
             ],
             [
              1,
              "#f0f921"
             ]
            ],
            "type": "contour"
           }
          ],
          "contourcarpet": [
           {
            "colorbar": {
             "outlinewidth": 0,
             "ticks": ""
            },
            "type": "contourcarpet"
           }
          ],
          "heatmap": [
           {
            "colorbar": {
             "outlinewidth": 0,
             "ticks": ""
            },
            "colorscale": [
             [
              0,
              "#0d0887"
             ],
             [
              0.1111111111111111,
              "#46039f"
             ],
             [
              0.2222222222222222,
              "#7201a8"
             ],
             [
              0.3333333333333333,
              "#9c179e"
             ],
             [
              0.4444444444444444,
              "#bd3786"
             ],
             [
              0.5555555555555556,
              "#d8576b"
             ],
             [
              0.6666666666666666,
              "#ed7953"
             ],
             [
              0.7777777777777778,
              "#fb9f3a"
             ],
             [
              0.8888888888888888,
              "#fdca26"
             ],
             [
              1,
              "#f0f921"
             ]
            ],
            "type": "heatmap"
           }
          ],
          "heatmapgl": [
           {
            "colorbar": {
             "outlinewidth": 0,
             "ticks": ""
            },
            "colorscale": [
             [
              0,
              "#0d0887"
             ],
             [
              0.1111111111111111,
              "#46039f"
             ],
             [
              0.2222222222222222,
              "#7201a8"
             ],
             [
              0.3333333333333333,
              "#9c179e"
             ],
             [
              0.4444444444444444,
              "#bd3786"
             ],
             [
              0.5555555555555556,
              "#d8576b"
             ],
             [
              0.6666666666666666,
              "#ed7953"
             ],
             [
              0.7777777777777778,
              "#fb9f3a"
             ],
             [
              0.8888888888888888,
              "#fdca26"
             ],
             [
              1,
              "#f0f921"
             ]
            ],
            "type": "heatmapgl"
           }
          ],
          "histogram": [
           {
            "marker": {
             "pattern": {
              "fillmode": "overlay",
              "size": 10,
              "solidity": 0.2
             }
            },
            "type": "histogram"
           }
          ],
          "histogram2d": [
           {
            "colorbar": {
             "outlinewidth": 0,
             "ticks": ""
            },
            "colorscale": [
             [
              0,
              "#0d0887"
             ],
             [
              0.1111111111111111,
              "#46039f"
             ],
             [
              0.2222222222222222,
              "#7201a8"
             ],
             [
              0.3333333333333333,
              "#9c179e"
             ],
             [
              0.4444444444444444,
              "#bd3786"
             ],
             [
              0.5555555555555556,
              "#d8576b"
             ],
             [
              0.6666666666666666,
              "#ed7953"
             ],
             [
              0.7777777777777778,
              "#fb9f3a"
             ],
             [
              0.8888888888888888,
              "#fdca26"
             ],
             [
              1,
              "#f0f921"
             ]
            ],
            "type": "histogram2d"
           }
          ],
          "histogram2dcontour": [
           {
            "colorbar": {
             "outlinewidth": 0,
             "ticks": ""
            },
            "colorscale": [
             [
              0,
              "#0d0887"
             ],
             [
              0.1111111111111111,
              "#46039f"
             ],
             [
              0.2222222222222222,
              "#7201a8"
             ],
             [
              0.3333333333333333,
              "#9c179e"
             ],
             [
              0.4444444444444444,
              "#bd3786"
             ],
             [
              0.5555555555555556,
              "#d8576b"
             ],
             [
              0.6666666666666666,
              "#ed7953"
             ],
             [
              0.7777777777777778,
              "#fb9f3a"
             ],
             [
              0.8888888888888888,
              "#fdca26"
             ],
             [
              1,
              "#f0f921"
             ]
            ],
            "type": "histogram2dcontour"
           }
          ],
          "mesh3d": [
           {
            "colorbar": {
             "outlinewidth": 0,
             "ticks": ""
            },
            "type": "mesh3d"
           }
          ],
          "parcoords": [
           {
            "line": {
             "colorbar": {
              "outlinewidth": 0,
              "ticks": ""
             }
            },
            "type": "parcoords"
           }
          ],
          "pie": [
           {
            "automargin": true,
            "type": "pie"
           }
          ],
          "scatter": [
           {
            "fillpattern": {
             "fillmode": "overlay",
             "size": 10,
             "solidity": 0.2
            },
            "type": "scatter"
           }
          ],
          "scatter3d": [
           {
            "line": {
             "colorbar": {
              "outlinewidth": 0,
              "ticks": ""
             }
            },
            "marker": {
             "colorbar": {
              "outlinewidth": 0,
              "ticks": ""
             }
            },
            "type": "scatter3d"
           }
          ],
          "scattercarpet": [
           {
            "marker": {
             "colorbar": {
              "outlinewidth": 0,
              "ticks": ""
             }
            },
            "type": "scattercarpet"
           }
          ],
          "scattergeo": [
           {
            "marker": {
             "colorbar": {
              "outlinewidth": 0,
              "ticks": ""
             }
            },
            "type": "scattergeo"
           }
          ],
          "scattergl": [
           {
            "marker": {
             "colorbar": {
              "outlinewidth": 0,
              "ticks": ""
             }
            },
            "type": "scattergl"
           }
          ],
          "scattermapbox": [
           {
            "marker": {
             "colorbar": {
              "outlinewidth": 0,
              "ticks": ""
             }
            },
            "type": "scattermapbox"
           }
          ],
          "scatterpolar": [
           {
            "marker": {
             "colorbar": {
              "outlinewidth": 0,
              "ticks": ""
             }
            },
            "type": "scatterpolar"
           }
          ],
          "scatterpolargl": [
           {
            "marker": {
             "colorbar": {
              "outlinewidth": 0,
              "ticks": ""
             }
            },
            "type": "scatterpolargl"
           }
          ],
          "scatterternary": [
           {
            "marker": {
             "colorbar": {
              "outlinewidth": 0,
              "ticks": ""
             }
            },
            "type": "scatterternary"
           }
          ],
          "surface": [
           {
            "colorbar": {
             "outlinewidth": 0,
             "ticks": ""
            },
            "colorscale": [
             [
              0,
              "#0d0887"
             ],
             [
              0.1111111111111111,
              "#46039f"
             ],
             [
              0.2222222222222222,
              "#7201a8"
             ],
             [
              0.3333333333333333,
              "#9c179e"
             ],
             [
              0.4444444444444444,
              "#bd3786"
             ],
             [
              0.5555555555555556,
              "#d8576b"
             ],
             [
              0.6666666666666666,
              "#ed7953"
             ],
             [
              0.7777777777777778,
              "#fb9f3a"
             ],
             [
              0.8888888888888888,
              "#fdca26"
             ],
             [
              1,
              "#f0f921"
             ]
            ],
            "type": "surface"
           }
          ],
          "table": [
           {
            "cells": {
             "fill": {
              "color": "#EBF0F8"
             },
             "line": {
              "color": "white"
             }
            },
            "header": {
             "fill": {
              "color": "#C8D4E3"
             },
             "line": {
              "color": "white"
             }
            },
            "type": "table"
           }
          ]
         },
         "layout": {
          "annotationdefaults": {
           "arrowcolor": "#2a3f5f",
           "arrowhead": 0,
           "arrowwidth": 1
          },
          "autotypenumbers": "strict",
          "coloraxis": {
           "colorbar": {
            "outlinewidth": 0,
            "ticks": ""
           }
          },
          "colorscale": {
           "diverging": [
            [
             0,
             "#8e0152"
            ],
            [
             0.1,
             "#c51b7d"
            ],
            [
             0.2,
             "#de77ae"
            ],
            [
             0.3,
             "#f1b6da"
            ],
            [
             0.4,
             "#fde0ef"
            ],
            [
             0.5,
             "#f7f7f7"
            ],
            [
             0.6,
             "#e6f5d0"
            ],
            [
             0.7,
             "#b8e186"
            ],
            [
             0.8,
             "#7fbc41"
            ],
            [
             0.9,
             "#4d9221"
            ],
            [
             1,
             "#276419"
            ]
           ],
           "sequential": [
            [
             0,
             "#0d0887"
            ],
            [
             0.1111111111111111,
             "#46039f"
            ],
            [
             0.2222222222222222,
             "#7201a8"
            ],
            [
             0.3333333333333333,
             "#9c179e"
            ],
            [
             0.4444444444444444,
             "#bd3786"
            ],
            [
             0.5555555555555556,
             "#d8576b"
            ],
            [
             0.6666666666666666,
             "#ed7953"
            ],
            [
             0.7777777777777778,
             "#fb9f3a"
            ],
            [
             0.8888888888888888,
             "#fdca26"
            ],
            [
             1,
             "#f0f921"
            ]
           ],
           "sequentialminus": [
            [
             0,
             "#0d0887"
            ],
            [
             0.1111111111111111,
             "#46039f"
            ],
            [
             0.2222222222222222,
             "#7201a8"
            ],
            [
             0.3333333333333333,
             "#9c179e"
            ],
            [
             0.4444444444444444,
             "#bd3786"
            ],
            [
             0.5555555555555556,
             "#d8576b"
            ],
            [
             0.6666666666666666,
             "#ed7953"
            ],
            [
             0.7777777777777778,
             "#fb9f3a"
            ],
            [
             0.8888888888888888,
             "#fdca26"
            ],
            [
             1,
             "#f0f921"
            ]
           ]
          },
          "colorway": [
           "#636efa",
           "#EF553B",
           "#00cc96",
           "#ab63fa",
           "#FFA15A",
           "#19d3f3",
           "#FF6692",
           "#B6E880",
           "#FF97FF",
           "#FECB52"
          ],
          "font": {
           "color": "#2a3f5f"
          },
          "geo": {
           "bgcolor": "white",
           "lakecolor": "white",
           "landcolor": "#E5ECF6",
           "showlakes": true,
           "showland": true,
           "subunitcolor": "white"
          },
          "hoverlabel": {
           "align": "left"
          },
          "hovermode": "closest",
          "mapbox": {
           "style": "light"
          },
          "paper_bgcolor": "white",
          "plot_bgcolor": "#E5ECF6",
          "polar": {
           "angularaxis": {
            "gridcolor": "white",
            "linecolor": "white",
            "ticks": ""
           },
           "bgcolor": "#E5ECF6",
           "radialaxis": {
            "gridcolor": "white",
            "linecolor": "white",
            "ticks": ""
           }
          },
          "scene": {
           "xaxis": {
            "backgroundcolor": "#E5ECF6",
            "gridcolor": "white",
            "gridwidth": 2,
            "linecolor": "white",
            "showbackground": true,
            "ticks": "",
            "zerolinecolor": "white"
           },
           "yaxis": {
            "backgroundcolor": "#E5ECF6",
            "gridcolor": "white",
            "gridwidth": 2,
            "linecolor": "white",
            "showbackground": true,
            "ticks": "",
            "zerolinecolor": "white"
           },
           "zaxis": {
            "backgroundcolor": "#E5ECF6",
            "gridcolor": "white",
            "gridwidth": 2,
            "linecolor": "white",
            "showbackground": true,
            "ticks": "",
            "zerolinecolor": "white"
           }
          },
          "shapedefaults": {
           "line": {
            "color": "#2a3f5f"
           }
          },
          "ternary": {
           "aaxis": {
            "gridcolor": "white",
            "linecolor": "white",
            "ticks": ""
           },
           "baxis": {
            "gridcolor": "white",
            "linecolor": "white",
            "ticks": ""
           },
           "bgcolor": "#E5ECF6",
           "caxis": {
            "gridcolor": "white",
            "linecolor": "white",
            "ticks": ""
           }
          },
          "title": {
           "x": 0.05
          },
          "xaxis": {
           "automargin": true,
           "gridcolor": "white",
           "linecolor": "white",
           "ticks": "",
           "title": {
            "standoff": 15
           },
           "zerolinecolor": "white",
           "zerolinewidth": 2
          },
          "yaxis": {
           "automargin": true,
           "gridcolor": "white",
           "linecolor": "white",
           "ticks": "",
           "title": {
            "standoff": 15
           },
           "zerolinecolor": "white",
           "zerolinewidth": 2
          }
         }
        },
        "title": {
         "text": "MSE score with Aggregation encoding"
        },
        "xaxis": {
         "anchor": "y",
         "domain": [
          0,
          1
         ],
         "title": {
          "text": "n_neighbors"
         }
        },
        "yaxis": {
         "anchor": "x",
         "domain": [
          0,
          1
         ],
         "title": {
          "text": "MSE"
         }
        }
       }
      }
     },
     "metadata": {},
     "output_type": "display_data"
    },
    {
     "data": {
      "application/vnd.plotly.v1+json": {
       "config": {
        "plotlyServerURL": "https://plot.ly"
       },
       "data": [
        {
         "hovertemplate": "weights=Default<br>n_neighbors=%{x}<br>MSE=%{y}<extra></extra>",
         "legendgroup": "Default",
         "marker": {
          "color": "#636efa",
          "symbol": "circle"
         },
         "mode": "markers",
         "name": "Default",
         "orientation": "v",
         "showlegend": true,
         "type": "scatter",
         "x": [
          "Default"
         ],
         "xaxis": "x",
         "y": [
          7507815.317051534
         ],
         "yaxis": "y"
        },
        {
         "hovertemplate": "weights=uniform<br>n_neighbors=%{x}<br>MSE=%{y}<extra></extra>",
         "legendgroup": "uniform",
         "marker": {
          "color": "#EF553B",
          "symbol": "circle"
         },
         "mode": "markers",
         "name": "uniform",
         "orientation": "v",
         "showlegend": true,
         "type": "scatter",
         "x": [
          3,
          5,
          7,
          9
         ],
         "xaxis": "x",
         "y": [
          5613159.620946809,
          5123030.458168154,
          5006414.019676385,
          4955519.101264062
         ],
         "yaxis": "y"
        },
        {
         "hovertemplate": "weights=distance<br>n_neighbors=%{x}<br>MSE=%{y}<extra></extra>",
         "legendgroup": "distance",
         "marker": {
          "color": "#00cc96",
          "symbol": "circle"
         },
         "mode": "markers",
         "name": "distance",
         "orientation": "v",
         "showlegend": true,
         "type": "scatter",
         "x": [
          3,
          5,
          7,
          9
         ],
         "xaxis": "x",
         "y": [
          5684196.656213235,
          5162221.296880282,
          5032256.964116575,
          4970781.60808639
         ],
         "yaxis": "y"
        }
       ],
       "layout": {
        "legend": {
         "title": {
          "text": "weights"
         },
         "tracegroupgap": 0
        },
        "template": {
         "data": {
          "bar": [
           {
            "error_x": {
             "color": "#2a3f5f"
            },
            "error_y": {
             "color": "#2a3f5f"
            },
            "marker": {
             "line": {
              "color": "#E5ECF6",
              "width": 0.5
             },
             "pattern": {
              "fillmode": "overlay",
              "size": 10,
              "solidity": 0.2
             }
            },
            "type": "bar"
           }
          ],
          "barpolar": [
           {
            "marker": {
             "line": {
              "color": "#E5ECF6",
              "width": 0.5
             },
             "pattern": {
              "fillmode": "overlay",
              "size": 10,
              "solidity": 0.2
             }
            },
            "type": "barpolar"
           }
          ],
          "carpet": [
           {
            "aaxis": {
             "endlinecolor": "#2a3f5f",
             "gridcolor": "white",
             "linecolor": "white",
             "minorgridcolor": "white",
             "startlinecolor": "#2a3f5f"
            },
            "baxis": {
             "endlinecolor": "#2a3f5f",
             "gridcolor": "white",
             "linecolor": "white",
             "minorgridcolor": "white",
             "startlinecolor": "#2a3f5f"
            },
            "type": "carpet"
           }
          ],
          "choropleth": [
           {
            "colorbar": {
             "outlinewidth": 0,
             "ticks": ""
            },
            "type": "choropleth"
           }
          ],
          "contour": [
           {
            "colorbar": {
             "outlinewidth": 0,
             "ticks": ""
            },
            "colorscale": [
             [
              0,
              "#0d0887"
             ],
             [
              0.1111111111111111,
              "#46039f"
             ],
             [
              0.2222222222222222,
              "#7201a8"
             ],
             [
              0.3333333333333333,
              "#9c179e"
             ],
             [
              0.4444444444444444,
              "#bd3786"
             ],
             [
              0.5555555555555556,
              "#d8576b"
             ],
             [
              0.6666666666666666,
              "#ed7953"
             ],
             [
              0.7777777777777778,
              "#fb9f3a"
             ],
             [
              0.8888888888888888,
              "#fdca26"
             ],
             [
              1,
              "#f0f921"
             ]
            ],
            "type": "contour"
           }
          ],
          "contourcarpet": [
           {
            "colorbar": {
             "outlinewidth": 0,
             "ticks": ""
            },
            "type": "contourcarpet"
           }
          ],
          "heatmap": [
           {
            "colorbar": {
             "outlinewidth": 0,
             "ticks": ""
            },
            "colorscale": [
             [
              0,
              "#0d0887"
             ],
             [
              0.1111111111111111,
              "#46039f"
             ],
             [
              0.2222222222222222,
              "#7201a8"
             ],
             [
              0.3333333333333333,
              "#9c179e"
             ],
             [
              0.4444444444444444,
              "#bd3786"
             ],
             [
              0.5555555555555556,
              "#d8576b"
             ],
             [
              0.6666666666666666,
              "#ed7953"
             ],
             [
              0.7777777777777778,
              "#fb9f3a"
             ],
             [
              0.8888888888888888,
              "#fdca26"
             ],
             [
              1,
              "#f0f921"
             ]
            ],
            "type": "heatmap"
           }
          ],
          "heatmapgl": [
           {
            "colorbar": {
             "outlinewidth": 0,
             "ticks": ""
            },
            "colorscale": [
             [
              0,
              "#0d0887"
             ],
             [
              0.1111111111111111,
              "#46039f"
             ],
             [
              0.2222222222222222,
              "#7201a8"
             ],
             [
              0.3333333333333333,
              "#9c179e"
             ],
             [
              0.4444444444444444,
              "#bd3786"
             ],
             [
              0.5555555555555556,
              "#d8576b"
             ],
             [
              0.6666666666666666,
              "#ed7953"
             ],
             [
              0.7777777777777778,
              "#fb9f3a"
             ],
             [
              0.8888888888888888,
              "#fdca26"
             ],
             [
              1,
              "#f0f921"
             ]
            ],
            "type": "heatmapgl"
           }
          ],
          "histogram": [
           {
            "marker": {
             "pattern": {
              "fillmode": "overlay",
              "size": 10,
              "solidity": 0.2
             }
            },
            "type": "histogram"
           }
          ],
          "histogram2d": [
           {
            "colorbar": {
             "outlinewidth": 0,
             "ticks": ""
            },
            "colorscale": [
             [
              0,
              "#0d0887"
             ],
             [
              0.1111111111111111,
              "#46039f"
             ],
             [
              0.2222222222222222,
              "#7201a8"
             ],
             [
              0.3333333333333333,
              "#9c179e"
             ],
             [
              0.4444444444444444,
              "#bd3786"
             ],
             [
              0.5555555555555556,
              "#d8576b"
             ],
             [
              0.6666666666666666,
              "#ed7953"
             ],
             [
              0.7777777777777778,
              "#fb9f3a"
             ],
             [
              0.8888888888888888,
              "#fdca26"
             ],
             [
              1,
              "#f0f921"
             ]
            ],
            "type": "histogram2d"
           }
          ],
          "histogram2dcontour": [
           {
            "colorbar": {
             "outlinewidth": 0,
             "ticks": ""
            },
            "colorscale": [
             [
              0,
              "#0d0887"
             ],
             [
              0.1111111111111111,
              "#46039f"
             ],
             [
              0.2222222222222222,
              "#7201a8"
             ],
             [
              0.3333333333333333,
              "#9c179e"
             ],
             [
              0.4444444444444444,
              "#bd3786"
             ],
             [
              0.5555555555555556,
              "#d8576b"
             ],
             [
              0.6666666666666666,
              "#ed7953"
             ],
             [
              0.7777777777777778,
              "#fb9f3a"
             ],
             [
              0.8888888888888888,
              "#fdca26"
             ],
             [
              1,
              "#f0f921"
             ]
            ],
            "type": "histogram2dcontour"
           }
          ],
          "mesh3d": [
           {
            "colorbar": {
             "outlinewidth": 0,
             "ticks": ""
            },
            "type": "mesh3d"
           }
          ],
          "parcoords": [
           {
            "line": {
             "colorbar": {
              "outlinewidth": 0,
              "ticks": ""
             }
            },
            "type": "parcoords"
           }
          ],
          "pie": [
           {
            "automargin": true,
            "type": "pie"
           }
          ],
          "scatter": [
           {
            "fillpattern": {
             "fillmode": "overlay",
             "size": 10,
             "solidity": 0.2
            },
            "type": "scatter"
           }
          ],
          "scatter3d": [
           {
            "line": {
             "colorbar": {
              "outlinewidth": 0,
              "ticks": ""
             }
            },
            "marker": {
             "colorbar": {
              "outlinewidth": 0,
              "ticks": ""
             }
            },
            "type": "scatter3d"
           }
          ],
          "scattercarpet": [
           {
            "marker": {
             "colorbar": {
              "outlinewidth": 0,
              "ticks": ""
             }
            },
            "type": "scattercarpet"
           }
          ],
          "scattergeo": [
           {
            "marker": {
             "colorbar": {
              "outlinewidth": 0,
              "ticks": ""
             }
            },
            "type": "scattergeo"
           }
          ],
          "scattergl": [
           {
            "marker": {
             "colorbar": {
              "outlinewidth": 0,
              "ticks": ""
             }
            },
            "type": "scattergl"
           }
          ],
          "scattermapbox": [
           {
            "marker": {
             "colorbar": {
              "outlinewidth": 0,
              "ticks": ""
             }
            },
            "type": "scattermapbox"
           }
          ],
          "scatterpolar": [
           {
            "marker": {
             "colorbar": {
              "outlinewidth": 0,
              "ticks": ""
             }
            },
            "type": "scatterpolar"
           }
          ],
          "scatterpolargl": [
           {
            "marker": {
             "colorbar": {
              "outlinewidth": 0,
              "ticks": ""
             }
            },
            "type": "scatterpolargl"
           }
          ],
          "scatterternary": [
           {
            "marker": {
             "colorbar": {
              "outlinewidth": 0,
              "ticks": ""
             }
            },
            "type": "scatterternary"
           }
          ],
          "surface": [
           {
            "colorbar": {
             "outlinewidth": 0,
             "ticks": ""
            },
            "colorscale": [
             [
              0,
              "#0d0887"
             ],
             [
              0.1111111111111111,
              "#46039f"
             ],
             [
              0.2222222222222222,
              "#7201a8"
             ],
             [
              0.3333333333333333,
              "#9c179e"
             ],
             [
              0.4444444444444444,
              "#bd3786"
             ],
             [
              0.5555555555555556,
              "#d8576b"
             ],
             [
              0.6666666666666666,
              "#ed7953"
             ],
             [
              0.7777777777777778,
              "#fb9f3a"
             ],
             [
              0.8888888888888888,
              "#fdca26"
             ],
             [
              1,
              "#f0f921"
             ]
            ],
            "type": "surface"
           }
          ],
          "table": [
           {
            "cells": {
             "fill": {
              "color": "#EBF0F8"
             },
             "line": {
              "color": "white"
             }
            },
            "header": {
             "fill": {
              "color": "#C8D4E3"
             },
             "line": {
              "color": "white"
             }
            },
            "type": "table"
           }
          ]
         },
         "layout": {
          "annotationdefaults": {
           "arrowcolor": "#2a3f5f",
           "arrowhead": 0,
           "arrowwidth": 1
          },
          "autotypenumbers": "strict",
          "coloraxis": {
           "colorbar": {
            "outlinewidth": 0,
            "ticks": ""
           }
          },
          "colorscale": {
           "diverging": [
            [
             0,
             "#8e0152"
            ],
            [
             0.1,
             "#c51b7d"
            ],
            [
             0.2,
             "#de77ae"
            ],
            [
             0.3,
             "#f1b6da"
            ],
            [
             0.4,
             "#fde0ef"
            ],
            [
             0.5,
             "#f7f7f7"
            ],
            [
             0.6,
             "#e6f5d0"
            ],
            [
             0.7,
             "#b8e186"
            ],
            [
             0.8,
             "#7fbc41"
            ],
            [
             0.9,
             "#4d9221"
            ],
            [
             1,
             "#276419"
            ]
           ],
           "sequential": [
            [
             0,
             "#0d0887"
            ],
            [
             0.1111111111111111,
             "#46039f"
            ],
            [
             0.2222222222222222,
             "#7201a8"
            ],
            [
             0.3333333333333333,
             "#9c179e"
            ],
            [
             0.4444444444444444,
             "#bd3786"
            ],
            [
             0.5555555555555556,
             "#d8576b"
            ],
            [
             0.6666666666666666,
             "#ed7953"
            ],
            [
             0.7777777777777778,
             "#fb9f3a"
            ],
            [
             0.8888888888888888,
             "#fdca26"
            ],
            [
             1,
             "#f0f921"
            ]
           ],
           "sequentialminus": [
            [
             0,
             "#0d0887"
            ],
            [
             0.1111111111111111,
             "#46039f"
            ],
            [
             0.2222222222222222,
             "#7201a8"
            ],
            [
             0.3333333333333333,
             "#9c179e"
            ],
            [
             0.4444444444444444,
             "#bd3786"
            ],
            [
             0.5555555555555556,
             "#d8576b"
            ],
            [
             0.6666666666666666,
             "#ed7953"
            ],
            [
             0.7777777777777778,
             "#fb9f3a"
            ],
            [
             0.8888888888888888,
             "#fdca26"
            ],
            [
             1,
             "#f0f921"
            ]
           ]
          },
          "colorway": [
           "#636efa",
           "#EF553B",
           "#00cc96",
           "#ab63fa",
           "#FFA15A",
           "#19d3f3",
           "#FF6692",
           "#B6E880",
           "#FF97FF",
           "#FECB52"
          ],
          "font": {
           "color": "#2a3f5f"
          },
          "geo": {
           "bgcolor": "white",
           "lakecolor": "white",
           "landcolor": "#E5ECF6",
           "showlakes": true,
           "showland": true,
           "subunitcolor": "white"
          },
          "hoverlabel": {
           "align": "left"
          },
          "hovermode": "closest",
          "mapbox": {
           "style": "light"
          },
          "paper_bgcolor": "white",
          "plot_bgcolor": "#E5ECF6",
          "polar": {
           "angularaxis": {
            "gridcolor": "white",
            "linecolor": "white",
            "ticks": ""
           },
           "bgcolor": "#E5ECF6",
           "radialaxis": {
            "gridcolor": "white",
            "linecolor": "white",
            "ticks": ""
           }
          },
          "scene": {
           "xaxis": {
            "backgroundcolor": "#E5ECF6",
            "gridcolor": "white",
            "gridwidth": 2,
            "linecolor": "white",
            "showbackground": true,
            "ticks": "",
            "zerolinecolor": "white"
           },
           "yaxis": {
            "backgroundcolor": "#E5ECF6",
            "gridcolor": "white",
            "gridwidth": 2,
            "linecolor": "white",
            "showbackground": true,
            "ticks": "",
            "zerolinecolor": "white"
           },
           "zaxis": {
            "backgroundcolor": "#E5ECF6",
            "gridcolor": "white",
            "gridwidth": 2,
            "linecolor": "white",
            "showbackground": true,
            "ticks": "",
            "zerolinecolor": "white"
           }
          },
          "shapedefaults": {
           "line": {
            "color": "#2a3f5f"
           }
          },
          "ternary": {
           "aaxis": {
            "gridcolor": "white",
            "linecolor": "white",
            "ticks": ""
           },
           "baxis": {
            "gridcolor": "white",
            "linecolor": "white",
            "ticks": ""
           },
           "bgcolor": "#E5ECF6",
           "caxis": {
            "gridcolor": "white",
            "linecolor": "white",
            "ticks": ""
           }
          },
          "title": {
           "x": 0.05
          },
          "xaxis": {
           "automargin": true,
           "gridcolor": "white",
           "linecolor": "white",
           "ticks": "",
           "title": {
            "standoff": 15
           },
           "zerolinecolor": "white",
           "zerolinewidth": 2
          },
          "yaxis": {
           "automargin": true,
           "gridcolor": "white",
           "linecolor": "white",
           "ticks": "",
           "title": {
            "standoff": 15
           },
           "zerolinecolor": "white",
           "zerolinewidth": 2
          }
         }
        },
        "title": {
         "text": "MSE score with Last-2-state encoding"
        },
        "xaxis": {
         "anchor": "y",
         "domain": [
          0,
          1
         ],
         "title": {
          "text": "n_neighbors"
         }
        },
        "yaxis": {
         "anchor": "x",
         "domain": [
          0,
          1
         ],
         "title": {
          "text": "MSE"
         }
        }
       }
      }
     },
     "metadata": {},
     "output_type": "display_data"
    },
    {
     "data": {
      "application/vnd.plotly.v1+json": {
       "config": {
        "plotlyServerURL": "https://plot.ly"
       },
       "data": [
        {
         "hovertemplate": "weights=Default<br>n_neighbors=%{x}<br>RMSE=%{y}<extra></extra>",
         "legendgroup": "Default",
         "marker": {
          "color": "#636efa",
          "symbol": "circle"
         },
         "mode": "markers",
         "name": "Default",
         "orientation": "v",
         "showlegend": true,
         "type": "scatter",
         "x": [
          "Default"
         ],
         "xaxis": "x",
         "y": [
          2426.3427182448168
         ],
         "yaxis": "y"
        },
        {
         "hovertemplate": "weights=uniform<br>n_neighbors=%{x}<br>RMSE=%{y}<extra></extra>",
         "legendgroup": "uniform",
         "marker": {
          "color": "#EF553B",
          "symbol": "circle"
         },
         "mode": "markers",
         "name": "uniform",
         "orientation": "v",
         "showlegend": true,
         "type": "scatter",
         "x": [
          3,
          5,
          7,
          9
         ],
         "xaxis": "x",
         "y": [
          2059.2202584589886,
          2066.890449325966,
          2064.8820982066245,
          2048.3036128268495
         ],
         "yaxis": "y"
        },
        {
         "hovertemplate": "weights=distance<br>n_neighbors=%{x}<br>RMSE=%{y}<extra></extra>",
         "legendgroup": "distance",
         "marker": {
          "color": "#00cc96",
          "symbol": "circle"
         },
         "mode": "markers",
         "name": "distance",
         "orientation": "v",
         "showlegend": true,
         "type": "scatter",
         "x": [
          3,
          5,
          7,
          9
         ],
         "xaxis": "x",
         "y": [
          2001.271888401218,
          2000.8506091698648,
          2006.2260044977854,
          1998.3313464829903
         ],
         "yaxis": "y"
        }
       ],
       "layout": {
        "legend": {
         "title": {
          "text": "weights"
         },
         "tracegroupgap": 0
        },
        "template": {
         "data": {
          "bar": [
           {
            "error_x": {
             "color": "#2a3f5f"
            },
            "error_y": {
             "color": "#2a3f5f"
            },
            "marker": {
             "line": {
              "color": "#E5ECF6",
              "width": 0.5
             },
             "pattern": {
              "fillmode": "overlay",
              "size": 10,
              "solidity": 0.2
             }
            },
            "type": "bar"
           }
          ],
          "barpolar": [
           {
            "marker": {
             "line": {
              "color": "#E5ECF6",
              "width": 0.5
             },
             "pattern": {
              "fillmode": "overlay",
              "size": 10,
              "solidity": 0.2
             }
            },
            "type": "barpolar"
           }
          ],
          "carpet": [
           {
            "aaxis": {
             "endlinecolor": "#2a3f5f",
             "gridcolor": "white",
             "linecolor": "white",
             "minorgridcolor": "white",
             "startlinecolor": "#2a3f5f"
            },
            "baxis": {
             "endlinecolor": "#2a3f5f",
             "gridcolor": "white",
             "linecolor": "white",
             "minorgridcolor": "white",
             "startlinecolor": "#2a3f5f"
            },
            "type": "carpet"
           }
          ],
          "choropleth": [
           {
            "colorbar": {
             "outlinewidth": 0,
             "ticks": ""
            },
            "type": "choropleth"
           }
          ],
          "contour": [
           {
            "colorbar": {
             "outlinewidth": 0,
             "ticks": ""
            },
            "colorscale": [
             [
              0,
              "#0d0887"
             ],
             [
              0.1111111111111111,
              "#46039f"
             ],
             [
              0.2222222222222222,
              "#7201a8"
             ],
             [
              0.3333333333333333,
              "#9c179e"
             ],
             [
              0.4444444444444444,
              "#bd3786"
             ],
             [
              0.5555555555555556,
              "#d8576b"
             ],
             [
              0.6666666666666666,
              "#ed7953"
             ],
             [
              0.7777777777777778,
              "#fb9f3a"
             ],
             [
              0.8888888888888888,
              "#fdca26"
             ],
             [
              1,
              "#f0f921"
             ]
            ],
            "type": "contour"
           }
          ],
          "contourcarpet": [
           {
            "colorbar": {
             "outlinewidth": 0,
             "ticks": ""
            },
            "type": "contourcarpet"
           }
          ],
          "heatmap": [
           {
            "colorbar": {
             "outlinewidth": 0,
             "ticks": ""
            },
            "colorscale": [
             [
              0,
              "#0d0887"
             ],
             [
              0.1111111111111111,
              "#46039f"
             ],
             [
              0.2222222222222222,
              "#7201a8"
             ],
             [
              0.3333333333333333,
              "#9c179e"
             ],
             [
              0.4444444444444444,
              "#bd3786"
             ],
             [
              0.5555555555555556,
              "#d8576b"
             ],
             [
              0.6666666666666666,
              "#ed7953"
             ],
             [
              0.7777777777777778,
              "#fb9f3a"
             ],
             [
              0.8888888888888888,
              "#fdca26"
             ],
             [
              1,
              "#f0f921"
             ]
            ],
            "type": "heatmap"
           }
          ],
          "heatmapgl": [
           {
            "colorbar": {
             "outlinewidth": 0,
             "ticks": ""
            },
            "colorscale": [
             [
              0,
              "#0d0887"
             ],
             [
              0.1111111111111111,
              "#46039f"
             ],
             [
              0.2222222222222222,
              "#7201a8"
             ],
             [
              0.3333333333333333,
              "#9c179e"
             ],
             [
              0.4444444444444444,
              "#bd3786"
             ],
             [
              0.5555555555555556,
              "#d8576b"
             ],
             [
              0.6666666666666666,
              "#ed7953"
             ],
             [
              0.7777777777777778,
              "#fb9f3a"
             ],
             [
              0.8888888888888888,
              "#fdca26"
             ],
             [
              1,
              "#f0f921"
             ]
            ],
            "type": "heatmapgl"
           }
          ],
          "histogram": [
           {
            "marker": {
             "pattern": {
              "fillmode": "overlay",
              "size": 10,
              "solidity": 0.2
             }
            },
            "type": "histogram"
           }
          ],
          "histogram2d": [
           {
            "colorbar": {
             "outlinewidth": 0,
             "ticks": ""
            },
            "colorscale": [
             [
              0,
              "#0d0887"
             ],
             [
              0.1111111111111111,
              "#46039f"
             ],
             [
              0.2222222222222222,
              "#7201a8"
             ],
             [
              0.3333333333333333,
              "#9c179e"
             ],
             [
              0.4444444444444444,
              "#bd3786"
             ],
             [
              0.5555555555555556,
              "#d8576b"
             ],
             [
              0.6666666666666666,
              "#ed7953"
             ],
             [
              0.7777777777777778,
              "#fb9f3a"
             ],
             [
              0.8888888888888888,
              "#fdca26"
             ],
             [
              1,
              "#f0f921"
             ]
            ],
            "type": "histogram2d"
           }
          ],
          "histogram2dcontour": [
           {
            "colorbar": {
             "outlinewidth": 0,
             "ticks": ""
            },
            "colorscale": [
             [
              0,
              "#0d0887"
             ],
             [
              0.1111111111111111,
              "#46039f"
             ],
             [
              0.2222222222222222,
              "#7201a8"
             ],
             [
              0.3333333333333333,
              "#9c179e"
             ],
             [
              0.4444444444444444,
              "#bd3786"
             ],
             [
              0.5555555555555556,
              "#d8576b"
             ],
             [
              0.6666666666666666,
              "#ed7953"
             ],
             [
              0.7777777777777778,
              "#fb9f3a"
             ],
             [
              0.8888888888888888,
              "#fdca26"
             ],
             [
              1,
              "#f0f921"
             ]
            ],
            "type": "histogram2dcontour"
           }
          ],
          "mesh3d": [
           {
            "colorbar": {
             "outlinewidth": 0,
             "ticks": ""
            },
            "type": "mesh3d"
           }
          ],
          "parcoords": [
           {
            "line": {
             "colorbar": {
              "outlinewidth": 0,
              "ticks": ""
             }
            },
            "type": "parcoords"
           }
          ],
          "pie": [
           {
            "automargin": true,
            "type": "pie"
           }
          ],
          "scatter": [
           {
            "fillpattern": {
             "fillmode": "overlay",
             "size": 10,
             "solidity": 0.2
            },
            "type": "scatter"
           }
          ],
          "scatter3d": [
           {
            "line": {
             "colorbar": {
              "outlinewidth": 0,
              "ticks": ""
             }
            },
            "marker": {
             "colorbar": {
              "outlinewidth": 0,
              "ticks": ""
             }
            },
            "type": "scatter3d"
           }
          ],
          "scattercarpet": [
           {
            "marker": {
             "colorbar": {
              "outlinewidth": 0,
              "ticks": ""
             }
            },
            "type": "scattercarpet"
           }
          ],
          "scattergeo": [
           {
            "marker": {
             "colorbar": {
              "outlinewidth": 0,
              "ticks": ""
             }
            },
            "type": "scattergeo"
           }
          ],
          "scattergl": [
           {
            "marker": {
             "colorbar": {
              "outlinewidth": 0,
              "ticks": ""
             }
            },
            "type": "scattergl"
           }
          ],
          "scattermapbox": [
           {
            "marker": {
             "colorbar": {
              "outlinewidth": 0,
              "ticks": ""
             }
            },
            "type": "scattermapbox"
           }
          ],
          "scatterpolar": [
           {
            "marker": {
             "colorbar": {
              "outlinewidth": 0,
              "ticks": ""
             }
            },
            "type": "scatterpolar"
           }
          ],
          "scatterpolargl": [
           {
            "marker": {
             "colorbar": {
              "outlinewidth": 0,
              "ticks": ""
             }
            },
            "type": "scatterpolargl"
           }
          ],
          "scatterternary": [
           {
            "marker": {
             "colorbar": {
              "outlinewidth": 0,
              "ticks": ""
             }
            },
            "type": "scatterternary"
           }
          ],
          "surface": [
           {
            "colorbar": {
             "outlinewidth": 0,
             "ticks": ""
            },
            "colorscale": [
             [
              0,
              "#0d0887"
             ],
             [
              0.1111111111111111,
              "#46039f"
             ],
             [
              0.2222222222222222,
              "#7201a8"
             ],
             [
              0.3333333333333333,
              "#9c179e"
             ],
             [
              0.4444444444444444,
              "#bd3786"
             ],
             [
              0.5555555555555556,
              "#d8576b"
             ],
             [
              0.6666666666666666,
              "#ed7953"
             ],
             [
              0.7777777777777778,
              "#fb9f3a"
             ],
             [
              0.8888888888888888,
              "#fdca26"
             ],
             [
              1,
              "#f0f921"
             ]
            ],
            "type": "surface"
           }
          ],
          "table": [
           {
            "cells": {
             "fill": {
              "color": "#EBF0F8"
             },
             "line": {
              "color": "white"
             }
            },
            "header": {
             "fill": {
              "color": "#C8D4E3"
             },
             "line": {
              "color": "white"
             }
            },
            "type": "table"
           }
          ]
         },
         "layout": {
          "annotationdefaults": {
           "arrowcolor": "#2a3f5f",
           "arrowhead": 0,
           "arrowwidth": 1
          },
          "autotypenumbers": "strict",
          "coloraxis": {
           "colorbar": {
            "outlinewidth": 0,
            "ticks": ""
           }
          },
          "colorscale": {
           "diverging": [
            [
             0,
             "#8e0152"
            ],
            [
             0.1,
             "#c51b7d"
            ],
            [
             0.2,
             "#de77ae"
            ],
            [
             0.3,
             "#f1b6da"
            ],
            [
             0.4,
             "#fde0ef"
            ],
            [
             0.5,
             "#f7f7f7"
            ],
            [
             0.6,
             "#e6f5d0"
            ],
            [
             0.7,
             "#b8e186"
            ],
            [
             0.8,
             "#7fbc41"
            ],
            [
             0.9,
             "#4d9221"
            ],
            [
             1,
             "#276419"
            ]
           ],
           "sequential": [
            [
             0,
             "#0d0887"
            ],
            [
             0.1111111111111111,
             "#46039f"
            ],
            [
             0.2222222222222222,
             "#7201a8"
            ],
            [
             0.3333333333333333,
             "#9c179e"
            ],
            [
             0.4444444444444444,
             "#bd3786"
            ],
            [
             0.5555555555555556,
             "#d8576b"
            ],
            [
             0.6666666666666666,
             "#ed7953"
            ],
            [
             0.7777777777777778,
             "#fb9f3a"
            ],
            [
             0.8888888888888888,
             "#fdca26"
            ],
            [
             1,
             "#f0f921"
            ]
           ],
           "sequentialminus": [
            [
             0,
             "#0d0887"
            ],
            [
             0.1111111111111111,
             "#46039f"
            ],
            [
             0.2222222222222222,
             "#7201a8"
            ],
            [
             0.3333333333333333,
             "#9c179e"
            ],
            [
             0.4444444444444444,
             "#bd3786"
            ],
            [
             0.5555555555555556,
             "#d8576b"
            ],
            [
             0.6666666666666666,
             "#ed7953"
            ],
            [
             0.7777777777777778,
             "#fb9f3a"
            ],
            [
             0.8888888888888888,
             "#fdca26"
            ],
            [
             1,
             "#f0f921"
            ]
           ]
          },
          "colorway": [
           "#636efa",
           "#EF553B",
           "#00cc96",
           "#ab63fa",
           "#FFA15A",
           "#19d3f3",
           "#FF6692",
           "#B6E880",
           "#FF97FF",
           "#FECB52"
          ],
          "font": {
           "color": "#2a3f5f"
          },
          "geo": {
           "bgcolor": "white",
           "lakecolor": "white",
           "landcolor": "#E5ECF6",
           "showlakes": true,
           "showland": true,
           "subunitcolor": "white"
          },
          "hoverlabel": {
           "align": "left"
          },
          "hovermode": "closest",
          "mapbox": {
           "style": "light"
          },
          "paper_bgcolor": "white",
          "plot_bgcolor": "#E5ECF6",
          "polar": {
           "angularaxis": {
            "gridcolor": "white",
            "linecolor": "white",
            "ticks": ""
           },
           "bgcolor": "#E5ECF6",
           "radialaxis": {
            "gridcolor": "white",
            "linecolor": "white",
            "ticks": ""
           }
          },
          "scene": {
           "xaxis": {
            "backgroundcolor": "#E5ECF6",
            "gridcolor": "white",
            "gridwidth": 2,
            "linecolor": "white",
            "showbackground": true,
            "ticks": "",
            "zerolinecolor": "white"
           },
           "yaxis": {
            "backgroundcolor": "#E5ECF6",
            "gridcolor": "white",
            "gridwidth": 2,
            "linecolor": "white",
            "showbackground": true,
            "ticks": "",
            "zerolinecolor": "white"
           },
           "zaxis": {
            "backgroundcolor": "#E5ECF6",
            "gridcolor": "white",
            "gridwidth": 2,
            "linecolor": "white",
            "showbackground": true,
            "ticks": "",
            "zerolinecolor": "white"
           }
          },
          "shapedefaults": {
           "line": {
            "color": "#2a3f5f"
           }
          },
          "ternary": {
           "aaxis": {
            "gridcolor": "white",
            "linecolor": "white",
            "ticks": ""
           },
           "baxis": {
            "gridcolor": "white",
            "linecolor": "white",
            "ticks": ""
           },
           "bgcolor": "#E5ECF6",
           "caxis": {
            "gridcolor": "white",
            "linecolor": "white",
            "ticks": ""
           }
          },
          "title": {
           "x": 0.05
          },
          "xaxis": {
           "automargin": true,
           "gridcolor": "white",
           "linecolor": "white",
           "ticks": "",
           "title": {
            "standoff": 15
           },
           "zerolinecolor": "white",
           "zerolinewidth": 2
          },
          "yaxis": {
           "automargin": true,
           "gridcolor": "white",
           "linecolor": "white",
           "ticks": "",
           "title": {
            "standoff": 15
           },
           "zerolinecolor": "white",
           "zerolinewidth": 2
          }
         }
        },
        "title": {
         "text": "RMSE score with Aggregation encoding"
        },
        "xaxis": {
         "anchor": "y",
         "domain": [
          0,
          1
         ],
         "title": {
          "text": "n_neighbors"
         }
        },
        "yaxis": {
         "anchor": "x",
         "domain": [
          0,
          1
         ],
         "title": {
          "text": "RMSE"
         }
        }
       }
      }
     },
     "metadata": {},
     "output_type": "display_data"
    },
    {
     "data": {
      "application/vnd.plotly.v1+json": {
       "config": {
        "plotlyServerURL": "https://plot.ly"
       },
       "data": [
        {
         "hovertemplate": "weights=Default<br>n_neighbors=%{x}<br>RMSE=%{y}<extra></extra>",
         "legendgroup": "Default",
         "marker": {
          "color": "#636efa",
          "symbol": "circle"
         },
         "mode": "markers",
         "name": "Default",
         "orientation": "v",
         "showlegend": true,
         "type": "scatter",
         "x": [
          "Default"
         ],
         "xaxis": "x",
         "y": [
          2740.039291151047
         ],
         "yaxis": "y"
        },
        {
         "hovertemplate": "weights=uniform<br>n_neighbors=%{x}<br>RMSE=%{y}<extra></extra>",
         "legendgroup": "uniform",
         "marker": {
          "color": "#EF553B",
          "symbol": "circle"
         },
         "mode": "markers",
         "name": "uniform",
         "orientation": "v",
         "showlegend": true,
         "type": "scatter",
         "x": [
          3,
          5,
          7,
          9
         ],
         "xaxis": "x",
         "y": [
          2336.343535399765,
          2230.27609439511,
          2202.8617846722373,
          2189.880773501699
         ],
         "yaxis": "y"
        },
        {
         "hovertemplate": "weights=distance<br>n_neighbors=%{x}<br>RMSE=%{y}<extra></extra>",
         "legendgroup": "distance",
         "marker": {
          "color": "#00cc96",
          "symbol": "circle"
         },
         "mode": "markers",
         "name": "distance",
         "orientation": "v",
         "showlegend": true,
         "type": "scatter",
         "x": [
          3,
          5,
          7,
          9
         ],
         "xaxis": "x",
         "y": [
          2358.1222847537183,
          2241.6324564596684,
          2210.906137732335,
          2195.386559939493
         ],
         "yaxis": "y"
        }
       ],
       "layout": {
        "legend": {
         "title": {
          "text": "weights"
         },
         "tracegroupgap": 0
        },
        "template": {
         "data": {
          "bar": [
           {
            "error_x": {
             "color": "#2a3f5f"
            },
            "error_y": {
             "color": "#2a3f5f"
            },
            "marker": {
             "line": {
              "color": "#E5ECF6",
              "width": 0.5
             },
             "pattern": {
              "fillmode": "overlay",
              "size": 10,
              "solidity": 0.2
             }
            },
            "type": "bar"
           }
          ],
          "barpolar": [
           {
            "marker": {
             "line": {
              "color": "#E5ECF6",
              "width": 0.5
             },
             "pattern": {
              "fillmode": "overlay",
              "size": 10,
              "solidity": 0.2
             }
            },
            "type": "barpolar"
           }
          ],
          "carpet": [
           {
            "aaxis": {
             "endlinecolor": "#2a3f5f",
             "gridcolor": "white",
             "linecolor": "white",
             "minorgridcolor": "white",
             "startlinecolor": "#2a3f5f"
            },
            "baxis": {
             "endlinecolor": "#2a3f5f",
             "gridcolor": "white",
             "linecolor": "white",
             "minorgridcolor": "white",
             "startlinecolor": "#2a3f5f"
            },
            "type": "carpet"
           }
          ],
          "choropleth": [
           {
            "colorbar": {
             "outlinewidth": 0,
             "ticks": ""
            },
            "type": "choropleth"
           }
          ],
          "contour": [
           {
            "colorbar": {
             "outlinewidth": 0,
             "ticks": ""
            },
            "colorscale": [
             [
              0,
              "#0d0887"
             ],
             [
              0.1111111111111111,
              "#46039f"
             ],
             [
              0.2222222222222222,
              "#7201a8"
             ],
             [
              0.3333333333333333,
              "#9c179e"
             ],
             [
              0.4444444444444444,
              "#bd3786"
             ],
             [
              0.5555555555555556,
              "#d8576b"
             ],
             [
              0.6666666666666666,
              "#ed7953"
             ],
             [
              0.7777777777777778,
              "#fb9f3a"
             ],
             [
              0.8888888888888888,
              "#fdca26"
             ],
             [
              1,
              "#f0f921"
             ]
            ],
            "type": "contour"
           }
          ],
          "contourcarpet": [
           {
            "colorbar": {
             "outlinewidth": 0,
             "ticks": ""
            },
            "type": "contourcarpet"
           }
          ],
          "heatmap": [
           {
            "colorbar": {
             "outlinewidth": 0,
             "ticks": ""
            },
            "colorscale": [
             [
              0,
              "#0d0887"
             ],
             [
              0.1111111111111111,
              "#46039f"
             ],
             [
              0.2222222222222222,
              "#7201a8"
             ],
             [
              0.3333333333333333,
              "#9c179e"
             ],
             [
              0.4444444444444444,
              "#bd3786"
             ],
             [
              0.5555555555555556,
              "#d8576b"
             ],
             [
              0.6666666666666666,
              "#ed7953"
             ],
             [
              0.7777777777777778,
              "#fb9f3a"
             ],
             [
              0.8888888888888888,
              "#fdca26"
             ],
             [
              1,
              "#f0f921"
             ]
            ],
            "type": "heatmap"
           }
          ],
          "heatmapgl": [
           {
            "colorbar": {
             "outlinewidth": 0,
             "ticks": ""
            },
            "colorscale": [
             [
              0,
              "#0d0887"
             ],
             [
              0.1111111111111111,
              "#46039f"
             ],
             [
              0.2222222222222222,
              "#7201a8"
             ],
             [
              0.3333333333333333,
              "#9c179e"
             ],
             [
              0.4444444444444444,
              "#bd3786"
             ],
             [
              0.5555555555555556,
              "#d8576b"
             ],
             [
              0.6666666666666666,
              "#ed7953"
             ],
             [
              0.7777777777777778,
              "#fb9f3a"
             ],
             [
              0.8888888888888888,
              "#fdca26"
             ],
             [
              1,
              "#f0f921"
             ]
            ],
            "type": "heatmapgl"
           }
          ],
          "histogram": [
           {
            "marker": {
             "pattern": {
              "fillmode": "overlay",
              "size": 10,
              "solidity": 0.2
             }
            },
            "type": "histogram"
           }
          ],
          "histogram2d": [
           {
            "colorbar": {
             "outlinewidth": 0,
             "ticks": ""
            },
            "colorscale": [
             [
              0,
              "#0d0887"
             ],
             [
              0.1111111111111111,
              "#46039f"
             ],
             [
              0.2222222222222222,
              "#7201a8"
             ],
             [
              0.3333333333333333,
              "#9c179e"
             ],
             [
              0.4444444444444444,
              "#bd3786"
             ],
             [
              0.5555555555555556,
              "#d8576b"
             ],
             [
              0.6666666666666666,
              "#ed7953"
             ],
             [
              0.7777777777777778,
              "#fb9f3a"
             ],
             [
              0.8888888888888888,
              "#fdca26"
             ],
             [
              1,
              "#f0f921"
             ]
            ],
            "type": "histogram2d"
           }
          ],
          "histogram2dcontour": [
           {
            "colorbar": {
             "outlinewidth": 0,
             "ticks": ""
            },
            "colorscale": [
             [
              0,
              "#0d0887"
             ],
             [
              0.1111111111111111,
              "#46039f"
             ],
             [
              0.2222222222222222,
              "#7201a8"
             ],
             [
              0.3333333333333333,
              "#9c179e"
             ],
             [
              0.4444444444444444,
              "#bd3786"
             ],
             [
              0.5555555555555556,
              "#d8576b"
             ],
             [
              0.6666666666666666,
              "#ed7953"
             ],
             [
              0.7777777777777778,
              "#fb9f3a"
             ],
             [
              0.8888888888888888,
              "#fdca26"
             ],
             [
              1,
              "#f0f921"
             ]
            ],
            "type": "histogram2dcontour"
           }
          ],
          "mesh3d": [
           {
            "colorbar": {
             "outlinewidth": 0,
             "ticks": ""
            },
            "type": "mesh3d"
           }
          ],
          "parcoords": [
           {
            "line": {
             "colorbar": {
              "outlinewidth": 0,
              "ticks": ""
             }
            },
            "type": "parcoords"
           }
          ],
          "pie": [
           {
            "automargin": true,
            "type": "pie"
           }
          ],
          "scatter": [
           {
            "fillpattern": {
             "fillmode": "overlay",
             "size": 10,
             "solidity": 0.2
            },
            "type": "scatter"
           }
          ],
          "scatter3d": [
           {
            "line": {
             "colorbar": {
              "outlinewidth": 0,
              "ticks": ""
             }
            },
            "marker": {
             "colorbar": {
              "outlinewidth": 0,
              "ticks": ""
             }
            },
            "type": "scatter3d"
           }
          ],
          "scattercarpet": [
           {
            "marker": {
             "colorbar": {
              "outlinewidth": 0,
              "ticks": ""
             }
            },
            "type": "scattercarpet"
           }
          ],
          "scattergeo": [
           {
            "marker": {
             "colorbar": {
              "outlinewidth": 0,
              "ticks": ""
             }
            },
            "type": "scattergeo"
           }
          ],
          "scattergl": [
           {
            "marker": {
             "colorbar": {
              "outlinewidth": 0,
              "ticks": ""
             }
            },
            "type": "scattergl"
           }
          ],
          "scattermapbox": [
           {
            "marker": {
             "colorbar": {
              "outlinewidth": 0,
              "ticks": ""
             }
            },
            "type": "scattermapbox"
           }
          ],
          "scatterpolar": [
           {
            "marker": {
             "colorbar": {
              "outlinewidth": 0,
              "ticks": ""
             }
            },
            "type": "scatterpolar"
           }
          ],
          "scatterpolargl": [
           {
            "marker": {
             "colorbar": {
              "outlinewidth": 0,
              "ticks": ""
             }
            },
            "type": "scatterpolargl"
           }
          ],
          "scatterternary": [
           {
            "marker": {
             "colorbar": {
              "outlinewidth": 0,
              "ticks": ""
             }
            },
            "type": "scatterternary"
           }
          ],
          "surface": [
           {
            "colorbar": {
             "outlinewidth": 0,
             "ticks": ""
            },
            "colorscale": [
             [
              0,
              "#0d0887"
             ],
             [
              0.1111111111111111,
              "#46039f"
             ],
             [
              0.2222222222222222,
              "#7201a8"
             ],
             [
              0.3333333333333333,
              "#9c179e"
             ],
             [
              0.4444444444444444,
              "#bd3786"
             ],
             [
              0.5555555555555556,
              "#d8576b"
             ],
             [
              0.6666666666666666,
              "#ed7953"
             ],
             [
              0.7777777777777778,
              "#fb9f3a"
             ],
             [
              0.8888888888888888,
              "#fdca26"
             ],
             [
              1,
              "#f0f921"
             ]
            ],
            "type": "surface"
           }
          ],
          "table": [
           {
            "cells": {
             "fill": {
              "color": "#EBF0F8"
             },
             "line": {
              "color": "white"
             }
            },
            "header": {
             "fill": {
              "color": "#C8D4E3"
             },
             "line": {
              "color": "white"
             }
            },
            "type": "table"
           }
          ]
         },
         "layout": {
          "annotationdefaults": {
           "arrowcolor": "#2a3f5f",
           "arrowhead": 0,
           "arrowwidth": 1
          },
          "autotypenumbers": "strict",
          "coloraxis": {
           "colorbar": {
            "outlinewidth": 0,
            "ticks": ""
           }
          },
          "colorscale": {
           "diverging": [
            [
             0,
             "#8e0152"
            ],
            [
             0.1,
             "#c51b7d"
            ],
            [
             0.2,
             "#de77ae"
            ],
            [
             0.3,
             "#f1b6da"
            ],
            [
             0.4,
             "#fde0ef"
            ],
            [
             0.5,
             "#f7f7f7"
            ],
            [
             0.6,
             "#e6f5d0"
            ],
            [
             0.7,
             "#b8e186"
            ],
            [
             0.8,
             "#7fbc41"
            ],
            [
             0.9,
             "#4d9221"
            ],
            [
             1,
             "#276419"
            ]
           ],
           "sequential": [
            [
             0,
             "#0d0887"
            ],
            [
             0.1111111111111111,
             "#46039f"
            ],
            [
             0.2222222222222222,
             "#7201a8"
            ],
            [
             0.3333333333333333,
             "#9c179e"
            ],
            [
             0.4444444444444444,
             "#bd3786"
            ],
            [
             0.5555555555555556,
             "#d8576b"
            ],
            [
             0.6666666666666666,
             "#ed7953"
            ],
            [
             0.7777777777777778,
             "#fb9f3a"
            ],
            [
             0.8888888888888888,
             "#fdca26"
            ],
            [
             1,
             "#f0f921"
            ]
           ],
           "sequentialminus": [
            [
             0,
             "#0d0887"
            ],
            [
             0.1111111111111111,
             "#46039f"
            ],
            [
             0.2222222222222222,
             "#7201a8"
            ],
            [
             0.3333333333333333,
             "#9c179e"
            ],
            [
             0.4444444444444444,
             "#bd3786"
            ],
            [
             0.5555555555555556,
             "#d8576b"
            ],
            [
             0.6666666666666666,
             "#ed7953"
            ],
            [
             0.7777777777777778,
             "#fb9f3a"
            ],
            [
             0.8888888888888888,
             "#fdca26"
            ],
            [
             1,
             "#f0f921"
            ]
           ]
          },
          "colorway": [
           "#636efa",
           "#EF553B",
           "#00cc96",
           "#ab63fa",
           "#FFA15A",
           "#19d3f3",
           "#FF6692",
           "#B6E880",
           "#FF97FF",
           "#FECB52"
          ],
          "font": {
           "color": "#2a3f5f"
          },
          "geo": {
           "bgcolor": "white",
           "lakecolor": "white",
           "landcolor": "#E5ECF6",
           "showlakes": true,
           "showland": true,
           "subunitcolor": "white"
          },
          "hoverlabel": {
           "align": "left"
          },
          "hovermode": "closest",
          "mapbox": {
           "style": "light"
          },
          "paper_bgcolor": "white",
          "plot_bgcolor": "#E5ECF6",
          "polar": {
           "angularaxis": {
            "gridcolor": "white",
            "linecolor": "white",
            "ticks": ""
           },
           "bgcolor": "#E5ECF6",
           "radialaxis": {
            "gridcolor": "white",
            "linecolor": "white",
            "ticks": ""
           }
          },
          "scene": {
           "xaxis": {
            "backgroundcolor": "#E5ECF6",
            "gridcolor": "white",
            "gridwidth": 2,
            "linecolor": "white",
            "showbackground": true,
            "ticks": "",
            "zerolinecolor": "white"
           },
           "yaxis": {
            "backgroundcolor": "#E5ECF6",
            "gridcolor": "white",
            "gridwidth": 2,
            "linecolor": "white",
            "showbackground": true,
            "ticks": "",
            "zerolinecolor": "white"
           },
           "zaxis": {
            "backgroundcolor": "#E5ECF6",
            "gridcolor": "white",
            "gridwidth": 2,
            "linecolor": "white",
            "showbackground": true,
            "ticks": "",
            "zerolinecolor": "white"
           }
          },
          "shapedefaults": {
           "line": {
            "color": "#2a3f5f"
           }
          },
          "ternary": {
           "aaxis": {
            "gridcolor": "white",
            "linecolor": "white",
            "ticks": ""
           },
           "baxis": {
            "gridcolor": "white",
            "linecolor": "white",
            "ticks": ""
           },
           "bgcolor": "#E5ECF6",
           "caxis": {
            "gridcolor": "white",
            "linecolor": "white",
            "ticks": ""
           }
          },
          "title": {
           "x": 0.05
          },
          "xaxis": {
           "automargin": true,
           "gridcolor": "white",
           "linecolor": "white",
           "ticks": "",
           "title": {
            "standoff": 15
           },
           "zerolinecolor": "white",
           "zerolinewidth": 2
          },
          "yaxis": {
           "automargin": true,
           "gridcolor": "white",
           "linecolor": "white",
           "ticks": "",
           "title": {
            "standoff": 15
           },
           "zerolinecolor": "white",
           "zerolinewidth": 2
          }
         }
        },
        "title": {
         "text": "RMSE score with Last-2-state encoding"
        },
        "xaxis": {
         "anchor": "y",
         "domain": [
          0,
          1
         ],
         "title": {
          "text": "n_neighbors"
         }
        },
        "yaxis": {
         "anchor": "x",
         "domain": [
          0,
          1
         ],
         "title": {
          "text": "RMSE"
         }
        }
       }
      }
     },
     "metadata": {},
     "output_type": "display_data"
    },
    {
     "data": {
      "application/vnd.plotly.v1+json": {
       "config": {
        "plotlyServerURL": "https://plot.ly"
       },
       "data": [
        {
         "hovertemplate": "weights=Default<br>n_neighbors=%{x}<br>R2=%{y}<extra></extra>",
         "legendgroup": "Default",
         "marker": {
          "color": "#636efa",
          "symbol": "circle"
         },
         "mode": "markers",
         "name": "Default",
         "orientation": "v",
         "showlegend": true,
         "type": "scatter",
         "x": [
          "Default"
         ],
         "xaxis": "x",
         "y": [
          0.23534670952365166
         ],
         "yaxis": "y"
        },
        {
         "hovertemplate": "weights=uniform<br>n_neighbors=%{x}<br>R2=%{y}<extra></extra>",
         "legendgroup": "uniform",
         "marker": {
          "color": "#EF553B",
          "symbol": "circle"
         },
         "mode": "markers",
         "name": "uniform",
         "orientation": "v",
         "showlegend": true,
         "type": "scatter",
         "x": [
          3,
          5,
          7,
          9
         ],
         "xaxis": "x",
         "y": [
          0.15254527596417014,
          0.14926574025924583,
          0.14964731543398285,
          0.1643796324219219
         ],
         "yaxis": "y"
        },
        {
         "hovertemplate": "weights=distance<br>n_neighbors=%{x}<br>R2=%{y}<extra></extra>",
         "legendgroup": "distance",
         "marker": {
          "color": "#00cc96",
          "symbol": "circle"
         },
         "mode": "markers",
         "name": "distance",
         "orientation": "v",
         "showlegend": true,
         "type": "scatter",
         "x": [
          3,
          5,
          7,
          9
         ],
         "xaxis": "x",
         "y": [
          0.2027378105073781,
          0.20552226360968331,
          0.19986189362634094,
          0.20673379630088648
         ],
         "yaxis": "y"
        }
       ],
       "layout": {
        "legend": {
         "title": {
          "text": "weights"
         },
         "tracegroupgap": 0
        },
        "template": {
         "data": {
          "bar": [
           {
            "error_x": {
             "color": "#2a3f5f"
            },
            "error_y": {
             "color": "#2a3f5f"
            },
            "marker": {
             "line": {
              "color": "#E5ECF6",
              "width": 0.5
             },
             "pattern": {
              "fillmode": "overlay",
              "size": 10,
              "solidity": 0.2
             }
            },
            "type": "bar"
           }
          ],
          "barpolar": [
           {
            "marker": {
             "line": {
              "color": "#E5ECF6",
              "width": 0.5
             },
             "pattern": {
              "fillmode": "overlay",
              "size": 10,
              "solidity": 0.2
             }
            },
            "type": "barpolar"
           }
          ],
          "carpet": [
           {
            "aaxis": {
             "endlinecolor": "#2a3f5f",
             "gridcolor": "white",
             "linecolor": "white",
             "minorgridcolor": "white",
             "startlinecolor": "#2a3f5f"
            },
            "baxis": {
             "endlinecolor": "#2a3f5f",
             "gridcolor": "white",
             "linecolor": "white",
             "minorgridcolor": "white",
             "startlinecolor": "#2a3f5f"
            },
            "type": "carpet"
           }
          ],
          "choropleth": [
           {
            "colorbar": {
             "outlinewidth": 0,
             "ticks": ""
            },
            "type": "choropleth"
           }
          ],
          "contour": [
           {
            "colorbar": {
             "outlinewidth": 0,
             "ticks": ""
            },
            "colorscale": [
             [
              0,
              "#0d0887"
             ],
             [
              0.1111111111111111,
              "#46039f"
             ],
             [
              0.2222222222222222,
              "#7201a8"
             ],
             [
              0.3333333333333333,
              "#9c179e"
             ],
             [
              0.4444444444444444,
              "#bd3786"
             ],
             [
              0.5555555555555556,
              "#d8576b"
             ],
             [
              0.6666666666666666,
              "#ed7953"
             ],
             [
              0.7777777777777778,
              "#fb9f3a"
             ],
             [
              0.8888888888888888,
              "#fdca26"
             ],
             [
              1,
              "#f0f921"
             ]
            ],
            "type": "contour"
           }
          ],
          "contourcarpet": [
           {
            "colorbar": {
             "outlinewidth": 0,
             "ticks": ""
            },
            "type": "contourcarpet"
           }
          ],
          "heatmap": [
           {
            "colorbar": {
             "outlinewidth": 0,
             "ticks": ""
            },
            "colorscale": [
             [
              0,
              "#0d0887"
             ],
             [
              0.1111111111111111,
              "#46039f"
             ],
             [
              0.2222222222222222,
              "#7201a8"
             ],
             [
              0.3333333333333333,
              "#9c179e"
             ],
             [
              0.4444444444444444,
              "#bd3786"
             ],
             [
              0.5555555555555556,
              "#d8576b"
             ],
             [
              0.6666666666666666,
              "#ed7953"
             ],
             [
              0.7777777777777778,
              "#fb9f3a"
             ],
             [
              0.8888888888888888,
              "#fdca26"
             ],
             [
              1,
              "#f0f921"
             ]
            ],
            "type": "heatmap"
           }
          ],
          "heatmapgl": [
           {
            "colorbar": {
             "outlinewidth": 0,
             "ticks": ""
            },
            "colorscale": [
             [
              0,
              "#0d0887"
             ],
             [
              0.1111111111111111,
              "#46039f"
             ],
             [
              0.2222222222222222,
              "#7201a8"
             ],
             [
              0.3333333333333333,
              "#9c179e"
             ],
             [
              0.4444444444444444,
              "#bd3786"
             ],
             [
              0.5555555555555556,
              "#d8576b"
             ],
             [
              0.6666666666666666,
              "#ed7953"
             ],
             [
              0.7777777777777778,
              "#fb9f3a"
             ],
             [
              0.8888888888888888,
              "#fdca26"
             ],
             [
              1,
              "#f0f921"
             ]
            ],
            "type": "heatmapgl"
           }
          ],
          "histogram": [
           {
            "marker": {
             "pattern": {
              "fillmode": "overlay",
              "size": 10,
              "solidity": 0.2
             }
            },
            "type": "histogram"
           }
          ],
          "histogram2d": [
           {
            "colorbar": {
             "outlinewidth": 0,
             "ticks": ""
            },
            "colorscale": [
             [
              0,
              "#0d0887"
             ],
             [
              0.1111111111111111,
              "#46039f"
             ],
             [
              0.2222222222222222,
              "#7201a8"
             ],
             [
              0.3333333333333333,
              "#9c179e"
             ],
             [
              0.4444444444444444,
              "#bd3786"
             ],
             [
              0.5555555555555556,
              "#d8576b"
             ],
             [
              0.6666666666666666,
              "#ed7953"
             ],
             [
              0.7777777777777778,
              "#fb9f3a"
             ],
             [
              0.8888888888888888,
              "#fdca26"
             ],
             [
              1,
              "#f0f921"
             ]
            ],
            "type": "histogram2d"
           }
          ],
          "histogram2dcontour": [
           {
            "colorbar": {
             "outlinewidth": 0,
             "ticks": ""
            },
            "colorscale": [
             [
              0,
              "#0d0887"
             ],
             [
              0.1111111111111111,
              "#46039f"
             ],
             [
              0.2222222222222222,
              "#7201a8"
             ],
             [
              0.3333333333333333,
              "#9c179e"
             ],
             [
              0.4444444444444444,
              "#bd3786"
             ],
             [
              0.5555555555555556,
              "#d8576b"
             ],
             [
              0.6666666666666666,
              "#ed7953"
             ],
             [
              0.7777777777777778,
              "#fb9f3a"
             ],
             [
              0.8888888888888888,
              "#fdca26"
             ],
             [
              1,
              "#f0f921"
             ]
            ],
            "type": "histogram2dcontour"
           }
          ],
          "mesh3d": [
           {
            "colorbar": {
             "outlinewidth": 0,
             "ticks": ""
            },
            "type": "mesh3d"
           }
          ],
          "parcoords": [
           {
            "line": {
             "colorbar": {
              "outlinewidth": 0,
              "ticks": ""
             }
            },
            "type": "parcoords"
           }
          ],
          "pie": [
           {
            "automargin": true,
            "type": "pie"
           }
          ],
          "scatter": [
           {
            "fillpattern": {
             "fillmode": "overlay",
             "size": 10,
             "solidity": 0.2
            },
            "type": "scatter"
           }
          ],
          "scatter3d": [
           {
            "line": {
             "colorbar": {
              "outlinewidth": 0,
              "ticks": ""
             }
            },
            "marker": {
             "colorbar": {
              "outlinewidth": 0,
              "ticks": ""
             }
            },
            "type": "scatter3d"
           }
          ],
          "scattercarpet": [
           {
            "marker": {
             "colorbar": {
              "outlinewidth": 0,
              "ticks": ""
             }
            },
            "type": "scattercarpet"
           }
          ],
          "scattergeo": [
           {
            "marker": {
             "colorbar": {
              "outlinewidth": 0,
              "ticks": ""
             }
            },
            "type": "scattergeo"
           }
          ],
          "scattergl": [
           {
            "marker": {
             "colorbar": {
              "outlinewidth": 0,
              "ticks": ""
             }
            },
            "type": "scattergl"
           }
          ],
          "scattermapbox": [
           {
            "marker": {
             "colorbar": {
              "outlinewidth": 0,
              "ticks": ""
             }
            },
            "type": "scattermapbox"
           }
          ],
          "scatterpolar": [
           {
            "marker": {
             "colorbar": {
              "outlinewidth": 0,
              "ticks": ""
             }
            },
            "type": "scatterpolar"
           }
          ],
          "scatterpolargl": [
           {
            "marker": {
             "colorbar": {
              "outlinewidth": 0,
              "ticks": ""
             }
            },
            "type": "scatterpolargl"
           }
          ],
          "scatterternary": [
           {
            "marker": {
             "colorbar": {
              "outlinewidth": 0,
              "ticks": ""
             }
            },
            "type": "scatterternary"
           }
          ],
          "surface": [
           {
            "colorbar": {
             "outlinewidth": 0,
             "ticks": ""
            },
            "colorscale": [
             [
              0,
              "#0d0887"
             ],
             [
              0.1111111111111111,
              "#46039f"
             ],
             [
              0.2222222222222222,
              "#7201a8"
             ],
             [
              0.3333333333333333,
              "#9c179e"
             ],
             [
              0.4444444444444444,
              "#bd3786"
             ],
             [
              0.5555555555555556,
              "#d8576b"
             ],
             [
              0.6666666666666666,
              "#ed7953"
             ],
             [
              0.7777777777777778,
              "#fb9f3a"
             ],
             [
              0.8888888888888888,
              "#fdca26"
             ],
             [
              1,
              "#f0f921"
             ]
            ],
            "type": "surface"
           }
          ],
          "table": [
           {
            "cells": {
             "fill": {
              "color": "#EBF0F8"
             },
             "line": {
              "color": "white"
             }
            },
            "header": {
             "fill": {
              "color": "#C8D4E3"
             },
             "line": {
              "color": "white"
             }
            },
            "type": "table"
           }
          ]
         },
         "layout": {
          "annotationdefaults": {
           "arrowcolor": "#2a3f5f",
           "arrowhead": 0,
           "arrowwidth": 1
          },
          "autotypenumbers": "strict",
          "coloraxis": {
           "colorbar": {
            "outlinewidth": 0,
            "ticks": ""
           }
          },
          "colorscale": {
           "diverging": [
            [
             0,
             "#8e0152"
            ],
            [
             0.1,
             "#c51b7d"
            ],
            [
             0.2,
             "#de77ae"
            ],
            [
             0.3,
             "#f1b6da"
            ],
            [
             0.4,
             "#fde0ef"
            ],
            [
             0.5,
             "#f7f7f7"
            ],
            [
             0.6,
             "#e6f5d0"
            ],
            [
             0.7,
             "#b8e186"
            ],
            [
             0.8,
             "#7fbc41"
            ],
            [
             0.9,
             "#4d9221"
            ],
            [
             1,
             "#276419"
            ]
           ],
           "sequential": [
            [
             0,
             "#0d0887"
            ],
            [
             0.1111111111111111,
             "#46039f"
            ],
            [
             0.2222222222222222,
             "#7201a8"
            ],
            [
             0.3333333333333333,
             "#9c179e"
            ],
            [
             0.4444444444444444,
             "#bd3786"
            ],
            [
             0.5555555555555556,
             "#d8576b"
            ],
            [
             0.6666666666666666,
             "#ed7953"
            ],
            [
             0.7777777777777778,
             "#fb9f3a"
            ],
            [
             0.8888888888888888,
             "#fdca26"
            ],
            [
             1,
             "#f0f921"
            ]
           ],
           "sequentialminus": [
            [
             0,
             "#0d0887"
            ],
            [
             0.1111111111111111,
             "#46039f"
            ],
            [
             0.2222222222222222,
             "#7201a8"
            ],
            [
             0.3333333333333333,
             "#9c179e"
            ],
            [
             0.4444444444444444,
             "#bd3786"
            ],
            [
             0.5555555555555556,
             "#d8576b"
            ],
            [
             0.6666666666666666,
             "#ed7953"
            ],
            [
             0.7777777777777778,
             "#fb9f3a"
            ],
            [
             0.8888888888888888,
             "#fdca26"
            ],
            [
             1,
             "#f0f921"
            ]
           ]
          },
          "colorway": [
           "#636efa",
           "#EF553B",
           "#00cc96",
           "#ab63fa",
           "#FFA15A",
           "#19d3f3",
           "#FF6692",
           "#B6E880",
           "#FF97FF",
           "#FECB52"
          ],
          "font": {
           "color": "#2a3f5f"
          },
          "geo": {
           "bgcolor": "white",
           "lakecolor": "white",
           "landcolor": "#E5ECF6",
           "showlakes": true,
           "showland": true,
           "subunitcolor": "white"
          },
          "hoverlabel": {
           "align": "left"
          },
          "hovermode": "closest",
          "mapbox": {
           "style": "light"
          },
          "paper_bgcolor": "white",
          "plot_bgcolor": "#E5ECF6",
          "polar": {
           "angularaxis": {
            "gridcolor": "white",
            "linecolor": "white",
            "ticks": ""
           },
           "bgcolor": "#E5ECF6",
           "radialaxis": {
            "gridcolor": "white",
            "linecolor": "white",
            "ticks": ""
           }
          },
          "scene": {
           "xaxis": {
            "backgroundcolor": "#E5ECF6",
            "gridcolor": "white",
            "gridwidth": 2,
            "linecolor": "white",
            "showbackground": true,
            "ticks": "",
            "zerolinecolor": "white"
           },
           "yaxis": {
            "backgroundcolor": "#E5ECF6",
            "gridcolor": "white",
            "gridwidth": 2,
            "linecolor": "white",
            "showbackground": true,
            "ticks": "",
            "zerolinecolor": "white"
           },
           "zaxis": {
            "backgroundcolor": "#E5ECF6",
            "gridcolor": "white",
            "gridwidth": 2,
            "linecolor": "white",
            "showbackground": true,
            "ticks": "",
            "zerolinecolor": "white"
           }
          },
          "shapedefaults": {
           "line": {
            "color": "#2a3f5f"
           }
          },
          "ternary": {
           "aaxis": {
            "gridcolor": "white",
            "linecolor": "white",
            "ticks": ""
           },
           "baxis": {
            "gridcolor": "white",
            "linecolor": "white",
            "ticks": ""
           },
           "bgcolor": "#E5ECF6",
           "caxis": {
            "gridcolor": "white",
            "linecolor": "white",
            "ticks": ""
           }
          },
          "title": {
           "x": 0.05
          },
          "xaxis": {
           "automargin": true,
           "gridcolor": "white",
           "linecolor": "white",
           "ticks": "",
           "title": {
            "standoff": 15
           },
           "zerolinecolor": "white",
           "zerolinewidth": 2
          },
          "yaxis": {
           "automargin": true,
           "gridcolor": "white",
           "linecolor": "white",
           "ticks": "",
           "title": {
            "standoff": 15
           },
           "zerolinecolor": "white",
           "zerolinewidth": 2
          }
         }
        },
        "title": {
         "text": "R2 score with Aggregation encoding"
        },
        "xaxis": {
         "anchor": "y",
         "domain": [
          0,
          1
         ],
         "title": {
          "text": "n_neighbors"
         }
        },
        "yaxis": {
         "anchor": "x",
         "domain": [
          0,
          1
         ],
         "title": {
          "text": "R2"
         }
        }
       }
      }
     },
     "metadata": {},
     "output_type": "display_data"
    },
    {
     "data": {
      "application/vnd.plotly.v1+json": {
       "config": {
        "plotlyServerURL": "https://plot.ly"
       },
       "data": [
        {
         "hovertemplate": "weights=Default<br>n_neighbors=%{x}<br>R2=%{y}<extra></extra>",
         "legendgroup": "Default",
         "marker": {
          "color": "#636efa",
          "symbol": "circle"
         },
         "mode": "markers",
         "name": "Default",
         "orientation": "v",
         "showlegend": true,
         "type": "scatter",
         "x": [
          "Default"
         ],
         "xaxis": "x",
         "y": [
          0.024844546773204246
         ],
         "yaxis": "y"
        },
        {
         "hovertemplate": "weights=uniform<br>n_neighbors=%{x}<br>R2=%{y}<extra></extra>",
         "legendgroup": "uniform",
         "marker": {
          "color": "#EF553B",
          "symbol": "circle"
         },
         "mode": "markers",
         "name": "uniform",
         "orientation": "v",
         "showlegend": true,
         "type": "scatter",
         "x": [
          3,
          5,
          7,
          9
         ],
         "xaxis": "x",
         "y": [
          -0.09904434665505593,
          0.0023493029686588287,
          0.02895800763894547,
          0.04191409125233592
         ],
         "yaxis": "y"
        },
        {
         "hovertemplate": "weights=distance<br>n_neighbors=%{x}<br>R2=%{y}<extra></extra>",
         "legendgroup": "distance",
         "marker": {
          "color": "#00cc96",
          "symbol": "circle"
         },
         "mode": "markers",
         "name": "distance",
         "orientation": "v",
         "showlegend": true,
         "type": "scatter",
         "x": [
          3,
          5,
          7,
          9
         ],
         "xaxis": "x",
         "y": [
          -0.1280250030627747,
          -0.011167808175167559,
          0.019529828657690505,
          0.03520225780243576
         ],
         "yaxis": "y"
        }
       ],
       "layout": {
        "legend": {
         "title": {
          "text": "weights"
         },
         "tracegroupgap": 0
        },
        "template": {
         "data": {
          "bar": [
           {
            "error_x": {
             "color": "#2a3f5f"
            },
            "error_y": {
             "color": "#2a3f5f"
            },
            "marker": {
             "line": {
              "color": "#E5ECF6",
              "width": 0.5
             },
             "pattern": {
              "fillmode": "overlay",
              "size": 10,
              "solidity": 0.2
             }
            },
            "type": "bar"
           }
          ],
          "barpolar": [
           {
            "marker": {
             "line": {
              "color": "#E5ECF6",
              "width": 0.5
             },
             "pattern": {
              "fillmode": "overlay",
              "size": 10,
              "solidity": 0.2
             }
            },
            "type": "barpolar"
           }
          ],
          "carpet": [
           {
            "aaxis": {
             "endlinecolor": "#2a3f5f",
             "gridcolor": "white",
             "linecolor": "white",
             "minorgridcolor": "white",
             "startlinecolor": "#2a3f5f"
            },
            "baxis": {
             "endlinecolor": "#2a3f5f",
             "gridcolor": "white",
             "linecolor": "white",
             "minorgridcolor": "white",
             "startlinecolor": "#2a3f5f"
            },
            "type": "carpet"
           }
          ],
          "choropleth": [
           {
            "colorbar": {
             "outlinewidth": 0,
             "ticks": ""
            },
            "type": "choropleth"
           }
          ],
          "contour": [
           {
            "colorbar": {
             "outlinewidth": 0,
             "ticks": ""
            },
            "colorscale": [
             [
              0,
              "#0d0887"
             ],
             [
              0.1111111111111111,
              "#46039f"
             ],
             [
              0.2222222222222222,
              "#7201a8"
             ],
             [
              0.3333333333333333,
              "#9c179e"
             ],
             [
              0.4444444444444444,
              "#bd3786"
             ],
             [
              0.5555555555555556,
              "#d8576b"
             ],
             [
              0.6666666666666666,
              "#ed7953"
             ],
             [
              0.7777777777777778,
              "#fb9f3a"
             ],
             [
              0.8888888888888888,
              "#fdca26"
             ],
             [
              1,
              "#f0f921"
             ]
            ],
            "type": "contour"
           }
          ],
          "contourcarpet": [
           {
            "colorbar": {
             "outlinewidth": 0,
             "ticks": ""
            },
            "type": "contourcarpet"
           }
          ],
          "heatmap": [
           {
            "colorbar": {
             "outlinewidth": 0,
             "ticks": ""
            },
            "colorscale": [
             [
              0,
              "#0d0887"
             ],
             [
              0.1111111111111111,
              "#46039f"
             ],
             [
              0.2222222222222222,
              "#7201a8"
             ],
             [
              0.3333333333333333,
              "#9c179e"
             ],
             [
              0.4444444444444444,
              "#bd3786"
             ],
             [
              0.5555555555555556,
              "#d8576b"
             ],
             [
              0.6666666666666666,
              "#ed7953"
             ],
             [
              0.7777777777777778,
              "#fb9f3a"
             ],
             [
              0.8888888888888888,
              "#fdca26"
             ],
             [
              1,
              "#f0f921"
             ]
            ],
            "type": "heatmap"
           }
          ],
          "heatmapgl": [
           {
            "colorbar": {
             "outlinewidth": 0,
             "ticks": ""
            },
            "colorscale": [
             [
              0,
              "#0d0887"
             ],
             [
              0.1111111111111111,
              "#46039f"
             ],
             [
              0.2222222222222222,
              "#7201a8"
             ],
             [
              0.3333333333333333,
              "#9c179e"
             ],
             [
              0.4444444444444444,
              "#bd3786"
             ],
             [
              0.5555555555555556,
              "#d8576b"
             ],
             [
              0.6666666666666666,
              "#ed7953"
             ],
             [
              0.7777777777777778,
              "#fb9f3a"
             ],
             [
              0.8888888888888888,
              "#fdca26"
             ],
             [
              1,
              "#f0f921"
             ]
            ],
            "type": "heatmapgl"
           }
          ],
          "histogram": [
           {
            "marker": {
             "pattern": {
              "fillmode": "overlay",
              "size": 10,
              "solidity": 0.2
             }
            },
            "type": "histogram"
           }
          ],
          "histogram2d": [
           {
            "colorbar": {
             "outlinewidth": 0,
             "ticks": ""
            },
            "colorscale": [
             [
              0,
              "#0d0887"
             ],
             [
              0.1111111111111111,
              "#46039f"
             ],
             [
              0.2222222222222222,
              "#7201a8"
             ],
             [
              0.3333333333333333,
              "#9c179e"
             ],
             [
              0.4444444444444444,
              "#bd3786"
             ],
             [
              0.5555555555555556,
              "#d8576b"
             ],
             [
              0.6666666666666666,
              "#ed7953"
             ],
             [
              0.7777777777777778,
              "#fb9f3a"
             ],
             [
              0.8888888888888888,
              "#fdca26"
             ],
             [
              1,
              "#f0f921"
             ]
            ],
            "type": "histogram2d"
           }
          ],
          "histogram2dcontour": [
           {
            "colorbar": {
             "outlinewidth": 0,
             "ticks": ""
            },
            "colorscale": [
             [
              0,
              "#0d0887"
             ],
             [
              0.1111111111111111,
              "#46039f"
             ],
             [
              0.2222222222222222,
              "#7201a8"
             ],
             [
              0.3333333333333333,
              "#9c179e"
             ],
             [
              0.4444444444444444,
              "#bd3786"
             ],
             [
              0.5555555555555556,
              "#d8576b"
             ],
             [
              0.6666666666666666,
              "#ed7953"
             ],
             [
              0.7777777777777778,
              "#fb9f3a"
             ],
             [
              0.8888888888888888,
              "#fdca26"
             ],
             [
              1,
              "#f0f921"
             ]
            ],
            "type": "histogram2dcontour"
           }
          ],
          "mesh3d": [
           {
            "colorbar": {
             "outlinewidth": 0,
             "ticks": ""
            },
            "type": "mesh3d"
           }
          ],
          "parcoords": [
           {
            "line": {
             "colorbar": {
              "outlinewidth": 0,
              "ticks": ""
             }
            },
            "type": "parcoords"
           }
          ],
          "pie": [
           {
            "automargin": true,
            "type": "pie"
           }
          ],
          "scatter": [
           {
            "fillpattern": {
             "fillmode": "overlay",
             "size": 10,
             "solidity": 0.2
            },
            "type": "scatter"
           }
          ],
          "scatter3d": [
           {
            "line": {
             "colorbar": {
              "outlinewidth": 0,
              "ticks": ""
             }
            },
            "marker": {
             "colorbar": {
              "outlinewidth": 0,
              "ticks": ""
             }
            },
            "type": "scatter3d"
           }
          ],
          "scattercarpet": [
           {
            "marker": {
             "colorbar": {
              "outlinewidth": 0,
              "ticks": ""
             }
            },
            "type": "scattercarpet"
           }
          ],
          "scattergeo": [
           {
            "marker": {
             "colorbar": {
              "outlinewidth": 0,
              "ticks": ""
             }
            },
            "type": "scattergeo"
           }
          ],
          "scattergl": [
           {
            "marker": {
             "colorbar": {
              "outlinewidth": 0,
              "ticks": ""
             }
            },
            "type": "scattergl"
           }
          ],
          "scattermapbox": [
           {
            "marker": {
             "colorbar": {
              "outlinewidth": 0,
              "ticks": ""
             }
            },
            "type": "scattermapbox"
           }
          ],
          "scatterpolar": [
           {
            "marker": {
             "colorbar": {
              "outlinewidth": 0,
              "ticks": ""
             }
            },
            "type": "scatterpolar"
           }
          ],
          "scatterpolargl": [
           {
            "marker": {
             "colorbar": {
              "outlinewidth": 0,
              "ticks": ""
             }
            },
            "type": "scatterpolargl"
           }
          ],
          "scatterternary": [
           {
            "marker": {
             "colorbar": {
              "outlinewidth": 0,
              "ticks": ""
             }
            },
            "type": "scatterternary"
           }
          ],
          "surface": [
           {
            "colorbar": {
             "outlinewidth": 0,
             "ticks": ""
            },
            "colorscale": [
             [
              0,
              "#0d0887"
             ],
             [
              0.1111111111111111,
              "#46039f"
             ],
             [
              0.2222222222222222,
              "#7201a8"
             ],
             [
              0.3333333333333333,
              "#9c179e"
             ],
             [
              0.4444444444444444,
              "#bd3786"
             ],
             [
              0.5555555555555556,
              "#d8576b"
             ],
             [
              0.6666666666666666,
              "#ed7953"
             ],
             [
              0.7777777777777778,
              "#fb9f3a"
             ],
             [
              0.8888888888888888,
              "#fdca26"
             ],
             [
              1,
              "#f0f921"
             ]
            ],
            "type": "surface"
           }
          ],
          "table": [
           {
            "cells": {
             "fill": {
              "color": "#EBF0F8"
             },
             "line": {
              "color": "white"
             }
            },
            "header": {
             "fill": {
              "color": "#C8D4E3"
             },
             "line": {
              "color": "white"
             }
            },
            "type": "table"
           }
          ]
         },
         "layout": {
          "annotationdefaults": {
           "arrowcolor": "#2a3f5f",
           "arrowhead": 0,
           "arrowwidth": 1
          },
          "autotypenumbers": "strict",
          "coloraxis": {
           "colorbar": {
            "outlinewidth": 0,
            "ticks": ""
           }
          },
          "colorscale": {
           "diverging": [
            [
             0,
             "#8e0152"
            ],
            [
             0.1,
             "#c51b7d"
            ],
            [
             0.2,
             "#de77ae"
            ],
            [
             0.3,
             "#f1b6da"
            ],
            [
             0.4,
             "#fde0ef"
            ],
            [
             0.5,
             "#f7f7f7"
            ],
            [
             0.6,
             "#e6f5d0"
            ],
            [
             0.7,
             "#b8e186"
            ],
            [
             0.8,
             "#7fbc41"
            ],
            [
             0.9,
             "#4d9221"
            ],
            [
             1,
             "#276419"
            ]
           ],
           "sequential": [
            [
             0,
             "#0d0887"
            ],
            [
             0.1111111111111111,
             "#46039f"
            ],
            [
             0.2222222222222222,
             "#7201a8"
            ],
            [
             0.3333333333333333,
             "#9c179e"
            ],
            [
             0.4444444444444444,
             "#bd3786"
            ],
            [
             0.5555555555555556,
             "#d8576b"
            ],
            [
             0.6666666666666666,
             "#ed7953"
            ],
            [
             0.7777777777777778,
             "#fb9f3a"
            ],
            [
             0.8888888888888888,
             "#fdca26"
            ],
            [
             1,
             "#f0f921"
            ]
           ],
           "sequentialminus": [
            [
             0,
             "#0d0887"
            ],
            [
             0.1111111111111111,
             "#46039f"
            ],
            [
             0.2222222222222222,
             "#7201a8"
            ],
            [
             0.3333333333333333,
             "#9c179e"
            ],
            [
             0.4444444444444444,
             "#bd3786"
            ],
            [
             0.5555555555555556,
             "#d8576b"
            ],
            [
             0.6666666666666666,
             "#ed7953"
            ],
            [
             0.7777777777777778,
             "#fb9f3a"
            ],
            [
             0.8888888888888888,
             "#fdca26"
            ],
            [
             1,
             "#f0f921"
            ]
           ]
          },
          "colorway": [
           "#636efa",
           "#EF553B",
           "#00cc96",
           "#ab63fa",
           "#FFA15A",
           "#19d3f3",
           "#FF6692",
           "#B6E880",
           "#FF97FF",
           "#FECB52"
          ],
          "font": {
           "color": "#2a3f5f"
          },
          "geo": {
           "bgcolor": "white",
           "lakecolor": "white",
           "landcolor": "#E5ECF6",
           "showlakes": true,
           "showland": true,
           "subunitcolor": "white"
          },
          "hoverlabel": {
           "align": "left"
          },
          "hovermode": "closest",
          "mapbox": {
           "style": "light"
          },
          "paper_bgcolor": "white",
          "plot_bgcolor": "#E5ECF6",
          "polar": {
           "angularaxis": {
            "gridcolor": "white",
            "linecolor": "white",
            "ticks": ""
           },
           "bgcolor": "#E5ECF6",
           "radialaxis": {
            "gridcolor": "white",
            "linecolor": "white",
            "ticks": ""
           }
          },
          "scene": {
           "xaxis": {
            "backgroundcolor": "#E5ECF6",
            "gridcolor": "white",
            "gridwidth": 2,
            "linecolor": "white",
            "showbackground": true,
            "ticks": "",
            "zerolinecolor": "white"
           },
           "yaxis": {
            "backgroundcolor": "#E5ECF6",
            "gridcolor": "white",
            "gridwidth": 2,
            "linecolor": "white",
            "showbackground": true,
            "ticks": "",
            "zerolinecolor": "white"
           },
           "zaxis": {
            "backgroundcolor": "#E5ECF6",
            "gridcolor": "white",
            "gridwidth": 2,
            "linecolor": "white",
            "showbackground": true,
            "ticks": "",
            "zerolinecolor": "white"
           }
          },
          "shapedefaults": {
           "line": {
            "color": "#2a3f5f"
           }
          },
          "ternary": {
           "aaxis": {
            "gridcolor": "white",
            "linecolor": "white",
            "ticks": ""
           },
           "baxis": {
            "gridcolor": "white",
            "linecolor": "white",
            "ticks": ""
           },
           "bgcolor": "#E5ECF6",
           "caxis": {
            "gridcolor": "white",
            "linecolor": "white",
            "ticks": ""
           }
          },
          "title": {
           "x": 0.05
          },
          "xaxis": {
           "automargin": true,
           "gridcolor": "white",
           "linecolor": "white",
           "ticks": "",
           "title": {
            "standoff": 15
           },
           "zerolinecolor": "white",
           "zerolinewidth": 2
          },
          "yaxis": {
           "automargin": true,
           "gridcolor": "white",
           "linecolor": "white",
           "ticks": "",
           "title": {
            "standoff": 15
           },
           "zerolinecolor": "white",
           "zerolinewidth": 2
          }
         }
        },
        "title": {
         "text": "R2 score with Last-2-state encoding"
        },
        "xaxis": {
         "anchor": "y",
         "domain": [
          0,
          1
         ],
         "title": {
          "text": "n_neighbors"
         }
        },
        "yaxis": {
         "anchor": "x",
         "domain": [
          0,
          1
         ],
         "title": {
          "text": "R2"
         }
        }
       }
      }
     },
     "metadata": {},
     "output_type": "display_data"
    }
   ],
   "source": [
    "for score in knr_scoring:\n",
    "    fig = px.scatter(\n",
    "        knr_results.loc[knr_results[\"Encoding\"] == \"Aggregation\"],\n",
    "        x = \"n_neighbors\",\n",
    "        y = score,\n",
    "        color = \"weights\",\n",
    "        title = f\"{score} score with Aggregation encoding\"\n",
    "    )\n",
    "    fig.show()\n",
    "    fig = px.scatter(\n",
    "        knr_results.loc[knr_results[\"Encoding\"] == \"Last-2-state\"],\n",
    "        x = \"n_neighbors\",\n",
    "        y = score,\n",
    "        color = \"weights\",\n",
    "        title = f\"{score} score with Last-2-state encoding\"\n",
    "    )\n",
    "    fig.show()"
   ]
  },
  {
   "cell_type": "code",
   "execution_count": 104,
   "id": "cc29e32b",
   "metadata": {},
   "outputs": [
    {
     "data": {
      "application/vnd.plotly.v1+json": {
       "config": {
        "plotlyServerURL": "https://plot.ly"
       },
       "data": [
        {
         "name": "Weights: Uniform",
         "type": "scatter",
         "x": [
          3,
          5,
          7,
          9
         ],
         "xaxis": "x",
         "y": [
          771.0329607647254,
          800.0901066776361,
          807.2499648810574,
          795.6217110122992
         ],
         "yaxis": "y"
        },
        {
         "name": "Weights: Distance",
         "type": "scatter",
         "x": [
          3,
          5,
          7,
          9
         ],
         "xaxis": "x",
         "y": [
          734.7650629652331,
          758.7298103529733,
          771.2292622355617,
          765.7965638988919
         ],
         "yaxis": "y"
        },
        {
         "name": "Weights: Uniform",
         "type": "scatter",
         "x": [
          3,
          5,
          7,
          9
         ],
         "xaxis": "x2",
         "y": [
          856.2149782243902,
          828.1251441891442,
          826.6202022627233,
          826.9000289470875
         ],
         "yaxis": "y2"
        },
        {
         "name": "Weights: Distance",
         "type": "scatter",
         "x": [
          3,
          5,
          7,
          9
         ],
         "xaxis": "x2",
         "y": [
          857.2432947085708,
          826.968661576092,
          824.6929224992136,
          824.5435378170532
         ],
         "yaxis": "y2"
        },
        {
         "name": "Weights: Uniform",
         "type": "scatter",
         "x": [
          3,
          5,
          7,
          9
         ],
         "xaxis": "x3",
         "y": [
          4390651.942627481,
          4439240.06671125,
          4417226.291256491,
          4354848.057247317
         ],
         "yaxis": "y3"
        },
        {
         "name": "Weights: Distance",
         "type": "scatter",
         "x": [
          3,
          5,
          7,
          9
         ],
         "xaxis": "x3",
         "y": [
          4163526.302387002,
          4177633.508115268,
          4186425.779230176,
          4158689.339064885
         ],
         "yaxis": "y3"
        },
        {
         "name": "Weights: Uniform",
         "type": "scatter",
         "x": [
          3,
          5,
          7,
          9
         ],
         "xaxis": "x4",
         "y": [
          5613159.620946809,
          5123030.458168154,
          5006414.019676385,
          4955519.101264062
         ],
         "yaxis": "y4"
        },
        {
         "name": "Weights: Distance",
         "type": "scatter",
         "x": [
          3,
          5,
          7,
          9
         ],
         "xaxis": "x4",
         "y": [
          5684196.656213235,
          5162221.296880282,
          5032256.964116575,
          4970781.60808639
         ],
         "yaxis": "y4"
        },
        {
         "name": "Weights: Uniform",
         "type": "scatter",
         "x": [
          3,
          5,
          7,
          9
         ],
         "xaxis": "x5",
         "y": [
          2059.2202584589886,
          2066.890449325966,
          2064.8820982066245,
          2048.3036128268495
         ],
         "yaxis": "y5"
        },
        {
         "name": "Weights: Distance",
         "type": "scatter",
         "x": [
          3,
          5,
          7,
          9
         ],
         "xaxis": "x5",
         "y": [
          2001.271888401218,
          2000.8506091698648,
          2006.2260044977854,
          1998.3313464829903
         ],
         "yaxis": "y5"
        },
        {
         "name": "Weights: Uniform",
         "type": "scatter",
         "x": [
          3,
          5,
          7,
          9
         ],
         "xaxis": "x6",
         "y": [
          2336.343535399765,
          2230.27609439511,
          2202.8617846722373,
          2189.880773501699
         ],
         "yaxis": "y6"
        },
        {
         "name": "Weights: Distance",
         "type": "scatter",
         "x": [
          3,
          5,
          7,
          9
         ],
         "xaxis": "x6",
         "y": [
          2358.1222847537183,
          2241.6324564596684,
          2210.906137732335,
          2195.386559939493
         ],
         "yaxis": "y6"
        },
        {
         "name": "Weights: Uniform",
         "type": "scatter",
         "x": [
          3,
          5,
          7,
          9
         ],
         "xaxis": "x7",
         "y": [
          0.15254527596417014,
          0.14926574025924583,
          0.14964731543398285,
          0.1643796324219219
         ],
         "yaxis": "y7"
        },
        {
         "name": "Weights: Distance",
         "type": "scatter",
         "x": [
          3,
          5,
          7,
          9
         ],
         "xaxis": "x7",
         "y": [
          0.2027378105073781,
          0.20552226360968331,
          0.19986189362634094,
          0.20673379630088648
         ],
         "yaxis": "y7"
        },
        {
         "name": "Weights: Uniform",
         "type": "scatter",
         "x": [
          3,
          5,
          7,
          9
         ],
         "xaxis": "x8",
         "y": [
          -0.09904434665505593,
          0.0023493029686588287,
          0.02895800763894547,
          0.04191409125233592
         ],
         "yaxis": "y8"
        },
        {
         "name": "Weights: Distance",
         "type": "scatter",
         "x": [
          3,
          5,
          7,
          9
         ],
         "xaxis": "x8",
         "y": [
          -0.1280250030627747,
          -0.011167808175167559,
          0.019529828657690505,
          0.03520225780243576
         ],
         "yaxis": "y8"
        }
       ],
       "layout": {
        "annotations": [
         {
          "font": {
           "size": 16
          },
          "showarrow": false,
          "text": "MAE score with Aggregation encoding",
          "x": 0.225,
          "xanchor": "center",
          "xref": "paper",
          "y": 1,
          "yanchor": "bottom",
          "yref": "paper"
         },
         {
          "font": {
           "size": 16
          },
          "showarrow": false,
          "text": "MAE score with Last-2-state encoding",
          "x": 0.775,
          "xanchor": "center",
          "xref": "paper",
          "y": 1,
          "yanchor": "bottom",
          "yref": "paper"
         },
         {
          "font": {
           "size": 16
          },
          "showarrow": false,
          "text": "MSE score with Aggregation encoding",
          "x": 0.225,
          "xanchor": "center",
          "xref": "paper",
          "y": 0.71875,
          "yanchor": "bottom",
          "yref": "paper"
         },
         {
          "font": {
           "size": 16
          },
          "showarrow": false,
          "text": "MSE score with Last-2-state encoding",
          "x": 0.775,
          "xanchor": "center",
          "xref": "paper",
          "y": 0.71875,
          "yanchor": "bottom",
          "yref": "paper"
         },
         {
          "font": {
           "size": 16
          },
          "showarrow": false,
          "text": "RMSE score with Aggregation encoding",
          "x": 0.225,
          "xanchor": "center",
          "xref": "paper",
          "y": 0.4375,
          "yanchor": "bottom",
          "yref": "paper"
         },
         {
          "font": {
           "size": 16
          },
          "showarrow": false,
          "text": "RMSE score with Last-2-state encoding",
          "x": 0.775,
          "xanchor": "center",
          "xref": "paper",
          "y": 0.4375,
          "yanchor": "bottom",
          "yref": "paper"
         },
         {
          "font": {
           "size": 16
          },
          "showarrow": false,
          "text": "R2 score with Aggregation encoding",
          "x": 0.225,
          "xanchor": "center",
          "xref": "paper",
          "y": 0.15625,
          "yanchor": "bottom",
          "yref": "paper"
         },
         {
          "font": {
           "size": 16
          },
          "showarrow": false,
          "text": "R2 score with Last-2-state encoding",
          "x": 0.775,
          "xanchor": "center",
          "xref": "paper",
          "y": 0.15625,
          "yanchor": "bottom",
          "yref": "paper"
         }
        ],
        "template": {
         "data": {
          "bar": [
           {
            "error_x": {
             "color": "#2a3f5f"
            },
            "error_y": {
             "color": "#2a3f5f"
            },
            "marker": {
             "line": {
              "color": "#E5ECF6",
              "width": 0.5
             },
             "pattern": {
              "fillmode": "overlay",
              "size": 10,
              "solidity": 0.2
             }
            },
            "type": "bar"
           }
          ],
          "barpolar": [
           {
            "marker": {
             "line": {
              "color": "#E5ECF6",
              "width": 0.5
             },
             "pattern": {
              "fillmode": "overlay",
              "size": 10,
              "solidity": 0.2
             }
            },
            "type": "barpolar"
           }
          ],
          "carpet": [
           {
            "aaxis": {
             "endlinecolor": "#2a3f5f",
             "gridcolor": "white",
             "linecolor": "white",
             "minorgridcolor": "white",
             "startlinecolor": "#2a3f5f"
            },
            "baxis": {
             "endlinecolor": "#2a3f5f",
             "gridcolor": "white",
             "linecolor": "white",
             "minorgridcolor": "white",
             "startlinecolor": "#2a3f5f"
            },
            "type": "carpet"
           }
          ],
          "choropleth": [
           {
            "colorbar": {
             "outlinewidth": 0,
             "ticks": ""
            },
            "type": "choropleth"
           }
          ],
          "contour": [
           {
            "colorbar": {
             "outlinewidth": 0,
             "ticks": ""
            },
            "colorscale": [
             [
              0,
              "#0d0887"
             ],
             [
              0.1111111111111111,
              "#46039f"
             ],
             [
              0.2222222222222222,
              "#7201a8"
             ],
             [
              0.3333333333333333,
              "#9c179e"
             ],
             [
              0.4444444444444444,
              "#bd3786"
             ],
             [
              0.5555555555555556,
              "#d8576b"
             ],
             [
              0.6666666666666666,
              "#ed7953"
             ],
             [
              0.7777777777777778,
              "#fb9f3a"
             ],
             [
              0.8888888888888888,
              "#fdca26"
             ],
             [
              1,
              "#f0f921"
             ]
            ],
            "type": "contour"
           }
          ],
          "contourcarpet": [
           {
            "colorbar": {
             "outlinewidth": 0,
             "ticks": ""
            },
            "type": "contourcarpet"
           }
          ],
          "heatmap": [
           {
            "colorbar": {
             "outlinewidth": 0,
             "ticks": ""
            },
            "colorscale": [
             [
              0,
              "#0d0887"
             ],
             [
              0.1111111111111111,
              "#46039f"
             ],
             [
              0.2222222222222222,
              "#7201a8"
             ],
             [
              0.3333333333333333,
              "#9c179e"
             ],
             [
              0.4444444444444444,
              "#bd3786"
             ],
             [
              0.5555555555555556,
              "#d8576b"
             ],
             [
              0.6666666666666666,
              "#ed7953"
             ],
             [
              0.7777777777777778,
              "#fb9f3a"
             ],
             [
              0.8888888888888888,
              "#fdca26"
             ],
             [
              1,
              "#f0f921"
             ]
            ],
            "type": "heatmap"
           }
          ],
          "heatmapgl": [
           {
            "colorbar": {
             "outlinewidth": 0,
             "ticks": ""
            },
            "colorscale": [
             [
              0,
              "#0d0887"
             ],
             [
              0.1111111111111111,
              "#46039f"
             ],
             [
              0.2222222222222222,
              "#7201a8"
             ],
             [
              0.3333333333333333,
              "#9c179e"
             ],
             [
              0.4444444444444444,
              "#bd3786"
             ],
             [
              0.5555555555555556,
              "#d8576b"
             ],
             [
              0.6666666666666666,
              "#ed7953"
             ],
             [
              0.7777777777777778,
              "#fb9f3a"
             ],
             [
              0.8888888888888888,
              "#fdca26"
             ],
             [
              1,
              "#f0f921"
             ]
            ],
            "type": "heatmapgl"
           }
          ],
          "histogram": [
           {
            "marker": {
             "pattern": {
              "fillmode": "overlay",
              "size": 10,
              "solidity": 0.2
             }
            },
            "type": "histogram"
           }
          ],
          "histogram2d": [
           {
            "colorbar": {
             "outlinewidth": 0,
             "ticks": ""
            },
            "colorscale": [
             [
              0,
              "#0d0887"
             ],
             [
              0.1111111111111111,
              "#46039f"
             ],
             [
              0.2222222222222222,
              "#7201a8"
             ],
             [
              0.3333333333333333,
              "#9c179e"
             ],
             [
              0.4444444444444444,
              "#bd3786"
             ],
             [
              0.5555555555555556,
              "#d8576b"
             ],
             [
              0.6666666666666666,
              "#ed7953"
             ],
             [
              0.7777777777777778,
              "#fb9f3a"
             ],
             [
              0.8888888888888888,
              "#fdca26"
             ],
             [
              1,
              "#f0f921"
             ]
            ],
            "type": "histogram2d"
           }
          ],
          "histogram2dcontour": [
           {
            "colorbar": {
             "outlinewidth": 0,
             "ticks": ""
            },
            "colorscale": [
             [
              0,
              "#0d0887"
             ],
             [
              0.1111111111111111,
              "#46039f"
             ],
             [
              0.2222222222222222,
              "#7201a8"
             ],
             [
              0.3333333333333333,
              "#9c179e"
             ],
             [
              0.4444444444444444,
              "#bd3786"
             ],
             [
              0.5555555555555556,
              "#d8576b"
             ],
             [
              0.6666666666666666,
              "#ed7953"
             ],
             [
              0.7777777777777778,
              "#fb9f3a"
             ],
             [
              0.8888888888888888,
              "#fdca26"
             ],
             [
              1,
              "#f0f921"
             ]
            ],
            "type": "histogram2dcontour"
           }
          ],
          "mesh3d": [
           {
            "colorbar": {
             "outlinewidth": 0,
             "ticks": ""
            },
            "type": "mesh3d"
           }
          ],
          "parcoords": [
           {
            "line": {
             "colorbar": {
              "outlinewidth": 0,
              "ticks": ""
             }
            },
            "type": "parcoords"
           }
          ],
          "pie": [
           {
            "automargin": true,
            "type": "pie"
           }
          ],
          "scatter": [
           {
            "fillpattern": {
             "fillmode": "overlay",
             "size": 10,
             "solidity": 0.2
            },
            "type": "scatter"
           }
          ],
          "scatter3d": [
           {
            "line": {
             "colorbar": {
              "outlinewidth": 0,
              "ticks": ""
             }
            },
            "marker": {
             "colorbar": {
              "outlinewidth": 0,
              "ticks": ""
             }
            },
            "type": "scatter3d"
           }
          ],
          "scattercarpet": [
           {
            "marker": {
             "colorbar": {
              "outlinewidth": 0,
              "ticks": ""
             }
            },
            "type": "scattercarpet"
           }
          ],
          "scattergeo": [
           {
            "marker": {
             "colorbar": {
              "outlinewidth": 0,
              "ticks": ""
             }
            },
            "type": "scattergeo"
           }
          ],
          "scattergl": [
           {
            "marker": {
             "colorbar": {
              "outlinewidth": 0,
              "ticks": ""
             }
            },
            "type": "scattergl"
           }
          ],
          "scattermapbox": [
           {
            "marker": {
             "colorbar": {
              "outlinewidth": 0,
              "ticks": ""
             }
            },
            "type": "scattermapbox"
           }
          ],
          "scatterpolar": [
           {
            "marker": {
             "colorbar": {
              "outlinewidth": 0,
              "ticks": ""
             }
            },
            "type": "scatterpolar"
           }
          ],
          "scatterpolargl": [
           {
            "marker": {
             "colorbar": {
              "outlinewidth": 0,
              "ticks": ""
             }
            },
            "type": "scatterpolargl"
           }
          ],
          "scatterternary": [
           {
            "marker": {
             "colorbar": {
              "outlinewidth": 0,
              "ticks": ""
             }
            },
            "type": "scatterternary"
           }
          ],
          "surface": [
           {
            "colorbar": {
             "outlinewidth": 0,
             "ticks": ""
            },
            "colorscale": [
             [
              0,
              "#0d0887"
             ],
             [
              0.1111111111111111,
              "#46039f"
             ],
             [
              0.2222222222222222,
              "#7201a8"
             ],
             [
              0.3333333333333333,
              "#9c179e"
             ],
             [
              0.4444444444444444,
              "#bd3786"
             ],
             [
              0.5555555555555556,
              "#d8576b"
             ],
             [
              0.6666666666666666,
              "#ed7953"
             ],
             [
              0.7777777777777778,
              "#fb9f3a"
             ],
             [
              0.8888888888888888,
              "#fdca26"
             ],
             [
              1,
              "#f0f921"
             ]
            ],
            "type": "surface"
           }
          ],
          "table": [
           {
            "cells": {
             "fill": {
              "color": "#EBF0F8"
             },
             "line": {
              "color": "white"
             }
            },
            "header": {
             "fill": {
              "color": "#C8D4E3"
             },
             "line": {
              "color": "white"
             }
            },
            "type": "table"
           }
          ]
         },
         "layout": {
          "annotationdefaults": {
           "arrowcolor": "#2a3f5f",
           "arrowhead": 0,
           "arrowwidth": 1
          },
          "autotypenumbers": "strict",
          "coloraxis": {
           "colorbar": {
            "outlinewidth": 0,
            "ticks": ""
           }
          },
          "colorscale": {
           "diverging": [
            [
             0,
             "#8e0152"
            ],
            [
             0.1,
             "#c51b7d"
            ],
            [
             0.2,
             "#de77ae"
            ],
            [
             0.3,
             "#f1b6da"
            ],
            [
             0.4,
             "#fde0ef"
            ],
            [
             0.5,
             "#f7f7f7"
            ],
            [
             0.6,
             "#e6f5d0"
            ],
            [
             0.7,
             "#b8e186"
            ],
            [
             0.8,
             "#7fbc41"
            ],
            [
             0.9,
             "#4d9221"
            ],
            [
             1,
             "#276419"
            ]
           ],
           "sequential": [
            [
             0,
             "#0d0887"
            ],
            [
             0.1111111111111111,
             "#46039f"
            ],
            [
             0.2222222222222222,
             "#7201a8"
            ],
            [
             0.3333333333333333,
             "#9c179e"
            ],
            [
             0.4444444444444444,
             "#bd3786"
            ],
            [
             0.5555555555555556,
             "#d8576b"
            ],
            [
             0.6666666666666666,
             "#ed7953"
            ],
            [
             0.7777777777777778,
             "#fb9f3a"
            ],
            [
             0.8888888888888888,
             "#fdca26"
            ],
            [
             1,
             "#f0f921"
            ]
           ],
           "sequentialminus": [
            [
             0,
             "#0d0887"
            ],
            [
             0.1111111111111111,
             "#46039f"
            ],
            [
             0.2222222222222222,
             "#7201a8"
            ],
            [
             0.3333333333333333,
             "#9c179e"
            ],
            [
             0.4444444444444444,
             "#bd3786"
            ],
            [
             0.5555555555555556,
             "#d8576b"
            ],
            [
             0.6666666666666666,
             "#ed7953"
            ],
            [
             0.7777777777777778,
             "#fb9f3a"
            ],
            [
             0.8888888888888888,
             "#fdca26"
            ],
            [
             1,
             "#f0f921"
            ]
           ]
          },
          "colorway": [
           "#636efa",
           "#EF553B",
           "#00cc96",
           "#ab63fa",
           "#FFA15A",
           "#19d3f3",
           "#FF6692",
           "#B6E880",
           "#FF97FF",
           "#FECB52"
          ],
          "font": {
           "color": "#2a3f5f"
          },
          "geo": {
           "bgcolor": "white",
           "lakecolor": "white",
           "landcolor": "#E5ECF6",
           "showlakes": true,
           "showland": true,
           "subunitcolor": "white"
          },
          "hoverlabel": {
           "align": "left"
          },
          "hovermode": "closest",
          "mapbox": {
           "style": "light"
          },
          "paper_bgcolor": "white",
          "plot_bgcolor": "#E5ECF6",
          "polar": {
           "angularaxis": {
            "gridcolor": "white",
            "linecolor": "white",
            "ticks": ""
           },
           "bgcolor": "#E5ECF6",
           "radialaxis": {
            "gridcolor": "white",
            "linecolor": "white",
            "ticks": ""
           }
          },
          "scene": {
           "xaxis": {
            "backgroundcolor": "#E5ECF6",
            "gridcolor": "white",
            "gridwidth": 2,
            "linecolor": "white",
            "showbackground": true,
            "ticks": "",
            "zerolinecolor": "white"
           },
           "yaxis": {
            "backgroundcolor": "#E5ECF6",
            "gridcolor": "white",
            "gridwidth": 2,
            "linecolor": "white",
            "showbackground": true,
            "ticks": "",
            "zerolinecolor": "white"
           },
           "zaxis": {
            "backgroundcolor": "#E5ECF6",
            "gridcolor": "white",
            "gridwidth": 2,
            "linecolor": "white",
            "showbackground": true,
            "ticks": "",
            "zerolinecolor": "white"
           }
          },
          "shapedefaults": {
           "line": {
            "color": "#2a3f5f"
           }
          },
          "ternary": {
           "aaxis": {
            "gridcolor": "white",
            "linecolor": "white",
            "ticks": ""
           },
           "baxis": {
            "gridcolor": "white",
            "linecolor": "white",
            "ticks": ""
           },
           "bgcolor": "#E5ECF6",
           "caxis": {
            "gridcolor": "white",
            "linecolor": "white",
            "ticks": ""
           }
          },
          "title": {
           "x": 0.05
          },
          "xaxis": {
           "automargin": true,
           "gridcolor": "white",
           "linecolor": "white",
           "ticks": "",
           "title": {
            "standoff": 15
           },
           "zerolinecolor": "white",
           "zerolinewidth": 2
          },
          "yaxis": {
           "automargin": true,
           "gridcolor": "white",
           "linecolor": "white",
           "ticks": "",
           "title": {
            "standoff": 15
           },
           "zerolinecolor": "white",
           "zerolinewidth": 2
          }
         }
        },
        "xaxis": {
         "anchor": "y",
         "domain": [
          0,
          0.45
         ]
        },
        "xaxis2": {
         "anchor": "y2",
         "domain": [
          0.55,
          1
         ]
        },
        "xaxis3": {
         "anchor": "y3",
         "domain": [
          0,
          0.45
         ]
        },
        "xaxis4": {
         "anchor": "y4",
         "domain": [
          0.55,
          1
         ]
        },
        "xaxis5": {
         "anchor": "y5",
         "domain": [
          0,
          0.45
         ]
        },
        "xaxis6": {
         "anchor": "y6",
         "domain": [
          0.55,
          1
         ]
        },
        "xaxis7": {
         "anchor": "y7",
         "domain": [
          0,
          0.45
         ]
        },
        "xaxis8": {
         "anchor": "y8",
         "domain": [
          0.55,
          1
         ]
        },
        "yaxis": {
         "anchor": "x",
         "domain": [
          0.84375,
          1
         ]
        },
        "yaxis2": {
         "anchor": "x2",
         "domain": [
          0.84375,
          1
         ]
        },
        "yaxis3": {
         "anchor": "x3",
         "domain": [
          0.5625,
          0.71875
         ]
        },
        "yaxis4": {
         "anchor": "x4",
         "domain": [
          0.5625,
          0.71875
         ]
        },
        "yaxis5": {
         "anchor": "x5",
         "domain": [
          0.28125,
          0.4375
         ]
        },
        "yaxis6": {
         "anchor": "x6",
         "domain": [
          0.28125,
          0.4375
         ]
        },
        "yaxis7": {
         "anchor": "x7",
         "domain": [
          0,
          0.15625
         ]
        },
        "yaxis8": {
         "anchor": "x8",
         "domain": [
          0,
          0.15625
         ]
        }
       }
      }
     },
     "metadata": {},
     "output_type": "display_data"
    }
   ],
   "source": [
    "# TODO: create 2D or 3D plot that shows how the selected parameter values affect the MAE (or RMSE).\n",
    "import plotly.graph_objects as go\n",
    "from plotly.subplots import make_subplots\n",
    "\n",
    "fig = make_subplots(\n",
    "    rows = 4,\n",
    "    cols = 2,\n",
    "    subplot_titles = [\n",
    "        \"MAE score with Aggregation encoding\",\n",
    "        \"MAE score with Last-2-state encoding\",\n",
    "        \"MSE score with Aggregation encoding\",\n",
    "        \"MSE score with Last-2-state encoding\",\n",
    "        \"RMSE score with Aggregation encoding\",\n",
    "        \"RMSE score with Last-2-state encoding\",\n",
    "        \"R2 score with Aggregation encoding\",\n",
    "        \"R2 score with Last-2-state encoding\"\n",
    "    ]\n",
    ")\n",
    "\n",
    "for score, i in zip(knr_scoring, range(1,5)):\n",
    "    fig.add_trace(\n",
    "        go.Scatter(\n",
    "            x = knr_results.loc[(knr_results[\"weights\"] == \"uniform\") & (knr_results[\"Encoding\"] == \"Aggregation\")][\"n_neighbors\"],\n",
    "            y = knr_results.loc[(knr_results[\"weights\"] == \"uniform\") & (knr_results[\"Encoding\"] == \"Aggregation\")][score],\n",
    "            name = \"Weights: Uniform\"\n",
    "        ),\n",
    "        row = i,\n",
    "        col = 1\n",
    "    )\n",
    "    fig.add_trace(\n",
    "        go.Scatter(\n",
    "            x = knr_results.loc[(knr_results[\"weights\"] == \"distance\") & (knr_results[\"Encoding\"] == \"Aggregation\")][\"n_neighbors\"],\n",
    "            y = knr_results.loc[(knr_results[\"weights\"] == \"distance\") & (knr_results[\"Encoding\"] == \"Aggregation\")][score],\n",
    "            name = \"Weights: Distance\"\n",
    "        ),\n",
    "        row = i,\n",
    "        col = 1\n",
    "    )\n",
    "\n",
    "    fig.add_trace(\n",
    "        go.Scatter(\n",
    "            x = knr_results.loc[(knr_results[\"weights\"] == \"uniform\") & (knr_results[\"Encoding\"] == \"Last-2-state\")][\"n_neighbors\"],\n",
    "            y = knr_results.loc[(knr_results[\"weights\"] == \"uniform\") & (knr_results[\"Encoding\"] == \"Last-2-state\")][score],\n",
    "            name = \"Weights: Uniform\",  \n",
    "        ),\n",
    "        row = i,\n",
    "        col = 2\n",
    "    )\n",
    "    fig.add_trace(\n",
    "        go.Scatter(\n",
    "            x = knr_results.loc[(knr_results[\"weights\"] == \"distance\") & (knr_results[\"Encoding\"] == \"Last-2-state\")][\"n_neighbors\"],\n",
    "            y = knr_results.loc[(knr_results[\"weights\"] == \"distance\") & (knr_results[\"Encoding\"] == \"Last-2-state\")][score],\n",
    "            name = \"Weights: Distance\"\n",
    "        ),\n",
    "        row = i,\n",
    "        col = 2\n",
    "    )\n",
    "\n",
    "fig.show()"
   ]
  },
  {
   "cell_type": "code",
   "execution_count": 97,
   "id": "f6307b95",
   "metadata": {},
   "outputs": [],
   "source": [
    "# TODO: compute the performance of the model on your held-out test data\n",
    "optimal_params = optimized_ag_knr.best_params_\n",
    "optimal_knr = KNeighborsRegressor(**optimal_params)\n",
    "optimal_knr.fit(X = X_agtrain, y = y_agtrain)\n",
    "pred = optimal_knr.predict(X = X_agtest)\n",
    "\n",
    "optimal_mae = mean_absolute_error(y_true = y_agtest, y_pred = pred)\n",
    "optimal_mse = mean_squared_error(y_true = y_agtest, y_pred = pred)\n",
    "optimal_rmse = mean_squared_error(y_true = y_agtest, y_pred = pred, squared = False)\n",
    "optimal_r2 = mean_squared_error(y_true = y_agtest, y_pred = pred)\n",
    "\n",
    "optimal_results.loc[len(optimal_results)] = {\n",
    "    \"Encoding\": \"Aggregation\",\n",
    "    \"Model\": \"KNN Regressor\",\n",
    "    \"n_neighbors\": optimal_params[\"n_neighbors\"],\n",
    "    \"weights\": optimal_params[\"weights\"],\n",
    "    \"MAE\": optimal_mae,\n",
    "    \"MSE\": optimal_mse,\n",
    "    \"RMSE\": optimal_rmse,\n",
    "    \"R2\": optimal_r2\n",
    "}"
   ]
  },
  {
   "cell_type": "code",
   "execution_count": 99,
   "id": "72422b2e",
   "metadata": {},
   "outputs": [
    {
     "data": {
      "text/html": [
       "<div>\n",
       "<style scoped>\n",
       "    .dataframe tbody tr th:only-of-type {\n",
       "        vertical-align: middle;\n",
       "    }\n",
       "\n",
       "    .dataframe tbody tr th {\n",
       "        vertical-align: top;\n",
       "    }\n",
       "\n",
       "    .dataframe thead th {\n",
       "        text-align: right;\n",
       "    }\n",
       "</style>\n",
       "<table border=\"1\" class=\"dataframe\">\n",
       "  <thead>\n",
       "    <tr style=\"text-align: right;\">\n",
       "      <th></th>\n",
       "      <th>Encoding</th>\n",
       "      <th>Model</th>\n",
       "      <th>n_neighbors</th>\n",
       "      <th>weights</th>\n",
       "      <th>MAE</th>\n",
       "      <th>MSE</th>\n",
       "      <th>RMSE</th>\n",
       "      <th>R2</th>\n",
       "    </tr>\n",
       "  </thead>\n",
       "  <tbody>\n",
       "    <tr>\n",
       "      <th>0</th>\n",
       "      <td>Last-2-state</td>\n",
       "      <td>KNN regressor</td>\n",
       "      <td>Default</td>\n",
       "      <td>Default</td>\n",
       "      <td>867.905023</td>\n",
       "      <td>7.507815e+06</td>\n",
       "      <td>2740.039291</td>\n",
       "      <td>0.024845</td>\n",
       "    </tr>\n",
       "    <tr>\n",
       "      <th>1</th>\n",
       "      <td>Last-2-state</td>\n",
       "      <td>KNN Regressor</td>\n",
       "      <td>3</td>\n",
       "      <td>uniform</td>\n",
       "      <td>856.214978</td>\n",
       "      <td>5.613160e+06</td>\n",
       "      <td>2336.343535</td>\n",
       "      <td>-0.099044</td>\n",
       "    </tr>\n",
       "    <tr>\n",
       "      <th>2</th>\n",
       "      <td>Last-2-state</td>\n",
       "      <td>KNN Regressor</td>\n",
       "      <td>3</td>\n",
       "      <td>distance</td>\n",
       "      <td>857.243295</td>\n",
       "      <td>5.684197e+06</td>\n",
       "      <td>2358.122285</td>\n",
       "      <td>-0.128025</td>\n",
       "    </tr>\n",
       "    <tr>\n",
       "      <th>3</th>\n",
       "      <td>Last-2-state</td>\n",
       "      <td>KNN Regressor</td>\n",
       "      <td>5</td>\n",
       "      <td>uniform</td>\n",
       "      <td>828.125144</td>\n",
       "      <td>5.123030e+06</td>\n",
       "      <td>2230.276094</td>\n",
       "      <td>0.002349</td>\n",
       "    </tr>\n",
       "    <tr>\n",
       "      <th>4</th>\n",
       "      <td>Last-2-state</td>\n",
       "      <td>KNN Regressor</td>\n",
       "      <td>5</td>\n",
       "      <td>distance</td>\n",
       "      <td>826.968662</td>\n",
       "      <td>5.162221e+06</td>\n",
       "      <td>2241.632456</td>\n",
       "      <td>-0.011168</td>\n",
       "    </tr>\n",
       "    <tr>\n",
       "      <th>5</th>\n",
       "      <td>Last-2-state</td>\n",
       "      <td>KNN Regressor</td>\n",
       "      <td>7</td>\n",
       "      <td>uniform</td>\n",
       "      <td>826.620202</td>\n",
       "      <td>5.006414e+06</td>\n",
       "      <td>2202.861785</td>\n",
       "      <td>0.028958</td>\n",
       "    </tr>\n",
       "    <tr>\n",
       "      <th>6</th>\n",
       "      <td>Last-2-state</td>\n",
       "      <td>KNN Regressor</td>\n",
       "      <td>7</td>\n",
       "      <td>distance</td>\n",
       "      <td>824.692922</td>\n",
       "      <td>5.032257e+06</td>\n",
       "      <td>2210.906138</td>\n",
       "      <td>0.019530</td>\n",
       "    </tr>\n",
       "    <tr>\n",
       "      <th>7</th>\n",
       "      <td>Last-2-state</td>\n",
       "      <td>KNN Regressor</td>\n",
       "      <td>9</td>\n",
       "      <td>uniform</td>\n",
       "      <td>826.900029</td>\n",
       "      <td>4.955519e+06</td>\n",
       "      <td>2189.880774</td>\n",
       "      <td>0.041914</td>\n",
       "    </tr>\n",
       "    <tr>\n",
       "      <th>8</th>\n",
       "      <td>Last-2-state</td>\n",
       "      <td>KNN Regressor</td>\n",
       "      <td>9</td>\n",
       "      <td>distance</td>\n",
       "      <td>824.543538</td>\n",
       "      <td>4.970782e+06</td>\n",
       "      <td>2195.386560</td>\n",
       "      <td>0.035202</td>\n",
       "    </tr>\n",
       "    <tr>\n",
       "      <th>9</th>\n",
       "      <td>Aggregation</td>\n",
       "      <td>KNN regressor</td>\n",
       "      <td>Default</td>\n",
       "      <td>Default</td>\n",
       "      <td>804.829615</td>\n",
       "      <td>5.887139e+06</td>\n",
       "      <td>2426.342718</td>\n",
       "      <td>0.235347</td>\n",
       "    </tr>\n",
       "    <tr>\n",
       "      <th>10</th>\n",
       "      <td>Aggregation</td>\n",
       "      <td>KNN Regressor</td>\n",
       "      <td>3</td>\n",
       "      <td>uniform</td>\n",
       "      <td>771.032961</td>\n",
       "      <td>4.390652e+06</td>\n",
       "      <td>2059.220258</td>\n",
       "      <td>0.152545</td>\n",
       "    </tr>\n",
       "    <tr>\n",
       "      <th>11</th>\n",
       "      <td>Aggregation</td>\n",
       "      <td>KNN Regressor</td>\n",
       "      <td>3</td>\n",
       "      <td>distance</td>\n",
       "      <td>734.765063</td>\n",
       "      <td>4.163526e+06</td>\n",
       "      <td>2001.271888</td>\n",
       "      <td>0.202738</td>\n",
       "    </tr>\n",
       "    <tr>\n",
       "      <th>12</th>\n",
       "      <td>Aggregation</td>\n",
       "      <td>KNN Regressor</td>\n",
       "      <td>5</td>\n",
       "      <td>uniform</td>\n",
       "      <td>800.090107</td>\n",
       "      <td>4.439240e+06</td>\n",
       "      <td>2066.890449</td>\n",
       "      <td>0.149266</td>\n",
       "    </tr>\n",
       "    <tr>\n",
       "      <th>13</th>\n",
       "      <td>Aggregation</td>\n",
       "      <td>KNN Regressor</td>\n",
       "      <td>5</td>\n",
       "      <td>distance</td>\n",
       "      <td>758.729810</td>\n",
       "      <td>4.177634e+06</td>\n",
       "      <td>2000.850609</td>\n",
       "      <td>0.205522</td>\n",
       "    </tr>\n",
       "    <tr>\n",
       "      <th>14</th>\n",
       "      <td>Aggregation</td>\n",
       "      <td>KNN Regressor</td>\n",
       "      <td>7</td>\n",
       "      <td>uniform</td>\n",
       "      <td>807.249965</td>\n",
       "      <td>4.417226e+06</td>\n",
       "      <td>2064.882098</td>\n",
       "      <td>0.149647</td>\n",
       "    </tr>\n",
       "    <tr>\n",
       "      <th>15</th>\n",
       "      <td>Aggregation</td>\n",
       "      <td>KNN Regressor</td>\n",
       "      <td>7</td>\n",
       "      <td>distance</td>\n",
       "      <td>771.229262</td>\n",
       "      <td>4.186426e+06</td>\n",
       "      <td>2006.226004</td>\n",
       "      <td>0.199862</td>\n",
       "    </tr>\n",
       "    <tr>\n",
       "      <th>16</th>\n",
       "      <td>Aggregation</td>\n",
       "      <td>KNN Regressor</td>\n",
       "      <td>9</td>\n",
       "      <td>uniform</td>\n",
       "      <td>795.621711</td>\n",
       "      <td>4.354848e+06</td>\n",
       "      <td>2048.303613</td>\n",
       "      <td>0.164380</td>\n",
       "    </tr>\n",
       "    <tr>\n",
       "      <th>17</th>\n",
       "      <td>Aggregation</td>\n",
       "      <td>KNN Regressor</td>\n",
       "      <td>9</td>\n",
       "      <td>distance</td>\n",
       "      <td>765.796564</td>\n",
       "      <td>4.158689e+06</td>\n",
       "      <td>1998.331346</td>\n",
       "      <td>0.206734</td>\n",
       "    </tr>\n",
       "  </tbody>\n",
       "</table>\n",
       "</div>"
      ],
      "text/plain": [
       "        Encoding          Model n_neighbors   weights         MAE  \\\n",
       "0   Last-2-state  KNN regressor     Default   Default  867.905023   \n",
       "1   Last-2-state  KNN Regressor           3   uniform  856.214978   \n",
       "2   Last-2-state  KNN Regressor           3  distance  857.243295   \n",
       "3   Last-2-state  KNN Regressor           5   uniform  828.125144   \n",
       "4   Last-2-state  KNN Regressor           5  distance  826.968662   \n",
       "5   Last-2-state  KNN Regressor           7   uniform  826.620202   \n",
       "6   Last-2-state  KNN Regressor           7  distance  824.692922   \n",
       "7   Last-2-state  KNN Regressor           9   uniform  826.900029   \n",
       "8   Last-2-state  KNN Regressor           9  distance  824.543538   \n",
       "9    Aggregation  KNN regressor     Default   Default  804.829615   \n",
       "10   Aggregation  KNN Regressor           3   uniform  771.032961   \n",
       "11   Aggregation  KNN Regressor           3  distance  734.765063   \n",
       "12   Aggregation  KNN Regressor           5   uniform  800.090107   \n",
       "13   Aggregation  KNN Regressor           5  distance  758.729810   \n",
       "14   Aggregation  KNN Regressor           7   uniform  807.249965   \n",
       "15   Aggregation  KNN Regressor           7  distance  771.229262   \n",
       "16   Aggregation  KNN Regressor           9   uniform  795.621711   \n",
       "17   Aggregation  KNN Regressor           9  distance  765.796564   \n",
       "\n",
       "             MSE         RMSE        R2  \n",
       "0   7.507815e+06  2740.039291  0.024845  \n",
       "1   5.613160e+06  2336.343535 -0.099044  \n",
       "2   5.684197e+06  2358.122285 -0.128025  \n",
       "3   5.123030e+06  2230.276094  0.002349  \n",
       "4   5.162221e+06  2241.632456 -0.011168  \n",
       "5   5.006414e+06  2202.861785  0.028958  \n",
       "6   5.032257e+06  2210.906138  0.019530  \n",
       "7   4.955519e+06  2189.880774  0.041914  \n",
       "8   4.970782e+06  2195.386560  0.035202  \n",
       "9   5.887139e+06  2426.342718  0.235347  \n",
       "10  4.390652e+06  2059.220258  0.152545  \n",
       "11  4.163526e+06  2001.271888  0.202738  \n",
       "12  4.439240e+06  2066.890449  0.149266  \n",
       "13  4.177634e+06  2000.850609  0.205522  \n",
       "14  4.417226e+06  2064.882098  0.149647  \n",
       "15  4.186426e+06  2006.226004  0.199862  \n",
       "16  4.354848e+06  2048.303613  0.164380  \n",
       "17  4.158689e+06  1998.331346  0.206734  "
      ]
     },
     "execution_count": 99,
     "metadata": {},
     "output_type": "execute_result"
    }
   ],
   "source": [
    "knr_results"
   ]
  },
  {
   "cell_type": "code",
   "execution_count": 98,
   "id": "31aac14a",
   "metadata": {},
   "outputs": [
    {
     "data": {
      "text/html": [
       "<div>\n",
       "<style scoped>\n",
       "    .dataframe tbody tr th:only-of-type {\n",
       "        vertical-align: middle;\n",
       "    }\n",
       "\n",
       "    .dataframe tbody tr th {\n",
       "        vertical-align: top;\n",
       "    }\n",
       "\n",
       "    .dataframe thead th {\n",
       "        text-align: right;\n",
       "    }\n",
       "</style>\n",
       "<table border=\"1\" class=\"dataframe\">\n",
       "  <thead>\n",
       "    <tr style=\"text-align: right;\">\n",
       "      <th></th>\n",
       "      <th>Encoding</th>\n",
       "      <th>Model</th>\n",
       "      <th>n_neighbors</th>\n",
       "      <th>weights</th>\n",
       "      <th>MAE</th>\n",
       "      <th>MSE</th>\n",
       "      <th>RMSE</th>\n",
       "      <th>R2</th>\n",
       "    </tr>\n",
       "  </thead>\n",
       "  <tbody>\n",
       "    <tr>\n",
       "      <th>0</th>\n",
       "      <td>Last-2-state</td>\n",
       "      <td>KNN Regressor</td>\n",
       "      <td>3</td>\n",
       "      <td>distance</td>\n",
       "      <td>867.988034</td>\n",
       "      <td>7.441688e+06</td>\n",
       "      <td>2727.945827</td>\n",
       "      <td>7.441688e+06</td>\n",
       "    </tr>\n",
       "    <tr>\n",
       "      <th>1</th>\n",
       "      <td>Aggregation</td>\n",
       "      <td>KNN Regressor</td>\n",
       "      <td>7</td>\n",
       "      <td>uniform</td>\n",
       "      <td>823.745504</td>\n",
       "      <td>6.138401e+06</td>\n",
       "      <td>2477.579645</td>\n",
       "      <td>6.138401e+06</td>\n",
       "    </tr>\n",
       "  </tbody>\n",
       "</table>\n",
       "</div>"
      ],
      "text/plain": [
       "       Encoding          Model  n_neighbors   weights         MAE  \\\n",
       "0  Last-2-state  KNN Regressor            3  distance  867.988034   \n",
       "1   Aggregation  KNN Regressor            7   uniform  823.745504   \n",
       "\n",
       "            MSE         RMSE            R2  \n",
       "0  7.441688e+06  2727.945827  7.441688e+06  \n",
       "1  6.138401e+06  2477.579645  6.138401e+06  "
      ]
     },
     "execution_count": 98,
     "metadata": {},
     "output_type": "execute_result"
    }
   ],
   "source": [
    "optimal_results"
   ]
  },
  {
   "cell_type": "markdown",
   "id": "adult-equilibrium",
   "metadata": {},
   "source": [
    "## Task 5.  Report your results and discuss your findings\n",
    "\n",
    "By now, you have applied two algorithms with different parameters on the two encodings of the data set. For each algorithm and each encoding, you have created tables or figures which you can add to your report. Discuss the results and their optimal performance. \n",
    "\n",
    "Create an overview table or figure that shows the optimal performance of each algorithm on the data set, for example, see the table here below. \n",
    "\n",
    "\n",
    "Discuss your findings and reflect on the following questions in your report:\n",
    "- According to the error measures, which one would you suggest as the optimal model? \n",
    "- Are there any discrepancies between the MAE, MSE, RMSE, and R^2 measures in terms of which model performs the best? If yes, how would you explain these discrepancies. \n",
    "- Which one of the MAE, MSE, RMSE, and R^2 would you use for selecting the model? Why?\n",
    "- Which one of the encoding would you suggest for this data set? Why?\n",
    "- Which features have a big influence on predicting the remaining time?\n",
    "\n",
    "\n",
    "\n",
    "\n",
    "\n",
    "\n",
    "\n",
    "| Encoding | Model | CV MAE  | Test MAE |  CV MSE  |  Test MSE  | CV R^2 | Test R^2 |... |\n",
    "|------|------|------|------|------|------|------|------|-----|\n",
    "|  Last-2-state | Regression Tree        |  |  | | | | |\n",
    "|  Agg-state |  Regression Tree  |  |  | || | |\n",
    "|   Last-2-state |kNN       |  |  | || | |\n",
    "|   ... |...       |  |  | || | |\n",
    "\n",
    "\n",
    "\n",
    "\n",
    "\n",
    "\n",
    "\n",
    "\n",
    "\n"
   ]
  },
  {
   "cell_type": "code",
   "execution_count": null,
   "id": "49ba6a68",
   "metadata": {},
   "outputs": [],
   "source": []
  },
  {
   "cell_type": "markdown",
   "id": "82de0533",
   "metadata": {},
   "source": [
    "## Bonus Tasks \n",
    "\n",
    "We would like to challenge you with the following bonus tasks. For each task that is successfully completed, you may obtain max. 1 extra point. \n",
    "\n",
    "1. Implement or use another regression algorithm (for example, [Random Forest Regression](https://scikit-learn.org/stable/modules/generated/sklearn.ensemble.RandomForestRegressor.html), [LinearRegresion](https://scikit-learn.org/stable/modules/generated/sklearn.linear_model.LinearRegression.html), [SVM Regression](https://scikit-learn.org/stable/auto_examples/svm/plot_svm_regression.html#sphx-glr-auto-examples-svm-plot-svm-regression-py)) or design your own algorithm that achieves a better MAE measure. Explain this in your report.\n",
    "2. Implement techniques (e.g., preprocessing, feature engineering, feature selection, sampling) that help improve the MAE scores of existing models. For example, try out a feature selection for kNN or implement inter-case features. Explain this in your report.\n",
    "\n"
   ]
  },
  {
   "cell_type": "code",
   "execution_count": null,
   "id": "02745358",
   "metadata": {},
   "outputs": [],
   "source": []
  }
 ],
 "metadata": {
  "kernelspec": {
   "display_name": "Python 3",
   "language": "python",
   "name": "python3"
  },
  "language_info": {
   "codemirror_mode": {
    "name": "ipython",
    "version": 3
   },
   "file_extension": ".py",
   "mimetype": "text/x-python",
   "name": "python",
   "nbconvert_exporter": "python",
   "pygments_lexer": "ipython3",
   "version": "3.9.6"
  }
 },
 "nbformat": 4,
 "nbformat_minor": 5
}
